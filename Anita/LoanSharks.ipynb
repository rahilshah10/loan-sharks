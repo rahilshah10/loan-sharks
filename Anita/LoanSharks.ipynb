{
  "nbformat": 4,
  "nbformat_minor": 0,
  "metadata": {
    "colab": {
      "name": "LoanSharks.ipynb",
      "provenance": [],
      "collapsed_sections": []
    },
    "kernelspec": {
      "name": "python3",
      "display_name": "Python 3"
    }
  },
  "cells": [
    {
      "cell_type": "code",
      "metadata": {
        "id": "0rR_5qVVOgRZ",
        "colab_type": "code",
        "colab": {}
      },
      "source": [
        "import pandas as pd\n",
        "from pandas.api.types import is_string_dtype,is_numeric_dtype\n",
        "from sklearn import preprocessing\n",
        "from sklearn.neighbors import KNeighborsClassifier\n",
        "from sklearn.ensemble import RandomForestClassifier\n",
        "from sklearn.metrics import confusion_matrix,accuracy_score,matthews_corrcoef,f1_score\n",
        "from sklearn.model_selection import train_test_split\n",
        "from matplotlib import pyplot as plt\n",
        "import seaborn as sns\n",
        "import joblib\n",
        "\n",
        "%matplotlib inline"
      ],
      "execution_count": 0,
      "outputs": []
    },
    {
      "cell_type": "code",
      "metadata": {
        "id": "PeJkcdpiGnp0",
        "colab_type": "code",
        "colab": {
          "base_uri": "https://localhost:8080/",
          "height": 122
        },
        "outputId": "6e5c00a1-78b7-42c6-bb7d-a02166f959a1"
      },
      "source": [
        "from google.colab import drive\n",
        "drive.mount('/content/drive')"
      ],
      "execution_count": 1,
      "outputs": [
        {
          "output_type": "stream",
          "text": [
            "Go to this URL in a browser: https://accounts.google.com/o/oauth2/auth?client_id=947318989803-6bn6qk8qdgf4n4g3pfee6491hc0brc4i.apps.googleusercontent.com&redirect_uri=urn%3aietf%3awg%3aoauth%3a2.0%3aoob&response_type=code&scope=email%20https%3a%2f%2fwww.googleapis.com%2fauth%2fdocs.test%20https%3a%2f%2fwww.googleapis.com%2fauth%2fdrive%20https%3a%2f%2fwww.googleapis.com%2fauth%2fdrive.photos.readonly%20https%3a%2f%2fwww.googleapis.com%2fauth%2fpeopleapi.readonly\n",
            "\n",
            "Enter your authorization code:\n",
            "··········\n",
            "Mounted at /content/drive\n"
          ],
          "name": "stdout"
        }
      ]
    },
    {
      "cell_type": "code",
      "metadata": {
        "id": "A66DifNtGxHF",
        "colab_type": "code",
        "colab": {
          "base_uri": "https://localhost:8080/",
          "height": 34
        },
        "outputId": "6513b103-3e4e-4b45-de93-43eec72f9ac5"
      },
      "source": [
        "path = \"/content/drive/My Drive/\"\n",
        "print(path)"
      ],
      "execution_count": 3,
      "outputs": [
        {
          "output_type": "stream",
          "text": [
            "/content/drive/My Drive/\n"
          ],
          "name": "stdout"
        }
      ]
    },
    {
      "cell_type": "code",
      "metadata": {
        "id": "z3AtxVQYPIHd",
        "colab_type": "code",
        "colab": {
          "base_uri": "https://localhost:8080/",
          "height": 259
        },
        "outputId": "a3f4fc35-e035-430b-bbd2-e607a095a439"
      },
      "source": [
        "my_df = pd.read_csv(f'{path}/loan.csv', low_memory= False)\n",
        "print(my_df.shape)\n",
        "my_df.head(3)"
      ],
      "execution_count": 4,
      "outputs": [
        {
          "output_type": "stream",
          "text": [
            "(2260668, 145)\n"
          ],
          "name": "stdout"
        },
        {
          "output_type": "execute_result",
          "data": {
            "text/html": [
              "<div>\n",
              "<style scoped>\n",
              "    .dataframe tbody tr th:only-of-type {\n",
              "        vertical-align: middle;\n",
              "    }\n",
              "\n",
              "    .dataframe tbody tr th {\n",
              "        vertical-align: top;\n",
              "    }\n",
              "\n",
              "    .dataframe thead th {\n",
              "        text-align: right;\n",
              "    }\n",
              "</style>\n",
              "<table border=\"1\" class=\"dataframe\">\n",
              "  <thead>\n",
              "    <tr style=\"text-align: right;\">\n",
              "      <th></th>\n",
              "      <th>id</th>\n",
              "      <th>member_id</th>\n",
              "      <th>loan_amnt</th>\n",
              "      <th>funded_amnt</th>\n",
              "      <th>funded_amnt_inv</th>\n",
              "      <th>term</th>\n",
              "      <th>int_rate</th>\n",
              "      <th>installment</th>\n",
              "      <th>grade</th>\n",
              "      <th>sub_grade</th>\n",
              "      <th>emp_title</th>\n",
              "      <th>emp_length</th>\n",
              "      <th>home_ownership</th>\n",
              "      <th>annual_inc</th>\n",
              "      <th>verification_status</th>\n",
              "      <th>issue_d</th>\n",
              "      <th>loan_status</th>\n",
              "      <th>pymnt_plan</th>\n",
              "      <th>url</th>\n",
              "      <th>desc</th>\n",
              "      <th>purpose</th>\n",
              "      <th>title</th>\n",
              "      <th>zip_code</th>\n",
              "      <th>addr_state</th>\n",
              "      <th>dti</th>\n",
              "      <th>delinq_2yrs</th>\n",
              "      <th>earliest_cr_line</th>\n",
              "      <th>inq_last_6mths</th>\n",
              "      <th>mths_since_last_delinq</th>\n",
              "      <th>mths_since_last_record</th>\n",
              "      <th>open_acc</th>\n",
              "      <th>pub_rec</th>\n",
              "      <th>revol_bal</th>\n",
              "      <th>revol_util</th>\n",
              "      <th>total_acc</th>\n",
              "      <th>initial_list_status</th>\n",
              "      <th>out_prncp</th>\n",
              "      <th>out_prncp_inv</th>\n",
              "      <th>total_pymnt</th>\n",
              "      <th>total_pymnt_inv</th>\n",
              "      <th>...</th>\n",
              "      <th>pub_rec_bankruptcies</th>\n",
              "      <th>tax_liens</th>\n",
              "      <th>tot_hi_cred_lim</th>\n",
              "      <th>total_bal_ex_mort</th>\n",
              "      <th>total_bc_limit</th>\n",
              "      <th>total_il_high_credit_limit</th>\n",
              "      <th>revol_bal_joint</th>\n",
              "      <th>sec_app_earliest_cr_line</th>\n",
              "      <th>sec_app_inq_last_6mths</th>\n",
              "      <th>sec_app_mort_acc</th>\n",
              "      <th>sec_app_open_acc</th>\n",
              "      <th>sec_app_revol_util</th>\n",
              "      <th>sec_app_open_act_il</th>\n",
              "      <th>sec_app_num_rev_accts</th>\n",
              "      <th>sec_app_chargeoff_within_12_mths</th>\n",
              "      <th>sec_app_collections_12_mths_ex_med</th>\n",
              "      <th>sec_app_mths_since_last_major_derog</th>\n",
              "      <th>hardship_flag</th>\n",
              "      <th>hardship_type</th>\n",
              "      <th>hardship_reason</th>\n",
              "      <th>hardship_status</th>\n",
              "      <th>deferral_term</th>\n",
              "      <th>hardship_amount</th>\n",
              "      <th>hardship_start_date</th>\n",
              "      <th>hardship_end_date</th>\n",
              "      <th>payment_plan_start_date</th>\n",
              "      <th>hardship_length</th>\n",
              "      <th>hardship_dpd</th>\n",
              "      <th>hardship_loan_status</th>\n",
              "      <th>orig_projected_additional_accrued_interest</th>\n",
              "      <th>hardship_payoff_balance_amount</th>\n",
              "      <th>hardship_last_payment_amount</th>\n",
              "      <th>disbursement_method</th>\n",
              "      <th>debt_settlement_flag</th>\n",
              "      <th>debt_settlement_flag_date</th>\n",
              "      <th>settlement_status</th>\n",
              "      <th>settlement_date</th>\n",
              "      <th>settlement_amount</th>\n",
              "      <th>settlement_percentage</th>\n",
              "      <th>settlement_term</th>\n",
              "    </tr>\n",
              "  </thead>\n",
              "  <tbody>\n",
              "    <tr>\n",
              "      <th>0</th>\n",
              "      <td>NaN</td>\n",
              "      <td>NaN</td>\n",
              "      <td>2500</td>\n",
              "      <td>2500</td>\n",
              "      <td>2500.0</td>\n",
              "      <td>36 months</td>\n",
              "      <td>13.56</td>\n",
              "      <td>84.92</td>\n",
              "      <td>C</td>\n",
              "      <td>C1</td>\n",
              "      <td>Chef</td>\n",
              "      <td>10+ years</td>\n",
              "      <td>RENT</td>\n",
              "      <td>55000.0</td>\n",
              "      <td>Not Verified</td>\n",
              "      <td>Dec-2018</td>\n",
              "      <td>Current</td>\n",
              "      <td>n</td>\n",
              "      <td>NaN</td>\n",
              "      <td>NaN</td>\n",
              "      <td>debt_consolidation</td>\n",
              "      <td>Debt consolidation</td>\n",
              "      <td>109xx</td>\n",
              "      <td>NY</td>\n",
              "      <td>18.24</td>\n",
              "      <td>0.0</td>\n",
              "      <td>Apr-2001</td>\n",
              "      <td>1.0</td>\n",
              "      <td>NaN</td>\n",
              "      <td>45.0</td>\n",
              "      <td>9.0</td>\n",
              "      <td>1.0</td>\n",
              "      <td>4341</td>\n",
              "      <td>10.3</td>\n",
              "      <td>34.0</td>\n",
              "      <td>w</td>\n",
              "      <td>2386.02</td>\n",
              "      <td>2386.02</td>\n",
              "      <td>167.02</td>\n",
              "      <td>167.02</td>\n",
              "      <td>...</td>\n",
              "      <td>1.0</td>\n",
              "      <td>0.0</td>\n",
              "      <td>60124.0</td>\n",
              "      <td>16901.0</td>\n",
              "      <td>36500.0</td>\n",
              "      <td>18124.0</td>\n",
              "      <td>NaN</td>\n",
              "      <td>NaN</td>\n",
              "      <td>NaN</td>\n",
              "      <td>NaN</td>\n",
              "      <td>NaN</td>\n",
              "      <td>NaN</td>\n",
              "      <td>NaN</td>\n",
              "      <td>NaN</td>\n",
              "      <td>NaN</td>\n",
              "      <td>NaN</td>\n",
              "      <td>NaN</td>\n",
              "      <td>N</td>\n",
              "      <td>NaN</td>\n",
              "      <td>NaN</td>\n",
              "      <td>NaN</td>\n",
              "      <td>NaN</td>\n",
              "      <td>NaN</td>\n",
              "      <td>NaN</td>\n",
              "      <td>NaN</td>\n",
              "      <td>NaN</td>\n",
              "      <td>NaN</td>\n",
              "      <td>NaN</td>\n",
              "      <td>NaN</td>\n",
              "      <td>NaN</td>\n",
              "      <td>NaN</td>\n",
              "      <td>NaN</td>\n",
              "      <td>Cash</td>\n",
              "      <td>N</td>\n",
              "      <td>NaN</td>\n",
              "      <td>NaN</td>\n",
              "      <td>NaN</td>\n",
              "      <td>NaN</td>\n",
              "      <td>NaN</td>\n",
              "      <td>NaN</td>\n",
              "    </tr>\n",
              "    <tr>\n",
              "      <th>1</th>\n",
              "      <td>NaN</td>\n",
              "      <td>NaN</td>\n",
              "      <td>30000</td>\n",
              "      <td>30000</td>\n",
              "      <td>30000.0</td>\n",
              "      <td>60 months</td>\n",
              "      <td>18.94</td>\n",
              "      <td>777.23</td>\n",
              "      <td>D</td>\n",
              "      <td>D2</td>\n",
              "      <td>Postmaster</td>\n",
              "      <td>10+ years</td>\n",
              "      <td>MORTGAGE</td>\n",
              "      <td>90000.0</td>\n",
              "      <td>Source Verified</td>\n",
              "      <td>Dec-2018</td>\n",
              "      <td>Current</td>\n",
              "      <td>n</td>\n",
              "      <td>NaN</td>\n",
              "      <td>NaN</td>\n",
              "      <td>debt_consolidation</td>\n",
              "      <td>Debt consolidation</td>\n",
              "      <td>713xx</td>\n",
              "      <td>LA</td>\n",
              "      <td>26.52</td>\n",
              "      <td>0.0</td>\n",
              "      <td>Jun-1987</td>\n",
              "      <td>0.0</td>\n",
              "      <td>71.0</td>\n",
              "      <td>75.0</td>\n",
              "      <td>13.0</td>\n",
              "      <td>1.0</td>\n",
              "      <td>12315</td>\n",
              "      <td>24.2</td>\n",
              "      <td>44.0</td>\n",
              "      <td>w</td>\n",
              "      <td>29387.75</td>\n",
              "      <td>29387.75</td>\n",
              "      <td>1507.11</td>\n",
              "      <td>1507.11</td>\n",
              "      <td>...</td>\n",
              "      <td>1.0</td>\n",
              "      <td>0.0</td>\n",
              "      <td>372872.0</td>\n",
              "      <td>99468.0</td>\n",
              "      <td>15000.0</td>\n",
              "      <td>94072.0</td>\n",
              "      <td>NaN</td>\n",
              "      <td>NaN</td>\n",
              "      <td>NaN</td>\n",
              "      <td>NaN</td>\n",
              "      <td>NaN</td>\n",
              "      <td>NaN</td>\n",
              "      <td>NaN</td>\n",
              "      <td>NaN</td>\n",
              "      <td>NaN</td>\n",
              "      <td>NaN</td>\n",
              "      <td>NaN</td>\n",
              "      <td>N</td>\n",
              "      <td>NaN</td>\n",
              "      <td>NaN</td>\n",
              "      <td>NaN</td>\n",
              "      <td>NaN</td>\n",
              "      <td>NaN</td>\n",
              "      <td>NaN</td>\n",
              "      <td>NaN</td>\n",
              "      <td>NaN</td>\n",
              "      <td>NaN</td>\n",
              "      <td>NaN</td>\n",
              "      <td>NaN</td>\n",
              "      <td>NaN</td>\n",
              "      <td>NaN</td>\n",
              "      <td>NaN</td>\n",
              "      <td>Cash</td>\n",
              "      <td>N</td>\n",
              "      <td>NaN</td>\n",
              "      <td>NaN</td>\n",
              "      <td>NaN</td>\n",
              "      <td>NaN</td>\n",
              "      <td>NaN</td>\n",
              "      <td>NaN</td>\n",
              "    </tr>\n",
              "    <tr>\n",
              "      <th>2</th>\n",
              "      <td>NaN</td>\n",
              "      <td>NaN</td>\n",
              "      <td>5000</td>\n",
              "      <td>5000</td>\n",
              "      <td>5000.0</td>\n",
              "      <td>36 months</td>\n",
              "      <td>17.97</td>\n",
              "      <td>180.69</td>\n",
              "      <td>D</td>\n",
              "      <td>D1</td>\n",
              "      <td>Administrative</td>\n",
              "      <td>6 years</td>\n",
              "      <td>MORTGAGE</td>\n",
              "      <td>59280.0</td>\n",
              "      <td>Source Verified</td>\n",
              "      <td>Dec-2018</td>\n",
              "      <td>Current</td>\n",
              "      <td>n</td>\n",
              "      <td>NaN</td>\n",
              "      <td>NaN</td>\n",
              "      <td>debt_consolidation</td>\n",
              "      <td>Debt consolidation</td>\n",
              "      <td>490xx</td>\n",
              "      <td>MI</td>\n",
              "      <td>10.51</td>\n",
              "      <td>0.0</td>\n",
              "      <td>Apr-2011</td>\n",
              "      <td>0.0</td>\n",
              "      <td>NaN</td>\n",
              "      <td>NaN</td>\n",
              "      <td>8.0</td>\n",
              "      <td>0.0</td>\n",
              "      <td>4599</td>\n",
              "      <td>19.1</td>\n",
              "      <td>13.0</td>\n",
              "      <td>w</td>\n",
              "      <td>4787.21</td>\n",
              "      <td>4787.21</td>\n",
              "      <td>353.89</td>\n",
              "      <td>353.89</td>\n",
              "      <td>...</td>\n",
              "      <td>0.0</td>\n",
              "      <td>0.0</td>\n",
              "      <td>136927.0</td>\n",
              "      <td>11749.0</td>\n",
              "      <td>13800.0</td>\n",
              "      <td>10000.0</td>\n",
              "      <td>NaN</td>\n",
              "      <td>NaN</td>\n",
              "      <td>NaN</td>\n",
              "      <td>NaN</td>\n",
              "      <td>NaN</td>\n",
              "      <td>NaN</td>\n",
              "      <td>NaN</td>\n",
              "      <td>NaN</td>\n",
              "      <td>NaN</td>\n",
              "      <td>NaN</td>\n",
              "      <td>NaN</td>\n",
              "      <td>N</td>\n",
              "      <td>NaN</td>\n",
              "      <td>NaN</td>\n",
              "      <td>NaN</td>\n",
              "      <td>NaN</td>\n",
              "      <td>NaN</td>\n",
              "      <td>NaN</td>\n",
              "      <td>NaN</td>\n",
              "      <td>NaN</td>\n",
              "      <td>NaN</td>\n",
              "      <td>NaN</td>\n",
              "      <td>NaN</td>\n",
              "      <td>NaN</td>\n",
              "      <td>NaN</td>\n",
              "      <td>NaN</td>\n",
              "      <td>Cash</td>\n",
              "      <td>N</td>\n",
              "      <td>NaN</td>\n",
              "      <td>NaN</td>\n",
              "      <td>NaN</td>\n",
              "      <td>NaN</td>\n",
              "      <td>NaN</td>\n",
              "      <td>NaN</td>\n",
              "    </tr>\n",
              "  </tbody>\n",
              "</table>\n",
              "<p>3 rows × 145 columns</p>\n",
              "</div>"
            ],
            "text/plain": [
              "   id  member_id  ...  settlement_percentage  settlement_term\n",
              "0 NaN        NaN  ...                    NaN              NaN\n",
              "1 NaN        NaN  ...                    NaN              NaN\n",
              "2 NaN        NaN  ...                    NaN              NaN\n",
              "\n",
              "[3 rows x 145 columns]"
            ]
          },
          "metadata": {
            "tags": []
          },
          "execution_count": 4
        }
      ]
    },
    {
      "cell_type": "code",
      "metadata": {
        "id": "mk4qQ4BSH3LC",
        "colab_type": "code",
        "colab": {
          "base_uri": "https://localhost:8080/",
          "height": 153
        },
        "outputId": "05fd4986-8734-4489-f2ea-bcc0c0ffc14f"
      },
      "source": [
        "#Print out list of columns\n",
        "my_df.columns"
      ],
      "execution_count": 5,
      "outputs": [
        {
          "output_type": "execute_result",
          "data": {
            "text/plain": [
              "Index(['id', 'member_id', 'loan_amnt', 'funded_amnt', 'funded_amnt_inv',\n",
              "       'term', 'int_rate', 'installment', 'grade', 'sub_grade',\n",
              "       ...\n",
              "       'hardship_payoff_balance_amount', 'hardship_last_payment_amount',\n",
              "       'disbursement_method', 'debt_settlement_flag',\n",
              "       'debt_settlement_flag_date', 'settlement_status', 'settlement_date',\n",
              "       'settlement_amount', 'settlement_percentage', 'settlement_term'],\n",
              "      dtype='object', length=145)"
            ]
          },
          "metadata": {
            "tags": []
          },
          "execution_count": 5
        }
      ]
    },
    {
      "cell_type": "markdown",
      "metadata": {
        "id": "m4T_-0A4IXQW",
        "colab_type": "text"
      },
      "source": [
        "##### Now, let's check if there are any null/NaN values in our data, if so, what is the percentage for each column?"
      ]
    },
    {
      "cell_type": "code",
      "metadata": {
        "id": "02MA1oI6IOiK",
        "colab_type": "code",
        "colab": {}
      },
      "source": [
        "missing_percent = my_df.isnull().sum()*100 / len(my_df)"
      ],
      "execution_count": 0,
      "outputs": []
    },
    {
      "cell_type": "code",
      "metadata": {
        "id": "ivgbti-WIZwR",
        "colab_type": "code",
        "colab": {
          "base_uri": "https://localhost:8080/",
          "height": 221
        },
        "outputId": "fcf06f27-51da-45f8-a60c-08db2386ec7c"
      },
      "source": [
        "missing_percent"
      ],
      "execution_count": 7,
      "outputs": [
        {
          "output_type": "execute_result",
          "data": {
            "text/plain": [
              "id                       100.000000\n",
              "member_id                100.000000\n",
              "loan_amnt                  0.000000\n",
              "funded_amnt                0.000000\n",
              "funded_amnt_inv            0.000000\n",
              "                            ...    \n",
              "settlement_status         98.537777\n",
              "settlement_date           98.537777\n",
              "settlement_amount         98.537777\n",
              "settlement_percentage     98.537777\n",
              "settlement_term           98.537777\n",
              "Length: 145, dtype: float64"
            ]
          },
          "metadata": {
            "tags": []
          },
          "execution_count": 7
        }
      ]
    },
    {
      "cell_type": "markdown",
      "metadata": {
        "id": "hgvg_RonIj3d",
        "colab_type": "text"
      },
      "source": [
        "##### From above results, we can see there are many columns with lot of null/NaN data. Let's find out columns where more than 50% of the data is missing and then drop those columns"
      ]
    },
    {
      "cell_type": "code",
      "metadata": {
        "id": "k6Kw1pj_Ig03",
        "colab_type": "code",
        "colab": {}
      },
      "source": [
        "missing_fractions = my_df.isnull().mean()"
      ],
      "execution_count": 0,
      "outputs": []
    },
    {
      "cell_type": "code",
      "metadata": {
        "id": "Yp45x49KIlDu",
        "colab_type": "code",
        "colab": {
          "base_uri": "https://localhost:8080/",
          "height": 221
        },
        "outputId": "4be3b18c-1ef0-4d00-8b08-20f3289f778d"
      },
      "source": [
        "missing_fractions"
      ],
      "execution_count": 9,
      "outputs": [
        {
          "output_type": "execute_result",
          "data": {
            "text/plain": [
              "id                       1.000000\n",
              "member_id                1.000000\n",
              "loan_amnt                0.000000\n",
              "funded_amnt              0.000000\n",
              "funded_amnt_inv          0.000000\n",
              "                           ...   \n",
              "settlement_status        0.985378\n",
              "settlement_date          0.985378\n",
              "settlement_amount        0.985378\n",
              "settlement_percentage    0.985378\n",
              "settlement_term          0.985378\n",
              "Length: 145, dtype: float64"
            ]
          },
          "metadata": {
            "tags": []
          },
          "execution_count": 9
        }
      ]
    },
    {
      "cell_type": "code",
      "metadata": {
        "id": "Z9dxlOvyItK8",
        "colab_type": "code",
        "colab": {
          "base_uri": "https://localhost:8080/",
          "height": 421
        },
        "outputId": "6c179b7c-cc5f-4fbc-b2f7-a0ac3e8e9775"
      },
      "source": [
        "# Visualize the missing fraction in a graph\n",
        "plt.figure(figsize=(10,6))\n",
        "missing_fractions.plot.hist(bins=30)\n",
        "plt.title('Missing value count in terms of fraction')\n",
        "plt.xlabel('Fraction')\n",
        "plt.ylabel('Number of columns')"
      ],
      "execution_count": 10,
      "outputs": [
        {
          "output_type": "execute_result",
          "data": {
            "text/plain": [
              "Text(0, 0.5, 'Number of columns')"
            ]
          },
          "metadata": {
            "tags": []
          },
          "execution_count": 10
        },
        {
          "output_type": "display_data",
          "data": {
            "image/png": "[encoded data removed]",
            "text/plain": [
              "<Figure size 720x432 with 1 Axes>"
            ]
          },
          "metadata": {
            "tags": []
          }
        }
      ]
    },
    {
      "cell_type": "markdown",
      "metadata": {
        "id": "6HH88vLBI0ZU",
        "colab_type": "text"
      },
      "source": [
        "##### From above graph we can see that \n",
        "     1. There are a few columns having 35% or more missing data and \n",
        "     2. A few columns have 50 to 85% missing data\n",
        "     3. Nearly 30 columns have 90 to 100% missing data\n",
        "  Drop columns with missing data > 35%"
      ]
    },
    {
      "cell_type": "code",
      "metadata": {
        "id": "mZAyO2XKIv2P",
        "colab_type": "code",
        "colab": {}
      },
      "source": [
        "drop_colList = list(missing_fractions[missing_fractions > 0.35].index)"
      ],
      "execution_count": 0,
      "outputs": []
    },
    {
      "cell_type": "code",
      "metadata": {
        "id": "FYjgCCQxI7IE",
        "colab_type": "code",
        "colab": {
          "base_uri": "https://localhost:8080/",
          "height": 1000
        },
        "outputId": "f8114644-691b-4910-916f-9464c44a53b6"
      },
      "source": [
        "drop_colList"
      ],
      "execution_count": 12,
      "outputs": [
        {
          "output_type": "execute_result",
          "data": {
            "text/plain": [
              "['id',\n",
              " 'member_id',\n",
              " 'url',\n",
              " 'desc',\n",
              " 'mths_since_last_delinq',\n",
              " 'mths_since_last_record',\n",
              " 'next_pymnt_d',\n",
              " 'mths_since_last_major_derog',\n",
              " 'annual_inc_joint',\n",
              " 'dti_joint',\n",
              " 'verification_status_joint',\n",
              " 'open_acc_6m',\n",
              " 'open_act_il',\n",
              " 'open_il_12m',\n",
              " 'open_il_24m',\n",
              " 'mths_since_rcnt_il',\n",
              " 'total_bal_il',\n",
              " 'il_util',\n",
              " 'open_rv_12m',\n",
              " 'open_rv_24m',\n",
              " 'max_bal_bc',\n",
              " 'all_util',\n",
              " 'inq_fi',\n",
              " 'total_cu_tl',\n",
              " 'inq_last_12m',\n",
              " 'mths_since_recent_bc_dlq',\n",
              " 'mths_since_recent_revol_delinq',\n",
              " 'revol_bal_joint',\n",
              " 'sec_app_earliest_cr_line',\n",
              " 'sec_app_inq_last_6mths',\n",
              " 'sec_app_mort_acc',\n",
              " 'sec_app_open_acc',\n",
              " 'sec_app_revol_util',\n",
              " 'sec_app_open_act_il',\n",
              " 'sec_app_num_rev_accts',\n",
              " 'sec_app_chargeoff_within_12_mths',\n",
              " 'sec_app_collections_12_mths_ex_med',\n",
              " 'sec_app_mths_since_last_major_derog',\n",
              " 'hardship_type',\n",
              " 'hardship_reason',\n",
              " 'hardship_status',\n",
              " 'deferral_term',\n",
              " 'hardship_amount',\n",
              " 'hardship_start_date',\n",
              " 'hardship_end_date',\n",
              " 'payment_plan_start_date',\n",
              " 'hardship_length',\n",
              " 'hardship_dpd',\n",
              " 'hardship_loan_status',\n",
              " 'orig_projected_additional_accrued_interest',\n",
              " 'hardship_payoff_balance_amount',\n",
              " 'hardship_last_payment_amount',\n",
              " 'debt_settlement_flag_date',\n",
              " 'settlement_status',\n",
              " 'settlement_date',\n",
              " 'settlement_amount',\n",
              " 'settlement_percentage',\n",
              " 'settlement_term']"
            ]
          },
          "metadata": {
            "tags": []
          },
          "execution_count": 12
        }
      ]
    },
    {
      "cell_type": "code",
      "metadata": {
        "id": "mxJabMnVI8ST",
        "colab_type": "code",
        "colab": {
          "base_uri": "https://localhost:8080/",
          "height": 34
        },
        "outputId": "2b7d74ff-6443-49c5-a61a-816a24029125"
      },
      "source": [
        "len(drop_colList)"
      ],
      "execution_count": 13,
      "outputs": [
        {
          "output_type": "execute_result",
          "data": {
            "text/plain": [
              "58"
            ]
          },
          "metadata": {
            "tags": []
          },
          "execution_count": 13
        }
      ]
    },
    {
      "cell_type": "code",
      "metadata": {
        "id": "fyz78ZxhI-Ym",
        "colab_type": "code",
        "colab": {}
      },
      "source": [
        "my_df.drop(drop_colList, axis=1, inplace=True)"
      ],
      "execution_count": 0,
      "outputs": []
    },
    {
      "cell_type": "code",
      "metadata": {
        "id": "NBamtonXI_2-",
        "colab_type": "code",
        "colab": {
          "base_uri": "https://localhost:8080/",
          "height": 34
        },
        "outputId": "ecd78e1d-a7fd-4a97-c2da-2e037aefa6d8"
      },
      "source": [
        "my_df.shape"
      ],
      "execution_count": 15,
      "outputs": [
        {
          "output_type": "execute_result",
          "data": {
            "text/plain": [
              "(2260668, 87)"
            ]
          },
          "metadata": {
            "tags": []
          },
          "execution_count": 15
        }
      ]
    },
    {
      "cell_type": "markdown",
      "metadata": {
        "id": "d2hz1OrLJD18",
        "colab_type": "text"
      },
      "source": [
        "##### Now, our motive is to find out whether a person will be able to pay back the loan to the bank or not. Let's see what values are there in loan_status!"
      ]
    },
    {
      "cell_type": "code",
      "metadata": {
        "id": "pD4c-95EJBYS",
        "colab_type": "code",
        "colab": {
          "base_uri": "https://localhost:8080/",
          "height": 102
        },
        "outputId": "347e5a74-cc54-4ca2-e6f8-527a64be10c9"
      },
      "source": [
        "my_df.loan_status.unique()"
      ],
      "execution_count": 16,
      "outputs": [
        {
          "output_type": "execute_result",
          "data": {
            "text/plain": [
              "array(['Current', 'Fully Paid', 'Late (31-120 days)', 'In Grace Period',\n",
              "       'Charged Off', 'Late (16-30 days)', 'Default',\n",
              "       'Does not meet the credit policy. Status:Fully Paid',\n",
              "       'Does not meet the credit policy. Status:Charged Off'],\n",
              "      dtype=object)"
            ]
          },
          "metadata": {
            "tags": []
          },
          "execution_count": 16
        }
      ]
    },
    {
      "cell_type": "markdown",
      "metadata": {
        "id": "8_bSpNshJL4E",
        "colab_type": "text"
      },
      "source": [
        "##### We will only be predicting whether loan_status was fully paid by the loaner or was it charged off (i.e. the person coouldn't pay for the loan and bank stopped giving money to the person)\n",
        "##### And so, we will drop the rows having data other than 'Fully Paid' or 'Charged Off'."
      ]
    },
    {
      "cell_type": "code",
      "metadata": {
        "id": "V51LdFmuJIs1",
        "colab_type": "code",
        "colab": {}
      },
      "source": [
        "my_df = my_df.loc[my_df['loan_status'].isin(['Fully Paid','Charged Off'])]"
      ],
      "execution_count": 0,
      "outputs": []
    },
    {
      "cell_type": "code",
      "metadata": {
        "id": "tyo8vfw6JPnF",
        "colab_type": "code",
        "colab": {
          "base_uri": "https://localhost:8080/",
          "height": 34
        },
        "outputId": "0cbe4886-3694-4b08-d74e-8ad3d7d88eff"
      },
      "source": [
        "my_df.shape"
      ],
      "execution_count": 18,
      "outputs": [
        {
          "output_type": "execute_result",
          "data": {
            "text/plain": [
              "(1303607, 87)"
            ]
          },
          "metadata": {
            "tags": []
          },
          "execution_count": 18
        }
      ]
    },
    {
      "cell_type": "code",
      "metadata": {
        "id": "C-P6zPitJSEb",
        "colab_type": "code",
        "colab": {}
      },
      "source": [
        "# Convert loan_status to 0's(Fully Paid) and 1's(Charged Off)\n",
        "loan_status_converted = {\"Fully Paid\":0, \"Charged Off\":1}\n",
        "my_df = my_df.replace({\"loan_status\" : loan_status_converted})"
      ],
      "execution_count": 0,
      "outputs": []
    },
    {
      "cell_type": "code",
      "metadata": {
        "id": "ZbIY68ZgJTmH",
        "colab_type": "code",
        "colab": {
          "base_uri": "https://localhost:8080/",
          "height": 34
        },
        "outputId": "8edf1c6d-5962-44b7-f9dc-6d247e9fefa2"
      },
      "source": [
        "my_df.loan_status.unique()"
      ],
      "execution_count": 20,
      "outputs": [
        {
          "output_type": "execute_result",
          "data": {
            "text/plain": [
              "array([0, 1])"
            ]
          },
          "metadata": {
            "tags": []
          },
          "execution_count": 20
        }
      ]
    },
    {
      "cell_type": "code",
      "metadata": {
        "id": "wg0dvSGGJU_7",
        "colab_type": "code",
        "colab": {
          "base_uri": "https://localhost:8080/",
          "height": 34
        },
        "outputId": "ac5df09a-7314-4c0a-9e47-e39eafff9224"
      },
      "source": [
        "my_df.shape"
      ],
      "execution_count": 21,
      "outputs": [
        {
          "output_type": "execute_result",
          "data": {
            "text/plain": [
              "(1303607, 87)"
            ]
          },
          "metadata": {
            "tags": []
          },
          "execution_count": 21
        }
      ]
    },
    {
      "cell_type": "code",
      "metadata": {
        "id": "s67pf36dJXtP",
        "colab_type": "code",
        "colab": {
          "base_uri": "https://localhost:8080/",
          "height": 1000
        },
        "outputId": "7da26add-491c-4faa-aa48-d96513b41901"
      },
      "source": [
        "my_df.info()"
      ],
      "execution_count": 22,
      "outputs": [
        {
          "output_type": "stream",
          "text": [
            "<class 'pandas.core.frame.DataFrame'>\n",
            "Int64Index: 1303607 entries, 100 to 2260664\n",
            "Data columns (total 87 columns):\n",
            "loan_amnt                     1303607 non-null int64\n",
            "funded_amnt                   1303607 non-null int64\n",
            "funded_amnt_inv               1303607 non-null float64\n",
            "term                          1303607 non-null object\n",
            "int_rate                      1303607 non-null float64\n",
            "installment                   1303607 non-null float64\n",
            "grade                         1303607 non-null object\n",
            "sub_grade                     1303607 non-null object\n",
            "emp_title                     1221028 non-null object\n",
            "emp_length                    1228153 non-null object\n",
            "home_ownership                1303607 non-null object\n",
            "annual_inc                    1303607 non-null float64\n",
            "verification_status           1303607 non-null object\n",
            "issue_d                       1303607 non-null object\n",
            "loan_status                   1303607 non-null int64\n",
            "pymnt_plan                    1303607 non-null object\n",
            "purpose                       1303607 non-null object\n",
            "title                         1288181 non-null object\n",
            "zip_code                      1303606 non-null object\n",
            "addr_state                    1303607 non-null object\n",
            "dti                           1303295 non-null float64\n",
            "delinq_2yrs                   1303607 non-null float64\n",
            "earliest_cr_line              1303607 non-null object\n",
            "inq_last_6mths                1303606 non-null float64\n",
            "open_acc                      1303607 non-null float64\n",
            "pub_rec                       1303607 non-null float64\n",
            "revol_bal                     1303607 non-null int64\n",
            "revol_util                    1302797 non-null float64\n",
            "total_acc                     1303607 non-null float64\n",
            "initial_list_status           1303607 non-null object\n",
            "out_prncp                     1303607 non-null float64\n",
            "out_prncp_inv                 1303607 non-null float64\n",
            "total_pymnt                   1303607 non-null float64\n",
            "total_pymnt_inv               1303607 non-null float64\n",
            "total_rec_prncp               1303607 non-null float64\n",
            "total_rec_int                 1303607 non-null float64\n",
            "total_rec_late_fee            1303607 non-null float64\n",
            "recoveries                    1303607 non-null float64\n",
            "collection_recovery_fee       1303607 non-null float64\n",
            "last_pymnt_d                  1301347 non-null object\n",
            "last_pymnt_amnt               1303607 non-null float64\n",
            "last_credit_pull_d            1303553 non-null object\n",
            "collections_12_mths_ex_med    1303551 non-null float64\n",
            "policy_code                   1303607 non-null int64\n",
            "application_type              1303607 non-null object\n",
            "acc_now_delinq                1303607 non-null float64\n",
            "tot_coll_amt                  1236080 non-null float64\n",
            "tot_cur_bal                   1236080 non-null float64\n",
            "total_rev_hi_lim              1236080 non-null float64\n",
            "acc_open_past_24mths          1256326 non-null float64\n",
            "avg_cur_bal                   1236059 non-null float64\n",
            "bc_open_to_buy                1242968 non-null float64\n",
            "bc_util                       1242221 non-null float64\n",
            "chargeoff_within_12_mths      1303551 non-null float64\n",
            "delinq_amnt                   1303607 non-null float64\n",
            "mo_sin_old_il_acct            1199312 non-null float64\n",
            "mo_sin_old_rev_tl_op          1236079 non-null float64\n",
            "mo_sin_rcnt_rev_tl_op         1236079 non-null float64\n",
            "mo_sin_rcnt_tl                1236080 non-null float64\n",
            "mort_acc                      1256326 non-null float64\n",
            "mths_since_recent_bc          1243866 non-null float64\n",
            "mths_since_recent_inq         1134058 non-null float64\n",
            "num_accts_ever_120_pd         1236080 non-null float64\n",
            "num_actv_bc_tl                1236080 non-null float64\n",
            "num_actv_rev_tl               1236080 non-null float64\n",
            "num_bc_sats                   1247766 non-null float64\n",
            "num_bc_tl                     1236080 non-null float64\n",
            "num_il_tl                     1236080 non-null float64\n",
            "num_op_rev_tl                 1236080 non-null float64\n",
            "num_rev_accts                 1236079 non-null float64\n",
            "num_rev_tl_bal_gt_0           1236080 non-null float64\n",
            "num_sats                      1247766 non-null float64\n",
            "num_tl_120dpd_2m              1188037 non-null float64\n",
            "num_tl_30dpd                  1236080 non-null float64\n",
            "num_tl_90g_dpd_24m            1236080 non-null float64\n",
            "num_tl_op_past_12m            1236080 non-null float64\n",
            "pct_tl_nvr_dlq                1235926 non-null float64\n",
            "percent_bc_gt_75              1242560 non-null float64\n",
            "pub_rec_bankruptcies          1302910 non-null float64\n",
            "tax_liens                     1303568 non-null float64\n",
            "tot_hi_cred_lim               1236080 non-null float64\n",
            "total_bal_ex_mort             1256326 non-null float64\n",
            "total_bc_limit                1256326 non-null float64\n",
            "total_il_high_credit_limit    1236080 non-null float64\n",
            "hardship_flag                 1303607 non-null object\n",
            "disbursement_method           1303607 non-null object\n",
            "debt_settlement_flag          1303607 non-null object\n",
            "dtypes: float64(61), int64(5), object(21)\n",
            "memory usage: 875.2+ MB\n"
          ],
          "name": "stdout"
        }
      ]
    },
    {
      "cell_type": "markdown",
      "metadata": {
        "id": "66_AWCDvJdie",
        "colab_type": "text"
      },
      "source": [
        "##### After careful research through data dictionary, we are going to keep below columns to predict the output (loan_status)"
      ]
    },
    {
      "cell_type": "code",
      "metadata": {
        "id": "hAnumPriJZOs",
        "colab_type": "code",
        "colab": {
          "base_uri": "https://localhost:8080/",
          "height": 34
        },
        "outputId": "d5364aeb-97ed-4cdc-fbf0-0ac8b5cd8bb4"
      },
      "source": [
        "feature_list = ['annual_inc', 'grade', 'emp_length', 'funded_amnt', \n",
        "                'avg_cur_bal', 'last_pymnt_amnt', 'open_acc', 'bc_util', 'mort_acc', 'pub_rec', \n",
        "                'debt_settlement_flag', 'term', 'installment', 'int_rate', 'delinq_2yrs', 'home_ownership', \n",
        "                'acc_now_delinq', 'loan_amnt', 'total_pymnt', 'loan_status']\n",
        "my_df_final = my_df[feature_list]\n",
        "my_df_final = my_df_final.reset_index(drop=True)\n",
        "my_df_final.shape"
      ],
      "execution_count": 23,
      "outputs": [
        {
          "output_type": "execute_result",
          "data": {
            "text/plain": [
              "(1303607, 20)"
            ]
          },
          "metadata": {
            "tags": []
          },
          "execution_count": 23
        }
      ]
    },
    {
      "cell_type": "code",
      "metadata": {
        "id": "piQ08V1TJfvh",
        "colab_type": "code",
        "colab": {
          "base_uri": "https://localhost:8080/",
          "height": 309
        },
        "outputId": "a18fd6aa-0be9-4b52-d9c8-31949fa8966b"
      },
      "source": [
        "my_df_final.head()"
      ],
      "execution_count": 24,
      "outputs": [
        {
          "output_type": "execute_result",
          "data": {
            "text/html": [
              "<div>\n",
              "<style scoped>\n",
              "    .dataframe tbody tr th:only-of-type {\n",
              "        vertical-align: middle;\n",
              "    }\n",
              "\n",
              "    .dataframe tbody tr th {\n",
              "        vertical-align: top;\n",
              "    }\n",
              "\n",
              "    .dataframe thead th {\n",
              "        text-align: right;\n",
              "    }\n",
              "</style>\n",
              "<table border=\"1\" class=\"dataframe\">\n",
              "  <thead>\n",
              "    <tr style=\"text-align: right;\">\n",
              "      <th></th>\n",
              "      <th>annual_inc</th>\n",
              "      <th>grade</th>\n",
              "      <th>emp_length</th>\n",
              "      <th>funded_amnt</th>\n",
              "      <th>avg_cur_bal</th>\n",
              "      <th>last_pymnt_amnt</th>\n",
              "      <th>open_acc</th>\n",
              "      <th>bc_util</th>\n",
              "      <th>mort_acc</th>\n",
              "      <th>pub_rec</th>\n",
              "      <th>debt_settlement_flag</th>\n",
              "      <th>term</th>\n",
              "      <th>installment</th>\n",
              "      <th>int_rate</th>\n",
              "      <th>delinq_2yrs</th>\n",
              "      <th>home_ownership</th>\n",
              "      <th>acc_now_delinq</th>\n",
              "      <th>loan_amnt</th>\n",
              "      <th>total_pymnt</th>\n",
              "      <th>loan_status</th>\n",
              "    </tr>\n",
              "  </thead>\n",
              "  <tbody>\n",
              "    <tr>\n",
              "      <th>0</th>\n",
              "      <td>100000.0</td>\n",
              "      <td>D</td>\n",
              "      <td>5 years</td>\n",
              "      <td>30000</td>\n",
              "      <td>42939.0</td>\n",
              "      <td>30082.32</td>\n",
              "      <td>11.0</td>\n",
              "      <td>46.9</td>\n",
              "      <td>1.0</td>\n",
              "      <td>1.0</td>\n",
              "      <td>N</td>\n",
              "      <td>36 months</td>\n",
              "      <td>1151.16</td>\n",
              "      <td>22.35</td>\n",
              "      <td>0.0</td>\n",
              "      <td>MORTGAGE</td>\n",
              "      <td>0.0</td>\n",
              "      <td>30000</td>\n",
              "      <td>30026.442500</td>\n",
              "      <td>0</td>\n",
              "    </tr>\n",
              "    <tr>\n",
              "      <th>1</th>\n",
              "      <td>45000.0</td>\n",
              "      <td>C</td>\n",
              "      <td>&lt; 1 year</td>\n",
              "      <td>40000</td>\n",
              "      <td>15059.0</td>\n",
              "      <td>40910.48</td>\n",
              "      <td>18.0</td>\n",
              "      <td>67.3</td>\n",
              "      <td>1.0</td>\n",
              "      <td>0.0</td>\n",
              "      <td>N</td>\n",
              "      <td>60 months</td>\n",
              "      <td>975.71</td>\n",
              "      <td>16.14</td>\n",
              "      <td>0.0</td>\n",
              "      <td>MORTGAGE</td>\n",
              "      <td>0.0</td>\n",
              "      <td>40000</td>\n",
              "      <td>40856.678960</td>\n",
              "      <td>0</td>\n",
              "    </tr>\n",
              "    <tr>\n",
              "      <th>2</th>\n",
              "      <td>100000.0</td>\n",
              "      <td>A</td>\n",
              "      <td>10+ years</td>\n",
              "      <td>20000</td>\n",
              "      <td>57309.0</td>\n",
              "      <td>20228.39</td>\n",
              "      <td>9.0</td>\n",
              "      <td>29.9</td>\n",
              "      <td>5.0</td>\n",
              "      <td>0.0</td>\n",
              "      <td>N</td>\n",
              "      <td>36 months</td>\n",
              "      <td>622.68</td>\n",
              "      <td>7.56</td>\n",
              "      <td>0.0</td>\n",
              "      <td>MORTGAGE</td>\n",
              "      <td>0.0</td>\n",
              "      <td>20000</td>\n",
              "      <td>20215.792430</td>\n",
              "      <td>0</td>\n",
              "    </tr>\n",
              "    <tr>\n",
              "      <th>3</th>\n",
              "      <td>38500.0</td>\n",
              "      <td>B</td>\n",
              "      <td>10+ years</td>\n",
              "      <td>4500</td>\n",
              "      <td>2428.0</td>\n",
              "      <td>4553.46</td>\n",
              "      <td>12.0</td>\n",
              "      <td>28.9</td>\n",
              "      <td>0.0</td>\n",
              "      <td>0.0</td>\n",
              "      <td>N</td>\n",
              "      <td>36 months</td>\n",
              "      <td>147.99</td>\n",
              "      <td>11.31</td>\n",
              "      <td>0.0</td>\n",
              "      <td>RENT</td>\n",
              "      <td>0.0</td>\n",
              "      <td>4500</td>\n",
              "      <td>4549.217149</td>\n",
              "      <td>0</td>\n",
              "    </tr>\n",
              "    <tr>\n",
              "      <th>4</th>\n",
              "      <td>450000.0</td>\n",
              "      <td>E</td>\n",
              "      <td>3 years</td>\n",
              "      <td>8425</td>\n",
              "      <td>34516.0</td>\n",
              "      <td>8754.30</td>\n",
              "      <td>21.0</td>\n",
              "      <td>74.6</td>\n",
              "      <td>4.0</td>\n",
              "      <td>0.0</td>\n",
              "      <td>N</td>\n",
              "      <td>36 months</td>\n",
              "      <td>345.18</td>\n",
              "      <td>27.27</td>\n",
              "      <td>0.0</td>\n",
              "      <td>MORTGAGE</td>\n",
              "      <td>0.0</td>\n",
              "      <td>8425</td>\n",
              "      <td>8735.148975</td>\n",
              "      <td>0</td>\n",
              "    </tr>\n",
              "  </tbody>\n",
              "</table>\n",
              "</div>"
            ],
            "text/plain": [
              "   annual_inc grade emp_length  ...  loan_amnt   total_pymnt  loan_status\n",
              "0    100000.0     D    5 years  ...      30000  30026.442500            0\n",
              "1     45000.0     C   < 1 year  ...      40000  40856.678960            0\n",
              "2    100000.0     A  10+ years  ...      20000  20215.792430            0\n",
              "3     38500.0     B  10+ years  ...       4500   4549.217149            0\n",
              "4    450000.0     E    3 years  ...       8425   8735.148975            0\n",
              "\n",
              "[5 rows x 20 columns]"
            ]
          },
          "metadata": {
            "tags": []
          },
          "execution_count": 24
        }
      ]
    },
    {
      "cell_type": "code",
      "metadata": {
        "id": "WQ2CQ7F8JjNG",
        "colab_type": "code",
        "colab": {
          "base_uri": "https://localhost:8080/",
          "height": 442
        },
        "outputId": "af5c8e73-f32d-4976-c693-1a0f11f3e9ee"
      },
      "source": [
        "my_df_final.info()"
      ],
      "execution_count": 25,
      "outputs": [
        {
          "output_type": "stream",
          "text": [
            "<class 'pandas.core.frame.DataFrame'>\n",
            "RangeIndex: 1303607 entries, 0 to 1303606\n",
            "Data columns (total 20 columns):\n",
            "annual_inc              1303607 non-null float64\n",
            "grade                   1303607 non-null object\n",
            "emp_length              1228153 non-null object\n",
            "funded_amnt             1303607 non-null int64\n",
            "avg_cur_bal             1236059 non-null float64\n",
            "last_pymnt_amnt         1303607 non-null float64\n",
            "open_acc                1303607 non-null float64\n",
            "bc_util                 1242221 non-null float64\n",
            "mort_acc                1256326 non-null float64\n",
            "pub_rec                 1303607 non-null float64\n",
            "debt_settlement_flag    1303607 non-null object\n",
            "term                    1303607 non-null object\n",
            "installment             1303607 non-null float64\n",
            "int_rate                1303607 non-null float64\n",
            "delinq_2yrs             1303607 non-null float64\n",
            "home_ownership          1303607 non-null object\n",
            "acc_now_delinq          1303607 non-null float64\n",
            "loan_amnt               1303607 non-null int64\n",
            "total_pymnt             1303607 non-null float64\n",
            "loan_status             1303607 non-null int64\n",
            "dtypes: float64(12), int64(3), object(5)\n",
            "memory usage: 198.9+ MB\n"
          ],
          "name": "stdout"
        }
      ]
    },
    {
      "cell_type": "markdown",
      "metadata": {
        "id": "ME4wSOpQJr4l",
        "colab_type": "text"
      },
      "source": [
        "##### Now, change the categorial data to numerical by following below steps:"
      ]
    },
    {
      "cell_type": "code",
      "metadata": {
        "id": "bNEFYrl4Jk4a",
        "colab_type": "code",
        "colab": {
          "base_uri": "https://localhost:8080/",
          "height": 241
        },
        "outputId": "954e9e7c-8455-4ff0-9421-634b478fd790"
      },
      "source": [
        "from sklearn.preprocessing import LabelEncoder\n",
        "\n",
        "lb_make = LabelEncoder()\n",
        "\n",
        "my_df_final[\"grade\"] = lb_make.fit_transform(my_df_final[\"grade\"])\n",
        "my_df_final[\"emp_length\"] = my_df_final[\"emp_length\"].replace({'years':'','year':'',' ':'','<':'','\\+':'','n/a':'0'}, \n",
        "                                                              regex = True)\n",
        "my_df_final.astype({'emp_length':'float'})\n",
        "my_df_final[\"debt_settlement_flag\"] = lb_make.fit_transform(my_df_final[\"debt_settlement_flag\"])\n",
        "my_df_final[\"home_ownership\"] = lb_make.fit_transform(my_df_final[\"home_ownership\"])\n",
        "my_df_final[\"term\"] = lb_make.fit_transform(my_df_final[\"term\"])\n",
        "\n",
        "print(\"Current shape of dataset :\", my_df_final.shape)\n",
        "my_df_final.head()"
      ],
      "execution_count": 26,
      "outputs": [
        {
          "output_type": "stream",
          "text": [
            "Current shape of dataset : (1303607, 20)\n"
          ],
          "name": "stdout"
        },
        {
          "output_type": "execute_result",
          "data": {
            "text/html": [
              "<div>\n",
              "<style scoped>\n",
              "    .dataframe tbody tr th:only-of-type {\n",
              "        vertical-align: middle;\n",
              "    }\n",
              "\n",
              "    .dataframe tbody tr th {\n",
              "        vertical-align: top;\n",
              "    }\n",
              "\n",
              "    .dataframe thead th {\n",
              "        text-align: right;\n",
              "    }\n",
              "</style>\n",
              "<table border=\"1\" class=\"dataframe\">\n",
              "  <thead>\n",
              "    <tr style=\"text-align: right;\">\n",
              "      <th></th>\n",
              "      <th>annual_inc</th>\n",
              "      <th>grade</th>\n",
              "      <th>emp_length</th>\n",
              "      <th>funded_amnt</th>\n",
              "      <th>avg_cur_bal</th>\n",
              "      <th>last_pymnt_amnt</th>\n",
              "      <th>open_acc</th>\n",
              "      <th>bc_util</th>\n",
              "      <th>mort_acc</th>\n",
              "      <th>pub_rec</th>\n",
              "      <th>debt_settlement_flag</th>\n",
              "      <th>term</th>\n",
              "      <th>installment</th>\n",
              "      <th>int_rate</th>\n",
              "      <th>delinq_2yrs</th>\n",
              "      <th>home_ownership</th>\n",
              "      <th>acc_now_delinq</th>\n",
              "      <th>loan_amnt</th>\n",
              "      <th>total_pymnt</th>\n",
              "      <th>loan_status</th>\n",
              "    </tr>\n",
              "  </thead>\n",
              "  <tbody>\n",
              "    <tr>\n",
              "      <th>0</th>\n",
              "      <td>100000.0</td>\n",
              "      <td>3</td>\n",
              "      <td>5</td>\n",
              "      <td>30000</td>\n",
              "      <td>42939.0</td>\n",
              "      <td>30082.32</td>\n",
              "      <td>11.0</td>\n",
              "      <td>46.9</td>\n",
              "      <td>1.0</td>\n",
              "      <td>1.0</td>\n",
              "      <td>0</td>\n",
              "      <td>0</td>\n",
              "      <td>1151.16</td>\n",
              "      <td>22.35</td>\n",
              "      <td>0.0</td>\n",
              "      <td>1</td>\n",
              "      <td>0.0</td>\n",
              "      <td>30000</td>\n",
              "      <td>30026.442500</td>\n",
              "      <td>0</td>\n",
              "    </tr>\n",
              "    <tr>\n",
              "      <th>1</th>\n",
              "      <td>45000.0</td>\n",
              "      <td>2</td>\n",
              "      <td>1</td>\n",
              "      <td>40000</td>\n",
              "      <td>15059.0</td>\n",
              "      <td>40910.48</td>\n",
              "      <td>18.0</td>\n",
              "      <td>67.3</td>\n",
              "      <td>1.0</td>\n",
              "      <td>0.0</td>\n",
              "      <td>0</td>\n",
              "      <td>1</td>\n",
              "      <td>975.71</td>\n",
              "      <td>16.14</td>\n",
              "      <td>0.0</td>\n",
              "      <td>1</td>\n",
              "      <td>0.0</td>\n",
              "      <td>40000</td>\n",
              "      <td>40856.678960</td>\n",
              "      <td>0</td>\n",
              "    </tr>\n",
              "    <tr>\n",
              "      <th>2</th>\n",
              "      <td>100000.0</td>\n",
              "      <td>0</td>\n",
              "      <td>10</td>\n",
              "      <td>20000</td>\n",
              "      <td>57309.0</td>\n",
              "      <td>20228.39</td>\n",
              "      <td>9.0</td>\n",
              "      <td>29.9</td>\n",
              "      <td>5.0</td>\n",
              "      <td>0.0</td>\n",
              "      <td>0</td>\n",
              "      <td>0</td>\n",
              "      <td>622.68</td>\n",
              "      <td>7.56</td>\n",
              "      <td>0.0</td>\n",
              "      <td>1</td>\n",
              "      <td>0.0</td>\n",
              "      <td>20000</td>\n",
              "      <td>20215.792430</td>\n",
              "      <td>0</td>\n",
              "    </tr>\n",
              "    <tr>\n",
              "      <th>3</th>\n",
              "      <td>38500.0</td>\n",
              "      <td>1</td>\n",
              "      <td>10</td>\n",
              "      <td>4500</td>\n",
              "      <td>2428.0</td>\n",
              "      <td>4553.46</td>\n",
              "      <td>12.0</td>\n",
              "      <td>28.9</td>\n",
              "      <td>0.0</td>\n",
              "      <td>0.0</td>\n",
              "      <td>0</td>\n",
              "      <td>0</td>\n",
              "      <td>147.99</td>\n",
              "      <td>11.31</td>\n",
              "      <td>0.0</td>\n",
              "      <td>5</td>\n",
              "      <td>0.0</td>\n",
              "      <td>4500</td>\n",
              "      <td>4549.217149</td>\n",
              "      <td>0</td>\n",
              "    </tr>\n",
              "    <tr>\n",
              "      <th>4</th>\n",
              "      <td>450000.0</td>\n",
              "      <td>4</td>\n",
              "      <td>3</td>\n",
              "      <td>8425</td>\n",
              "      <td>34516.0</td>\n",
              "      <td>8754.30</td>\n",
              "      <td>21.0</td>\n",
              "      <td>74.6</td>\n",
              "      <td>4.0</td>\n",
              "      <td>0.0</td>\n",
              "      <td>0</td>\n",
              "      <td>0</td>\n",
              "      <td>345.18</td>\n",
              "      <td>27.27</td>\n",
              "      <td>0.0</td>\n",
              "      <td>1</td>\n",
              "      <td>0.0</td>\n",
              "      <td>8425</td>\n",
              "      <td>8735.148975</td>\n",
              "      <td>0</td>\n",
              "    </tr>\n",
              "  </tbody>\n",
              "</table>\n",
              "</div>"
            ],
            "text/plain": [
              "   annual_inc  grade emp_length  ...  loan_amnt   total_pymnt  loan_status\n",
              "0    100000.0      3          5  ...      30000  30026.442500            0\n",
              "1     45000.0      2          1  ...      40000  40856.678960            0\n",
              "2    100000.0      0         10  ...      20000  20215.792430            0\n",
              "3     38500.0      1         10  ...       4500   4549.217149            0\n",
              "4    450000.0      4          3  ...       8425   8735.148975            0\n",
              "\n",
              "[5 rows x 20 columns]"
            ]
          },
          "metadata": {
            "tags": []
          },
          "execution_count": 26
        }
      ]
    },
    {
      "cell_type": "code",
      "metadata": {
        "id": "V0Hyr7qyJw2Q",
        "colab_type": "code",
        "colab": {
          "base_uri": "https://localhost:8080/",
          "height": 374
        },
        "outputId": "83c4442c-496c-411a-fcd6-d872913c4790"
      },
      "source": [
        "#Check how many null values do we have in our final dataset\n",
        "my_df_final.isnull().sum()"
      ],
      "execution_count": 27,
      "outputs": [
        {
          "output_type": "execute_result",
          "data": {
            "text/plain": [
              "annual_inc                  0\n",
              "grade                       0\n",
              "emp_length              75454\n",
              "funded_amnt                 0\n",
              "avg_cur_bal             67548\n",
              "last_pymnt_amnt             0\n",
              "open_acc                    0\n",
              "bc_util                 61386\n",
              "mort_acc                47281\n",
              "pub_rec                     0\n",
              "debt_settlement_flag        0\n",
              "term                        0\n",
              "installment                 0\n",
              "int_rate                    0\n",
              "delinq_2yrs                 0\n",
              "home_ownership              0\n",
              "acc_now_delinq              0\n",
              "loan_amnt                   0\n",
              "total_pymnt                 0\n",
              "loan_status                 0\n",
              "dtype: int64"
            ]
          },
          "metadata": {
            "tags": []
          },
          "execution_count": 27
        }
      ]
    },
    {
      "cell_type": "code",
      "metadata": {
        "id": "A0t28FBkJ0D2",
        "colab_type": "code",
        "colab": {}
      },
      "source": [
        "#Impute the NaN data by calculating mean of that particular feature\n",
        "my_df_final.fillna(my_df_final.mean(), inplace=True)"
      ],
      "execution_count": 0,
      "outputs": []
    },
    {
      "cell_type": "code",
      "metadata": {
        "id": "fulPdb1jJ2tg",
        "colab_type": "code",
        "colab": {
          "base_uri": "https://localhost:8080/",
          "height": 374
        },
        "outputId": "56b13412-1b57-44cd-a48b-988998596862"
      },
      "source": [
        "#Check if we still have any missing values (not NaN's)\n",
        "my_df_final.isnull().sum()"
      ],
      "execution_count": 29,
      "outputs": [
        {
          "output_type": "execute_result",
          "data": {
            "text/plain": [
              "annual_inc                  0\n",
              "grade                       0\n",
              "emp_length              75454\n",
              "funded_amnt                 0\n",
              "avg_cur_bal                 0\n",
              "last_pymnt_amnt             0\n",
              "open_acc                    0\n",
              "bc_util                     0\n",
              "mort_acc                    0\n",
              "pub_rec                     0\n",
              "debt_settlement_flag        0\n",
              "term                        0\n",
              "installment                 0\n",
              "int_rate                    0\n",
              "delinq_2yrs                 0\n",
              "home_ownership              0\n",
              "acc_now_delinq              0\n",
              "loan_amnt                   0\n",
              "total_pymnt                 0\n",
              "loan_status                 0\n",
              "dtype: int64"
            ]
          },
          "metadata": {
            "tags": []
          },
          "execution_count": 29
        }
      ]
    },
    {
      "cell_type": "code",
      "metadata": {
        "id": "lshLW1onTv8-",
        "colab_type": "code",
        "colab": {}
      },
      "source": [
        "# Drop 'emp_length'column\n",
        "my_df_final.drop('emp_length', axis=1, inplace=True)"
      ],
      "execution_count": 0,
      "outputs": []
    },
    {
      "cell_type": "code",
      "metadata": {
        "id": "aFwMJijRUQH7",
        "colab_type": "code",
        "colab": {
          "base_uri": "https://localhost:8080/",
          "height": 224
        },
        "outputId": "50c26fa1-5a47-4fcf-b2a4-dd6ea91edd3c"
      },
      "source": [
        "my_df_final.head()"
      ],
      "execution_count": 32,
      "outputs": [
        {
          "output_type": "execute_result",
          "data": {
            "text/html": [
              "<div>\n",
              "<style scoped>\n",
              "    .dataframe tbody tr th:only-of-type {\n",
              "        vertical-align: middle;\n",
              "    }\n",
              "\n",
              "    .dataframe tbody tr th {\n",
              "        vertical-align: top;\n",
              "    }\n",
              "\n",
              "    .dataframe thead th {\n",
              "        text-align: right;\n",
              "    }\n",
              "</style>\n",
              "<table border=\"1\" class=\"dataframe\">\n",
              "  <thead>\n",
              "    <tr style=\"text-align: right;\">\n",
              "      <th></th>\n",
              "      <th>annual_inc</th>\n",
              "      <th>grade</th>\n",
              "      <th>funded_amnt</th>\n",
              "      <th>avg_cur_bal</th>\n",
              "      <th>last_pymnt_amnt</th>\n",
              "      <th>open_acc</th>\n",
              "      <th>bc_util</th>\n",
              "      <th>mort_acc</th>\n",
              "      <th>pub_rec</th>\n",
              "      <th>debt_settlement_flag</th>\n",
              "      <th>term</th>\n",
              "      <th>installment</th>\n",
              "      <th>int_rate</th>\n",
              "      <th>delinq_2yrs</th>\n",
              "      <th>home_ownership</th>\n",
              "      <th>acc_now_delinq</th>\n",
              "      <th>loan_amnt</th>\n",
              "      <th>total_pymnt</th>\n",
              "      <th>loan_status</th>\n",
              "    </tr>\n",
              "  </thead>\n",
              "  <tbody>\n",
              "    <tr>\n",
              "      <th>0</th>\n",
              "      <td>100000.0</td>\n",
              "      <td>3</td>\n",
              "      <td>30000</td>\n",
              "      <td>42939.0</td>\n",
              "      <td>30082.32</td>\n",
              "      <td>11.0</td>\n",
              "      <td>46.9</td>\n",
              "      <td>1.0</td>\n",
              "      <td>1.0</td>\n",
              "      <td>0</td>\n",
              "      <td>0</td>\n",
              "      <td>1151.16</td>\n",
              "      <td>22.35</td>\n",
              "      <td>0.0</td>\n",
              "      <td>1</td>\n",
              "      <td>0.0</td>\n",
              "      <td>30000</td>\n",
              "      <td>30026.442500</td>\n",
              "      <td>0</td>\n",
              "    </tr>\n",
              "    <tr>\n",
              "      <th>1</th>\n",
              "      <td>45000.0</td>\n",
              "      <td>2</td>\n",
              "      <td>40000</td>\n",
              "      <td>15059.0</td>\n",
              "      <td>40910.48</td>\n",
              "      <td>18.0</td>\n",
              "      <td>67.3</td>\n",
              "      <td>1.0</td>\n",
              "      <td>0.0</td>\n",
              "      <td>0</td>\n",
              "      <td>1</td>\n",
              "      <td>975.71</td>\n",
              "      <td>16.14</td>\n",
              "      <td>0.0</td>\n",
              "      <td>1</td>\n",
              "      <td>0.0</td>\n",
              "      <td>40000</td>\n",
              "      <td>40856.678960</td>\n",
              "      <td>0</td>\n",
              "    </tr>\n",
              "    <tr>\n",
              "      <th>2</th>\n",
              "      <td>100000.0</td>\n",
              "      <td>0</td>\n",
              "      <td>20000</td>\n",
              "      <td>57309.0</td>\n",
              "      <td>20228.39</td>\n",
              "      <td>9.0</td>\n",
              "      <td>29.9</td>\n",
              "      <td>5.0</td>\n",
              "      <td>0.0</td>\n",
              "      <td>0</td>\n",
              "      <td>0</td>\n",
              "      <td>622.68</td>\n",
              "      <td>7.56</td>\n",
              "      <td>0.0</td>\n",
              "      <td>1</td>\n",
              "      <td>0.0</td>\n",
              "      <td>20000</td>\n",
              "      <td>20215.792430</td>\n",
              "      <td>0</td>\n",
              "    </tr>\n",
              "    <tr>\n",
              "      <th>3</th>\n",
              "      <td>38500.0</td>\n",
              "      <td>1</td>\n",
              "      <td>4500</td>\n",
              "      <td>2428.0</td>\n",
              "      <td>4553.46</td>\n",
              "      <td>12.0</td>\n",
              "      <td>28.9</td>\n",
              "      <td>0.0</td>\n",
              "      <td>0.0</td>\n",
              "      <td>0</td>\n",
              "      <td>0</td>\n",
              "      <td>147.99</td>\n",
              "      <td>11.31</td>\n",
              "      <td>0.0</td>\n",
              "      <td>5</td>\n",
              "      <td>0.0</td>\n",
              "      <td>4500</td>\n",
              "      <td>4549.217149</td>\n",
              "      <td>0</td>\n",
              "    </tr>\n",
              "    <tr>\n",
              "      <th>4</th>\n",
              "      <td>450000.0</td>\n",
              "      <td>4</td>\n",
              "      <td>8425</td>\n",
              "      <td>34516.0</td>\n",
              "      <td>8754.30</td>\n",
              "      <td>21.0</td>\n",
              "      <td>74.6</td>\n",
              "      <td>4.0</td>\n",
              "      <td>0.0</td>\n",
              "      <td>0</td>\n",
              "      <td>0</td>\n",
              "      <td>345.18</td>\n",
              "      <td>27.27</td>\n",
              "      <td>0.0</td>\n",
              "      <td>1</td>\n",
              "      <td>0.0</td>\n",
              "      <td>8425</td>\n",
              "      <td>8735.148975</td>\n",
              "      <td>0</td>\n",
              "    </tr>\n",
              "  </tbody>\n",
              "</table>\n",
              "</div>"
            ],
            "text/plain": [
              "   annual_inc  grade  funded_amnt  ...  loan_amnt   total_pymnt  loan_status\n",
              "0    100000.0      3        30000  ...      30000  30026.442500            0\n",
              "1     45000.0      2        40000  ...      40000  40856.678960            0\n",
              "2    100000.0      0        20000  ...      20000  20215.792430            0\n",
              "3     38500.0      1         4500  ...       4500   4549.217149            0\n",
              "4    450000.0      4         8425  ...       8425   8735.148975            0\n",
              "\n",
              "[5 rows x 19 columns]"
            ]
          },
          "metadata": {
            "tags": []
          },
          "execution_count": 32
        }
      ]
    },
    {
      "cell_type": "code",
      "metadata": {
        "id": "55XChH4baYyT",
        "colab_type": "code",
        "colab": {
          "base_uri": "https://localhost:8080/",
          "height": 34
        },
        "outputId": "5fe7d42a-754a-49fb-c199-f52bbc0eedb4"
      },
      "source": [
        "print(my_df_final.shape)"
      ],
      "execution_count": 38,
      "outputs": [
        {
          "output_type": "stream",
          "text": [
            "(1303607, 19)\n"
          ],
          "name": "stdout"
        }
      ]
    },
    {
      "cell_type": "code",
      "metadata": {
        "id": "4Oz80PHxbRAJ",
        "colab_type": "code",
        "colab": {
          "base_uri": "https://localhost:8080/",
          "height": 425
        },
        "outputId": "563517c2-477b-48b9-a87b-1767ee0da9fb"
      },
      "source": [
        "my_df_final.info()"
      ],
      "execution_count": 44,
      "outputs": [
        {
          "output_type": "stream",
          "text": [
            "<class 'pandas.core.frame.DataFrame'>\n",
            "RangeIndex: 1303607 entries, 0 to 1303606\n",
            "Data columns (total 19 columns):\n",
            "annual_inc              1303607 non-null float64\n",
            "grade                   1303607 non-null int64\n",
            "funded_amnt             1303607 non-null int64\n",
            "avg_cur_bal             1303607 non-null float64\n",
            "last_pymnt_amnt         1303607 non-null float64\n",
            "open_acc                1303607 non-null float64\n",
            "bc_util                 1303607 non-null float64\n",
            "mort_acc                1303607 non-null float64\n",
            "pub_rec                 1303607 non-null float64\n",
            "debt_settlement_flag    1303607 non-null int64\n",
            "term                    1303607 non-null int64\n",
            "installment             1303607 non-null float64\n",
            "int_rate                1303607 non-null float64\n",
            "delinq_2yrs             1303607 non-null float64\n",
            "home_ownership          1303607 non-null int64\n",
            "acc_now_delinq          1303607 non-null float64\n",
            "loan_amnt               1303607 non-null int64\n",
            "total_pymnt             1303607 non-null float64\n",
            "loan_status             1303607 non-null int64\n",
            "dtypes: float64(12), int64(7)\n",
            "memory usage: 189.0 MB\n"
          ],
          "name": "stdout"
        }
      ]
    },
    {
      "cell_type": "markdown",
      "metadata": {
        "id": "qwZ0Ybw9LrSM",
        "colab_type": "text"
      },
      "source": [
        "**Now do the scaling**"
      ]
    },
    {
      "cell_type": "code",
      "metadata": {
        "id": "oUhuR3bQLbsD",
        "colab_type": "code",
        "colab": {
          "base_uri": "https://localhost:8080/",
          "height": 153
        },
        "outputId": "6cd11734-8045-4d39-ab1e-3361ffb7c603"
      },
      "source": [
        "cols = my_df_final.columns.values[:-1]\n",
        "\n",
        "scaler = preprocessing.StandardScaler()\n",
        "my_df_scaled = pd.DataFrame(scaler.fit_transform(my_df_final[cols]), columns=cols)\n",
        "my_df_scaled['loan_status'] = my_df_final['loan_status']\n",
        "print(my_df_scaled.head())"
      ],
      "execution_count": 45,
      "outputs": [
        {
          "output_type": "stream",
          "text": [
            "   annual_inc     grade  funded_amnt  ...  loan_amnt  total_pymnt  loan_status\n",
            "0    0.340348  0.962661     1.793104  ...   1.791267     1.475098            0\n",
            "1   -0.444818  0.191616     2.943128  ...   2.940753     2.523710            0\n",
            "2    0.340348 -1.350475     0.643080  ...   0.641781     0.525205            0\n",
            "3   -0.537610 -0.579430    -1.139458  ...  -1.139923    -0.991674            0\n",
            "4    5.336860  1.733707    -0.688073  ...  -0.688750    -0.586381            0\n",
            "\n",
            "[5 rows x 19 columns]\n"
          ],
          "name": "stdout"
        }
      ]
    },
    {
      "cell_type": "markdown",
      "metadata": {
        "id": "E2Lzoc6SXb1m",
        "colab_type": "text"
      },
      "source": [
        ""
      ]
    },
    {
      "cell_type": "code",
      "metadata": {
        "id": "4y8bflo2XUDA",
        "colab_type": "code",
        "colab": {
          "base_uri": "https://localhost:8080/",
          "height": 425
        },
        "outputId": "76318412-1b02-47d7-8bee-a4c61e7c037b"
      },
      "source": [
        "my_df_scaled.info()"
      ],
      "execution_count": 46,
      "outputs": [
        {
          "output_type": "stream",
          "text": [
            "<class 'pandas.core.frame.DataFrame'>\n",
            "RangeIndex: 1303607 entries, 0 to 1303606\n",
            "Data columns (total 19 columns):\n",
            "annual_inc              1303607 non-null float64\n",
            "grade                   1303607 non-null float64\n",
            "funded_amnt             1303607 non-null float64\n",
            "avg_cur_bal             1303607 non-null float64\n",
            "last_pymnt_amnt         1303607 non-null float64\n",
            "open_acc                1303607 non-null float64\n",
            "bc_util                 1303607 non-null float64\n",
            "mort_acc                1303607 non-null float64\n",
            "pub_rec                 1303607 non-null float64\n",
            "debt_settlement_flag    1303607 non-null float64\n",
            "term                    1303607 non-null float64\n",
            "installment             1303607 non-null float64\n",
            "int_rate                1303607 non-null float64\n",
            "delinq_2yrs             1303607 non-null float64\n",
            "home_ownership          1303607 non-null float64\n",
            "acc_now_delinq          1303607 non-null float64\n",
            "loan_amnt               1303607 non-null float64\n",
            "total_pymnt             1303607 non-null float64\n",
            "loan_status             1303607 non-null int64\n",
            "dtypes: float64(18), int64(1)\n",
            "memory usage: 189.0 MB\n"
          ],
          "name": "stdout"
        }
      ]
    },
    {
      "cell_type": "code",
      "metadata": {
        "id": "4jzNJ27zdlzo",
        "colab_type": "code",
        "colab": {}
      },
      "source": [
        "x = my_df_scaled.drop('loan_status', axis=1)\n",
        "y = my_df_scaled['loan_status']"
      ],
      "execution_count": 0,
      "outputs": []
    },
    {
      "cell_type": "code",
      "metadata": {
        "id": "0In-I57za9OF",
        "colab_type": "code",
        "colab": {
          "base_uri": "https://localhost:8080/",
          "height": 34
        },
        "outputId": "e8e4aa69-f46d-48dc-cc2a-f48b0e7064d0"
      },
      "source": [
        "x_trn, x_val, y_trn, y_val = train_test_split(x, y, random_state=1)\n",
        "print(x_trn.shape,x_val.shape,y_trn.shape,y_val.shape)"
      ],
      "execution_count": 51,
      "outputs": [
        {
          "output_type": "stream",
          "text": [
            "(977705, 18) (325902, 18) (977705,) (325902,)\n"
          ],
          "name": "stdout"
        }
      ]
    },
    {
      "cell_type": "markdown",
      "metadata": {
        "id": "Z-JejqS9d_ym",
        "colab_type": "text"
      },
      "source": [
        "# Random Forest: model training, tuning, and evaluation"
      ]
    },
    {
      "cell_type": "code",
      "metadata": {
        "id": "IuZDZvJUdQuI",
        "colab_type": "code",
        "colab": {
          "base_uri": "https://localhost:8080/",
          "height": 136
        },
        "outputId": "dd29b5ad-9abc-482c-e844-4fa5703ecba4"
      },
      "source": [
        "mod_1 = RandomForestClassifier(n_jobs = -1, n_estimators = 10,\n",
        "                                 bootstrap = True)\n",
        "mod_1.fit(x_trn,y_trn)"
      ],
      "execution_count": 54,
      "outputs": [
        {
          "output_type": "execute_result",
          "data": {
            "text/plain": [
              "RandomForestClassifier(bootstrap=True, class_weight=None, criterion='gini',\n",
              "                       max_depth=None, max_features='auto', max_leaf_nodes=None,\n",
              "                       min_impurity_decrease=0.0, min_impurity_split=None,\n",
              "                       min_samples_leaf=1, min_samples_split=2,\n",
              "                       min_weight_fraction_leaf=0.0, n_estimators=10, n_jobs=-1,\n",
              "                       oob_score=False, random_state=None, verbose=0,\n",
              "                       warm_start=False)"
            ]
          },
          "metadata": {
            "tags": []
          },
          "execution_count": 54
        }
      ]
    },
    {
      "cell_type": "markdown",
      "metadata": {
        "id": "R_1qayqQfDCp",
        "colab_type": "text"
      },
      "source": [
        "**Apply this on Test data now!**"
      ]
    },
    {
      "cell_type": "code",
      "metadata": {
        "id": "3ZYAlByJenZs",
        "colab_type": "code",
        "colab": {
          "base_uri": "https://localhost:8080/",
          "height": 34
        },
        "outputId": "13b23597-6acb-4c28-c2c6-993df4de833a"
      },
      "source": [
        "y_prd = mod_1.predict(x_val)\n",
        "accuracy_score(y_val,y_prd)"
      ],
      "execution_count": 55,
      "outputs": [
        {
          "output_type": "execute_result",
          "data": {
            "text/plain": [
              "0.9932648464875944"
            ]
          },
          "metadata": {
            "tags": []
          },
          "execution_count": 55
        }
      ]
    }
  ]
}