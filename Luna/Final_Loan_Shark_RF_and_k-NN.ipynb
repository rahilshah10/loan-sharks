{
 "cells": [
  {
   "cell_type": "code",
   "execution_count": 1,
   "metadata": {
    "colab": {
     "base_uri": "https://localhost:8080/",
     "height": 85
    },
    "colab_type": "code",
    "id": "x8BBBFpufhUz",
    "outputId": "dc921eec-99bb-4d6b-ec87-e39e574f260f"
   },
   "outputs": [
    {
     "name": "stdout",
     "output_type": "stream",
     "text": [
      "Collecting scikit-learn\n",
      "\u001b[?25l  Downloading https://files.pythonhosted.org/packages/b1/db/102a43a72afd2b0938ca039af6047e2a2bf5e5d5eb1bbe38ce616e2d750d/scikit_learn-0.22-cp37-cp37m-macosx_10_6_intel.whl (10.9MB)\n",
      "\u001b[K     |████████████████████████████████| 10.9MB 5.1MB/s eta 0:00:01\n",
      "\u001b[?25hRequirement already satisfied, skipping upgrade: scipy>=0.17.0 in /Users/lunahuang/anaconda3/lib/python3.7/site-packages (from scikit-learn) (1.3.0)\n",
      "Requirement already satisfied, skipping upgrade: numpy>=1.11.0 in /Users/lunahuang/anaconda3/lib/python3.7/site-packages (from scikit-learn) (1.16.4)\n",
      "Requirement already satisfied, skipping upgrade: joblib>=0.11 in /Users/lunahuang/anaconda3/lib/python3.7/site-packages (from scikit-learn) (0.13.2)\n",
      "Installing collected packages: scikit-learn\n",
      "  Found existing installation: scikit-learn 0.21.2\n",
      "    Uninstalling scikit-learn-0.21.2:\n",
      "      Successfully uninstalled scikit-learn-0.21.2\n",
      "Successfully installed scikit-learn-0.22\n"
     ]
    }
   ],
   "source": [
    "!pip install -U scikit-learn"
   ]
  },
  {
   "cell_type": "code",
   "execution_count": 2,
   "metadata": {
    "colab": {},
    "colab_type": "code",
    "id": "QIUKNWNb3UO_",
    "pycharm": {
     "is_executing": false
    }
   },
   "outputs": [],
   "source": [
    "# Having all the necessary libaries for \n",
    "import pandas as pd\n",
    "import numpy as np\n",
    "import matplotlib.pyplot as plt\n",
    "import matplotlib as mpl\n",
    "import seaborn as sns\n",
    "sns.set_style('whitegrid')\n",
    "import warnings\n",
    "import gc\n",
    "from sklearn import preprocessing,metrics \n",
    "warnings.simplefilter(action='ignore', category=FutureWarning)\n",
    "warnings.simplefilter(action='ignore', category=DeprecationWarning)\n",
    "from sklearn.model_selection import train_test_split\n",
    "from sklearn.ensemble import RandomForestClassifier\n",
    "from sklearn.neighbors import KNeighborsClassifier\n",
    "from sklearn.metrics import accuracy_score\n",
    "from sklearn import linear_model,svm\n",
    "from sklearn.metrics import average_precision_score\n",
    "from sklearn.metrics import precision_recall_curve\n",
    "from sklearn.metrics import plot_confusion_matrix\n",
    "\n",
    "\n",
    "# Pandas options\n",
    "# pd.set_option('display.max_colwidth', 1000, 'display.max_rows', None, 'display.max_columns', None)\n",
    "\n",
    "# Plotting options\n",
    "%matplotlib inline\n",
    "# mpl.style.use('ggplot')\n",
    "# sns.set(style='whitegrid')"
   ]
  },
  {
   "cell_type": "markdown",
   "metadata": {
    "colab_type": "text",
    "id": "MSLcAZfC3UO8"
   },
   "source": [
    "# 1. Importing the Data"
   ]
  },
  {
   "cell_type": "markdown",
   "metadata": {
    "colab_type": "text",
    "id": "g1MT2UG-3UPD"
   },
   "source": [
    "Read the data into a pandas dataframe"
   ]
  },
  {
   "cell_type": "code",
   "execution_count": 3,
   "metadata": {},
   "outputs": [],
   "source": [
    "# Define a variable that points to the folder where data is stored\n",
    "path = '/Users/lunahuang/Desktop/Machine_Learning/Loan_Shark/Data'"
   ]
  },
  {
   "cell_type": "code",
   "execution_count": 4,
   "metadata": {},
   "outputs": [
    {
     "name": "stderr",
     "output_type": "stream",
     "text": [
      "/Users/lunahuang/anaconda3/lib/python3.7/site-packages/IPython/core/interactiveshell.py:3057: DtypeWarning: Columns (19,47,55,112,123,124,125,128,129,130,133,139,140,141) have mixed types. Specify dtype option on import or set low_memory=False.\n",
      "  interactivity=interactivity, compiler=compiler, result=result)\n"
     ]
    }
   ],
   "source": [
    "start_df = pd.read_csv(f'{path}/loan.csv')"
   ]
  },
  {
   "cell_type": "code",
   "execution_count": 3,
   "metadata": {
    "colab": {
     "base_uri": "https://localhost:8080/",
     "height": 34
    },
    "colab_type": "code",
    "id": "5WHP8kYB4TMu",
    "outputId": "4978c545-1b99-4af8-fff4-22682b05392f"
   },
   "outputs": [
    {
     "name": "stdout",
     "output_type": "stream",
     "text": [
      "Drive already mounted at /content/gdrive; to attempt to forcibly remount, call drive.mount(\"/content/gdrive\", force_remount=True).\n"
     ]
    }
   ],
   "source": [
    "from google.colab import drive\n",
    "drive.mount('/content/gdrive')"
   ]
  },
  {
   "cell_type": "code",
   "execution_count": 4,
   "metadata": {
    "colab": {
     "base_uri": "https://localhost:8080/",
     "height": 34
    },
    "colab_type": "code",
    "id": "SYo86t_R4cWW",
    "outputId": "3dbd098e-a6a0-499f-c54e-a98122c68f98"
   },
   "outputs": [
    {
     "name": "stdout",
     "output_type": "stream",
     "text": [
      "'/content/gdrive/My Drive/Colab Notebooks/Loan Shark/Data/loan.csv'\n"
     ]
    }
   ],
   "source": [
    "!ls \"/content/gdrive/My Drive/Colab Notebooks/Loan Shark/Data/loan.csv\""
   ]
  },
  {
   "cell_type": "code",
   "execution_count": 0,
   "metadata": {
    "colab": {},
    "colab_type": "code",
    "id": "LOHyL2q73UPE",
    "pycharm": {
     "is_executing": false
    }
   },
   "outputs": [],
   "source": [
    "start_df = pd.read_csv('/content/gdrive/My Drive/Colab Notebooks/Loan Shark/Data/loan.csv', low_memory=False)"
   ]
  },
  {
   "cell_type": "markdown",
   "metadata": {
    "colab_type": "text",
    "id": "dk04nOKJ3UPH"
   },
   "source": [
    "Check the basic dataframe info"
   ]
  },
  {
   "cell_type": "code",
   "execution_count": 5,
   "metadata": {
    "colab": {
     "base_uri": "https://localhost:8080/",
     "height": 102
    },
    "colab_type": "code",
    "id": "NGxv51Op3UPH",
    "outputId": "855db56e-ae43-4a1a-f173-35687ad87852",
    "pycharm": {
     "is_executing": false
    }
   },
   "outputs": [
    {
     "name": "stdout",
     "output_type": "stream",
     "text": [
      "<class 'pandas.core.frame.DataFrame'>\n",
      "RangeIndex: 2260668 entries, 0 to 2260667\n",
      "Columns: 145 entries, id to settlement_term\n",
      "dtypes: float64(105), int64(4), object(36)\n",
      "memory usage: 2.4+ GB\n"
     ]
    }
   ],
   "source": [
    "df = start_df.copy(deep=True)\n",
    "df.info()"
   ]
  },
  {
   "cell_type": "markdown",
   "metadata": {
    "colab_type": "text",
    "id": "Hgg2f_Ll3UPL"
   },
   "source": [
    "There are 2.2 million rows and 145 columns. The data set is about 2.4GB.\n",
    "\n",
    "Let's take a look at the first 5 rows to see what we are getting into."
   ]
  },
  {
   "cell_type": "code",
   "execution_count": 6,
   "metadata": {
    "colab": {
     "base_uri": "https://localhost:8080/",
     "height": 338
    },
    "colab_type": "code",
    "id": "uKB9JH-83UPM",
    "outputId": "493a6326-ce33-4ba6-a0b6-f8d1d829efcb",
    "scrolled": true
   },
   "outputs": [
    {
     "data": {
      "text/html": [
       "<div>\n",
       "<style scoped>\n",
       "    .dataframe tbody tr th:only-of-type {\n",
       "        vertical-align: middle;\n",
       "    }\n",
       "\n",
       "    .dataframe tbody tr th {\n",
       "        vertical-align: top;\n",
       "    }\n",
       "\n",
       "    .dataframe thead th {\n",
       "        text-align: right;\n",
       "    }\n",
       "</style>\n",
       "<table border=\"1\" class=\"dataframe\">\n",
       "  <thead>\n",
       "    <tr style=\"text-align: right;\">\n",
       "      <th></th>\n",
       "      <th>id</th>\n",
       "      <th>member_id</th>\n",
       "      <th>loan_amnt</th>\n",
       "      <th>funded_amnt</th>\n",
       "      <th>funded_amnt_inv</th>\n",
       "      <th>term</th>\n",
       "      <th>int_rate</th>\n",
       "      <th>installment</th>\n",
       "      <th>grade</th>\n",
       "      <th>sub_grade</th>\n",
       "      <th>...</th>\n",
       "      <th>hardship_payoff_balance_amount</th>\n",
       "      <th>hardship_last_payment_amount</th>\n",
       "      <th>disbursement_method</th>\n",
       "      <th>debt_settlement_flag</th>\n",
       "      <th>debt_settlement_flag_date</th>\n",
       "      <th>settlement_status</th>\n",
       "      <th>settlement_date</th>\n",
       "      <th>settlement_amount</th>\n",
       "      <th>settlement_percentage</th>\n",
       "      <th>settlement_term</th>\n",
       "    </tr>\n",
       "  </thead>\n",
       "  <tbody>\n",
       "    <tr>\n",
       "      <th>0</th>\n",
       "      <td>NaN</td>\n",
       "      <td>NaN</td>\n",
       "      <td>2500</td>\n",
       "      <td>2500</td>\n",
       "      <td>2500.0</td>\n",
       "      <td>36 months</td>\n",
       "      <td>13.56</td>\n",
       "      <td>84.92</td>\n",
       "      <td>C</td>\n",
       "      <td>C1</td>\n",
       "      <td>...</td>\n",
       "      <td>NaN</td>\n",
       "      <td>NaN</td>\n",
       "      <td>Cash</td>\n",
       "      <td>N</td>\n",
       "      <td>NaN</td>\n",
       "      <td>NaN</td>\n",
       "      <td>NaN</td>\n",
       "      <td>NaN</td>\n",
       "      <td>NaN</td>\n",
       "      <td>NaN</td>\n",
       "    </tr>\n",
       "    <tr>\n",
       "      <th>1</th>\n",
       "      <td>NaN</td>\n",
       "      <td>NaN</td>\n",
       "      <td>30000</td>\n",
       "      <td>30000</td>\n",
       "      <td>30000.0</td>\n",
       "      <td>60 months</td>\n",
       "      <td>18.94</td>\n",
       "      <td>777.23</td>\n",
       "      <td>D</td>\n",
       "      <td>D2</td>\n",
       "      <td>...</td>\n",
       "      <td>NaN</td>\n",
       "      <td>NaN</td>\n",
       "      <td>Cash</td>\n",
       "      <td>N</td>\n",
       "      <td>NaN</td>\n",
       "      <td>NaN</td>\n",
       "      <td>NaN</td>\n",
       "      <td>NaN</td>\n",
       "      <td>NaN</td>\n",
       "      <td>NaN</td>\n",
       "    </tr>\n",
       "    <tr>\n",
       "      <th>2</th>\n",
       "      <td>NaN</td>\n",
       "      <td>NaN</td>\n",
       "      <td>5000</td>\n",
       "      <td>5000</td>\n",
       "      <td>5000.0</td>\n",
       "      <td>36 months</td>\n",
       "      <td>17.97</td>\n",
       "      <td>180.69</td>\n",
       "      <td>D</td>\n",
       "      <td>D1</td>\n",
       "      <td>...</td>\n",
       "      <td>NaN</td>\n",
       "      <td>NaN</td>\n",
       "      <td>Cash</td>\n",
       "      <td>N</td>\n",
       "      <td>NaN</td>\n",
       "      <td>NaN</td>\n",
       "      <td>NaN</td>\n",
       "      <td>NaN</td>\n",
       "      <td>NaN</td>\n",
       "      <td>NaN</td>\n",
       "    </tr>\n",
       "    <tr>\n",
       "      <th>3</th>\n",
       "      <td>NaN</td>\n",
       "      <td>NaN</td>\n",
       "      <td>4000</td>\n",
       "      <td>4000</td>\n",
       "      <td>4000.0</td>\n",
       "      <td>36 months</td>\n",
       "      <td>18.94</td>\n",
       "      <td>146.51</td>\n",
       "      <td>D</td>\n",
       "      <td>D2</td>\n",
       "      <td>...</td>\n",
       "      <td>NaN</td>\n",
       "      <td>NaN</td>\n",
       "      <td>Cash</td>\n",
       "      <td>N</td>\n",
       "      <td>NaN</td>\n",
       "      <td>NaN</td>\n",
       "      <td>NaN</td>\n",
       "      <td>NaN</td>\n",
       "      <td>NaN</td>\n",
       "      <td>NaN</td>\n",
       "    </tr>\n",
       "    <tr>\n",
       "      <th>4</th>\n",
       "      <td>NaN</td>\n",
       "      <td>NaN</td>\n",
       "      <td>30000</td>\n",
       "      <td>30000</td>\n",
       "      <td>30000.0</td>\n",
       "      <td>60 months</td>\n",
       "      <td>16.14</td>\n",
       "      <td>731.78</td>\n",
       "      <td>C</td>\n",
       "      <td>C4</td>\n",
       "      <td>...</td>\n",
       "      <td>NaN</td>\n",
       "      <td>NaN</td>\n",
       "      <td>Cash</td>\n",
       "      <td>N</td>\n",
       "      <td>NaN</td>\n",
       "      <td>NaN</td>\n",
       "      <td>NaN</td>\n",
       "      <td>NaN</td>\n",
       "      <td>NaN</td>\n",
       "      <td>NaN</td>\n",
       "    </tr>\n",
       "  </tbody>\n",
       "</table>\n",
       "<p>5 rows × 145 columns</p>\n",
       "</div>"
      ],
      "text/plain": [
       "   id  member_id  loan_amnt  funded_amnt  funded_amnt_inv        term  \\\n",
       "0 NaN        NaN       2500         2500           2500.0   36 months   \n",
       "1 NaN        NaN      30000        30000          30000.0   60 months   \n",
       "2 NaN        NaN       5000         5000           5000.0   36 months   \n",
       "3 NaN        NaN       4000         4000           4000.0   36 months   \n",
       "4 NaN        NaN      30000        30000          30000.0   60 months   \n",
       "\n",
       "   int_rate  installment grade sub_grade  ... hardship_payoff_balance_amount  \\\n",
       "0     13.56        84.92     C        C1  ...                            NaN   \n",
       "1     18.94       777.23     D        D2  ...                            NaN   \n",
       "2     17.97       180.69     D        D1  ...                            NaN   \n",
       "3     18.94       146.51     D        D2  ...                            NaN   \n",
       "4     16.14       731.78     C        C4  ...                            NaN   \n",
       "\n",
       "  hardship_last_payment_amount disbursement_method  debt_settlement_flag  \\\n",
       "0                          NaN                Cash                     N   \n",
       "1                          NaN                Cash                     N   \n",
       "2                          NaN                Cash                     N   \n",
       "3                          NaN                Cash                     N   \n",
       "4                          NaN                Cash                     N   \n",
       "\n",
       "  debt_settlement_flag_date settlement_status settlement_date  \\\n",
       "0                       NaN               NaN             NaN   \n",
       "1                       NaN               NaN             NaN   \n",
       "2                       NaN               NaN             NaN   \n",
       "3                       NaN               NaN             NaN   \n",
       "4                       NaN               NaN             NaN   \n",
       "\n",
       "  settlement_amount  settlement_percentage settlement_term  \n",
       "0               NaN                    NaN             NaN  \n",
       "1               NaN                    NaN             NaN  \n",
       "2               NaN                    NaN             NaN  \n",
       "3               NaN                    NaN             NaN  \n",
       "4               NaN                    NaN             NaN  \n",
       "\n",
       "[5 rows x 145 columns]"
      ]
     },
     "execution_count": 6,
     "metadata": {},
     "output_type": "execute_result"
    }
   ],
   "source": [
    "df.head(5)"
   ]
  },
  {
   "cell_type": "markdown",
   "metadata": {
    "colab_type": "text",
    "id": "ERilNr6f3UPO"
   },
   "source": [
    "We also want to understand the columns we have with the data dictionary provided."
   ]
  },
  {
   "cell_type": "markdown",
   "metadata": {
    "colab_type": "text",
    "id": "8ky0azFh3UPS"
   },
   "source": [
    "# 2. Target Variable"
   ]
  },
  {
   "cell_type": "markdown",
   "metadata": {
    "colab_type": "text",
    "id": "2x8MGngU3UPT"
   },
   "source": [
    "We are going to predict the variable loan_status. What are the value counts?"
   ]
  },
  {
   "cell_type": "code",
   "execution_count": 7,
   "metadata": {
    "colab": {
     "base_uri": "https://localhost:8080/",
     "height": 187
    },
    "colab_type": "code",
    "id": "t_36kU1A3UPT",
    "outputId": "4915bda5-2701-418f-ef9b-1c939bfce1ae"
   },
   "outputs": [
    {
     "data": {
      "text/plain": [
       "Fully Paid                                             1041952\n",
       "Current                                                 919695\n",
       "Charged Off                                             261655\n",
       "Late (31-120 days)                                       21897\n",
       "In Grace Period                                           8952\n",
       "Late (16-30 days)                                         3737\n",
       "Does not meet the credit policy. Status:Fully Paid        1988\n",
       "Does not meet the credit policy. Status:Charged Off        761\n",
       "Default                                                     31\n",
       "Name: loan_status, dtype: int64"
      ]
     },
     "execution_count": 7,
     "metadata": {},
     "output_type": "execute_result"
    }
   ],
   "source": [
    "df['loan_status'].value_counts(dropna=False)"
   ]
  },
  {
   "cell_type": "markdown",
   "metadata": {
    "colab_type": "text",
    "id": "a1ry1QS93UPW"
   },
   "source": [
    "We are going to only considers the Charged Off and Fully Paid values."
   ]
  },
  {
   "cell_type": "code",
   "execution_count": 8,
   "metadata": {
    "colab": {},
    "colab_type": "code",
    "id": "UrMX-3Bx3UPX"
   },
   "outputs": [],
   "source": [
    "df = df.loc[df['loan_status'].isin(['Fully Paid','Charged Off'])]"
   ]
  },
  {
   "cell_type": "code",
   "execution_count": 9,
   "metadata": {
    "colab": {
     "base_uri": "https://localhost:8080/",
     "height": 34
    },
    "colab_type": "code",
    "id": "4jWMFqmU3UPZ",
    "outputId": "1453c7f5-7c37-4fb1-e7a2-58c8af6b8b0c"
   },
   "outputs": [
    {
     "data": {
      "text/plain": [
       "(1303607, 145)"
      ]
     },
     "execution_count": 9,
     "metadata": {},
     "output_type": "execute_result"
    }
   ],
   "source": [
    "df.shape"
   ]
  },
  {
   "cell_type": "markdown",
   "metadata": {
    "colab_type": "text",
    "id": "TF1hKTy_3UPc"
   },
   "source": [
    "There are still 1303607 loans remaining. Lets recheck their status."
   ]
  },
  {
   "cell_type": "code",
   "execution_count": 10,
   "metadata": {
    "colab": {},
    "colab_type": "code",
    "id": "7YxUsBlB3UPd"
   },
   "outputs": [],
   "source": [
    "di = {\"Fully Paid\":0, \"Charged Off\":1}   #converting target variable to boolean\n",
    "df= df.replace({\"loan_status\": di})"
   ]
  },
  {
   "cell_type": "code",
   "execution_count": 11,
   "metadata": {
    "colab": {
     "base_uri": "https://localhost:8080/",
     "height": 68
    },
    "colab_type": "code",
    "id": "LkSq7hzi3UPf",
    "outputId": "5320b8da-4037-47c6-d921-6520583be907"
   },
   "outputs": [
    {
     "data": {
      "text/plain": [
       "0    0.799284\n",
       "1    0.200716\n",
       "Name: loan_status, dtype: float64"
      ]
     },
     "execution_count": 11,
     "metadata": {},
     "output_type": "execute_result"
    }
   ],
   "source": [
    "df['loan_status'].value_counts(normalize=True)"
   ]
  },
  {
   "cell_type": "markdown",
   "metadata": {
    "colab_type": "text",
    "id": "Ow5Z-_Sx3UPh"
   },
   "source": [
    "About 80% of the loans are fully paid and the rest 20% percent are charged off, so we can see a somewhat imbalance in our target variable"
   ]
  },
  {
   "cell_type": "markdown",
   "metadata": {
    "colab_type": "text",
    "id": "ZfIaAA053UPi"
   },
   "source": [
    "# 3. Feature space limiting"
   ]
  },
  {
   "cell_type": "markdown",
   "metadata": {
    "colab_type": "text",
    "id": "TlbG980o3UPj"
   },
   "source": [
    "The dataset consists of 145 features for each loan. We will divide our feature selection in two steps:\n",
    "\n",
    "- Drop the features with more than 30% missing data.\n",
    "-  Of the remaining features, we chose only those that would be the best ones."
   ]
  },
  {
   "cell_type": "markdown",
   "metadata": {
    "colab_type": "text",
    "id": "m7oVT1z53UPk"
   },
   "source": [
    "## 3.1 Drop features with missing data"
   ]
  },
  {
   "cell_type": "markdown",
   "metadata": {
    "colab_type": "text",
    "id": "COVyPVXq3UPk"
   },
   "source": [
    "First calculate the percentage of missing data for each feature:"
   ]
  },
  {
   "cell_type": "code",
   "execution_count": 12,
   "metadata": {
    "colab": {},
    "colab_type": "code",
    "id": "jKBnJvs-3UPl",
    "pycharm": {
     "is_executing": false
    }
   },
   "outputs": [],
   "source": [
    "def missing_values_table(df):\n",
    "        mis_val = df.isnull().sum()\n",
    "        mis_val_percent = 100 * df.isnull().sum() / len(df)\n",
    "        mis_val_table = pd.concat([mis_val, mis_val_percent], axis=1)\n",
    "        mis_val_table_ren_columns = mis_val_table.rename(\n",
    "        columns = {0 : 'Missing Values', 1 : '% of Total Values'})\n",
    "        mis_val_table_ren_columns = mis_val_table_ren_columns[\n",
    "            mis_val_table_ren_columns.iloc[:,1] != 0].sort_values(\n",
    "        '% of Total Values', ascending=False).round(1)\n",
    "        print (\"Your selected dataframe has \" + str(df.shape[1]) + \" columns.\\n\"      \n",
    "            \"There are \" + str(mis_val_table_ren_columns.shape[0]) +\n",
    "              \" columns that have missing values.\")\n",
    "        return mis_val_table_ren_columns"
   ]
  },
  {
   "cell_type": "code",
   "execution_count": 13,
   "metadata": {
    "colab": {
     "base_uri": "https://localhost:8080/",
     "height": 393
    },
    "colab_type": "code",
    "id": "n8wTlnhU3UPn",
    "outputId": "012089d5-63d6-46a7-e5e9-8c42a0242175",
    "pycharm": {
     "is_executing": false
    }
   },
   "outputs": [
    {
     "name": "stdout",
     "output_type": "stream",
     "text": [
      "Your selected dataframe has 145 columns.\n",
      "There are 105 columns that have missing values.\n"
     ]
    },
    {
     "data": {
      "text/html": [
       "<div>\n",
       "<style scoped>\n",
       "    .dataframe tbody tr th:only-of-type {\n",
       "        vertical-align: middle;\n",
       "    }\n",
       "\n",
       "    .dataframe tbody tr th {\n",
       "        vertical-align: top;\n",
       "    }\n",
       "\n",
       "    .dataframe thead th {\n",
       "        text-align: right;\n",
       "    }\n",
       "</style>\n",
       "<table border=\"1\" class=\"dataframe\">\n",
       "  <thead>\n",
       "    <tr style=\"text-align: right;\">\n",
       "      <th></th>\n",
       "      <th>Missing Values</th>\n",
       "      <th>% of Total Values</th>\n",
       "    </tr>\n",
       "  </thead>\n",
       "  <tbody>\n",
       "    <tr>\n",
       "      <th>id</th>\n",
       "      <td>1303607</td>\n",
       "      <td>100.0</td>\n",
       "    </tr>\n",
       "    <tr>\n",
       "      <th>url</th>\n",
       "      <td>1303607</td>\n",
       "      <td>100.0</td>\n",
       "    </tr>\n",
       "    <tr>\n",
       "      <th>member_id</th>\n",
       "      <td>1303607</td>\n",
       "      <td>100.0</td>\n",
       "    </tr>\n",
       "    <tr>\n",
       "      <th>next_pymnt_d</th>\n",
       "      <td>1303607</td>\n",
       "      <td>100.0</td>\n",
       "    </tr>\n",
       "    <tr>\n",
       "      <th>orig_projected_additional_accrued_interest</th>\n",
       "      <td>1300174</td>\n",
       "      <td>99.7</td>\n",
       "    </tr>\n",
       "    <tr>\n",
       "      <th>hardship_type</th>\n",
       "      <td>1298272</td>\n",
       "      <td>99.6</td>\n",
       "    </tr>\n",
       "    <tr>\n",
       "      <th>hardship_reason</th>\n",
       "      <td>1298272</td>\n",
       "      <td>99.6</td>\n",
       "    </tr>\n",
       "    <tr>\n",
       "      <th>hardship_status</th>\n",
       "      <td>1298272</td>\n",
       "      <td>99.6</td>\n",
       "    </tr>\n",
       "    <tr>\n",
       "      <th>hardship_last_payment_amount</th>\n",
       "      <td>1298272</td>\n",
       "      <td>99.6</td>\n",
       "    </tr>\n",
       "    <tr>\n",
       "      <th>hardship_payoff_balance_amount</th>\n",
       "      <td>1298272</td>\n",
       "      <td>99.6</td>\n",
       "    </tr>\n",
       "  </tbody>\n",
       "</table>\n",
       "</div>"
      ],
      "text/plain": [
       "                                            Missing Values  % of Total Values\n",
       "id                                                 1303607              100.0\n",
       "url                                                1303607              100.0\n",
       "member_id                                          1303607              100.0\n",
       "next_pymnt_d                                       1303607              100.0\n",
       "orig_projected_additional_accrued_interest         1300174               99.7\n",
       "hardship_type                                      1298272               99.6\n",
       "hardship_reason                                    1298272               99.6\n",
       "hardship_status                                    1298272               99.6\n",
       "hardship_last_payment_amount                       1298272               99.6\n",
       "hardship_payoff_balance_amount                     1298272               99.6"
      ]
     },
     "execution_count": 13,
     "metadata": {},
     "output_type": "execute_result"
    }
   ],
   "source": [
    "# Missing values statistics\n",
    "miss_values = missing_values_table(df)\n",
    "miss_values.head(10)"
   ]
  },
  {
   "cell_type": "code",
   "execution_count": 14,
   "metadata": {
    "colab": {},
    "colab_type": "code",
    "id": "RccB3MLR3UPq"
   },
   "outputs": [],
   "source": [
    "missing_fractions = df.isnull().mean().sort_values(ascending=False)"
   ]
  },
  {
   "cell_type": "markdown",
   "metadata": {
    "colab_type": "text",
    "id": "Tft5iiBD3UPs"
   },
   "source": [
    "Let's visualize the distribution of missing data"
   ]
  },
  {
   "cell_type": "code",
   "execution_count": 15,
   "metadata": {
    "colab": {
     "base_uri": "https://localhost:8080/",
     "height": 346
    },
    "colab_type": "code",
    "id": "Y6Y4Tv1g3UPt",
    "outputId": "a0d773e6-e62e-418b-bc69-0f64971922c2",
    "scrolled": true
   },
   "outputs": [
    {
     "data": {
      "text/plain": [
       "Text(0, 0.5, 'Feature count')"
      ]
     },
     "execution_count": 15,
     "metadata": {},
     "output_type": "execute_result"
    },
    {
     "data": {
      "image/png": "[encoded data removed]",
      "text/plain": [
       "<Figure size 600x300 with 1 Axes>"
      ]
     },
     "metadata": {
      "needs_background": "light"
     },
     "output_type": "display_data"
    }
   ],
   "source": [
    "plt.figure(figsize=(6,3),dpi=100)\n",
    "missing_fractions.plot.hist(bins=20)\n",
    "plt.title('Histogram of Feature Incompleteness')\n",
    "plt.xlabel('Fraction of data missing')\n",
    "plt.ylabel('Feature count')"
   ]
  },
  {
   "cell_type": "markdown",
   "metadata": {
    "colab_type": "text",
    "id": "kokuKYk83UPw"
   },
   "source": [
    "We can see that there a huge gap between the features missing some data(<20%) and those who are missing a lot of data(>40%). Since its very difficult to impute the remaining data accurately for the columns with more than 30% missing values, we drop those columns.\n",
    "\n",
    "First storing all columns missing more than 30% data into a list:"
   ]
  },
  {
   "cell_type": "code",
   "execution_count": 16,
   "metadata": {
    "colab": {
     "base_uri": "https://localhost:8080/",
     "height": 54
    },
    "colab_type": "code",
    "id": "wL57EhJX3UPw",
    "outputId": "742a7935-9157-4755-d301-1ce4b125b2f9"
   },
   "outputs": [
    {
     "name": "stdout",
     "output_type": "stream",
     "text": [
      "['id', 'member_id', 'url', 'next_pymnt_d', 'orig_projected_additional_accrued_interest', 'hardship_length', 'hardship_type', 'hardship_reason', 'hardship_status', 'deferral_term', 'hardship_amount', 'hardship_end_date', 'payment_plan_start_date', 'hardship_start_date', 'hardship_dpd', 'hardship_last_payment_amount', 'hardship_loan_status', 'hardship_payoff_balance_amount', 'sec_app_mths_since_last_major_derog', 'sec_app_revol_util', 'revol_bal_joint', 'sec_app_collections_12_mths_ex_med', 'sec_app_chargeoff_within_12_mths', 'sec_app_num_rev_accts', 'sec_app_open_act_il', 'sec_app_open_acc', 'sec_app_mort_acc', 'sec_app_inq_last_6mths', 'sec_app_earliest_cr_line', 'verification_status_joint', 'dti_joint', 'annual_inc_joint', 'settlement_percentage', 'settlement_term', 'settlement_status', 'settlement_amount', 'settlement_date', 'debt_settlement_flag_date', 'desc', 'mths_since_last_record', 'mths_since_recent_bc_dlq', 'mths_since_last_major_derog', 'il_util', 'mths_since_recent_revol_delinq', 'mths_since_rcnt_il', 'all_util', 'open_acc_6m', 'inq_last_12m', 'total_cu_tl', 'open_il_24m', 'open_rv_12m', 'open_rv_24m', 'total_bal_il', 'max_bal_bc', 'open_act_il', 'open_il_12m', 'inq_fi', 'mths_since_last_delinq']\n"
     ]
    }
   ],
   "source": [
    "drop_list = list(missing_fractions[missing_fractions>0.3].index)\n",
    "print(drop_list)"
   ]
  },
  {
   "cell_type": "markdown",
   "metadata": {
    "colab_type": "text",
    "id": "Un8cKYJ23UPz"
   },
   "source": [
    "No of features being dropped"
   ]
  },
  {
   "cell_type": "code",
   "execution_count": 17,
   "metadata": {
    "colab": {
     "base_uri": "https://localhost:8080/",
     "height": 34
    },
    "colab_type": "code",
    "id": "pqgAfj_B3UP0",
    "outputId": "1194cb59-5451-444b-d6c0-1514c90ad954"
   },
   "outputs": [
    {
     "data": {
      "text/plain": [
       "58"
      ]
     },
     "execution_count": 17,
     "metadata": {},
     "output_type": "execute_result"
    }
   ],
   "source": [
    "len(drop_list)"
   ]
  },
  {
   "cell_type": "markdown",
   "metadata": {
    "colab_type": "text",
    "id": "9VDGQCnX3UP5"
   },
   "source": [
    "Dropping these features:"
   ]
  },
  {
   "cell_type": "code",
   "execution_count": 18,
   "metadata": {
    "colab": {},
    "colab_type": "code",
    "id": "XX0F9w7j3UP8"
   },
   "outputs": [],
   "source": [
    "df.drop(labels=drop_list, axis=1, inplace=True)"
   ]
  },
  {
   "cell_type": "code",
   "execution_count": 19,
   "metadata": {
    "colab": {
     "base_uri": "https://localhost:8080/",
     "height": 34
    },
    "colab_type": "code",
    "id": "elzAWcy_3UP-",
    "outputId": "5cf01abd-eba8-46cd-a860-1772cf59d6fc"
   },
   "outputs": [
    {
     "data": {
      "text/plain": [
       "(1303607, 87)"
      ]
     },
     "execution_count": 19,
     "metadata": {},
     "output_type": "execute_result"
    }
   ],
   "source": [
    "df.shape"
   ]
  },
  {
   "cell_type": "markdown",
   "metadata": {
    "colab_type": "text",
    "id": "CpEMhls13UQB"
   },
   "source": [
    "## 3.2 Keeping useful features"
   ]
  },
  {
   "cell_type": "markdown",
   "metadata": {
    "colab_type": "text",
    "id": "uyVLJIG_3UQB"
   },
   "source": [
    "After researching through the data dictionary we decide to keep only the use full features from all the remaining features we have."
   ]
  },
  {
   "cell_type": "code",
   "execution_count": 20,
   "metadata": {
    "colab": {
     "base_uri": "https://localhost:8080/",
     "height": 34
    },
    "colab_type": "code",
    "id": "UdEc1Deg3UQC",
    "outputId": "ff4defcc-31c4-4fc3-cf00-0b5c3fb050ce"
   },
   "outputs": [
    {
     "data": {
      "text/plain": [
       "(1303607, 20)"
      ]
     },
     "execution_count": 20,
     "metadata": {},
     "output_type": "execute_result"
    }
   ],
   "source": [
    "features = ['annual_inc', 'grade', 'emp_length', 'funded_amnt', \n",
    "                'avg_cur_bal', 'last_pymnt_amnt', 'open_acc', 'bc_util', 'mort_acc', 'pub_rec', \n",
    "                'debt_settlement_flag', 'term', 'installment', 'int_rate', 'delinq_2yrs', 'home_ownership', \n",
    "                'acc_now_delinq', 'loan_amnt', 'total_pymnt', 'loan_status'] \n",
    "Final_data = df[features]\n",
    "Final_data = Final_data.reset_index(drop=True)\n",
    "Final_data.shape"
   ]
  },
  {
   "cell_type": "code",
   "execution_count": 21,
   "metadata": {
    "colab": {
     "base_uri": "https://localhost:8080/",
     "height": 221
    },
    "colab_type": "code",
    "id": "lZ73_Pl83UQH",
    "outputId": "fece4484-496c-40a9-9d6d-aba465bd4d15",
    "scrolled": true
   },
   "outputs": [
    {
     "data": {
      "text/plain": [
       "10+ years    428547\n",
       "2 years      117820\n",
       "< 1 year     104550\n",
       "3 years      104200\n",
       "1 year        85677\n",
       "5 years       81623\n",
       "4 years       78029\n",
       "6 years       60933\n",
       "8 years       59125\n",
       "7 years       58145\n",
       "9 years       49504\n",
       "Name: emp_length, dtype: int64"
      ]
     },
     "execution_count": 21,
     "metadata": {},
     "output_type": "execute_result"
    }
   ],
   "source": [
    "Final_data['emp_length'].value_counts()"
   ]
  },
  {
   "cell_type": "code",
   "execution_count": 22,
   "metadata": {
    "colab": {
     "base_uri": "https://localhost:8080/",
     "height": 309
    },
    "colab_type": "code",
    "id": "T2BLSWX33UQL",
    "outputId": "2deffedc-e5cc-4bba-9a33-218854aca0aa"
   },
   "outputs": [
    {
     "data": {
      "text/html": [
       "<div>\n",
       "<style scoped>\n",
       "    .dataframe tbody tr th:only-of-type {\n",
       "        vertical-align: middle;\n",
       "    }\n",
       "\n",
       "    .dataframe tbody tr th {\n",
       "        vertical-align: top;\n",
       "    }\n",
       "\n",
       "    .dataframe thead th {\n",
       "        text-align: right;\n",
       "    }\n",
       "</style>\n",
       "<table border=\"1\" class=\"dataframe\">\n",
       "  <thead>\n",
       "    <tr style=\"text-align: right;\">\n",
       "      <th></th>\n",
       "      <th>annual_inc</th>\n",
       "      <th>grade</th>\n",
       "      <th>emp_length</th>\n",
       "      <th>funded_amnt</th>\n",
       "      <th>avg_cur_bal</th>\n",
       "      <th>last_pymnt_amnt</th>\n",
       "      <th>open_acc</th>\n",
       "      <th>bc_util</th>\n",
       "      <th>mort_acc</th>\n",
       "      <th>pub_rec</th>\n",
       "      <th>debt_settlement_flag</th>\n",
       "      <th>term</th>\n",
       "      <th>installment</th>\n",
       "      <th>int_rate</th>\n",
       "      <th>delinq_2yrs</th>\n",
       "      <th>home_ownership</th>\n",
       "      <th>acc_now_delinq</th>\n",
       "      <th>loan_amnt</th>\n",
       "      <th>total_pymnt</th>\n",
       "      <th>loan_status</th>\n",
       "    </tr>\n",
       "  </thead>\n",
       "  <tbody>\n",
       "    <tr>\n",
       "      <th>0</th>\n",
       "      <td>100000.0</td>\n",
       "      <td>D</td>\n",
       "      <td>5 years</td>\n",
       "      <td>30000</td>\n",
       "      <td>42939.0</td>\n",
       "      <td>30082.32</td>\n",
       "      <td>11.0</td>\n",
       "      <td>46.9</td>\n",
       "      <td>1.0</td>\n",
       "      <td>1.0</td>\n",
       "      <td>N</td>\n",
       "      <td>36 months</td>\n",
       "      <td>1151.16</td>\n",
       "      <td>22.35</td>\n",
       "      <td>0.0</td>\n",
       "      <td>MORTGAGE</td>\n",
       "      <td>0.0</td>\n",
       "      <td>30000</td>\n",
       "      <td>30026.442500</td>\n",
       "      <td>0</td>\n",
       "    </tr>\n",
       "    <tr>\n",
       "      <th>1</th>\n",
       "      <td>45000.0</td>\n",
       "      <td>C</td>\n",
       "      <td>&lt; 1 year</td>\n",
       "      <td>40000</td>\n",
       "      <td>15059.0</td>\n",
       "      <td>40910.48</td>\n",
       "      <td>18.0</td>\n",
       "      <td>67.3</td>\n",
       "      <td>1.0</td>\n",
       "      <td>0.0</td>\n",
       "      <td>N</td>\n",
       "      <td>60 months</td>\n",
       "      <td>975.71</td>\n",
       "      <td>16.14</td>\n",
       "      <td>0.0</td>\n",
       "      <td>MORTGAGE</td>\n",
       "      <td>0.0</td>\n",
       "      <td>40000</td>\n",
       "      <td>40856.678960</td>\n",
       "      <td>0</td>\n",
       "    </tr>\n",
       "    <tr>\n",
       "      <th>2</th>\n",
       "      <td>100000.0</td>\n",
       "      <td>A</td>\n",
       "      <td>10+ years</td>\n",
       "      <td>20000</td>\n",
       "      <td>57309.0</td>\n",
       "      <td>20228.39</td>\n",
       "      <td>9.0</td>\n",
       "      <td>29.9</td>\n",
       "      <td>5.0</td>\n",
       "      <td>0.0</td>\n",
       "      <td>N</td>\n",
       "      <td>36 months</td>\n",
       "      <td>622.68</td>\n",
       "      <td>7.56</td>\n",
       "      <td>0.0</td>\n",
       "      <td>MORTGAGE</td>\n",
       "      <td>0.0</td>\n",
       "      <td>20000</td>\n",
       "      <td>20215.792430</td>\n",
       "      <td>0</td>\n",
       "    </tr>\n",
       "    <tr>\n",
       "      <th>3</th>\n",
       "      <td>38500.0</td>\n",
       "      <td>B</td>\n",
       "      <td>10+ years</td>\n",
       "      <td>4500</td>\n",
       "      <td>2428.0</td>\n",
       "      <td>4553.46</td>\n",
       "      <td>12.0</td>\n",
       "      <td>28.9</td>\n",
       "      <td>0.0</td>\n",
       "      <td>0.0</td>\n",
       "      <td>N</td>\n",
       "      <td>36 months</td>\n",
       "      <td>147.99</td>\n",
       "      <td>11.31</td>\n",
       "      <td>0.0</td>\n",
       "      <td>RENT</td>\n",
       "      <td>0.0</td>\n",
       "      <td>4500</td>\n",
       "      <td>4549.217149</td>\n",
       "      <td>0</td>\n",
       "    </tr>\n",
       "    <tr>\n",
       "      <th>4</th>\n",
       "      <td>450000.0</td>\n",
       "      <td>E</td>\n",
       "      <td>3 years</td>\n",
       "      <td>8425</td>\n",
       "      <td>34516.0</td>\n",
       "      <td>8754.30</td>\n",
       "      <td>21.0</td>\n",
       "      <td>74.6</td>\n",
       "      <td>4.0</td>\n",
       "      <td>0.0</td>\n",
       "      <td>N</td>\n",
       "      <td>36 months</td>\n",
       "      <td>345.18</td>\n",
       "      <td>27.27</td>\n",
       "      <td>0.0</td>\n",
       "      <td>MORTGAGE</td>\n",
       "      <td>0.0</td>\n",
       "      <td>8425</td>\n",
       "      <td>8735.148975</td>\n",
       "      <td>0</td>\n",
       "    </tr>\n",
       "  </tbody>\n",
       "</table>\n",
       "</div>"
      ],
      "text/plain": [
       "   annual_inc grade emp_length  funded_amnt  avg_cur_bal  last_pymnt_amnt  \\\n",
       "0    100000.0     D    5 years        30000      42939.0         30082.32   \n",
       "1     45000.0     C   < 1 year        40000      15059.0         40910.48   \n",
       "2    100000.0     A  10+ years        20000      57309.0         20228.39   \n",
       "3     38500.0     B  10+ years         4500       2428.0          4553.46   \n",
       "4    450000.0     E    3 years         8425      34516.0          8754.30   \n",
       "\n",
       "   open_acc  bc_util  mort_acc  pub_rec debt_settlement_flag        term  \\\n",
       "0      11.0     46.9       1.0      1.0                    N   36 months   \n",
       "1      18.0     67.3       1.0      0.0                    N   60 months   \n",
       "2       9.0     29.9       5.0      0.0                    N   36 months   \n",
       "3      12.0     28.9       0.0      0.0                    N   36 months   \n",
       "4      21.0     74.6       4.0      0.0                    N   36 months   \n",
       "\n",
       "   installment  int_rate  delinq_2yrs home_ownership  acc_now_delinq  \\\n",
       "0      1151.16     22.35          0.0       MORTGAGE             0.0   \n",
       "1       975.71     16.14          0.0       MORTGAGE             0.0   \n",
       "2       622.68      7.56          0.0       MORTGAGE             0.0   \n",
       "3       147.99     11.31          0.0           RENT             0.0   \n",
       "4       345.18     27.27          0.0       MORTGAGE             0.0   \n",
       "\n",
       "   loan_amnt   total_pymnt  loan_status  \n",
       "0      30000  30026.442500            0  \n",
       "1      40000  40856.678960            0  \n",
       "2      20000  20215.792430            0  \n",
       "3       4500   4549.217149            0  \n",
       "4       8425   8735.148975            0  "
      ]
     },
     "execution_count": 22,
     "metadata": {},
     "output_type": "execute_result"
    }
   ],
   "source": [
    "Final_data.head()"
   ]
  },
  {
   "cell_type": "markdown",
   "metadata": {
    "colab_type": "text",
    "id": "N4lQFXMI3UQQ"
   },
   "source": [
    "# 4. Data Transformation"
   ]
  },
  {
   "cell_type": "markdown",
   "metadata": {
    "colab_type": "text",
    "id": "PPu4VcH-3UQR"
   },
   "source": [
    "We need to transform some categotial values in our dataset to numerical labels so we can use it to work with some models\n",
    "Grade and home_ownership should be encoded to numerical values.\n",
    "Also emp_length is in a format of string i.e. \"5 years\",\"1 year\" which needs to be changed to its numerical values."
   ]
  },
  {
   "cell_type": "code",
   "execution_count": 23,
   "metadata": {
    "colab": {
     "base_uri": "https://localhost:8080/",
     "height": 442
    },
    "colab_type": "code",
    "id": "xXqYj-sYcJVW",
    "outputId": "b1cd731b-7c75-42f4-db30-13048ab2032b"
   },
   "outputs": [
    {
     "name": "stdout",
     "output_type": "stream",
     "text": [
      "<class 'pandas.core.frame.DataFrame'>\n",
      "RangeIndex: 1303607 entries, 0 to 1303606\n",
      "Data columns (total 20 columns):\n",
      "annual_inc              1303607 non-null float64\n",
      "grade                   1303607 non-null object\n",
      "emp_length              1228153 non-null object\n",
      "funded_amnt             1303607 non-null int64\n",
      "avg_cur_bal             1236059 non-null float64\n",
      "last_pymnt_amnt         1303607 non-null float64\n",
      "open_acc                1303607 non-null float64\n",
      "bc_util                 1242221 non-null float64\n",
      "mort_acc                1256326 non-null float64\n",
      "pub_rec                 1303607 non-null float64\n",
      "debt_settlement_flag    1303607 non-null object\n",
      "term                    1303607 non-null object\n",
      "installment             1303607 non-null float64\n",
      "int_rate                1303607 non-null float64\n",
      "delinq_2yrs             1303607 non-null float64\n",
      "home_ownership          1303607 non-null object\n",
      "acc_now_delinq          1303607 non-null float64\n",
      "loan_amnt               1303607 non-null int64\n",
      "total_pymnt             1303607 non-null float64\n",
      "loan_status             1303607 non-null int64\n",
      "dtypes: float64(12), int64(3), object(5)\n",
      "memory usage: 198.9+ MB\n"
     ]
    }
   ],
   "source": [
    "Final_data.info()"
   ]
  },
  {
   "cell_type": "code",
   "execution_count": 24,
   "metadata": {
    "colab": {
     "base_uri": "https://localhost:8080/",
     "height": 241
    },
    "colab_type": "code",
    "id": "ABSs1-EA3UQS",
    "outputId": "8c4bbce0-2165-478d-e860-6910369668d4"
   },
   "outputs": [
    {
     "name": "stdout",
     "output_type": "stream",
     "text": [
      "Current shape of dataset : (1303607, 19)\n"
     ]
    },
    {
     "data": {
      "text/html": [
       "<div>\n",
       "<style scoped>\n",
       "    .dataframe tbody tr th:only-of-type {\n",
       "        vertical-align: middle;\n",
       "    }\n",
       "\n",
       "    .dataframe tbody tr th {\n",
       "        vertical-align: top;\n",
       "    }\n",
       "\n",
       "    .dataframe thead th {\n",
       "        text-align: right;\n",
       "    }\n",
       "</style>\n",
       "<table border=\"1\" class=\"dataframe\">\n",
       "  <thead>\n",
       "    <tr style=\"text-align: right;\">\n",
       "      <th></th>\n",
       "      <th>annual_inc</th>\n",
       "      <th>grade</th>\n",
       "      <th>funded_amnt</th>\n",
       "      <th>avg_cur_bal</th>\n",
       "      <th>last_pymnt_amnt</th>\n",
       "      <th>open_acc</th>\n",
       "      <th>bc_util</th>\n",
       "      <th>mort_acc</th>\n",
       "      <th>pub_rec</th>\n",
       "      <th>debt_settlement_flag</th>\n",
       "      <th>term</th>\n",
       "      <th>installment</th>\n",
       "      <th>int_rate</th>\n",
       "      <th>delinq_2yrs</th>\n",
       "      <th>home_ownership</th>\n",
       "      <th>acc_now_delinq</th>\n",
       "      <th>loan_amnt</th>\n",
       "      <th>total_pymnt</th>\n",
       "      <th>loan_status</th>\n",
       "    </tr>\n",
       "  </thead>\n",
       "  <tbody>\n",
       "    <tr>\n",
       "      <th>0</th>\n",
       "      <td>100000.0</td>\n",
       "      <td>3</td>\n",
       "      <td>30000</td>\n",
       "      <td>42939.0</td>\n",
       "      <td>30082.32</td>\n",
       "      <td>11.0</td>\n",
       "      <td>46.9</td>\n",
       "      <td>1.0</td>\n",
       "      <td>1.0</td>\n",
       "      <td>0</td>\n",
       "      <td>0</td>\n",
       "      <td>1151.16</td>\n",
       "      <td>22.35</td>\n",
       "      <td>0.0</td>\n",
       "      <td>1</td>\n",
       "      <td>0.0</td>\n",
       "      <td>30000</td>\n",
       "      <td>30026.442500</td>\n",
       "      <td>0</td>\n",
       "    </tr>\n",
       "    <tr>\n",
       "      <th>1</th>\n",
       "      <td>45000.0</td>\n",
       "      <td>2</td>\n",
       "      <td>40000</td>\n",
       "      <td>15059.0</td>\n",
       "      <td>40910.48</td>\n",
       "      <td>18.0</td>\n",
       "      <td>67.3</td>\n",
       "      <td>1.0</td>\n",
       "      <td>0.0</td>\n",
       "      <td>0</td>\n",
       "      <td>1</td>\n",
       "      <td>975.71</td>\n",
       "      <td>16.14</td>\n",
       "      <td>0.0</td>\n",
       "      <td>1</td>\n",
       "      <td>0.0</td>\n",
       "      <td>40000</td>\n",
       "      <td>40856.678960</td>\n",
       "      <td>0</td>\n",
       "    </tr>\n",
       "    <tr>\n",
       "      <th>2</th>\n",
       "      <td>100000.0</td>\n",
       "      <td>0</td>\n",
       "      <td>20000</td>\n",
       "      <td>57309.0</td>\n",
       "      <td>20228.39</td>\n",
       "      <td>9.0</td>\n",
       "      <td>29.9</td>\n",
       "      <td>5.0</td>\n",
       "      <td>0.0</td>\n",
       "      <td>0</td>\n",
       "      <td>0</td>\n",
       "      <td>622.68</td>\n",
       "      <td>7.56</td>\n",
       "      <td>0.0</td>\n",
       "      <td>1</td>\n",
       "      <td>0.0</td>\n",
       "      <td>20000</td>\n",
       "      <td>20215.792430</td>\n",
       "      <td>0</td>\n",
       "    </tr>\n",
       "    <tr>\n",
       "      <th>3</th>\n",
       "      <td>38500.0</td>\n",
       "      <td>1</td>\n",
       "      <td>4500</td>\n",
       "      <td>2428.0</td>\n",
       "      <td>4553.46</td>\n",
       "      <td>12.0</td>\n",
       "      <td>28.9</td>\n",
       "      <td>0.0</td>\n",
       "      <td>0.0</td>\n",
       "      <td>0</td>\n",
       "      <td>0</td>\n",
       "      <td>147.99</td>\n",
       "      <td>11.31</td>\n",
       "      <td>0.0</td>\n",
       "      <td>5</td>\n",
       "      <td>0.0</td>\n",
       "      <td>4500</td>\n",
       "      <td>4549.217149</td>\n",
       "      <td>0</td>\n",
       "    </tr>\n",
       "    <tr>\n",
       "      <th>4</th>\n",
       "      <td>450000.0</td>\n",
       "      <td>4</td>\n",
       "      <td>8425</td>\n",
       "      <td>34516.0</td>\n",
       "      <td>8754.30</td>\n",
       "      <td>21.0</td>\n",
       "      <td>74.6</td>\n",
       "      <td>4.0</td>\n",
       "      <td>0.0</td>\n",
       "      <td>0</td>\n",
       "      <td>0</td>\n",
       "      <td>345.18</td>\n",
       "      <td>27.27</td>\n",
       "      <td>0.0</td>\n",
       "      <td>1</td>\n",
       "      <td>0.0</td>\n",
       "      <td>8425</td>\n",
       "      <td>8735.148975</td>\n",
       "      <td>0</td>\n",
       "    </tr>\n",
       "  </tbody>\n",
       "</table>\n",
       "</div>"
      ],
      "text/plain": [
       "   annual_inc  grade  funded_amnt  avg_cur_bal  last_pymnt_amnt  open_acc  \\\n",
       "0    100000.0      3        30000      42939.0         30082.32      11.0   \n",
       "1     45000.0      2        40000      15059.0         40910.48      18.0   \n",
       "2    100000.0      0        20000      57309.0         20228.39       9.0   \n",
       "3     38500.0      1         4500       2428.0          4553.46      12.0   \n",
       "4    450000.0      4         8425      34516.0          8754.30      21.0   \n",
       "\n",
       "   bc_util  mort_acc  pub_rec  debt_settlement_flag  term  installment  \\\n",
       "0     46.9       1.0      1.0                     0     0      1151.16   \n",
       "1     67.3       1.0      0.0                     0     1       975.71   \n",
       "2     29.9       5.0      0.0                     0     0       622.68   \n",
       "3     28.9       0.0      0.0                     0     0       147.99   \n",
       "4     74.6       4.0      0.0                     0     0       345.18   \n",
       "\n",
       "   int_rate  delinq_2yrs  home_ownership  acc_now_delinq  loan_amnt  \\\n",
       "0     22.35          0.0               1             0.0      30000   \n",
       "1     16.14          0.0               1             0.0      40000   \n",
       "2      7.56          0.0               1             0.0      20000   \n",
       "3     11.31          0.0               5             0.0       4500   \n",
       "4     27.27          0.0               1             0.0       8425   \n",
       "\n",
       "    total_pymnt  loan_status  \n",
       "0  30026.442500            0  \n",
       "1  40856.678960            0  \n",
       "2  20215.792430            0  \n",
       "3   4549.217149            0  \n",
       "4   8735.148975            0  "
      ]
     },
     "execution_count": 24,
     "metadata": {},
     "output_type": "execute_result"
    }
   ],
   "source": [
    "from sklearn.preprocessing import LabelEncoder\n",
    "\n",
    "lb_make = LabelEncoder()\n",
    "Final_data[\"home_ownership\"] = lb_make.fit_transform(Final_data[\"home_ownership\"])\n",
    "Final_data[\"grade\"] = lb_make.fit_transform(Final_data[\"grade\"])\n",
    "Final_data[\"debt_settlement_flag\"] = lb_make.fit_transform(Final_data[\"debt_settlement_flag\"])\n",
    "Final_data[\"term\"] = lb_make.fit_transform(Final_data[\"term\"])\n",
    "Final_data.drop('emp_length',axis=1, inplace=True)\n",
    "print(\"Current shape of dataset :\",Final_data.shape)\n",
    "Final_data.head()"
   ]
  },
  {
   "cell_type": "code",
   "execution_count": 25,
   "metadata": {
    "colab": {
     "base_uri": "https://localhost:8080/",
     "height": 357
    },
    "colab_type": "code",
    "id": "nZwoS6lt3UQX",
    "outputId": "18f2192b-1f98-4495-d811-d1dceb9ab572"
   },
   "outputs": [
    {
     "data": {
      "text/plain": [
       "annual_inc                  0\n",
       "grade                       0\n",
       "funded_amnt                 0\n",
       "avg_cur_bal             67548\n",
       "last_pymnt_amnt             0\n",
       "open_acc                    0\n",
       "bc_util                 61386\n",
       "mort_acc                47281\n",
       "pub_rec                     0\n",
       "debt_settlement_flag        0\n",
       "term                        0\n",
       "installment                 0\n",
       "int_rate                    0\n",
       "delinq_2yrs                 0\n",
       "home_ownership              0\n",
       "acc_now_delinq              0\n",
       "loan_amnt                   0\n",
       "total_pymnt                 0\n",
       "loan_status                 0\n",
       "dtype: int64"
      ]
     },
     "execution_count": 25,
     "metadata": {},
     "output_type": "execute_result"
    }
   ],
   "source": [
    "Final_data.isnull().sum()"
   ]
  },
  {
   "cell_type": "code",
   "execution_count": 26,
   "metadata": {
    "colab": {},
    "colab_type": "code",
    "id": "3-Npf-Dd3UQa"
   },
   "outputs": [],
   "source": [
    "Final_data.fillna(Final_data.mean(),inplace=True)"
   ]
  },
  {
   "cell_type": "code",
   "execution_count": 27,
   "metadata": {
    "colab": {
     "base_uri": "https://localhost:8080/",
     "height": 357
    },
    "colab_type": "code",
    "id": "fgtp0mbn3UQf",
    "outputId": "111e1282-39f4-4b53-85c3-dbddc04708ae"
   },
   "outputs": [
    {
     "data": {
      "text/plain": [
       "annual_inc              0\n",
       "grade                   0\n",
       "funded_amnt             0\n",
       "avg_cur_bal             0\n",
       "last_pymnt_amnt         0\n",
       "open_acc                0\n",
       "bc_util                 0\n",
       "mort_acc                0\n",
       "pub_rec                 0\n",
       "debt_settlement_flag    0\n",
       "term                    0\n",
       "installment             0\n",
       "int_rate                0\n",
       "delinq_2yrs             0\n",
       "home_ownership          0\n",
       "acc_now_delinq          0\n",
       "loan_amnt               0\n",
       "total_pymnt             0\n",
       "loan_status             0\n",
       "dtype: int64"
      ]
     },
     "execution_count": 27,
     "metadata": {},
     "output_type": "execute_result"
    }
   ],
   "source": [
    "Final_data.isnull().sum()"
   ]
  },
  {
   "cell_type": "code",
   "execution_count": 28,
   "metadata": {
    "colab": {
     "base_uri": "https://localhost:8080/",
     "height": 68
    },
    "colab_type": "code",
    "id": "JWGgUAFg3UQj",
    "outputId": "9dcbda63-a399-41f1-f19e-6b4cedce6bd9"
   },
   "outputs": [
    {
     "data": {
      "text/plain": [
       "0    1041952\n",
       "1     261655\n",
       "Name: loan_status, dtype: int64"
      ]
     },
     "execution_count": 28,
     "metadata": {},
     "output_type": "execute_result"
    }
   ],
   "source": [
    "scl = preprocessing.StandardScaler()\n",
    "fields = Final_data.columns.values[:-1]\n",
    "data_clean_full = pd.DataFrame(scl.fit_transform(Final_data[fields]), columns = fields)\n",
    "data_clean_full['loan_status'] = Final_data['loan_status']\n",
    "data_clean_full['loan_status'].value_counts()\n"
   ]
  },
  {
   "cell_type": "code",
   "execution_count": 29,
   "metadata": {
    "colab": {
     "base_uri": "https://localhost:8080/",
     "height": 241
    },
    "colab_type": "code",
    "id": "K3iISm2LWGZG",
    "outputId": "e8a91520-290d-46dc-abc6-97869e380b64"
   },
   "outputs": [
    {
     "name": "stdout",
     "output_type": "stream",
     "text": [
      "Current shape of dataset : (50000, 19)\n"
     ]
    },
    {
     "data": {
      "text/html": [
       "<div>\n",
       "<style scoped>\n",
       "    .dataframe tbody tr th:only-of-type {\n",
       "        vertical-align: middle;\n",
       "    }\n",
       "\n",
       "    .dataframe tbody tr th {\n",
       "        vertical-align: top;\n",
       "    }\n",
       "\n",
       "    .dataframe thead th {\n",
       "        text-align: right;\n",
       "    }\n",
       "</style>\n",
       "<table border=\"1\" class=\"dataframe\">\n",
       "  <thead>\n",
       "    <tr style=\"text-align: right;\">\n",
       "      <th></th>\n",
       "      <th>annual_inc</th>\n",
       "      <th>grade</th>\n",
       "      <th>funded_amnt</th>\n",
       "      <th>avg_cur_bal</th>\n",
       "      <th>last_pymnt_amnt</th>\n",
       "      <th>open_acc</th>\n",
       "      <th>bc_util</th>\n",
       "      <th>mort_acc</th>\n",
       "      <th>pub_rec</th>\n",
       "      <th>debt_settlement_flag</th>\n",
       "      <th>term</th>\n",
       "      <th>installment</th>\n",
       "      <th>int_rate</th>\n",
       "      <th>delinq_2yrs</th>\n",
       "      <th>home_ownership</th>\n",
       "      <th>acc_now_delinq</th>\n",
       "      <th>loan_amnt</th>\n",
       "      <th>total_pymnt</th>\n",
       "      <th>loan_status</th>\n",
       "    </tr>\n",
       "  </thead>\n",
       "  <tbody>\n",
       "    <tr>\n",
       "      <th>0</th>\n",
       "      <td>-0.273509</td>\n",
       "      <td>-0.579430</td>\n",
       "      <td>-1.024455</td>\n",
       "      <td>-1.194475e-01</td>\n",
       "      <td>-0.005669</td>\n",
       "      <td>0.806484</td>\n",
       "      <td>5.592825e-01</td>\n",
       "      <td>1.641595e-01</td>\n",
       "      <td>-0.357498</td>\n",
       "      <td>-0.158607</td>\n",
       "      <td>-0.564300</td>\n",
       "      <td>-0.990814</td>\n",
       "      <td>-0.526667</td>\n",
       "      <td>-0.362051</td>\n",
       "      <td>-0.997298</td>\n",
       "      <td>-0.065476</td>\n",
       "      <td>-1.024974</td>\n",
       "      <td>-0.889915</td>\n",
       "      <td>0</td>\n",
       "    </tr>\n",
       "    <tr>\n",
       "      <th>1</th>\n",
       "      <td>-0.276550</td>\n",
       "      <td>2.504753</td>\n",
       "      <td>0.691956</td>\n",
       "      <td>2.224266e+00</td>\n",
       "      <td>-0.744902</td>\n",
       "      <td>-0.840275</td>\n",
       "      <td>1.425647e+00</td>\n",
       "      <td>6.721972e-01</td>\n",
       "      <td>-0.357498</td>\n",
       "      <td>-0.158607</td>\n",
       "      <td>1.772108</td>\n",
       "      <td>0.527057</td>\n",
       "      <td>2.044469</td>\n",
       "      <td>-0.362051</td>\n",
       "      <td>-0.997298</td>\n",
       "      <td>-0.065476</td>\n",
       "      <td>0.690634</td>\n",
       "      <td>0.925859</td>\n",
       "      <td>1</td>\n",
       "    </tr>\n",
       "    <tr>\n",
       "      <th>2</th>\n",
       "      <td>-0.690689</td>\n",
       "      <td>-1.350475</td>\n",
       "      <td>0.068068</td>\n",
       "      <td>1.147376e-16</td>\n",
       "      <td>0.528678</td>\n",
       "      <td>-0.108382</td>\n",
       "      <td>9.452773e-14</td>\n",
       "      <td>-1.128070e-16</td>\n",
       "      <td>1.301257</td>\n",
       "      <td>-0.158607</td>\n",
       "      <td>-0.564300</td>\n",
       "      <td>0.119799</td>\n",
       "      <td>-1.125339</td>\n",
       "      <td>-0.362051</td>\n",
       "      <td>0.568545</td>\n",
       "      <td>-0.065476</td>\n",
       "      <td>0.067037</td>\n",
       "      <td>0.143992</td>\n",
       "      <td>0</td>\n",
       "    </tr>\n",
       "    <tr>\n",
       "      <th>3</th>\n",
       "      <td>0.268969</td>\n",
       "      <td>-0.579430</td>\n",
       "      <td>-0.046935</td>\n",
       "      <td>-7.484579e-01</td>\n",
       "      <td>-0.704106</td>\n",
       "      <td>0.440538</td>\n",
       "      <td>8.710289e-01</td>\n",
       "      <td>-8.519159e-01</td>\n",
       "      <td>-0.357498</td>\n",
       "      <td>6.304897</td>\n",
       "      <td>-0.564300</td>\n",
       "      <td>0.012085</td>\n",
       "      <td>-1.022409</td>\n",
       "      <td>1.917778</td>\n",
       "      <td>-0.997298</td>\n",
       "      <td>-0.065476</td>\n",
       "      <td>-0.047911</td>\n",
       "      <td>-0.851342</td>\n",
       "      <td>1</td>\n",
       "    </tr>\n",
       "    <tr>\n",
       "      <th>4</th>\n",
       "      <td>-0.016545</td>\n",
       "      <td>0.962661</td>\n",
       "      <td>1.755728</td>\n",
       "      <td>9.752023e-01</td>\n",
       "      <td>-0.658107</td>\n",
       "      <td>-1.023248</td>\n",
       "      <td>5.411577e-01</td>\n",
       "      <td>-3.438782e-01</td>\n",
       "      <td>-0.357498</td>\n",
       "      <td>-0.158607</td>\n",
       "      <td>1.772108</td>\n",
       "      <td>1.269981</td>\n",
       "      <td>1.204228</td>\n",
       "      <td>-0.362051</td>\n",
       "      <td>-0.997298</td>\n",
       "      <td>-0.065476</td>\n",
       "      <td>1.753908</td>\n",
       "      <td>-0.472633</td>\n",
       "      <td>1</td>\n",
       "    </tr>\n",
       "  </tbody>\n",
       "</table>\n",
       "</div>"
      ],
      "text/plain": [
       "   annual_inc     grade  funded_amnt   avg_cur_bal  last_pymnt_amnt  open_acc  \\\n",
       "0   -0.273509 -0.579430    -1.024455 -1.194475e-01        -0.005669  0.806484   \n",
       "1   -0.276550  2.504753     0.691956  2.224266e+00        -0.744902 -0.840275   \n",
       "2   -0.690689 -1.350475     0.068068  1.147376e-16         0.528678 -0.108382   \n",
       "3    0.268969 -0.579430    -0.046935 -7.484579e-01        -0.704106  0.440538   \n",
       "4   -0.016545  0.962661     1.755728  9.752023e-01        -0.658107 -1.023248   \n",
       "\n",
       "        bc_util      mort_acc   pub_rec  debt_settlement_flag      term  \\\n",
       "0  5.592825e-01  1.641595e-01 -0.357498             -0.158607 -0.564300   \n",
       "1  1.425647e+00  6.721972e-01 -0.357498             -0.158607  1.772108   \n",
       "2  9.452773e-14 -1.128070e-16  1.301257             -0.158607 -0.564300   \n",
       "3  8.710289e-01 -8.519159e-01 -0.357498              6.304897 -0.564300   \n",
       "4  5.411577e-01 -3.438782e-01 -0.357498             -0.158607  1.772108   \n",
       "\n",
       "   installment  int_rate  delinq_2yrs  home_ownership  acc_now_delinq  \\\n",
       "0    -0.990814 -0.526667    -0.362051       -0.997298       -0.065476   \n",
       "1     0.527057  2.044469    -0.362051       -0.997298       -0.065476   \n",
       "2     0.119799 -1.125339    -0.362051        0.568545       -0.065476   \n",
       "3     0.012085 -1.022409     1.917778       -0.997298       -0.065476   \n",
       "4     1.269981  1.204228    -0.362051       -0.997298       -0.065476   \n",
       "\n",
       "   loan_amnt  total_pymnt  loan_status  \n",
       "0  -1.024974    -0.889915            0  \n",
       "1   0.690634     0.925859            1  \n",
       "2   0.067037     0.143992            0  \n",
       "3  -0.047911    -0.851342            1  \n",
       "4   1.753908    -0.472633            1  "
      ]
     },
     "execution_count": 29,
     "metadata": {},
     "output_type": "execute_result"
    }
   ],
   "source": [
    "loanstatus_0 = data_clean_full[data_clean_full[\"loan_status\"]==0]\n",
    "loanstatus_1 = data_clean_full[data_clean_full[\"loan_status\"]==1]\n",
    "subset_of_loanstatus_0 = loanstatus_0.sample(n=25000)\n",
    "subset_of_loanstatus_1 = loanstatus_1.sample(n=25000)\n",
    "data_clean = pd.concat([subset_of_loanstatus_1, subset_of_loanstatus_0])\n",
    "data_clean = data_clean.sample(frac=1).reset_index(drop=True)\n",
    "print(\"Current shape of dataset :\",data_clean.shape)\n",
    "\n",
    "# data_clean.drop('emp_length',axis=1, inplace=True)\n",
    "data_clean.head(5)"
   ]
  },
  {
   "cell_type": "code",
   "execution_count": 30,
   "metadata": {
    "colab": {
     "base_uri": "https://localhost:8080/",
     "height": 670
    },
    "colab_type": "code",
    "id": "avwIjBBt3UQm",
    "outputId": "af6ef569-eb8f-445e-c80c-b1cd09e26fbe"
   },
   "outputs": [
    {
     "data": {
      "text/plain": [
       "<matplotlib.axes._subplots.AxesSubplot at 0x1a2c638710>"
      ]
     },
     "execution_count": 30,
     "metadata": {},
     "output_type": "execute_result"
    },
    {
     "data": {
      "image/png": "[encoded data removed]",
      "text/plain": [
       "<Figure size 720x720 with 2 Axes>"
      ]
     },
     "metadata": {
      "needs_background": "light"
     },
     "output_type": "display_data"
    }
   ],
   "source": [
    "dataViz = data_clean\n",
    "sns.set_context(context='notebook')\n",
    "fig, ax = plt.subplots(figsize=(10,10)) \n",
    "corr = dataViz.corr()\n",
    "\n",
    "# Generate a mask for the upper triangle\n",
    "mask = np.zeros_like(corr, dtype=np.bool)\n",
    "mask[np.tril_indices_from(mask)] = True\n",
    "\n",
    "# Generate a custom diverging colormap\n",
    "cmap = sns.diverging_palette(220, 10, as_cmap=True)\n",
    "\n",
    "sns.heatmap(corr, cmap=cmap,linewidths=1, vmin=-1, vmax=1, square=True, cbar=True, center=0, ax=ax, mask=mask)"
   ]
  },
  {
   "cell_type": "markdown",
   "metadata": {
    "colab_type": "text",
    "id": "zvEYNd_M3UQo"
   },
   "source": [
    "### ROC Plot function"
   ]
  },
  {
   "cell_type": "markdown",
   "metadata": {
    "colab_type": "text",
    "id": "aWZvL4bh3UQp"
   },
   "source": [
    "Creating a ROC function to be used for all the models."
   ]
  },
  {
   "cell_type": "code",
   "execution_count": 31,
   "metadata": {
    "colab": {},
    "colab_type": "code",
    "id": "qjd7lVnR3UQq"
   },
   "outputs": [],
   "source": [
    "sns.set('talk', 'whitegrid', 'dark', font_scale=1, font='Ricty',rc={\"lines.linewidth\": 2, 'grid.linestyle': '--'})\n",
    "def plotAUC(truth, pred, lab):\n",
    "    fpr, tpr, _ = metrics.roc_curve(truth,pred)\n",
    "    roc_auc = metrics.auc(fpr, tpr)\n",
    "    lw = 2\n",
    "    c = (np.random.rand(), np.random.rand(), np.random.rand())\n",
    "    plt.plot(fpr, tpr, color= c,lw=lw, label= lab +'(AUC = %0.2f)' % roc_auc)\n",
    "    plt.plot([0, 1], [0, 1], color='navy', lw=lw, linestyle='--')\n",
    "    plt.xlim([0.0, 1.0])\n",
    "    plt.ylim([0.0, 1.0])\n",
    "    plt.xlabel('False Positive Rate')\n",
    "    plt.ylabel('True Positive Rate')\n",
    "    plt.title('ROC curve') #Receiver Operating Characteristic \n",
    "    plt.legend(loc=\"lower right\")"
   ]
  },
  {
   "cell_type": "markdown",
   "metadata": {
    "colab_type": "text",
    "id": "pIhUpha13UQs"
   },
   "source": [
    "### Confusion Matrix function"
   ]
  },
  {
   "cell_type": "markdown",
   "metadata": {
    "colab_type": "text",
    "id": "36MC2h0Q3UQt"
   },
   "source": [
    "Creating a Confusion Matrix function to be used for all the models."
   ]
  },
  {
   "cell_type": "code",
   "execution_count": 32,
   "metadata": {
    "colab": {},
    "colab_type": "code",
    "id": "mzjsjehM3UQx"
   },
   "outputs": [],
   "source": [
    "X_train, X_test, y_train, y_test = train_test_split(data_clean_full.iloc[:,:-1],\n",
    "                                                    data_clean_full.iloc[:,-1], test_size=0.2,\n",
    "                                                    random_state=42)\n",
    "bs_train, bs_test = train_test_split(data_clean_full, test_size = 0.2,\n",
    "                                     random_state=42) #just for bootstrapping"
   ]
  },
  {
   "cell_type": "code",
   "execution_count": 33,
   "metadata": {
    "colab": {
     "base_uri": "https://localhost:8080/",
     "height": 224
    },
    "colab_type": "code",
    "id": "nzXX2ZHu3UQ4",
    "outputId": "82a9938a-b656-4238-88f0-9cc6e05f87bf"
   },
   "outputs": [
    {
     "data": {
      "text/html": [
       "<div>\n",
       "<style scoped>\n",
       "    .dataframe tbody tr th:only-of-type {\n",
       "        vertical-align: middle;\n",
       "    }\n",
       "\n",
       "    .dataframe tbody tr th {\n",
       "        vertical-align: top;\n",
       "    }\n",
       "\n",
       "    .dataframe thead th {\n",
       "        text-align: right;\n",
       "    }\n",
       "</style>\n",
       "<table border=\"1\" class=\"dataframe\">\n",
       "  <thead>\n",
       "    <tr style=\"text-align: right;\">\n",
       "      <th></th>\n",
       "      <th>annual_inc</th>\n",
       "      <th>grade</th>\n",
       "      <th>funded_amnt</th>\n",
       "      <th>avg_cur_bal</th>\n",
       "      <th>last_pymnt_amnt</th>\n",
       "      <th>open_acc</th>\n",
       "      <th>bc_util</th>\n",
       "      <th>mort_acc</th>\n",
       "      <th>pub_rec</th>\n",
       "      <th>debt_settlement_flag</th>\n",
       "      <th>term</th>\n",
       "      <th>installment</th>\n",
       "      <th>int_rate</th>\n",
       "      <th>delinq_2yrs</th>\n",
       "      <th>home_ownership</th>\n",
       "      <th>acc_now_delinq</th>\n",
       "      <th>loan_amnt</th>\n",
       "      <th>total_pymnt</th>\n",
       "    </tr>\n",
       "  </thead>\n",
       "  <tbody>\n",
       "    <tr>\n",
       "      <th>370638</th>\n",
       "      <td>0.625863</td>\n",
       "      <td>0.191616</td>\n",
       "      <td>0.919086</td>\n",
       "      <td>1.117442</td>\n",
       "      <td>-0.660810</td>\n",
       "      <td>0.623511</td>\n",
       "      <td>1.418398</td>\n",
       "      <td>2.196310</td>\n",
       "      <td>-0.357498</td>\n",
       "      <td>-0.158607</td>\n",
       "      <td>-0.564300</td>\n",
       "      <td>1.196052</td>\n",
       "      <td>-0.140157</td>\n",
       "      <td>0.777864</td>\n",
       "      <td>-0.997298</td>\n",
       "      <td>-0.065476</td>\n",
       "      <td>0.917657</td>\n",
       "      <td>-0.592436</td>\n",
       "    </tr>\n",
       "    <tr>\n",
       "      <th>834646</th>\n",
       "      <td>-0.230682</td>\n",
       "      <td>1.733707</td>\n",
       "      <td>1.376220</td>\n",
       "      <td>-0.556260</td>\n",
       "      <td>2.414324</td>\n",
       "      <td>0.257565</td>\n",
       "      <td>1.414773</td>\n",
       "      <td>-0.851916</td>\n",
       "      <td>1.301257</td>\n",
       "      <td>-0.158607</td>\n",
       "      <td>1.772108</td>\n",
       "      <td>1.193256</td>\n",
       "      <td>2.130593</td>\n",
       "      <td>-0.362051</td>\n",
       "      <td>0.568545</td>\n",
       "      <td>-0.065476</td>\n",
       "      <td>1.374578</td>\n",
       "      <td>1.927309</td>\n",
       "    </tr>\n",
       "    <tr>\n",
       "      <th>128350</th>\n",
       "      <td>-0.758884</td>\n",
       "      <td>0.191616</td>\n",
       "      <td>-0.705324</td>\n",
       "      <td>-0.668728</td>\n",
       "      <td>-0.058527</td>\n",
       "      <td>-1.206221</td>\n",
       "      <td>1.215400</td>\n",
       "      <td>-0.851916</td>\n",
       "      <td>-0.357498</td>\n",
       "      <td>-0.158607</td>\n",
       "      <td>-0.564300</td>\n",
       "      <td>-0.574440</td>\n",
       "      <td>0.431207</td>\n",
       "      <td>-0.362051</td>\n",
       "      <td>-0.997298</td>\n",
       "      <td>-0.065476</td>\n",
       "      <td>-0.705992</td>\n",
       "      <td>-0.500133</td>\n",
       "    </tr>\n",
       "    <tr>\n",
       "      <th>1169890</th>\n",
       "      <td>-0.329370</td>\n",
       "      <td>0.962661</td>\n",
       "      <td>0.022067</td>\n",
       "      <td>1.486131</td>\n",
       "      <td>0.698485</td>\n",
       "      <td>-0.474328</td>\n",
       "      <td>-0.477455</td>\n",
       "      <td>-0.343878</td>\n",
       "      <td>-0.357498</td>\n",
       "      <td>-0.158607</td>\n",
       "      <td>1.772108</td>\n",
       "      <td>-0.270988</td>\n",
       "      <td>0.905943</td>\n",
       "      <td>-0.362051</td>\n",
       "      <td>-0.997298</td>\n",
       "      <td>-0.065476</td>\n",
       "      <td>0.021058</td>\n",
       "      <td>0.433674</td>\n",
       "    </tr>\n",
       "    <tr>\n",
       "      <th>1074160</th>\n",
       "      <td>-0.087924</td>\n",
       "      <td>-0.579430</td>\n",
       "      <td>0.068068</td>\n",
       "      <td>-0.587673</td>\n",
       "      <td>0.793341</td>\n",
       "      <td>3.917029</td>\n",
       "      <td>0.102538</td>\n",
       "      <td>0.164160</td>\n",
       "      <td>-0.357498</td>\n",
       "      <td>-0.158607</td>\n",
       "      <td>-0.564300</td>\n",
       "      <td>0.221307</td>\n",
       "      <td>-0.333412</td>\n",
       "      <td>-0.362051</td>\n",
       "      <td>1.090493</td>\n",
       "      <td>-0.065476</td>\n",
       "      <td>0.067037</td>\n",
       "      <td>0.173751</td>\n",
       "    </tr>\n",
       "  </tbody>\n",
       "</table>\n",
       "</div>"
      ],
      "text/plain": [
       "         annual_inc     grade  funded_amnt  avg_cur_bal  last_pymnt_amnt  \\\n",
       "370638     0.625863  0.191616     0.919086     1.117442        -0.660810   \n",
       "834646    -0.230682  1.733707     1.376220    -0.556260         2.414324   \n",
       "128350    -0.758884  0.191616    -0.705324    -0.668728        -0.058527   \n",
       "1169890   -0.329370  0.962661     0.022067     1.486131         0.698485   \n",
       "1074160   -0.087924 -0.579430     0.068068    -0.587673         0.793341   \n",
       "\n",
       "         open_acc   bc_util  mort_acc   pub_rec  debt_settlement_flag  \\\n",
       "370638   0.623511  1.418398  2.196310 -0.357498             -0.158607   \n",
       "834646   0.257565  1.414773 -0.851916  1.301257             -0.158607   \n",
       "128350  -1.206221  1.215400 -0.851916 -0.357498             -0.158607   \n",
       "1169890 -0.474328 -0.477455 -0.343878 -0.357498             -0.158607   \n",
       "1074160  3.917029  0.102538  0.164160 -0.357498             -0.158607   \n",
       "\n",
       "             term  installment  int_rate  delinq_2yrs  home_ownership  \\\n",
       "370638  -0.564300     1.196052 -0.140157     0.777864       -0.997298   \n",
       "834646   1.772108     1.193256  2.130593    -0.362051        0.568545   \n",
       "128350  -0.564300    -0.574440  0.431207    -0.362051       -0.997298   \n",
       "1169890  1.772108    -0.270988  0.905943    -0.362051       -0.997298   \n",
       "1074160 -0.564300     0.221307 -0.333412    -0.362051        1.090493   \n",
       "\n",
       "         acc_now_delinq  loan_amnt  total_pymnt  \n",
       "370638        -0.065476   0.917657    -0.592436  \n",
       "834646        -0.065476   1.374578     1.927309  \n",
       "128350        -0.065476  -0.705992    -0.500133  \n",
       "1169890       -0.065476   0.021058     0.433674  \n",
       "1074160       -0.065476   0.067037     0.173751  "
      ]
     },
     "execution_count": 33,
     "metadata": {},
     "output_type": "execute_result"
    }
   ],
   "source": [
    "X_train.head()"
   ]
  },
  {
   "cell_type": "code",
   "execution_count": 34,
   "metadata": {
    "colab": {
     "base_uri": "https://localhost:8080/",
     "height": 357
    },
    "colab_type": "code",
    "id": "0Zhhpdt83UQ8",
    "outputId": "29c9ceb9-7005-423a-a423-75d93584e172"
   },
   "outputs": [
    {
     "data": {
      "text/plain": [
       "annual_inc              0\n",
       "grade                   0\n",
       "funded_amnt             0\n",
       "avg_cur_bal             0\n",
       "last_pymnt_amnt         0\n",
       "open_acc                0\n",
       "bc_util                 0\n",
       "mort_acc                0\n",
       "pub_rec                 0\n",
       "debt_settlement_flag    0\n",
       "term                    0\n",
       "installment             0\n",
       "int_rate                0\n",
       "delinq_2yrs             0\n",
       "home_ownership          0\n",
       "acc_now_delinq          0\n",
       "loan_amnt               0\n",
       "total_pymnt             0\n",
       "loan_status             0\n",
       "dtype: int64"
      ]
     },
     "execution_count": 34,
     "metadata": {},
     "output_type": "execute_result"
    }
   ],
   "source": [
    "data_clean.isnull().sum()"
   ]
  },
  {
   "cell_type": "code",
   "execution_count": 35,
   "metadata": {
    "colab": {
     "base_uri": "https://localhost:8080/",
     "height": 51
    },
    "colab_type": "code",
    "id": "3AWDrIB4CFBI",
    "outputId": "829f7027-1531-44de-ae57-95be05c20473"
   },
   "outputs": [
    {
     "name": "stdout",
     "output_type": "stream",
     "text": [
      "(1042885, 18)\n",
      "(260722, 18)\n"
     ]
    }
   ],
   "source": [
    "print(X_train.shape)\n",
    "print(X_test.shape)"
   ]
  },
  {
   "cell_type": "markdown",
   "metadata": {
    "colab_type": "text",
    "id": "7Mft7-_53URE"
   },
   "source": [
    "## 6. Models"
   ]
  },
  {
   "cell_type": "markdown",
   "metadata": {
    "colab_type": "text",
    "id": "yhziImn43URG"
   },
   "source": [
    "### 6.1 Random Forest with randomized search\n",
    "\n"
   ]
  },
  {
   "cell_type": "code",
   "execution_count": 0,
   "metadata": {
    "colab": {
     "base_uri": "https://localhost:8080/",
     "height": 153
    },
    "colab_type": "code",
    "id": "8XUEBmbf3URH",
    "outputId": "666699fe-039a-4065-cce6-d6a1f667451c"
   },
   "outputs": [
    {
     "name": "stdout",
     "output_type": "stream",
     "text": [
      "RandomForestClassifier(bootstrap=True, ccp_alpha=0.0, class_weight=None,\n",
      "                       criterion='gini', max_depth=None, max_features=9,\n",
      "                       max_leaf_nodes=None, max_samples=None,\n",
      "                       min_impurity_decrease=0.0, min_impurity_split=None,\n",
      "                       min_samples_leaf=1, min_samples_split=2,\n",
      "                       min_weight_fraction_leaf=0.0, n_estimators=100,\n",
      "                       n_jobs=None, oob_score=False, random_state=0, verbose=0,\n",
      "                       warm_start=False)\n"
     ]
    }
   ],
   "source": [
    "from sklearn.model_selection import RandomizedSearchCV\n",
    "rf = RandomForestClassifier(criterion='gini', random_state=0)\n",
    "maxFeatures = range(1,data_clean.shape[1]-1)\n",
    "param_dist = dict(max_features=maxFeatures)\n",
    "rand = RandomizedSearchCV(rf, param_dist, cv=10, scoring='accuracy', n_iter=len(maxFeatures), random_state=10)\n",
    "X=data_clean.iloc[:,:-1].values\n",
    "y=data_clean.iloc[:,-1].values\n",
    "rand.fit(X,y)\n",
    "# mean_scores = [result.mean_validation_score for result in rand.grid_scores_]\n",
    "#print('Best Accuracy = '+str(rand.best_score_))\n",
    "print(rand.best_estimator_)"
   ]
  },
  {
   "cell_type": "code",
   "execution_count": 0,
   "metadata": {
    "colab": {
     "base_uri": "https://localhost:8080/",
     "height": 34
    },
    "colab_type": "code",
    "id": "XVZTNI_C3URK",
    "outputId": "45797034-83e3-4602-8bec-277ba16656a8"
   },
   "outputs": [
    {
     "name": "stdout",
     "output_type": "stream",
     "text": [
      "0.9953436994193049\n"
     ]
    }
   ],
   "source": [
    "randomForest = RandomForestClassifier(bootstrap=True,criterion = \"gini\",max_features=rand.best_estimator_.max_features,random_state=0,n_jobs=-1 )\n",
    "rfModel = randomForest.fit(X_train,y_train)\n",
    "rfPredict = randomForest.predict(X_test)\n",
    "rfPredictproba = randomForest.predict_proba(X_test)[:,1] #for ROC curve\n",
    "rfAccuracy = accuracy_score(y_test,rfPredict)\n",
    "roc_score = metrics.roc_auc_score(y_test,rfPredict)\n",
    "print(rfAccuracy)"
   ]
  },
  {
   "cell_type": "markdown",
   "metadata": {
    "colab_type": "text",
    "id": "2yu46x9PuQ8u"
   },
   "source": [
    "### Feature Evaluation"
   ]
  },
  {
   "cell_type": "code",
   "execution_count": 0,
   "metadata": {
    "colab": {
     "base_uri": "https://localhost:8080/",
     "height": 510
    },
    "colab_type": "code",
    "id": "zQ3NpDP_uXKY",
    "outputId": "c2bb815b-2e3e-4a2d-a857-cb5576d9cdc0"
   },
   "outputs": [
    {
     "data": {
      "text/plain": [
       "Text(0, 0.5, 'Normalized Gini Importance')"
      ]
     },
     "execution_count": 38,
     "metadata": {
      "tags": []
     },
     "output_type": "execute_result"
    },
    {
     "name": "stderr",
     "output_type": "stream",
     "text": [
      "findfont: Font family ['Ricty'] not found. Falling back to DejaVu Sans.\n",
      "findfont: Font family ['Ricty'] not found. Falling back to DejaVu Sans.\n"
     ]
    },
    {
     "data": {
      "image/png": "[encoded data removed]",
      "text/plain": [
       "<Figure size 432x288 with 1 Axes>"
      ]
     },
     "metadata": {
      "tags": []
     },
     "output_type": "display_data"
    }
   ],
   "source": [
    "fig, ax = plt.subplots()\n",
    "width=0.35\n",
    "ax.bar(np.arange(len(features)-2), randomForest.feature_importances_, width, color='r')\n",
    "ax.set_xticks(np.arange(len(randomForest.feature_importances_)))\n",
    "ax.set_xticklabels(X_train.columns.values,rotation=90)\n",
    "plt.title('Feature Importance from DT')\n",
    "ax.set_ylabel('Normalized Gini Importance')"
   ]
  },
  {
   "cell_type": "code",
   "execution_count": 0,
   "metadata": {
    "colab": {
     "base_uri": "https://localhost:8080/",
     "height": 355
    },
    "colab_type": "code",
    "id": "mMtuEFRNuacN",
    "outputId": "e4068ec3-5819-4035-d9ac-39751139bf21"
   },
   "outputs": [
    {
     "data": {
      "image/png": "[encoded data removed]",
      "text/plain": [
       "<Figure size 432x288 with 1 Axes>"
      ]
     },
     "metadata": {
      "tags": []
     },
     "output_type": "display_data"
    },
    {
     "data": {
      "text/plain": [
       "<Figure size 432x432 with 0 Axes>"
      ]
     },
     "execution_count": 39,
     "metadata": {
      "tags": []
     },
     "output_type": "execute_result"
    },
    {
     "data": {
      "text/plain": [
       "<Figure size 432x432 with 0 Axes>"
      ]
     },
     "metadata": {
      "tags": []
     },
     "output_type": "display_data"
    }
   ],
   "source": [
    "plotAUC(y_test,rfPredictproba, 'Random Forest')\n",
    "plt.show()\n",
    "plt.figure(figsize=(6,6))"
   ]
  },
  {
   "cell_type": "code",
   "execution_count": 0,
   "metadata": {
    "colab": {
     "base_uri": "https://localhost:8080/",
     "height": 727
    },
    "colab_type": "code",
    "id": "R5MhPhAAvU3N",
    "outputId": "4c28f388-7053-4bcc-897d-713b89e3966f"
   },
   "outputs": [
    {
     "name": "stdout",
     "output_type": "stream",
     "text": [
      "Confusion matrix, without normalization\n",
      "[[207823    278]\n",
      " [   936  51685]]\n",
      "Normalized confusion matrix\n",
      "[[0.99866411 0.00133589]\n",
      " [0.01778758 0.98221242]]\n"
     ]
    },
    {
     "data": {
      "image/png": "[encoded data removed]",
      "text/plain": [
       "<Figure size 432x288 with 2 Axes>"
      ]
     },
     "metadata": {
      "tags": []
     },
     "output_type": "display_data"
    },
    {
     "data": {
      "image/png": "[encoded data removed]",
      "text/plain": [
       "<Figure size 432x288 with 2 Axes>"
      ]
     },
     "metadata": {
      "tags": []
     },
     "output_type": "display_data"
    }
   ],
   "source": [
    "titles_options = [(\"Confusion matrix, without normalization\", None),\n",
    "                  (\"Normalized confusion matrix\", 'true')]\n",
    "class_names =[\"Will Pay\", \"Will Default\"]\n",
    "for title, normalize in titles_options:\n",
    "    disp = plot_confusion_matrix(rfModel, X_test, y_test,\n",
    "                                  display_labels=class_names,\n",
    "                                 cmap=plt.cm.Blues,\n",
    "                                 normalize=normalize)\n",
    "    disp.ax_.set_title(title)\n",
    "\n",
    "    print(title)\n",
    "    print(disp.confusion_matrix)\n",
    "\n",
    "plt.show()"
   ]
  },
  {
   "cell_type": "markdown",
   "metadata": {
    "colab_type": "text",
    "id": "KH6gCfCmBVAp"
   },
   "source": [
    "### 6.2 k-NN Model"
   ]
  },
  {
   "cell_type": "markdown",
   "metadata": {
    "colab_type": "text",
    "id": "a329jlyrI_YI"
   },
   "source": [
    "#### a) Tune Hyperparameter"
   ]
  },
  {
   "cell_type": "code",
   "execution_count": 36,
   "metadata": {
    "colab": {
     "base_uri": "https://localhost:8080/",
     "height": 51
    },
    "colab_type": "code",
    "id": "Pd_auV_uBI2n",
    "outputId": "dedb451c-5b93-4ccb-e8d5-d39f03329f4c"
   },
   "outputs": [
    {
     "name": "stdout",
     "output_type": "stream",
     "text": [
      "a =  5214.425\n",
      "b =  1303.6100000000001\n"
     ]
    }
   ],
   "source": [
    "a_train = 1042885*0.005\n",
    "b_train = 260722*0.005\n",
    "print(\"a = \", a_train)\n",
    "print(\"b = \", b_train)"
   ]
  },
  {
   "cell_type": "code",
   "execution_count": 37,
   "metadata": {
    "colab": {},
    "colab_type": "code",
    "id": "AST73ZBUB4ez"
   },
   "outputs": [],
   "source": [
    "knn_X_train = X_train.copy()\n",
    "knn_X_test = X_test.copy()\n",
    "knn_y_train = y_train.copy()\n",
    "knn_y_test = y_test.copy()"
   ]
  },
  {
   "cell_type": "code",
   "execution_count": 38,
   "metadata": {
    "colab": {
     "base_uri": "https://localhost:8080/",
     "height": 34
    },
    "colab_type": "code",
    "id": "oR2kJmV0BcsX",
    "outputId": "de441685-1205-4ddd-812a-c4a2ef8460ca"
   },
   "outputs": [
    {
     "name": "stdout",
     "output_type": "stream",
     "text": [
      "(5214, 18) (1303, 18) (5214,) (1303,)\n"
     ]
    }
   ],
   "source": [
    "# a smaller data set for hyperparameter tuning\n",
    "knn_X_train_s = X_train.sample(n=5214, random_state=1)\n",
    "knn_X_test_s = X_test.sample(n=1303, random_state=1)\n",
    "knn_y_train_s = y_train.sample(n=5214, random_state=1)\n",
    "knn_y_test_s = y_test.sample(n=1303, random_state=1)\n",
    "\n",
    "print(knn_X_train_s.shape, knn_X_test_s.shape, \n",
    "      knn_y_train_s.shape, knn_y_test_s.shape)"
   ]
  },
  {
   "cell_type": "code",
   "execution_count": 39,
   "metadata": {
    "colab": {
     "base_uri": "https://localhost:8080/",
     "height": 335
    },
    "colab_type": "code",
    "id": "kQZAx6iaDNRI",
    "outputId": "86fcead6-e3ac-4cce-c8c9-2593afc7e125"
   },
   "outputs": [
    {
     "data": {
      "text/plain": [
       "<matplotlib.legend.Legend at 0x1a24fc7d68>"
      ]
     },
     "execution_count": 39,
     "metadata": {},
     "output_type": "execute_result"
    },
    {
     "name": "stderr",
     "output_type": "stream",
     "text": [
      "findfont: Font family ['Ricty'] not found. Falling back to DejaVu Sans.\n",
      "findfont: Font family ['Ricty'] not found. Falling back to DejaVu Sans.\n"
     ]
    },
    {
     "data": {
      "image/png": "[encoded data removed]",
      "text/plain": [
       "<Figure size 432x288 with 1 Axes>"
      ]
     },
     "metadata": {},
     "output_type": "display_data"
    }
   ],
   "source": [
    "# Hyperparameter tuning\n",
    "# Determining the optimal value of k for k-NN on the loan dataset\n",
    "\n",
    "num_neighs = []\n",
    "knn_training_accuracy_s = [] \n",
    "knn_test_accuracy_s = []\n",
    "difference = []\n",
    "\n",
    "# try n_neighbors from 1 to 20 \n",
    "neighbors_settings = range(1, 21)\n",
    "\n",
    "for n_neighbors in neighbors_settings:\n",
    "  # build the model\n",
    "  knn_model = KNeighborsClassifier(n_neighbors=n_neighbors) \n",
    "  knn_model.fit(knn_X_train_s, knn_y_train_s)\n",
    "  # record n_neighbors\n",
    "  num_neighs.append(n_neighbors)\n",
    "  # record training set accuracy \n",
    "  knn_training_accuracy_s.append(knn_model.score(knn_X_train_s, knn_y_train_s)) \n",
    "  # record testing set accuracy \n",
    "  knn_test_accuracy_s.append(knn_model.score(knn_X_test_s, knn_y_test_s))\n",
    "  # calculate the  difference\n",
    "  d = knn_model.score(knn_X_train_s, knn_y_train_s) - knn_model.score(knn_X_test_s, knn_y_test_s)\n",
    "  difference.append(d)\n",
    "\n",
    "plt.plot(neighbors_settings, knn_training_accuracy_s, label=\"training accuracy\") \n",
    "plt.plot(neighbors_settings, knn_test_accuracy_s, label=\"test accuracy\") \n",
    "plt.ylabel(\"Accuracy\")\n",
    "plt.xlabel(\"n_neighbors\")\n",
    "plt.legend()"
   ]
  },
  {
   "cell_type": "code",
   "execution_count": 40,
   "metadata": {
    "colab": {
     "base_uri": "https://localhost:8080/",
     "height": 669
    },
    "colab_type": "code",
    "id": "tmgFYOq5IFZy",
    "outputId": "505e7288-a73a-4b0f-f90a-be39b9719384"
   },
   "outputs": [
    {
     "data": {
      "text/html": [
       "<div>\n",
       "<style scoped>\n",
       "    .dataframe tbody tr th:only-of-type {\n",
       "        vertical-align: middle;\n",
       "    }\n",
       "\n",
       "    .dataframe tbody tr th {\n",
       "        vertical-align: top;\n",
       "    }\n",
       "\n",
       "    .dataframe thead th {\n",
       "        text-align: right;\n",
       "    }\n",
       "</style>\n",
       "<table border=\"1\" class=\"dataframe\">\n",
       "  <thead>\n",
       "    <tr style=\"text-align: right;\">\n",
       "      <th></th>\n",
       "      <th>Num of neighbors</th>\n",
       "      <th>Training set accuracy Score</th>\n",
       "      <th>Testing set accuracy Score</th>\n",
       "      <th>Difference</th>\n",
       "    </tr>\n",
       "  </thead>\n",
       "  <tbody>\n",
       "    <tr>\n",
       "      <th>0</th>\n",
       "      <td>1</td>\n",
       "      <td>1.000000</td>\n",
       "      <td>0.884881</td>\n",
       "      <td>0.115119</td>\n",
       "    </tr>\n",
       "    <tr>\n",
       "      <th>1</th>\n",
       "      <td>2</td>\n",
       "      <td>0.935366</td>\n",
       "      <td>0.891788</td>\n",
       "      <td>0.043578</td>\n",
       "    </tr>\n",
       "    <tr>\n",
       "      <th>2</th>\n",
       "      <td>3</td>\n",
       "      <td>0.947066</td>\n",
       "      <td>0.908672</td>\n",
       "      <td>0.038393</td>\n",
       "    </tr>\n",
       "    <tr>\n",
       "      <th>3</th>\n",
       "      <td>4</td>\n",
       "      <td>0.925585</td>\n",
       "      <td>0.896393</td>\n",
       "      <td>0.029192</td>\n",
       "    </tr>\n",
       "    <tr>\n",
       "      <th>4</th>\n",
       "      <td>5</td>\n",
       "      <td>0.935942</td>\n",
       "      <td>0.910975</td>\n",
       "      <td>0.024967</td>\n",
       "    </tr>\n",
       "    <tr>\n",
       "      <th>5</th>\n",
       "      <td>6</td>\n",
       "      <td>0.922900</td>\n",
       "      <td>0.897928</td>\n",
       "      <td>0.024972</td>\n",
       "    </tr>\n",
       "    <tr>\n",
       "      <th>6</th>\n",
       "      <td>7</td>\n",
       "      <td>0.928845</td>\n",
       "      <td>0.908672</td>\n",
       "      <td>0.020173</td>\n",
       "    </tr>\n",
       "    <tr>\n",
       "      <th>7</th>\n",
       "      <td>8</td>\n",
       "      <td>0.919064</td>\n",
       "      <td>0.900230</td>\n",
       "      <td>0.018834</td>\n",
       "    </tr>\n",
       "    <tr>\n",
       "      <th>8</th>\n",
       "      <td>9</td>\n",
       "      <td>0.924434</td>\n",
       "      <td>0.902533</td>\n",
       "      <td>0.021902</td>\n",
       "    </tr>\n",
       "    <tr>\n",
       "      <th>9</th>\n",
       "      <td>10</td>\n",
       "      <td>0.914845</td>\n",
       "      <td>0.901765</td>\n",
       "      <td>0.013079</td>\n",
       "    </tr>\n",
       "    <tr>\n",
       "      <th>10</th>\n",
       "      <td>11</td>\n",
       "      <td>0.918297</td>\n",
       "      <td>0.905602</td>\n",
       "      <td>0.012694</td>\n",
       "    </tr>\n",
       "    <tr>\n",
       "      <th>11</th>\n",
       "      <td>12</td>\n",
       "      <td>0.910817</td>\n",
       "      <td>0.898695</td>\n",
       "      <td>0.012122</td>\n",
       "    </tr>\n",
       "    <tr>\n",
       "      <th>12</th>\n",
       "      <td>13</td>\n",
       "      <td>0.913886</td>\n",
       "      <td>0.899463</td>\n",
       "      <td>0.014423</td>\n",
       "    </tr>\n",
       "    <tr>\n",
       "      <th>13</th>\n",
       "      <td>14</td>\n",
       "      <td>0.906598</td>\n",
       "      <td>0.896393</td>\n",
       "      <td>0.010205</td>\n",
       "    </tr>\n",
       "    <tr>\n",
       "      <th>14</th>\n",
       "      <td>15</td>\n",
       "      <td>0.909858</td>\n",
       "      <td>0.898695</td>\n",
       "      <td>0.011163</td>\n",
       "    </tr>\n",
       "    <tr>\n",
       "      <th>15</th>\n",
       "      <td>16</td>\n",
       "      <td>0.906598</td>\n",
       "      <td>0.895625</td>\n",
       "      <td>0.010972</td>\n",
       "    </tr>\n",
       "    <tr>\n",
       "      <th>16</th>\n",
       "      <td>17</td>\n",
       "      <td>0.908899</td>\n",
       "      <td>0.894091</td>\n",
       "      <td>0.014809</td>\n",
       "    </tr>\n",
       "    <tr>\n",
       "      <th>17</th>\n",
       "      <td>18</td>\n",
       "      <td>0.904104</td>\n",
       "      <td>0.892556</td>\n",
       "      <td>0.011549</td>\n",
       "    </tr>\n",
       "    <tr>\n",
       "      <th>18</th>\n",
       "      <td>19</td>\n",
       "      <td>0.906406</td>\n",
       "      <td>0.894858</td>\n",
       "      <td>0.011548</td>\n",
       "    </tr>\n",
       "    <tr>\n",
       "      <th>19</th>\n",
       "      <td>20</td>\n",
       "      <td>0.902762</td>\n",
       "      <td>0.887951</td>\n",
       "      <td>0.014811</td>\n",
       "    </tr>\n",
       "  </tbody>\n",
       "</table>\n",
       "</div>"
      ],
      "text/plain": [
       "    Num of neighbors  Training set accuracy Score  Testing set accuracy Score  \\\n",
       "0                  1                     1.000000                    0.884881   \n",
       "1                  2                     0.935366                    0.891788   \n",
       "2                  3                     0.947066                    0.908672   \n",
       "3                  4                     0.925585                    0.896393   \n",
       "4                  5                     0.935942                    0.910975   \n",
       "5                  6                     0.922900                    0.897928   \n",
       "6                  7                     0.928845                    0.908672   \n",
       "7                  8                     0.919064                    0.900230   \n",
       "8                  9                     0.924434                    0.902533   \n",
       "9                 10                     0.914845                    0.901765   \n",
       "10                11                     0.918297                    0.905602   \n",
       "11                12                     0.910817                    0.898695   \n",
       "12                13                     0.913886                    0.899463   \n",
       "13                14                     0.906598                    0.896393   \n",
       "14                15                     0.909858                    0.898695   \n",
       "15                16                     0.906598                    0.895625   \n",
       "16                17                     0.908899                    0.894091   \n",
       "17                18                     0.904104                    0.892556   \n",
       "18                19                     0.906406                    0.894858   \n",
       "19                20                     0.902762                    0.887951   \n",
       "\n",
       "    Difference   \n",
       "0      0.115119  \n",
       "1      0.043578  \n",
       "2      0.038393  \n",
       "3      0.029192  \n",
       "4      0.024967  \n",
       "5      0.024972  \n",
       "6      0.020173  \n",
       "7      0.018834  \n",
       "8      0.021902  \n",
       "9      0.013079  \n",
       "10     0.012694  \n",
       "11     0.012122  \n",
       "12     0.014423  \n",
       "13     0.010205  \n",
       "14     0.011163  \n",
       "15     0.010972  \n",
       "16     0.014809  \n",
       "17     0.011549  \n",
       "18     0.011548  \n",
       "19     0.014811  "
      ]
     },
     "execution_count": 40,
     "metadata": {},
     "output_type": "execute_result"
    }
   ],
   "source": [
    "'''Print it out as a table'''\n",
    "knn_accuracy_df =  pd.DataFrame({\"Num of neighbors\": num_neighs,\n",
    "                             \"Training set accuracy Score\": knn_training_accuracy_s, \n",
    "                             \"Testing set accuracy Score\": knn_test_accuracy_s,\n",
    "                             \"Difference \": difference})  #\"Testingt set accuracy Score\": knn_test_accuracy,\n",
    "knn_accuracy_df\n"
   ]
  },
  {
   "cell_type": "code",
   "execution_count": 41,
   "metadata": {
    "colab": {
     "base_uri": "https://localhost:8080/",
     "height": 341
    },
    "colab_type": "code",
    "id": "ghXUn6HbHgR0",
    "outputId": "10fd7a4a-19a6-4e1d-925e-3586c9e91ad0"
   },
   "outputs": [
    {
     "name": "stderr",
     "output_type": "stream",
     "text": [
      "No handles with labels found to put in legend.\n"
     ]
    },
    {
     "data": {
      "text/plain": [
       "<matplotlib.legend.Legend at 0x1a1e245be0>"
      ]
     },
     "execution_count": 41,
     "metadata": {},
     "output_type": "execute_result"
    },
    {
     "data": {
      "image/png": "[encoded data removed]",
      "text/plain": [
       "<Figure size 432x288 with 1 Axes>"
      ]
     },
     "metadata": {},
     "output_type": "display_data"
    }
   ],
   "source": [
    "plt.plot(neighbors_settings, difference)\n",
    "plt.ylabel(\"Difference\")\n",
    "plt.xlabel(\"n_neighbors\")\n",
    "plt.legend()"
   ]
  },
  {
   "cell_type": "markdown",
   "metadata": {
    "colab_type": "text",
    "id": "rVb7mUijIQ_h"
   },
   "source": [
    "k = 14 seems to be the best performance. We will use this value to train our final model.\n",
    "\n"
   ]
  },
  {
   "cell_type": "markdown",
   "metadata": {
    "colab_type": "text",
    "id": "q_gFpQThJJ8z"
   },
   "source": [
    "#### b) Creating Final Model"
   ]
  },
  {
   "cell_type": "code",
   "execution_count": 42,
   "metadata": {
    "colab": {},
    "colab_type": "code",
    "id": "N-sO67IGJJXa"
   },
   "outputs": [],
   "source": [
    "# Create new k-NN model with the k=10 on training dataset\n",
    "final_knn_model = KNeighborsClassifier(n_neighbors = 14,weights = 'uniform')"
   ]
  },
  {
   "cell_type": "code",
   "execution_count": 43,
   "metadata": {
    "colab": {},
    "colab_type": "code",
    "id": "rT-q2_zYILqD"
   },
   "outputs": [
    {
     "data": {
      "text/plain": [
       "KNeighborsClassifier(algorithm='auto', leaf_size=30, metric='minkowski',\n",
       "                     metric_params=None, n_jobs=None, n_neighbors=14, p=2,\n",
       "                     weights='uniform')"
      ]
     },
     "execution_count": 43,
     "metadata": {},
     "output_type": "execute_result"
    }
   ],
   "source": [
    "# Fit the model with training set\n",
    "final_knn_model.fit(knn_X_train,knn_y_train)"
   ]
  },
  {
   "cell_type": "markdown",
   "metadata": {
    "colab_type": "text",
    "id": "pE4wvj_MJfOt"
   },
   "source": [
    "#### c) Predict on the test set"
   ]
  },
  {
   "cell_type": "code",
   "execution_count": 44,
   "metadata": {
    "colab": {},
    "colab_type": "code",
    "id": "mwVDyUCwJcrq"
   },
   "outputs": [
    {
     "name": "stdout",
     "output_type": "stream",
     "text": [
      "Test set predictions:  [0 1 0 ... 1 0 0]\n"
     ]
    }
   ],
   "source": [
    "knn_final_y_pred = final_knn_model.predict(knn_X_test)\n",
    "print(\"Test set predictions: \", knn_final_y_pred)"
   ]
  },
  {
   "cell_type": "markdown",
   "metadata": {
    "colab_type": "text",
    "id": "zY1caTe8J_90"
   },
   "source": [
    "#### d) Evaluting the k-NN Model"
   ]
  },
  {
   "cell_type": "code",
   "execution_count": 45,
   "metadata": {
    "colab": {},
    "colab_type": "code",
    "id": "c8YNkYRCKCy9"
   },
   "outputs": [
    {
     "name": "stdout",
     "output_type": "stream",
     "text": [
      "Test set accuracy: 0.95\n"
     ]
    }
   ],
   "source": [
    "# Elvaluate k-NN model\n",
    "print(\"Test set accuracy: {:.2f}\".format(final_knn_model.score(knn_X_test, knn_y_test)))"
   ]
  },
  {
   "cell_type": "markdown",
   "metadata": {
    "colab_type": "text",
    "id": "tUq8IdEhKdv7"
   },
   "source": [
    "Our k-NN model is about 95% accurate, meaning the model predicted the correctly for 95% of the samples in the test dataset."
   ]
  },
  {
   "cell_type": "code",
   "execution_count": 47,
   "metadata": {},
   "outputs": [],
   "source": [
    "from sklearn.metrics import confusion_matrix, classification_report, roc_curve,roc_auc_score"
   ]
  },
  {
   "cell_type": "code",
   "execution_count": 48,
   "metadata": {},
   "outputs": [
    {
     "data": {
      "text/html": [
       "<div>\n",
       "<style scoped>\n",
       "    .dataframe tbody tr th:only-of-type {\n",
       "        vertical-align: middle;\n",
       "    }\n",
       "\n",
       "    .dataframe tbody tr th {\n",
       "        vertical-align: top;\n",
       "    }\n",
       "\n",
       "    .dataframe thead th {\n",
       "        text-align: right;\n",
       "    }\n",
       "</style>\n",
       "<table border=\"1\" class=\"dataframe\">\n",
       "  <thead>\n",
       "    <tr style=\"text-align: right;\">\n",
       "      <th></th>\n",
       "      <th>Bad Loan</th>\n",
       "      <th>Good Loan</th>\n",
       "    </tr>\n",
       "  </thead>\n",
       "  <tbody>\n",
       "    <tr>\n",
       "      <th>Bad Loan</th>\n",
       "      <td>207513</td>\n",
       "      <td>12567</td>\n",
       "    </tr>\n",
       "    <tr>\n",
       "      <th>Good Loan</th>\n",
       "      <td>588</td>\n",
       "      <td>40054</td>\n",
       "    </tr>\n",
       "  </tbody>\n",
       "</table>\n",
       "</div>"
      ],
      "text/plain": [
       "           Bad Loan  Good Loan\n",
       "Bad Loan     207513      12567\n",
       "Good Loan       588      40054"
      ]
     },
     "execution_count": 48,
     "metadata": {},
     "output_type": "execute_result"
    }
   ],
   "source": [
    "# Confusion Matrix\n",
    "\n",
    "knn_c_mat = confusion_matrix(knn_y_test,knn_final_y_pred)\n",
    "knn_c_mat_df = pd.DataFrame(knn_c_mat)\n",
    "knn_c_mat_df.head(2)\n",
    "\n",
    "knn_c_mat_df.columns = [\"Bad Loan\",\"Good Loan\"]\n",
    "knn_c_mat_df.index = [\"Bad Loan\",\"Good Loan\"]\n",
    "knn_c_mat_df = knn_c_mat_df.T\n",
    "knn_c_mat_df"
   ]
  },
  {
   "cell_type": "code",
   "execution_count": 49,
   "metadata": {},
   "outputs": [
    {
     "data": {
      "text/plain": [
       "Text(40.49999999999999, 0.5, 'Predicted')"
      ]
     },
     "execution_count": 49,
     "metadata": {},
     "output_type": "execute_result"
    },
    {
     "data": {
      "image/png": "[encoded data removed]",
      "text/plain": [
       "<Figure size 576x432 with 2 Axes>"
      ]
     },
     "metadata": {},
     "output_type": "display_data"
    }
   ],
   "source": [
    "# Make a heatmap of the confusion matrix with seaborn\n",
    "\n",
    "plt.figure(figsize = (8,6))\n",
    "sns.heatmap(knn_c_mat_df,annot = True,fmt = 'g')\n",
    "plt.xlabel(\"Actual\")\n",
    "plt.ylabel(\"Predicted\")"
   ]
  },
  {
   "cell_type": "code",
   "execution_count": 50,
   "metadata": {
    "colab": {},
    "colab_type": "code",
    "id": "NJSRCtVjKgFO"
   },
   "outputs": [
    {
     "name": "stdout",
     "output_type": "stream",
     "text": [
      "              precision    recall  f1-score   support\n",
      "\n",
      "           0       0.94      1.00      0.97    208101\n",
      "           1       0.99      0.76      0.86     52621\n",
      "\n",
      "    accuracy                           0.95    260722\n",
      "   macro avg       0.96      0.88      0.91    260722\n",
      "weighted avg       0.95      0.95      0.95    260722\n",
      "\n"
     ]
    }
   ],
   "source": [
    "# Caculate Precision, Recall(Sensitivity) and F1 score\n",
    "\n",
    "knn_scores = classification_report(knn_y_test,knn_final_y_pred)\n",
    "print(knn_scores)"
   ]
  },
  {
   "cell_type": "code",
   "execution_count": 61,
   "metadata": {},
   "outputs": [
    {
     "data": {
      "image/png": "[encoded data removed]",
      "text/plain": [
       "<Figure size 432x288 with 1 Axes>"
      ]
     },
     "metadata": {},
     "output_type": "display_data"
    }
   ],
   "source": [
    "# Receiver Operating Characteristic (ROC) and Area Under the Curve (AUC)\n",
    "\n",
    "knn_rec, knn_fall_out, knn_thresholds = roc_curve(knn_y_test,knn_final_y_pred)\n",
    "\n",
    "plt.plot([0,1],[0,1],'k--')\n",
    "plt.plot(knn_rec,knn_fall_out, label='Knn')\n",
    "plt.xlabel('Fall out')\n",
    "plt.ylabel('Recall/Sensitivity')\n",
    "plt.title('Knn(n_neighbors=14) ROC curve')\n",
    "plt.show()"
   ]
  },
  {
   "cell_type": "code",
   "execution_count": 52,
   "metadata": {},
   "outputs": [
    {
     "data": {
      "text/plain": [
       "0.8791767229619284"
      ]
     },
     "execution_count": 52,
     "metadata": {},
     "output_type": "execute_result"
    }
   ],
   "source": [
    "#Area under ROC curve\n",
    "roc_auc_score(knn_y_test, knn_final_y_pred)"
   ]
  },
  {
   "cell_type": "markdown",
   "metadata": {},
   "source": [
    "The AUC score is 0.879 means most of positive points have a higher score than negative points and the model obtain great predictions."
   ]
  }
 ],
 "metadata": {
  "colab": {
   "collapsed_sections": [],
   "name": "Final Loan Shark - Rahil, Qilu ",
   "provenance": []
  },
  "kernelspec": {
   "display_name": "Python 3",
   "language": "python",
   "name": "python3"
  },
  "language_info": {
   "codemirror_mode": {
    "name": "ipython",
    "version": 3
   },
   "file_extension": ".py",
   "mimetype": "text/x-python",
   "name": "python",
   "nbconvert_exporter": "python",
   "pygments_lexer": "ipython3",
   "version": "3.7.3"
  },
  "pycharm": {
   "stem_cell": {
    "cell_type": "raw",
    "metadata": {
     "collapsed": false
    },
    "source": []
   }
  }
 },
 "nbformat": 4,
 "nbformat_minor": 1
}
