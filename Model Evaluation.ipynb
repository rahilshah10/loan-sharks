{
  "nbformat": 4,
  "nbformat_minor": 0,
  "metadata": {
    "kernelspec": {
      "name": "python3",
      "display_name": "Python 3"
    },
    "language_info": {
      "codemirror_mode": {
        "name": "ipython",
        "version": 3
      },
      "file_extension": ".py",
      "mimetype": "text/x-python",
      "name": "python",
      "nbconvert_exporter": "python",
      "pygments_lexer": "ipython3",
      "version": "3.7.3"
    },
    "pycharm": {
      "stem_cell": {
        "cell_type": "raw",
        "metadata": {
          "collapsed": false
        },
        "source": []
      }
    },
    "colab": {
      "name": "Data Preprocessing and Cleaning.ipynb",
      "provenance": [],
      "toc_visible": true,
      "include_colab_link": true
    },
    "accelerator": "GPU"
  },
  "cells": [
    {
      "cell_type": "markdown",
      "metadata": {
        "id": "view-in-github",
        "colab_type": "text"
      },
      "source": [
        "<a href=\"https://colab.research.google.com/github/rahilshah10/loan-sharks/blob/master/Model%20Evaluation.ipynb\" target=\"_parent\"><img src=\"https://colab.research.google.com/assets/colab-badge.svg\" alt=\"Open In Colab\"/></a>"
      ]
    },
    {
      "cell_type": "markdown",
      "metadata": {
        "id": "MSLcAZfC3UO8",
        "colab_type": "text"
      },
      "source": [
        "### 2. Importing the Data"
      ]
    },
    {
      "cell_type": "code",
      "metadata": {
        "pycharm": {
          "is_executing": false
        },
        "id": "QIUKNWNb3UO_",
        "colab_type": "code",
        "colab": {}
      },
      "source": [
        "# Having all the necessary libaries for \n",
        "import pandas as pd\n",
        "import numpy as np\n",
        "import matplotlib.pyplot as plt\n",
        "import matplotlib as mpl\n",
        "import seaborn as sns\n",
        "sns.set_style('whitegrid')\n",
        "import warnings\n",
        "import gc\n",
        "from sklearn import preprocessing,metrics \n",
        "warnings.simplefilter(action='ignore', category=FutureWarning)\n",
        "warnings.simplefilter(action='ignore', category=DeprecationWarning)\n",
        "from sklearn.model_selection import train_test_split\n",
        "from sklearn.ensemble import RandomForestClassifier\n",
        "from sklearn.neighbors import KNeighborsClassifier\n",
        "from sklearn.metrics import accuracy_score\n",
        "from sklearn import linear_model,svm\n",
        "from sklearn.metrics import average_precision_score\n",
        "from sklearn.metrics import precision_recall_curve\n",
        "\n",
        "# Pandas options\n",
        "pd.set_option('display.max_colwidth', 1000, 'display.max_rows', None, 'display.max_columns', None)\n",
        "\n",
        "# Plotting options\n",
        "%matplotlib inline\n",
        "mpl.style.use('ggplot')\n",
        "sns.set(style='whitegrid')"
      ],
      "execution_count": 0,
      "outputs": []
    },
    {
      "cell_type": "markdown",
      "metadata": {
        "id": "g1MT2UG-3UPD",
        "colab_type": "text"
      },
      "source": [
        "Read the data into a pandas dataframe"
      ]
    },
    {
      "cell_type": "code",
      "metadata": {
        "id": "5WHP8kYB4TMu",
        "colab_type": "code",
        "outputId": "da05a3a8-0b05-4ae7-bbeb-ff481b8a9596",
        "colab": {
          "base_uri": "https://localhost:8080/",
          "height": 125
        }
      },
      "source": [
        "from google.colab import drive\n",
        "drive.mount('/content/gdrive')"
      ],
      "execution_count": 2,
      "outputs": [
        {
          "output_type": "stream",
          "text": [
            "Go to this URL in a browser: https://accounts.google.com/o/oauth2/auth?client_id=947318989803-6bn6qk8qdgf4n4g3pfee6491hc0brc4i.apps.googleusercontent.com&redirect_uri=urn%3aietf%3awg%3aoauth%3a2.0%3aoob&response_type=code&scope=email%20https%3a%2f%2fwww.googleapis.com%2fauth%2fdocs.test%20https%3a%2f%2fwww.googleapis.com%2fauth%2fdrive%20https%3a%2f%2fwww.googleapis.com%2fauth%2fdrive.photos.readonly%20https%3a%2f%2fwww.googleapis.com%2fauth%2fpeopleapi.readonly\n",
            "\n",
            "Enter your authorization code:\n",
            "··········\n",
            "Mounted at /content/gdrive\n"
          ],
          "name": "stdout"
        }
      ]
    },
    {
      "cell_type": "code",
      "metadata": {
        "id": "SYo86t_R4cWW",
        "colab_type": "code",
        "outputId": "5a153280-d615-4143-d11c-cf3775cfe6fc",
        "colab": {
          "base_uri": "https://localhost:8080/",
          "height": 35
        }
      },
      "source": [
        "!ls \"/content/gdrive/My Drive/Colab/loan.csv\""
      ],
      "execution_count": 3,
      "outputs": [
        {
          "output_type": "stream",
          "text": [
            "'/content/gdrive/My Drive/Colab/loan.csv'\n"
          ],
          "name": "stdout"
        }
      ]
    },
    {
      "cell_type": "code",
      "metadata": {
        "pycharm": {
          "is_executing": false
        },
        "id": "LOHyL2q73UPE",
        "colab_type": "code",
        "colab": {}
      },
      "source": [
        "start_df = pd.read_csv('/content/gdrive/My Drive/Colab/loan.csv', low_memory=False)"
      ],
      "execution_count": 0,
      "outputs": []
    },
    {
      "cell_type": "markdown",
      "metadata": {
        "id": "dk04nOKJ3UPH",
        "colab_type": "text"
      },
      "source": [
        "Check the basic dataframe info"
      ]
    },
    {
      "cell_type": "code",
      "metadata": {
        "pycharm": {
          "is_executing": false
        },
        "id": "NGxv51Op3UPH",
        "colab_type": "code",
        "outputId": "5eec0662-7b71-413b-f07c-4c126902dcc5",
        "colab": {
          "base_uri": "https://localhost:8080/",
          "height": 105
        }
      },
      "source": [
        "df = start_df.copy(deep=True)\n",
        "df.info()"
      ],
      "execution_count": 5,
      "outputs": [
        {
          "output_type": "stream",
          "text": [
            "<class 'pandas.core.frame.DataFrame'>\n",
            "RangeIndex: 2260668 entries, 0 to 2260667\n",
            "Columns: 145 entries, id to settlement_term\n",
            "dtypes: float64(105), int64(4), object(36)\n",
            "memory usage: 2.4+ GB\n"
          ],
          "name": "stdout"
        }
      ]
    },
    {
      "cell_type": "markdown",
      "metadata": {
        "id": "Hgg2f_Ll3UPL",
        "colab_type": "text"
      },
      "source": [
        "There are 2.2 million rows and 145 columns. The data set is about 2.4GB.\n",
        "\n",
        "Let's take a look at the first 5 rows to see what we are getting into."
      ]
    },
    {
      "cell_type": "code",
      "metadata": {
        "scrolled": true,
        "id": "uKB9JH-83UPM",
        "colab_type": "code",
        "outputId": "3ffbe8c4-f304-428e-f679-fe4c19033445",
        "colab": {
          "base_uri": "https://localhost:8080/",
          "height": 309
        }
      },
      "source": [
        "df.head(5)"
      ],
      "execution_count": 6,
      "outputs": [
        {
          "output_type": "execute_result",
          "data": {
            "text/html": [
              "<div>\n",
              "<style scoped>\n",
              "    .dataframe tbody tr th:only-of-type {\n",
              "        vertical-align: middle;\n",
              "    }\n",
              "\n",
              "    .dataframe tbody tr th {\n",
              "        vertical-align: top;\n",
              "    }\n",
              "\n",
              "    .dataframe thead th {\n",
              "        text-align: right;\n",
              "    }\n",
              "</style>\n",
              "<table border=\"1\" class=\"dataframe\">\n",
              "  <thead>\n",
              "    <tr style=\"text-align: right;\">\n",
              "      <th></th>\n",
              "      <th>id</th>\n",
              "      <th>member_id</th>\n",
              "      <th>loan_amnt</th>\n",
              "      <th>funded_amnt</th>\n",
              "      <th>funded_amnt_inv</th>\n",
              "      <th>term</th>\n",
              "      <th>int_rate</th>\n",
              "      <th>installment</th>\n",
              "      <th>grade</th>\n",
              "      <th>sub_grade</th>\n",
              "      <th>emp_title</th>\n",
              "      <th>emp_length</th>\n",
              "      <th>home_ownership</th>\n",
              "      <th>annual_inc</th>\n",
              "      <th>verification_status</th>\n",
              "      <th>issue_d</th>\n",
              "      <th>loan_status</th>\n",
              "      <th>pymnt_plan</th>\n",
              "      <th>url</th>\n",
              "      <th>desc</th>\n",
              "      <th>purpose</th>\n",
              "      <th>title</th>\n",
              "      <th>zip_code</th>\n",
              "      <th>addr_state</th>\n",
              "      <th>dti</th>\n",
              "      <th>delinq_2yrs</th>\n",
              "      <th>earliest_cr_line</th>\n",
              "      <th>inq_last_6mths</th>\n",
              "      <th>mths_since_last_delinq</th>\n",
              "      <th>mths_since_last_record</th>\n",
              "      <th>open_acc</th>\n",
              "      <th>pub_rec</th>\n",
              "      <th>revol_bal</th>\n",
              "      <th>revol_util</th>\n",
              "      <th>total_acc</th>\n",
              "      <th>initial_list_status</th>\n",
              "      <th>out_prncp</th>\n",
              "      <th>out_prncp_inv</th>\n",
              "      <th>total_pymnt</th>\n",
              "      <th>total_pymnt_inv</th>\n",
              "      <th>total_rec_prncp</th>\n",
              "      <th>total_rec_int</th>\n",
              "      <th>total_rec_late_fee</th>\n",
              "      <th>recoveries</th>\n",
              "      <th>collection_recovery_fee</th>\n",
              "      <th>last_pymnt_d</th>\n",
              "      <th>last_pymnt_amnt</th>\n",
              "      <th>next_pymnt_d</th>\n",
              "      <th>last_credit_pull_d</th>\n",
              "      <th>collections_12_mths_ex_med</th>\n",
              "      <th>mths_since_last_major_derog</th>\n",
              "      <th>policy_code</th>\n",
              "      <th>application_type</th>\n",
              "      <th>annual_inc_joint</th>\n",
              "      <th>dti_joint</th>\n",
              "      <th>verification_status_joint</th>\n",
              "      <th>acc_now_delinq</th>\n",
              "      <th>tot_coll_amt</th>\n",
              "      <th>tot_cur_bal</th>\n",
              "      <th>open_acc_6m</th>\n",
              "      <th>open_act_il</th>\n",
              "      <th>open_il_12m</th>\n",
              "      <th>open_il_24m</th>\n",
              "      <th>mths_since_rcnt_il</th>\n",
              "      <th>total_bal_il</th>\n",
              "      <th>il_util</th>\n",
              "      <th>open_rv_12m</th>\n",
              "      <th>open_rv_24m</th>\n",
              "      <th>max_bal_bc</th>\n",
              "      <th>all_util</th>\n",
              "      <th>total_rev_hi_lim</th>\n",
              "      <th>inq_fi</th>\n",
              "      <th>total_cu_tl</th>\n",
              "      <th>inq_last_12m</th>\n",
              "      <th>acc_open_past_24mths</th>\n",
              "      <th>avg_cur_bal</th>\n",
              "      <th>bc_open_to_buy</th>\n",
              "      <th>bc_util</th>\n",
              "      <th>chargeoff_within_12_mths</th>\n",
              "      <th>delinq_amnt</th>\n",
              "      <th>mo_sin_old_il_acct</th>\n",
              "      <th>mo_sin_old_rev_tl_op</th>\n",
              "      <th>mo_sin_rcnt_rev_tl_op</th>\n",
              "      <th>mo_sin_rcnt_tl</th>\n",
              "      <th>mort_acc</th>\n",
              "      <th>mths_since_recent_bc</th>\n",
              "      <th>mths_since_recent_bc_dlq</th>\n",
              "      <th>mths_since_recent_inq</th>\n",
              "      <th>mths_since_recent_revol_delinq</th>\n",
              "      <th>num_accts_ever_120_pd</th>\n",
              "      <th>num_actv_bc_tl</th>\n",
              "      <th>num_actv_rev_tl</th>\n",
              "      <th>num_bc_sats</th>\n",
              "      <th>num_bc_tl</th>\n",
              "      <th>num_il_tl</th>\n",
              "      <th>num_op_rev_tl</th>\n",
              "      <th>num_rev_accts</th>\n",
              "      <th>num_rev_tl_bal_gt_0</th>\n",
              "      <th>num_sats</th>\n",
              "      <th>num_tl_120dpd_2m</th>\n",
              "      <th>num_tl_30dpd</th>\n",
              "      <th>num_tl_90g_dpd_24m</th>\n",
              "      <th>num_tl_op_past_12m</th>\n",
              "      <th>pct_tl_nvr_dlq</th>\n",
              "      <th>percent_bc_gt_75</th>\n",
              "      <th>pub_rec_bankruptcies</th>\n",
              "      <th>tax_liens</th>\n",
              "      <th>tot_hi_cred_lim</th>\n",
              "      <th>total_bal_ex_mort</th>\n",
              "      <th>total_bc_limit</th>\n",
              "      <th>total_il_high_credit_limit</th>\n",
              "      <th>revol_bal_joint</th>\n",
              "      <th>sec_app_earliest_cr_line</th>\n",
              "      <th>sec_app_inq_last_6mths</th>\n",
              "      <th>sec_app_mort_acc</th>\n",
              "      <th>sec_app_open_acc</th>\n",
              "      <th>sec_app_revol_util</th>\n",
              "      <th>sec_app_open_act_il</th>\n",
              "      <th>sec_app_num_rev_accts</th>\n",
              "      <th>sec_app_chargeoff_within_12_mths</th>\n",
              "      <th>sec_app_collections_12_mths_ex_med</th>\n",
              "      <th>sec_app_mths_since_last_major_derog</th>\n",
              "      <th>hardship_flag</th>\n",
              "      <th>hardship_type</th>\n",
              "      <th>hardship_reason</th>\n",
              "      <th>hardship_status</th>\n",
              "      <th>deferral_term</th>\n",
              "      <th>hardship_amount</th>\n",
              "      <th>hardship_start_date</th>\n",
              "      <th>hardship_end_date</th>\n",
              "      <th>payment_plan_start_date</th>\n",
              "      <th>hardship_length</th>\n",
              "      <th>hardship_dpd</th>\n",
              "      <th>hardship_loan_status</th>\n",
              "      <th>orig_projected_additional_accrued_interest</th>\n",
              "      <th>hardship_payoff_balance_amount</th>\n",
              "      <th>hardship_last_payment_amount</th>\n",
              "      <th>disbursement_method</th>\n",
              "      <th>debt_settlement_flag</th>\n",
              "      <th>debt_settlement_flag_date</th>\n",
              "      <th>settlement_status</th>\n",
              "      <th>settlement_date</th>\n",
              "      <th>settlement_amount</th>\n",
              "      <th>settlement_percentage</th>\n",
              "      <th>settlement_term</th>\n",
              "    </tr>\n",
              "  </thead>\n",
              "  <tbody>\n",
              "    <tr>\n",
              "      <th>0</th>\n",
              "      <td>NaN</td>\n",
              "      <td>NaN</td>\n",
              "      <td>2500</td>\n",
              "      <td>2500</td>\n",
              "      <td>2500.0</td>\n",
              "      <td>36 months</td>\n",
              "      <td>13.56</td>\n",
              "      <td>84.92</td>\n",
              "      <td>C</td>\n",
              "      <td>C1</td>\n",
              "      <td>Chef</td>\n",
              "      <td>10+ years</td>\n",
              "      <td>RENT</td>\n",
              "      <td>55000.0</td>\n",
              "      <td>Not Verified</td>\n",
              "      <td>Dec-2018</td>\n",
              "      <td>Current</td>\n",
              "      <td>n</td>\n",
              "      <td>NaN</td>\n",
              "      <td>NaN</td>\n",
              "      <td>debt_consolidation</td>\n",
              "      <td>Debt consolidation</td>\n",
              "      <td>109xx</td>\n",
              "      <td>NY</td>\n",
              "      <td>18.24</td>\n",
              "      <td>0.0</td>\n",
              "      <td>Apr-2001</td>\n",
              "      <td>1.0</td>\n",
              "      <td>NaN</td>\n",
              "      <td>45.0</td>\n",
              "      <td>9.0</td>\n",
              "      <td>1.0</td>\n",
              "      <td>4341</td>\n",
              "      <td>10.3</td>\n",
              "      <td>34.0</td>\n",
              "      <td>w</td>\n",
              "      <td>2386.02</td>\n",
              "      <td>2386.02</td>\n",
              "      <td>167.02</td>\n",
              "      <td>167.02</td>\n",
              "      <td>113.98</td>\n",
              "      <td>53.04</td>\n",
              "      <td>0.0</td>\n",
              "      <td>0.0</td>\n",
              "      <td>0.0</td>\n",
              "      <td>Feb-2019</td>\n",
              "      <td>84.92</td>\n",
              "      <td>Mar-2019</td>\n",
              "      <td>Feb-2019</td>\n",
              "      <td>0.0</td>\n",
              "      <td>NaN</td>\n",
              "      <td>1</td>\n",
              "      <td>Individual</td>\n",
              "      <td>NaN</td>\n",
              "      <td>NaN</td>\n",
              "      <td>NaN</td>\n",
              "      <td>0.0</td>\n",
              "      <td>0.0</td>\n",
              "      <td>16901.0</td>\n",
              "      <td>2.0</td>\n",
              "      <td>2.0</td>\n",
              "      <td>1.0</td>\n",
              "      <td>2.0</td>\n",
              "      <td>2.0</td>\n",
              "      <td>12560.0</td>\n",
              "      <td>69.0</td>\n",
              "      <td>2.0</td>\n",
              "      <td>7.0</td>\n",
              "      <td>2137.0</td>\n",
              "      <td>28.0</td>\n",
              "      <td>42000.0</td>\n",
              "      <td>1.0</td>\n",
              "      <td>11.0</td>\n",
              "      <td>2.0</td>\n",
              "      <td>9.0</td>\n",
              "      <td>1878.0</td>\n",
              "      <td>34360.0</td>\n",
              "      <td>5.9</td>\n",
              "      <td>0.0</td>\n",
              "      <td>0.0</td>\n",
              "      <td>140.0</td>\n",
              "      <td>212.0</td>\n",
              "      <td>1.0</td>\n",
              "      <td>1.0</td>\n",
              "      <td>0.0</td>\n",
              "      <td>1.0</td>\n",
              "      <td>NaN</td>\n",
              "      <td>2.0</td>\n",
              "      <td>NaN</td>\n",
              "      <td>0.0</td>\n",
              "      <td>2.0</td>\n",
              "      <td>5.0</td>\n",
              "      <td>3.0</td>\n",
              "      <td>3.0</td>\n",
              "      <td>16.0</td>\n",
              "      <td>7.0</td>\n",
              "      <td>18.0</td>\n",
              "      <td>5.0</td>\n",
              "      <td>9.0</td>\n",
              "      <td>0.0</td>\n",
              "      <td>0.0</td>\n",
              "      <td>0.0</td>\n",
              "      <td>3.0</td>\n",
              "      <td>100.0</td>\n",
              "      <td>0.0</td>\n",
              "      <td>1.0</td>\n",
              "      <td>0.0</td>\n",
              "      <td>60124.0</td>\n",
              "      <td>16901.0</td>\n",
              "      <td>36500.0</td>\n",
              "      <td>18124.0</td>\n",
              "      <td>NaN</td>\n",
              "      <td>NaN</td>\n",
              "      <td>NaN</td>\n",
              "      <td>NaN</td>\n",
              "      <td>NaN</td>\n",
              "      <td>NaN</td>\n",
              "      <td>NaN</td>\n",
              "      <td>NaN</td>\n",
              "      <td>NaN</td>\n",
              "      <td>NaN</td>\n",
              "      <td>NaN</td>\n",
              "      <td>N</td>\n",
              "      <td>NaN</td>\n",
              "      <td>NaN</td>\n",
              "      <td>NaN</td>\n",
              "      <td>NaN</td>\n",
              "      <td>NaN</td>\n",
              "      <td>NaN</td>\n",
              "      <td>NaN</td>\n",
              "      <td>NaN</td>\n",
              "      <td>NaN</td>\n",
              "      <td>NaN</td>\n",
              "      <td>NaN</td>\n",
              "      <td>NaN</td>\n",
              "      <td>NaN</td>\n",
              "      <td>NaN</td>\n",
              "      <td>Cash</td>\n",
              "      <td>N</td>\n",
              "      <td>NaN</td>\n",
              "      <td>NaN</td>\n",
              "      <td>NaN</td>\n",
              "      <td>NaN</td>\n",
              "      <td>NaN</td>\n",
              "      <td>NaN</td>\n",
              "    </tr>\n",
              "    <tr>\n",
              "      <th>1</th>\n",
              "      <td>NaN</td>\n",
              "      <td>NaN</td>\n",
              "      <td>30000</td>\n",
              "      <td>30000</td>\n",
              "      <td>30000.0</td>\n",
              "      <td>60 months</td>\n",
              "      <td>18.94</td>\n",
              "      <td>777.23</td>\n",
              "      <td>D</td>\n",
              "      <td>D2</td>\n",
              "      <td>Postmaster</td>\n",
              "      <td>10+ years</td>\n",
              "      <td>MORTGAGE</td>\n",
              "      <td>90000.0</td>\n",
              "      <td>Source Verified</td>\n",
              "      <td>Dec-2018</td>\n",
              "      <td>Current</td>\n",
              "      <td>n</td>\n",
              "      <td>NaN</td>\n",
              "      <td>NaN</td>\n",
              "      <td>debt_consolidation</td>\n",
              "      <td>Debt consolidation</td>\n",
              "      <td>713xx</td>\n",
              "      <td>LA</td>\n",
              "      <td>26.52</td>\n",
              "      <td>0.0</td>\n",
              "      <td>Jun-1987</td>\n",
              "      <td>0.0</td>\n",
              "      <td>71.0</td>\n",
              "      <td>75.0</td>\n",
              "      <td>13.0</td>\n",
              "      <td>1.0</td>\n",
              "      <td>12315</td>\n",
              "      <td>24.2</td>\n",
              "      <td>44.0</td>\n",
              "      <td>w</td>\n",
              "      <td>29387.75</td>\n",
              "      <td>29387.75</td>\n",
              "      <td>1507.11</td>\n",
              "      <td>1507.11</td>\n",
              "      <td>612.25</td>\n",
              "      <td>894.86</td>\n",
              "      <td>0.0</td>\n",
              "      <td>0.0</td>\n",
              "      <td>0.0</td>\n",
              "      <td>Feb-2019</td>\n",
              "      <td>777.23</td>\n",
              "      <td>Mar-2019</td>\n",
              "      <td>Feb-2019</td>\n",
              "      <td>0.0</td>\n",
              "      <td>NaN</td>\n",
              "      <td>1</td>\n",
              "      <td>Individual</td>\n",
              "      <td>NaN</td>\n",
              "      <td>NaN</td>\n",
              "      <td>NaN</td>\n",
              "      <td>0.0</td>\n",
              "      <td>1208.0</td>\n",
              "      <td>321915.0</td>\n",
              "      <td>4.0</td>\n",
              "      <td>4.0</td>\n",
              "      <td>2.0</td>\n",
              "      <td>3.0</td>\n",
              "      <td>3.0</td>\n",
              "      <td>87153.0</td>\n",
              "      <td>88.0</td>\n",
              "      <td>4.0</td>\n",
              "      <td>5.0</td>\n",
              "      <td>998.0</td>\n",
              "      <td>57.0</td>\n",
              "      <td>50800.0</td>\n",
              "      <td>2.0</td>\n",
              "      <td>15.0</td>\n",
              "      <td>2.0</td>\n",
              "      <td>10.0</td>\n",
              "      <td>24763.0</td>\n",
              "      <td>13761.0</td>\n",
              "      <td>8.3</td>\n",
              "      <td>0.0</td>\n",
              "      <td>0.0</td>\n",
              "      <td>163.0</td>\n",
              "      <td>378.0</td>\n",
              "      <td>4.0</td>\n",
              "      <td>3.0</td>\n",
              "      <td>3.0</td>\n",
              "      <td>4.0</td>\n",
              "      <td>NaN</td>\n",
              "      <td>4.0</td>\n",
              "      <td>NaN</td>\n",
              "      <td>0.0</td>\n",
              "      <td>2.0</td>\n",
              "      <td>4.0</td>\n",
              "      <td>4.0</td>\n",
              "      <td>9.0</td>\n",
              "      <td>27.0</td>\n",
              "      <td>8.0</td>\n",
              "      <td>14.0</td>\n",
              "      <td>4.0</td>\n",
              "      <td>13.0</td>\n",
              "      <td>0.0</td>\n",
              "      <td>0.0</td>\n",
              "      <td>0.0</td>\n",
              "      <td>6.0</td>\n",
              "      <td>95.0</td>\n",
              "      <td>0.0</td>\n",
              "      <td>1.0</td>\n",
              "      <td>0.0</td>\n",
              "      <td>372872.0</td>\n",
              "      <td>99468.0</td>\n",
              "      <td>15000.0</td>\n",
              "      <td>94072.0</td>\n",
              "      <td>NaN</td>\n",
              "      <td>NaN</td>\n",
              "      <td>NaN</td>\n",
              "      <td>NaN</td>\n",
              "      <td>NaN</td>\n",
              "      <td>NaN</td>\n",
              "      <td>NaN</td>\n",
              "      <td>NaN</td>\n",
              "      <td>NaN</td>\n",
              "      <td>NaN</td>\n",
              "      <td>NaN</td>\n",
              "      <td>N</td>\n",
              "      <td>NaN</td>\n",
              "      <td>NaN</td>\n",
              "      <td>NaN</td>\n",
              "      <td>NaN</td>\n",
              "      <td>NaN</td>\n",
              "      <td>NaN</td>\n",
              "      <td>NaN</td>\n",
              "      <td>NaN</td>\n",
              "      <td>NaN</td>\n",
              "      <td>NaN</td>\n",
              "      <td>NaN</td>\n",
              "      <td>NaN</td>\n",
              "      <td>NaN</td>\n",
              "      <td>NaN</td>\n",
              "      <td>Cash</td>\n",
              "      <td>N</td>\n",
              "      <td>NaN</td>\n",
              "      <td>NaN</td>\n",
              "      <td>NaN</td>\n",
              "      <td>NaN</td>\n",
              "      <td>NaN</td>\n",
              "      <td>NaN</td>\n",
              "    </tr>\n",
              "    <tr>\n",
              "      <th>2</th>\n",
              "      <td>NaN</td>\n",
              "      <td>NaN</td>\n",
              "      <td>5000</td>\n",
              "      <td>5000</td>\n",
              "      <td>5000.0</td>\n",
              "      <td>36 months</td>\n",
              "      <td>17.97</td>\n",
              "      <td>180.69</td>\n",
              "      <td>D</td>\n",
              "      <td>D1</td>\n",
              "      <td>Administrative</td>\n",
              "      <td>6 years</td>\n",
              "      <td>MORTGAGE</td>\n",
              "      <td>59280.0</td>\n",
              "      <td>Source Verified</td>\n",
              "      <td>Dec-2018</td>\n",
              "      <td>Current</td>\n",
              "      <td>n</td>\n",
              "      <td>NaN</td>\n",
              "      <td>NaN</td>\n",
              "      <td>debt_consolidation</td>\n",
              "      <td>Debt consolidation</td>\n",
              "      <td>490xx</td>\n",
              "      <td>MI</td>\n",
              "      <td>10.51</td>\n",
              "      <td>0.0</td>\n",
              "      <td>Apr-2011</td>\n",
              "      <td>0.0</td>\n",
              "      <td>NaN</td>\n",
              "      <td>NaN</td>\n",
              "      <td>8.0</td>\n",
              "      <td>0.0</td>\n",
              "      <td>4599</td>\n",
              "      <td>19.1</td>\n",
              "      <td>13.0</td>\n",
              "      <td>w</td>\n",
              "      <td>4787.21</td>\n",
              "      <td>4787.21</td>\n",
              "      <td>353.89</td>\n",
              "      <td>353.89</td>\n",
              "      <td>212.79</td>\n",
              "      <td>141.10</td>\n",
              "      <td>0.0</td>\n",
              "      <td>0.0</td>\n",
              "      <td>0.0</td>\n",
              "      <td>Feb-2019</td>\n",
              "      <td>180.69</td>\n",
              "      <td>Mar-2019</td>\n",
              "      <td>Feb-2019</td>\n",
              "      <td>0.0</td>\n",
              "      <td>NaN</td>\n",
              "      <td>1</td>\n",
              "      <td>Individual</td>\n",
              "      <td>NaN</td>\n",
              "      <td>NaN</td>\n",
              "      <td>NaN</td>\n",
              "      <td>0.0</td>\n",
              "      <td>0.0</td>\n",
              "      <td>110299.0</td>\n",
              "      <td>0.0</td>\n",
              "      <td>1.0</td>\n",
              "      <td>0.0</td>\n",
              "      <td>2.0</td>\n",
              "      <td>14.0</td>\n",
              "      <td>7150.0</td>\n",
              "      <td>72.0</td>\n",
              "      <td>0.0</td>\n",
              "      <td>2.0</td>\n",
              "      <td>0.0</td>\n",
              "      <td>35.0</td>\n",
              "      <td>24100.0</td>\n",
              "      <td>1.0</td>\n",
              "      <td>5.0</td>\n",
              "      <td>0.0</td>\n",
              "      <td>4.0</td>\n",
              "      <td>18383.0</td>\n",
              "      <td>13800.0</td>\n",
              "      <td>0.0</td>\n",
              "      <td>0.0</td>\n",
              "      <td>0.0</td>\n",
              "      <td>87.0</td>\n",
              "      <td>92.0</td>\n",
              "      <td>15.0</td>\n",
              "      <td>14.0</td>\n",
              "      <td>2.0</td>\n",
              "      <td>77.0</td>\n",
              "      <td>NaN</td>\n",
              "      <td>14.0</td>\n",
              "      <td>NaN</td>\n",
              "      <td>0.0</td>\n",
              "      <td>0.0</td>\n",
              "      <td>3.0</td>\n",
              "      <td>3.0</td>\n",
              "      <td>3.0</td>\n",
              "      <td>4.0</td>\n",
              "      <td>6.0</td>\n",
              "      <td>7.0</td>\n",
              "      <td>3.0</td>\n",
              "      <td>8.0</td>\n",
              "      <td>0.0</td>\n",
              "      <td>0.0</td>\n",
              "      <td>0.0</td>\n",
              "      <td>0.0</td>\n",
              "      <td>100.0</td>\n",
              "      <td>0.0</td>\n",
              "      <td>0.0</td>\n",
              "      <td>0.0</td>\n",
              "      <td>136927.0</td>\n",
              "      <td>11749.0</td>\n",
              "      <td>13800.0</td>\n",
              "      <td>10000.0</td>\n",
              "      <td>NaN</td>\n",
              "      <td>NaN</td>\n",
              "      <td>NaN</td>\n",
              "      <td>NaN</td>\n",
              "      <td>NaN</td>\n",
              "      <td>NaN</td>\n",
              "      <td>NaN</td>\n",
              "      <td>NaN</td>\n",
              "      <td>NaN</td>\n",
              "      <td>NaN</td>\n",
              "      <td>NaN</td>\n",
              "      <td>N</td>\n",
              "      <td>NaN</td>\n",
              "      <td>NaN</td>\n",
              "      <td>NaN</td>\n",
              "      <td>NaN</td>\n",
              "      <td>NaN</td>\n",
              "      <td>NaN</td>\n",
              "      <td>NaN</td>\n",
              "      <td>NaN</td>\n",
              "      <td>NaN</td>\n",
              "      <td>NaN</td>\n",
              "      <td>NaN</td>\n",
              "      <td>NaN</td>\n",
              "      <td>NaN</td>\n",
              "      <td>NaN</td>\n",
              "      <td>Cash</td>\n",
              "      <td>N</td>\n",
              "      <td>NaN</td>\n",
              "      <td>NaN</td>\n",
              "      <td>NaN</td>\n",
              "      <td>NaN</td>\n",
              "      <td>NaN</td>\n",
              "      <td>NaN</td>\n",
              "    </tr>\n",
              "    <tr>\n",
              "      <th>3</th>\n",
              "      <td>NaN</td>\n",
              "      <td>NaN</td>\n",
              "      <td>4000</td>\n",
              "      <td>4000</td>\n",
              "      <td>4000.0</td>\n",
              "      <td>36 months</td>\n",
              "      <td>18.94</td>\n",
              "      <td>146.51</td>\n",
              "      <td>D</td>\n",
              "      <td>D2</td>\n",
              "      <td>IT Supervisor</td>\n",
              "      <td>10+ years</td>\n",
              "      <td>MORTGAGE</td>\n",
              "      <td>92000.0</td>\n",
              "      <td>Source Verified</td>\n",
              "      <td>Dec-2018</td>\n",
              "      <td>Current</td>\n",
              "      <td>n</td>\n",
              "      <td>NaN</td>\n",
              "      <td>NaN</td>\n",
              "      <td>debt_consolidation</td>\n",
              "      <td>Debt consolidation</td>\n",
              "      <td>985xx</td>\n",
              "      <td>WA</td>\n",
              "      <td>16.74</td>\n",
              "      <td>0.0</td>\n",
              "      <td>Feb-2006</td>\n",
              "      <td>0.0</td>\n",
              "      <td>NaN</td>\n",
              "      <td>NaN</td>\n",
              "      <td>10.0</td>\n",
              "      <td>0.0</td>\n",
              "      <td>5468</td>\n",
              "      <td>78.1</td>\n",
              "      <td>13.0</td>\n",
              "      <td>w</td>\n",
              "      <td>3831.93</td>\n",
              "      <td>3831.93</td>\n",
              "      <td>286.71</td>\n",
              "      <td>286.71</td>\n",
              "      <td>168.07</td>\n",
              "      <td>118.64</td>\n",
              "      <td>0.0</td>\n",
              "      <td>0.0</td>\n",
              "      <td>0.0</td>\n",
              "      <td>Feb-2019</td>\n",
              "      <td>146.51</td>\n",
              "      <td>Mar-2019</td>\n",
              "      <td>Feb-2019</td>\n",
              "      <td>0.0</td>\n",
              "      <td>NaN</td>\n",
              "      <td>1</td>\n",
              "      <td>Individual</td>\n",
              "      <td>NaN</td>\n",
              "      <td>NaN</td>\n",
              "      <td>NaN</td>\n",
              "      <td>0.0</td>\n",
              "      <td>686.0</td>\n",
              "      <td>305049.0</td>\n",
              "      <td>1.0</td>\n",
              "      <td>5.0</td>\n",
              "      <td>3.0</td>\n",
              "      <td>5.0</td>\n",
              "      <td>5.0</td>\n",
              "      <td>30683.0</td>\n",
              "      <td>68.0</td>\n",
              "      <td>0.0</td>\n",
              "      <td>0.0</td>\n",
              "      <td>3761.0</td>\n",
              "      <td>70.0</td>\n",
              "      <td>7000.0</td>\n",
              "      <td>2.0</td>\n",
              "      <td>4.0</td>\n",
              "      <td>3.0</td>\n",
              "      <td>5.0</td>\n",
              "      <td>30505.0</td>\n",
              "      <td>1239.0</td>\n",
              "      <td>75.2</td>\n",
              "      <td>0.0</td>\n",
              "      <td>0.0</td>\n",
              "      <td>62.0</td>\n",
              "      <td>154.0</td>\n",
              "      <td>64.0</td>\n",
              "      <td>5.0</td>\n",
              "      <td>3.0</td>\n",
              "      <td>64.0</td>\n",
              "      <td>NaN</td>\n",
              "      <td>5.0</td>\n",
              "      <td>NaN</td>\n",
              "      <td>0.0</td>\n",
              "      <td>1.0</td>\n",
              "      <td>2.0</td>\n",
              "      <td>1.0</td>\n",
              "      <td>2.0</td>\n",
              "      <td>7.0</td>\n",
              "      <td>2.0</td>\n",
              "      <td>3.0</td>\n",
              "      <td>2.0</td>\n",
              "      <td>10.0</td>\n",
              "      <td>0.0</td>\n",
              "      <td>0.0</td>\n",
              "      <td>0.0</td>\n",
              "      <td>3.0</td>\n",
              "      <td>100.0</td>\n",
              "      <td>100.0</td>\n",
              "      <td>0.0</td>\n",
              "      <td>0.0</td>\n",
              "      <td>385183.0</td>\n",
              "      <td>36151.0</td>\n",
              "      <td>5000.0</td>\n",
              "      <td>44984.0</td>\n",
              "      <td>NaN</td>\n",
              "      <td>NaN</td>\n",
              "      <td>NaN</td>\n",
              "      <td>NaN</td>\n",
              "      <td>NaN</td>\n",
              "      <td>NaN</td>\n",
              "      <td>NaN</td>\n",
              "      <td>NaN</td>\n",
              "      <td>NaN</td>\n",
              "      <td>NaN</td>\n",
              "      <td>NaN</td>\n",
              "      <td>N</td>\n",
              "      <td>NaN</td>\n",
              "      <td>NaN</td>\n",
              "      <td>NaN</td>\n",
              "      <td>NaN</td>\n",
              "      <td>NaN</td>\n",
              "      <td>NaN</td>\n",
              "      <td>NaN</td>\n",
              "      <td>NaN</td>\n",
              "      <td>NaN</td>\n",
              "      <td>NaN</td>\n",
              "      <td>NaN</td>\n",
              "      <td>NaN</td>\n",
              "      <td>NaN</td>\n",
              "      <td>NaN</td>\n",
              "      <td>Cash</td>\n",
              "      <td>N</td>\n",
              "      <td>NaN</td>\n",
              "      <td>NaN</td>\n",
              "      <td>NaN</td>\n",
              "      <td>NaN</td>\n",
              "      <td>NaN</td>\n",
              "      <td>NaN</td>\n",
              "    </tr>\n",
              "    <tr>\n",
              "      <th>4</th>\n",
              "      <td>NaN</td>\n",
              "      <td>NaN</td>\n",
              "      <td>30000</td>\n",
              "      <td>30000</td>\n",
              "      <td>30000.0</td>\n",
              "      <td>60 months</td>\n",
              "      <td>16.14</td>\n",
              "      <td>731.78</td>\n",
              "      <td>C</td>\n",
              "      <td>C4</td>\n",
              "      <td>Mechanic</td>\n",
              "      <td>10+ years</td>\n",
              "      <td>MORTGAGE</td>\n",
              "      <td>57250.0</td>\n",
              "      <td>Not Verified</td>\n",
              "      <td>Dec-2018</td>\n",
              "      <td>Current</td>\n",
              "      <td>n</td>\n",
              "      <td>NaN</td>\n",
              "      <td>NaN</td>\n",
              "      <td>debt_consolidation</td>\n",
              "      <td>Debt consolidation</td>\n",
              "      <td>212xx</td>\n",
              "      <td>MD</td>\n",
              "      <td>26.35</td>\n",
              "      <td>0.0</td>\n",
              "      <td>Dec-2000</td>\n",
              "      <td>0.0</td>\n",
              "      <td>NaN</td>\n",
              "      <td>NaN</td>\n",
              "      <td>12.0</td>\n",
              "      <td>0.0</td>\n",
              "      <td>829</td>\n",
              "      <td>3.6</td>\n",
              "      <td>26.0</td>\n",
              "      <td>w</td>\n",
              "      <td>29339.02</td>\n",
              "      <td>29339.02</td>\n",
              "      <td>1423.21</td>\n",
              "      <td>1423.21</td>\n",
              "      <td>660.98</td>\n",
              "      <td>762.23</td>\n",
              "      <td>0.0</td>\n",
              "      <td>0.0</td>\n",
              "      <td>0.0</td>\n",
              "      <td>Feb-2019</td>\n",
              "      <td>731.78</td>\n",
              "      <td>Mar-2019</td>\n",
              "      <td>Feb-2019</td>\n",
              "      <td>0.0</td>\n",
              "      <td>NaN</td>\n",
              "      <td>1</td>\n",
              "      <td>Individual</td>\n",
              "      <td>NaN</td>\n",
              "      <td>NaN</td>\n",
              "      <td>NaN</td>\n",
              "      <td>0.0</td>\n",
              "      <td>0.0</td>\n",
              "      <td>116007.0</td>\n",
              "      <td>3.0</td>\n",
              "      <td>5.0</td>\n",
              "      <td>3.0</td>\n",
              "      <td>5.0</td>\n",
              "      <td>4.0</td>\n",
              "      <td>28845.0</td>\n",
              "      <td>89.0</td>\n",
              "      <td>2.0</td>\n",
              "      <td>4.0</td>\n",
              "      <td>516.0</td>\n",
              "      <td>54.0</td>\n",
              "      <td>23100.0</td>\n",
              "      <td>1.0</td>\n",
              "      <td>0.0</td>\n",
              "      <td>0.0</td>\n",
              "      <td>9.0</td>\n",
              "      <td>9667.0</td>\n",
              "      <td>8471.0</td>\n",
              "      <td>8.9</td>\n",
              "      <td>0.0</td>\n",
              "      <td>0.0</td>\n",
              "      <td>53.0</td>\n",
              "      <td>216.0</td>\n",
              "      <td>2.0</td>\n",
              "      <td>2.0</td>\n",
              "      <td>2.0</td>\n",
              "      <td>2.0</td>\n",
              "      <td>NaN</td>\n",
              "      <td>13.0</td>\n",
              "      <td>NaN</td>\n",
              "      <td>0.0</td>\n",
              "      <td>2.0</td>\n",
              "      <td>2.0</td>\n",
              "      <td>3.0</td>\n",
              "      <td>8.0</td>\n",
              "      <td>9.0</td>\n",
              "      <td>6.0</td>\n",
              "      <td>15.0</td>\n",
              "      <td>2.0</td>\n",
              "      <td>12.0</td>\n",
              "      <td>0.0</td>\n",
              "      <td>0.0</td>\n",
              "      <td>0.0</td>\n",
              "      <td>5.0</td>\n",
              "      <td>92.3</td>\n",
              "      <td>0.0</td>\n",
              "      <td>0.0</td>\n",
              "      <td>0.0</td>\n",
              "      <td>157548.0</td>\n",
              "      <td>29674.0</td>\n",
              "      <td>9300.0</td>\n",
              "      <td>32332.0</td>\n",
              "      <td>NaN</td>\n",
              "      <td>NaN</td>\n",
              "      <td>NaN</td>\n",
              "      <td>NaN</td>\n",
              "      <td>NaN</td>\n",
              "      <td>NaN</td>\n",
              "      <td>NaN</td>\n",
              "      <td>NaN</td>\n",
              "      <td>NaN</td>\n",
              "      <td>NaN</td>\n",
              "      <td>NaN</td>\n",
              "      <td>N</td>\n",
              "      <td>NaN</td>\n",
              "      <td>NaN</td>\n",
              "      <td>NaN</td>\n",
              "      <td>NaN</td>\n",
              "      <td>NaN</td>\n",
              "      <td>NaN</td>\n",
              "      <td>NaN</td>\n",
              "      <td>NaN</td>\n",
              "      <td>NaN</td>\n",
              "      <td>NaN</td>\n",
              "      <td>NaN</td>\n",
              "      <td>NaN</td>\n",
              "      <td>NaN</td>\n",
              "      <td>NaN</td>\n",
              "      <td>Cash</td>\n",
              "      <td>N</td>\n",
              "      <td>NaN</td>\n",
              "      <td>NaN</td>\n",
              "      <td>NaN</td>\n",
              "      <td>NaN</td>\n",
              "      <td>NaN</td>\n",
              "      <td>NaN</td>\n",
              "    </tr>\n",
              "  </tbody>\n",
              "</table>\n",
              "</div>"
            ],
            "text/plain": [
              "   id  member_id  loan_amnt  funded_amnt  funded_amnt_inv        term  \\\n",
              "0 NaN        NaN       2500         2500           2500.0   36 months   \n",
              "1 NaN        NaN      30000        30000          30000.0   60 months   \n",
              "2 NaN        NaN       5000         5000           5000.0   36 months   \n",
              "3 NaN        NaN       4000         4000           4000.0   36 months   \n",
              "4 NaN        NaN      30000        30000          30000.0   60 months   \n",
              "\n",
              "   int_rate  installment grade sub_grade       emp_title emp_length  \\\n",
              "0     13.56        84.92     C        C1            Chef  10+ years   \n",
              "1     18.94       777.23     D        D2     Postmaster   10+ years   \n",
              "2     17.97       180.69     D        D1  Administrative    6 years   \n",
              "3     18.94       146.51     D        D2   IT Supervisor  10+ years   \n",
              "4     16.14       731.78     C        C4        Mechanic  10+ years   \n",
              "\n",
              "  home_ownership  annual_inc verification_status   issue_d loan_status  \\\n",
              "0           RENT     55000.0        Not Verified  Dec-2018     Current   \n",
              "1       MORTGAGE     90000.0     Source Verified  Dec-2018     Current   \n",
              "2       MORTGAGE     59280.0     Source Verified  Dec-2018     Current   \n",
              "3       MORTGAGE     92000.0     Source Verified  Dec-2018     Current   \n",
              "4       MORTGAGE     57250.0        Not Verified  Dec-2018     Current   \n",
              "\n",
              "  pymnt_plan  url desc             purpose               title zip_code  \\\n",
              "0          n  NaN  NaN  debt_consolidation  Debt consolidation    109xx   \n",
              "1          n  NaN  NaN  debt_consolidation  Debt consolidation    713xx   \n",
              "2          n  NaN  NaN  debt_consolidation  Debt consolidation    490xx   \n",
              "3          n  NaN  NaN  debt_consolidation  Debt consolidation    985xx   \n",
              "4          n  NaN  NaN  debt_consolidation  Debt consolidation    212xx   \n",
              "\n",
              "  addr_state    dti  delinq_2yrs earliest_cr_line  inq_last_6mths  \\\n",
              "0         NY  18.24          0.0         Apr-2001             1.0   \n",
              "1         LA  26.52          0.0         Jun-1987             0.0   \n",
              "2         MI  10.51          0.0         Apr-2011             0.0   \n",
              "3         WA  16.74          0.0         Feb-2006             0.0   \n",
              "4         MD  26.35          0.0         Dec-2000             0.0   \n",
              "\n",
              "   mths_since_last_delinq  mths_since_last_record  open_acc  pub_rec  \\\n",
              "0                     NaN                    45.0       9.0      1.0   \n",
              "1                    71.0                    75.0      13.0      1.0   \n",
              "2                     NaN                     NaN       8.0      0.0   \n",
              "3                     NaN                     NaN      10.0      0.0   \n",
              "4                     NaN                     NaN      12.0      0.0   \n",
              "\n",
              "   revol_bal  revol_util  total_acc initial_list_status  out_prncp  \\\n",
              "0       4341        10.3       34.0                   w    2386.02   \n",
              "1      12315        24.2       44.0                   w   29387.75   \n",
              "2       4599        19.1       13.0                   w    4787.21   \n",
              "3       5468        78.1       13.0                   w    3831.93   \n",
              "4        829         3.6       26.0                   w   29339.02   \n",
              "\n",
              "   out_prncp_inv  total_pymnt  total_pymnt_inv  total_rec_prncp  \\\n",
              "0        2386.02       167.02           167.02           113.98   \n",
              "1       29387.75      1507.11          1507.11           612.25   \n",
              "2        4787.21       353.89           353.89           212.79   \n",
              "3        3831.93       286.71           286.71           168.07   \n",
              "4       29339.02      1423.21          1423.21           660.98   \n",
              "\n",
              "   total_rec_int  total_rec_late_fee  recoveries  collection_recovery_fee  \\\n",
              "0          53.04                 0.0         0.0                      0.0   \n",
              "1         894.86                 0.0         0.0                      0.0   \n",
              "2         141.10                 0.0         0.0                      0.0   \n",
              "3         118.64                 0.0         0.0                      0.0   \n",
              "4         762.23                 0.0         0.0                      0.0   \n",
              "\n",
              "  last_pymnt_d  last_pymnt_amnt next_pymnt_d last_credit_pull_d  \\\n",
              "0     Feb-2019            84.92     Mar-2019           Feb-2019   \n",
              "1     Feb-2019           777.23     Mar-2019           Feb-2019   \n",
              "2     Feb-2019           180.69     Mar-2019           Feb-2019   \n",
              "3     Feb-2019           146.51     Mar-2019           Feb-2019   \n",
              "4     Feb-2019           731.78     Mar-2019           Feb-2019   \n",
              "\n",
              "   collections_12_mths_ex_med  mths_since_last_major_derog  policy_code  \\\n",
              "0                         0.0                          NaN            1   \n",
              "1                         0.0                          NaN            1   \n",
              "2                         0.0                          NaN            1   \n",
              "3                         0.0                          NaN            1   \n",
              "4                         0.0                          NaN            1   \n",
              "\n",
              "  application_type  annual_inc_joint  dti_joint verification_status_joint  \\\n",
              "0       Individual               NaN        NaN                       NaN   \n",
              "1       Individual               NaN        NaN                       NaN   \n",
              "2       Individual               NaN        NaN                       NaN   \n",
              "3       Individual               NaN        NaN                       NaN   \n",
              "4       Individual               NaN        NaN                       NaN   \n",
              "\n",
              "   acc_now_delinq  tot_coll_amt  tot_cur_bal  open_acc_6m  open_act_il  \\\n",
              "0             0.0           0.0      16901.0          2.0          2.0   \n",
              "1             0.0        1208.0     321915.0          4.0          4.0   \n",
              "2             0.0           0.0     110299.0          0.0          1.0   \n",
              "3             0.0         686.0     305049.0          1.0          5.0   \n",
              "4             0.0           0.0     116007.0          3.0          5.0   \n",
              "\n",
              "   open_il_12m  open_il_24m  mths_since_rcnt_il  total_bal_il  il_util  \\\n",
              "0          1.0          2.0                 2.0       12560.0     69.0   \n",
              "1          2.0          3.0                 3.0       87153.0     88.0   \n",
              "2          0.0          2.0                14.0        7150.0     72.0   \n",
              "3          3.0          5.0                 5.0       30683.0     68.0   \n",
              "4          3.0          5.0                 4.0       28845.0     89.0   \n",
              "\n",
              "   open_rv_12m  open_rv_24m  max_bal_bc  all_util  total_rev_hi_lim  inq_fi  \\\n",
              "0          2.0          7.0      2137.0      28.0           42000.0     1.0   \n",
              "1          4.0          5.0       998.0      57.0           50800.0     2.0   \n",
              "2          0.0          2.0         0.0      35.0           24100.0     1.0   \n",
              "3          0.0          0.0      3761.0      70.0            7000.0     2.0   \n",
              "4          2.0          4.0       516.0      54.0           23100.0     1.0   \n",
              "\n",
              "   total_cu_tl  inq_last_12m  acc_open_past_24mths  avg_cur_bal  \\\n",
              "0         11.0           2.0                   9.0       1878.0   \n",
              "1         15.0           2.0                  10.0      24763.0   \n",
              "2          5.0           0.0                   4.0      18383.0   \n",
              "3          4.0           3.0                   5.0      30505.0   \n",
              "4          0.0           0.0                   9.0       9667.0   \n",
              "\n",
              "   bc_open_to_buy  bc_util  chargeoff_within_12_mths  delinq_amnt  \\\n",
              "0         34360.0      5.9                       0.0          0.0   \n",
              "1         13761.0      8.3                       0.0          0.0   \n",
              "2         13800.0      0.0                       0.0          0.0   \n",
              "3          1239.0     75.2                       0.0          0.0   \n",
              "4          8471.0      8.9                       0.0          0.0   \n",
              "\n",
              "   mo_sin_old_il_acct  mo_sin_old_rev_tl_op  mo_sin_rcnt_rev_tl_op  \\\n",
              "0               140.0                 212.0                    1.0   \n",
              "1               163.0                 378.0                    4.0   \n",
              "2                87.0                  92.0                   15.0   \n",
              "3                62.0                 154.0                   64.0   \n",
              "4                53.0                 216.0                    2.0   \n",
              "\n",
              "   mo_sin_rcnt_tl  mort_acc  mths_since_recent_bc  mths_since_recent_bc_dlq  \\\n",
              "0             1.0       0.0                   1.0                       NaN   \n",
              "1             3.0       3.0                   4.0                       NaN   \n",
              "2            14.0       2.0                  77.0                       NaN   \n",
              "3             5.0       3.0                  64.0                       NaN   \n",
              "4             2.0       2.0                   2.0                       NaN   \n",
              "\n",
              "   mths_since_recent_inq  mths_since_recent_revol_delinq  \\\n",
              "0                    2.0                             NaN   \n",
              "1                    4.0                             NaN   \n",
              "2                   14.0                             NaN   \n",
              "3                    5.0                             NaN   \n",
              "4                   13.0                             NaN   \n",
              "\n",
              "   num_accts_ever_120_pd  num_actv_bc_tl  num_actv_rev_tl  num_bc_sats  \\\n",
              "0                    0.0             2.0              5.0          3.0   \n",
              "1                    0.0             2.0              4.0          4.0   \n",
              "2                    0.0             0.0              3.0          3.0   \n",
              "3                    0.0             1.0              2.0          1.0   \n",
              "4                    0.0             2.0              2.0          3.0   \n",
              "\n",
              "   num_bc_tl  num_il_tl  num_op_rev_tl  num_rev_accts  num_rev_tl_bal_gt_0  \\\n",
              "0        3.0       16.0            7.0           18.0                  5.0   \n",
              "1        9.0       27.0            8.0           14.0                  4.0   \n",
              "2        3.0        4.0            6.0            7.0                  3.0   \n",
              "3        2.0        7.0            2.0            3.0                  2.0   \n",
              "4        8.0        9.0            6.0           15.0                  2.0   \n",
              "\n",
              "   num_sats  num_tl_120dpd_2m  num_tl_30dpd  num_tl_90g_dpd_24m  \\\n",
              "0       9.0               0.0           0.0                 0.0   \n",
              "1      13.0               0.0           0.0                 0.0   \n",
              "2       8.0               0.0           0.0                 0.0   \n",
              "3      10.0               0.0           0.0                 0.0   \n",
              "4      12.0               0.0           0.0                 0.0   \n",
              "\n",
              "   num_tl_op_past_12m  pct_tl_nvr_dlq  percent_bc_gt_75  pub_rec_bankruptcies  \\\n",
              "0                 3.0           100.0               0.0                   1.0   \n",
              "1                 6.0            95.0               0.0                   1.0   \n",
              "2                 0.0           100.0               0.0                   0.0   \n",
              "3                 3.0           100.0             100.0                   0.0   \n",
              "4                 5.0            92.3               0.0                   0.0   \n",
              "\n",
              "   tax_liens  tot_hi_cred_lim  total_bal_ex_mort  total_bc_limit  \\\n",
              "0        0.0          60124.0            16901.0         36500.0   \n",
              "1        0.0         372872.0            99468.0         15000.0   \n",
              "2        0.0         136927.0            11749.0         13800.0   \n",
              "3        0.0         385183.0            36151.0          5000.0   \n",
              "4        0.0         157548.0            29674.0          9300.0   \n",
              "\n",
              "   total_il_high_credit_limit  revol_bal_joint sec_app_earliest_cr_line  \\\n",
              "0                     18124.0              NaN                      NaN   \n",
              "1                     94072.0              NaN                      NaN   \n",
              "2                     10000.0              NaN                      NaN   \n",
              "3                     44984.0              NaN                      NaN   \n",
              "4                     32332.0              NaN                      NaN   \n",
              "\n",
              "   sec_app_inq_last_6mths  sec_app_mort_acc  sec_app_open_acc  \\\n",
              "0                     NaN               NaN               NaN   \n",
              "1                     NaN               NaN               NaN   \n",
              "2                     NaN               NaN               NaN   \n",
              "3                     NaN               NaN               NaN   \n",
              "4                     NaN               NaN               NaN   \n",
              "\n",
              "   sec_app_revol_util  sec_app_open_act_il  sec_app_num_rev_accts  \\\n",
              "0                 NaN                  NaN                    NaN   \n",
              "1                 NaN                  NaN                    NaN   \n",
              "2                 NaN                  NaN                    NaN   \n",
              "3                 NaN                  NaN                    NaN   \n",
              "4                 NaN                  NaN                    NaN   \n",
              "\n",
              "   sec_app_chargeoff_within_12_mths  sec_app_collections_12_mths_ex_med  \\\n",
              "0                               NaN                                 NaN   \n",
              "1                               NaN                                 NaN   \n",
              "2                               NaN                                 NaN   \n",
              "3                               NaN                                 NaN   \n",
              "4                               NaN                                 NaN   \n",
              "\n",
              "   sec_app_mths_since_last_major_derog hardship_flag hardship_type  \\\n",
              "0                                  NaN             N           NaN   \n",
              "1                                  NaN             N           NaN   \n",
              "2                                  NaN             N           NaN   \n",
              "3                                  NaN             N           NaN   \n",
              "4                                  NaN             N           NaN   \n",
              "\n",
              "  hardship_reason hardship_status  deferral_term  hardship_amount  \\\n",
              "0             NaN             NaN            NaN              NaN   \n",
              "1             NaN             NaN            NaN              NaN   \n",
              "2             NaN             NaN            NaN              NaN   \n",
              "3             NaN             NaN            NaN              NaN   \n",
              "4             NaN             NaN            NaN              NaN   \n",
              "\n",
              "  hardship_start_date hardship_end_date payment_plan_start_date  \\\n",
              "0                 NaN               NaN                     NaN   \n",
              "1                 NaN               NaN                     NaN   \n",
              "2                 NaN               NaN                     NaN   \n",
              "3                 NaN               NaN                     NaN   \n",
              "4                 NaN               NaN                     NaN   \n",
              "\n",
              "   hardship_length  hardship_dpd hardship_loan_status  \\\n",
              "0              NaN           NaN                  NaN   \n",
              "1              NaN           NaN                  NaN   \n",
              "2              NaN           NaN                  NaN   \n",
              "3              NaN           NaN                  NaN   \n",
              "4              NaN           NaN                  NaN   \n",
              "\n",
              "   orig_projected_additional_accrued_interest  hardship_payoff_balance_amount  \\\n",
              "0                                         NaN                             NaN   \n",
              "1                                         NaN                             NaN   \n",
              "2                                         NaN                             NaN   \n",
              "3                                         NaN                             NaN   \n",
              "4                                         NaN                             NaN   \n",
              "\n",
              "   hardship_last_payment_amount disbursement_method debt_settlement_flag  \\\n",
              "0                           NaN                Cash                    N   \n",
              "1                           NaN                Cash                    N   \n",
              "2                           NaN                Cash                    N   \n",
              "3                           NaN                Cash                    N   \n",
              "4                           NaN                Cash                    N   \n",
              "\n",
              "  debt_settlement_flag_date settlement_status settlement_date  \\\n",
              "0                       NaN               NaN             NaN   \n",
              "1                       NaN               NaN             NaN   \n",
              "2                       NaN               NaN             NaN   \n",
              "3                       NaN               NaN             NaN   \n",
              "4                       NaN               NaN             NaN   \n",
              "\n",
              "   settlement_amount  settlement_percentage  settlement_term  \n",
              "0                NaN                    NaN              NaN  \n",
              "1                NaN                    NaN              NaN  \n",
              "2                NaN                    NaN              NaN  \n",
              "3                NaN                    NaN              NaN  \n",
              "4                NaN                    NaN              NaN  "
            ]
          },
          "metadata": {
            "tags": []
          },
          "execution_count": 6
        }
      ]
    },
    {
      "cell_type": "markdown",
      "metadata": {
        "id": "ERilNr6f3UPO",
        "colab_type": "text"
      },
      "source": [
        "We also want to understand the columns we have with the data dictionary provided."
      ]
    },
    {
      "cell_type": "markdown",
      "metadata": {
        "id": "8ky0azFh3UPS",
        "colab_type": "text"
      },
      "source": [
        "### 3. Target Variable"
      ]
    },
    {
      "cell_type": "markdown",
      "metadata": {
        "id": "2x8MGngU3UPT",
        "colab_type": "text"
      },
      "source": [
        "We are going to predict the variable loan_status. What are the value counts?"
      ]
    },
    {
      "cell_type": "code",
      "metadata": {
        "id": "t_36kU1A3UPT",
        "colab_type": "code",
        "outputId": "fe5f06c6-6a6d-4a5f-f65d-17fb5d53d8b2",
        "colab": {
          "base_uri": "https://localhost:8080/",
          "height": 193
        }
      },
      "source": [
        "df['loan_status'].value_counts(dropna=False)"
      ],
      "execution_count": 7,
      "outputs": [
        {
          "output_type": "execute_result",
          "data": {
            "text/plain": [
              "Fully Paid                                             1041952\n",
              "Current                                                 919695\n",
              "Charged Off                                             261655\n",
              "Late (31-120 days)                                       21897\n",
              "In Grace Period                                           8952\n",
              "Late (16-30 days)                                         3737\n",
              "Does not meet the credit policy. Status:Fully Paid        1988\n",
              "Does not meet the credit policy. Status:Charged Off        761\n",
              "Default                                                     31\n",
              "Name: loan_status, dtype: int64"
            ]
          },
          "metadata": {
            "tags": []
          },
          "execution_count": 7
        }
      ]
    },
    {
      "cell_type": "markdown",
      "metadata": {
        "id": "a1ry1QS93UPW",
        "colab_type": "text"
      },
      "source": [
        "We are going to only considers the Charged Off and Fully Paid values."
      ]
    },
    {
      "cell_type": "code",
      "metadata": {
        "id": "UrMX-3Bx3UPX",
        "colab_type": "code",
        "colab": {}
      },
      "source": [
        "df = df.loc[df['loan_status'].isin(['Fully Paid','Charged Off'])]"
      ],
      "execution_count": 0,
      "outputs": []
    },
    {
      "cell_type": "code",
      "metadata": {
        "id": "4jWMFqmU3UPZ",
        "colab_type": "code",
        "outputId": "9dd6a109-d3a0-4d44-9a82-68f84228d3e4",
        "colab": {
          "base_uri": "https://localhost:8080/",
          "height": 35
        }
      },
      "source": [
        "df.shape"
      ],
      "execution_count": 9,
      "outputs": [
        {
          "output_type": "execute_result",
          "data": {
            "text/plain": [
              "(1303607, 145)"
            ]
          },
          "metadata": {
            "tags": []
          },
          "execution_count": 9
        }
      ]
    },
    {
      "cell_type": "markdown",
      "metadata": {
        "id": "TF1hKTy_3UPc",
        "colab_type": "text"
      },
      "source": [
        "There are still 1303607 loans remaining. Lets recheck their status."
      ]
    },
    {
      "cell_type": "code",
      "metadata": {
        "id": "7YxUsBlB3UPd",
        "colab_type": "code",
        "colab": {}
      },
      "source": [
        "di = {\"Fully Paid\":0, \"Charged Off\":1}   #converting target variable to boolean\n",
        "df= df.replace({\"loan_status\": di})"
      ],
      "execution_count": 0,
      "outputs": []
    },
    {
      "cell_type": "code",
      "metadata": {
        "id": "LkSq7hzi3UPf",
        "colab_type": "code",
        "outputId": "86d3ae7f-c066-40ae-b0c1-52bdf4538a2c",
        "colab": {
          "base_uri": "https://localhost:8080/",
          "height": 70
        }
      },
      "source": [
        "df['loan_status'].value_counts(normalize=True)"
      ],
      "execution_count": 11,
      "outputs": [
        {
          "output_type": "execute_result",
          "data": {
            "text/plain": [
              "0    0.799284\n",
              "1    0.200716\n",
              "Name: loan_status, dtype: float64"
            ]
          },
          "metadata": {
            "tags": []
          },
          "execution_count": 11
        }
      ]
    },
    {
      "cell_type": "markdown",
      "metadata": {
        "id": "Ow5Z-_Sx3UPh",
        "colab_type": "text"
      },
      "source": [
        "About 80% of the loans are fully paid and the rest 20% percent are charged off, so we can see a somewhat imbalance in our target variable"
      ]
    },
    {
      "cell_type": "markdown",
      "metadata": {
        "id": "ZfIaAA053UPi",
        "colab_type": "text"
      },
      "source": [
        "### 4. Feature space limiting"
      ]
    },
    {
      "cell_type": "markdown",
      "metadata": {
        "id": "TlbG980o3UPj",
        "colab_type": "text"
      },
      "source": [
        "The dataset consists of 145 features for each loan. We will divide our feature selection in two steps:\n",
        "\n",
        "1. Drop the features with more than 30% missing data.\n",
        "2. Of the remaining features, we chose only those that would be the best ones."
      ]
    },
    {
      "cell_type": "markdown",
      "metadata": {
        "id": "m7oVT1z53UPk",
        "colab_type": "text"
      },
      "source": [
        "### 4.1 Drop features with missing data"
      ]
    },
    {
      "cell_type": "markdown",
      "metadata": {
        "id": "COVyPVXq3UPk",
        "colab_type": "text"
      },
      "source": [
        "First calculate the percentage of missing data for each feature:"
      ]
    },
    {
      "cell_type": "code",
      "metadata": {
        "pycharm": {
          "is_executing": false
        },
        "id": "jKBnJvs-3UPl",
        "colab_type": "code",
        "colab": {}
      },
      "source": [
        "def missing_values_table(df):\n",
        "        mis_val = df.isnull().sum()\n",
        "        mis_val_percent = 100 * df.isnull().sum() / len(df)\n",
        "        mis_val_table = pd.concat([mis_val, mis_val_percent], axis=1)\n",
        "        mis_val_table_ren_columns = mis_val_table.rename(\n",
        "        columns = {0 : 'Missing Values', 1 : '% of Total Values'})\n",
        "        mis_val_table_ren_columns = mis_val_table_ren_columns[\n",
        "            mis_val_table_ren_columns.iloc[:,1] != 0].sort_values(\n",
        "        '% of Total Values', ascending=False).round(1)\n",
        "        print (\"Your selected dataframe has \" + str(df.shape[1]) + \" columns.\\n\"      \n",
        "            \"There are \" + str(mis_val_table_ren_columns.shape[0]) +\n",
        "              \" columns that have missing values.\")\n",
        "        return mis_val_table_ren_columns"
      ],
      "execution_count": 0,
      "outputs": []
    },
    {
      "cell_type": "code",
      "metadata": {
        "pycharm": {
          "is_executing": false
        },
        "id": "n8wTlnhU3UPn",
        "colab_type": "code",
        "outputId": "44a1a1bc-9406-4d6b-a8a7-fb8882a6e7b6",
        "colab": {
          "base_uri": "https://localhost:8080/",
          "height": 392
        }
      },
      "source": [
        "# Missing values statistics\n",
        "miss_values = missing_values_table(df)\n",
        "miss_values.head(10)"
      ],
      "execution_count": 13,
      "outputs": [
        {
          "output_type": "stream",
          "text": [
            "Your selected dataframe has 145 columns.\n",
            "There are 105 columns that have missing values.\n"
          ],
          "name": "stdout"
        },
        {
          "output_type": "execute_result",
          "data": {
            "text/html": [
              "<div>\n",
              "<style scoped>\n",
              "    .dataframe tbody tr th:only-of-type {\n",
              "        vertical-align: middle;\n",
              "    }\n",
              "\n",
              "    .dataframe tbody tr th {\n",
              "        vertical-align: top;\n",
              "    }\n",
              "\n",
              "    .dataframe thead th {\n",
              "        text-align: right;\n",
              "    }\n",
              "</style>\n",
              "<table border=\"1\" class=\"dataframe\">\n",
              "  <thead>\n",
              "    <tr style=\"text-align: right;\">\n",
              "      <th></th>\n",
              "      <th>Missing Values</th>\n",
              "      <th>% of Total Values</th>\n",
              "    </tr>\n",
              "  </thead>\n",
              "  <tbody>\n",
              "    <tr>\n",
              "      <th>id</th>\n",
              "      <td>1303607</td>\n",
              "      <td>100.0</td>\n",
              "    </tr>\n",
              "    <tr>\n",
              "      <th>url</th>\n",
              "      <td>1303607</td>\n",
              "      <td>100.0</td>\n",
              "    </tr>\n",
              "    <tr>\n",
              "      <th>member_id</th>\n",
              "      <td>1303607</td>\n",
              "      <td>100.0</td>\n",
              "    </tr>\n",
              "    <tr>\n",
              "      <th>next_pymnt_d</th>\n",
              "      <td>1303607</td>\n",
              "      <td>100.0</td>\n",
              "    </tr>\n",
              "    <tr>\n",
              "      <th>orig_projected_additional_accrued_interest</th>\n",
              "      <td>1300174</td>\n",
              "      <td>99.7</td>\n",
              "    </tr>\n",
              "    <tr>\n",
              "      <th>hardship_type</th>\n",
              "      <td>1298272</td>\n",
              "      <td>99.6</td>\n",
              "    </tr>\n",
              "    <tr>\n",
              "      <th>hardship_reason</th>\n",
              "      <td>1298272</td>\n",
              "      <td>99.6</td>\n",
              "    </tr>\n",
              "    <tr>\n",
              "      <th>hardship_status</th>\n",
              "      <td>1298272</td>\n",
              "      <td>99.6</td>\n",
              "    </tr>\n",
              "    <tr>\n",
              "      <th>hardship_last_payment_amount</th>\n",
              "      <td>1298272</td>\n",
              "      <td>99.6</td>\n",
              "    </tr>\n",
              "    <tr>\n",
              "      <th>hardship_payoff_balance_amount</th>\n",
              "      <td>1298272</td>\n",
              "      <td>99.6</td>\n",
              "    </tr>\n",
              "  </tbody>\n",
              "</table>\n",
              "</div>"
            ],
            "text/plain": [
              "                                            Missing Values  % of Total Values\n",
              "id                                                 1303607              100.0\n",
              "url                                                1303607              100.0\n",
              "member_id                                          1303607              100.0\n",
              "next_pymnt_d                                       1303607              100.0\n",
              "orig_projected_additional_accrued_interest         1300174               99.7\n",
              "hardship_type                                      1298272               99.6\n",
              "hardship_reason                                    1298272               99.6\n",
              "hardship_status                                    1298272               99.6\n",
              "hardship_last_payment_amount                       1298272               99.6\n",
              "hardship_payoff_balance_amount                     1298272               99.6"
            ]
          },
          "metadata": {
            "tags": []
          },
          "execution_count": 13
        }
      ]
    },
    {
      "cell_type": "code",
      "metadata": {
        "id": "RccB3MLR3UPq",
        "colab_type": "code",
        "colab": {}
      },
      "source": [
        "missing_fractions = df.isnull().mean().sort_values(ascending=False)"
      ],
      "execution_count": 0,
      "outputs": []
    },
    {
      "cell_type": "markdown",
      "metadata": {
        "id": "Tft5iiBD3UPs",
        "colab_type": "text"
      },
      "source": [
        "Let's visualize the distribution of missing data"
      ]
    },
    {
      "cell_type": "code",
      "metadata": {
        "scrolled": true,
        "id": "Y6Y4Tv1g3UPt",
        "colab_type": "code",
        "outputId": "21394ac8-217e-4427-abc4-8b4a81bd20fe",
        "colab": {
          "base_uri": "https://localhost:8080/",
          "height": 355
        }
      },
      "source": [
        "plt.figure(figsize=(6,3),dpi=100)\n",
        "missing_fractions.plot.hist(bins=20)\n",
        "plt.title('Histogram of Feature Incompleteness')\n",
        "plt.xlabel('Fraction of data missing')\n",
        "plt.ylabel('Feature count')"
      ],
      "execution_count": 15,
      "outputs": [
        {
          "output_type": "execute_result",
          "data": {
            "text/plain": [
              "Text(0, 0.5, 'Feature count')"
            ]
          },
          "metadata": {
            "tags": []
          },
          "execution_count": 15
        },
        {
          "output_type": "display_data",
          "data": {
            "image/png": "[encoded data removed]",
            "text/plain": [
              "<Figure size 600x300 with 1 Axes>"
            ]
          },
          "metadata": {
            "tags": []
          }
        }
      ]
    },
    {
      "cell_type": "markdown",
      "metadata": {
        "id": "kokuKYk83UPw",
        "colab_type": "text"
      },
      "source": [
        "We can see that there a huge gap between the features missing some data(<20%) and those who are missing a lot of data(>40%). Since its very difficult to impute the remaining data accurately for the columns with more than 30% missing values, we drop those columns.\n",
        "\n",
        "First storing all columns missing more than 30% data into a list:"
      ]
    },
    {
      "cell_type": "code",
      "metadata": {
        "id": "wL57EhJX3UPw",
        "colab_type": "code",
        "outputId": "957612a0-f69d-4c53-de17-abe1420c934b",
        "colab": {
          "base_uri": "https://localhost:8080/",
          "height": 55
        }
      },
      "source": [
        "drop_list = list(missing_fractions[missing_fractions>0.3].index)\n",
        "print(drop_list)"
      ],
      "execution_count": 16,
      "outputs": [
        {
          "output_type": "stream",
          "text": [
            "['id', 'member_id', 'url', 'next_pymnt_d', 'orig_projected_additional_accrued_interest', 'hardship_length', 'hardship_type', 'hardship_reason', 'hardship_status', 'deferral_term', 'hardship_amount', 'hardship_end_date', 'payment_plan_start_date', 'hardship_start_date', 'hardship_dpd', 'hardship_last_payment_amount', 'hardship_loan_status', 'hardship_payoff_balance_amount', 'sec_app_mths_since_last_major_derog', 'sec_app_revol_util', 'revol_bal_joint', 'sec_app_collections_12_mths_ex_med', 'sec_app_chargeoff_within_12_mths', 'sec_app_num_rev_accts', 'sec_app_open_act_il', 'sec_app_open_acc', 'sec_app_mort_acc', 'sec_app_inq_last_6mths', 'sec_app_earliest_cr_line', 'verification_status_joint', 'dti_joint', 'annual_inc_joint', 'settlement_percentage', 'settlement_term', 'settlement_status', 'settlement_amount', 'settlement_date', 'debt_settlement_flag_date', 'desc', 'mths_since_last_record', 'mths_since_recent_bc_dlq', 'mths_since_last_major_derog', 'il_util', 'mths_since_recent_revol_delinq', 'mths_since_rcnt_il', 'all_util', 'open_acc_6m', 'inq_last_12m', 'total_cu_tl', 'open_il_24m', 'open_rv_12m', 'open_rv_24m', 'total_bal_il', 'max_bal_bc', 'open_act_il', 'open_il_12m', 'inq_fi', 'mths_since_last_delinq']\n"
          ],
          "name": "stdout"
        }
      ]
    },
    {
      "cell_type": "markdown",
      "metadata": {
        "id": "Un8cKYJ23UPz",
        "colab_type": "text"
      },
      "source": [
        "No of features being dropped"
      ]
    },
    {
      "cell_type": "code",
      "metadata": {
        "id": "pqgAfj_B3UP0",
        "colab_type": "code",
        "outputId": "29feea71-e5e0-4efa-cc64-1ddac3d8e10e",
        "colab": {
          "base_uri": "https://localhost:8080/",
          "height": 35
        }
      },
      "source": [
        "len(drop_list)"
      ],
      "execution_count": 17,
      "outputs": [
        {
          "output_type": "execute_result",
          "data": {
            "text/plain": [
              "58"
            ]
          },
          "metadata": {
            "tags": []
          },
          "execution_count": 17
        }
      ]
    },
    {
      "cell_type": "markdown",
      "metadata": {
        "id": "9VDGQCnX3UP5",
        "colab_type": "text"
      },
      "source": [
        "Dropping these features:"
      ]
    },
    {
      "cell_type": "code",
      "metadata": {
        "id": "XX0F9w7j3UP8",
        "colab_type": "code",
        "colab": {}
      },
      "source": [
        "df.drop(labels=drop_list, axis=1, inplace=True)"
      ],
      "execution_count": 0,
      "outputs": []
    },
    {
      "cell_type": "code",
      "metadata": {
        "id": "elzAWcy_3UP-",
        "colab_type": "code",
        "outputId": "850c70b6-f59d-4556-98a4-f6fc5c8a4e3d",
        "colab": {
          "base_uri": "https://localhost:8080/",
          "height": 35
        }
      },
      "source": [
        "df.shape"
      ],
      "execution_count": 19,
      "outputs": [
        {
          "output_type": "execute_result",
          "data": {
            "text/plain": [
              "(1303607, 87)"
            ]
          },
          "metadata": {
            "tags": []
          },
          "execution_count": 19
        }
      ]
    },
    {
      "cell_type": "markdown",
      "metadata": {
        "id": "CpEMhls13UQB",
        "colab_type": "text"
      },
      "source": [
        "### 4.2 Keeping useful features"
      ]
    },
    {
      "cell_type": "markdown",
      "metadata": {
        "id": "uyVLJIG_3UQB",
        "colab_type": "text"
      },
      "source": [
        "After researching through the data dictionary we decide to keep only the use full features from all the remaining features we have."
      ]
    },
    {
      "cell_type": "code",
      "metadata": {
        "id": "UdEc1Deg3UQC",
        "colab_type": "code",
        "outputId": "e6eaafd8-3ce7-4675-d252-bc16c7b530da",
        "colab": {
          "base_uri": "https://localhost:8080/",
          "height": 35
        }
      },
      "source": [
        "features = ['funded_amnt','emp_length','annual_inc','home_ownership','grade',\n",
        "            \"last_pymnt_amnt\", \"mort_acc\", \"pub_rec\", \"int_rate\", \"open_acc\",\"num_actv_rev_tl\",\n",
        "            \"mo_sin_rcnt_rev_tl_op\",\"mo_sin_old_rev_tl_op\",\"bc_util\",\"bc_open_to_buy\",\n",
        "            \"avg_cur_bal\",\"acc_open_past_24mths\",'loan_status'] \n",
        "Final_data = df[features]\n",
        "Final_data = Final_data.reset_index(drop=True)\n",
        "Final_data.shape"
      ],
      "execution_count": 20,
      "outputs": [
        {
          "output_type": "execute_result",
          "data": {
            "text/plain": [
              "(1303607, 18)"
            ]
          },
          "metadata": {
            "tags": []
          },
          "execution_count": 20
        }
      ]
    },
    {
      "cell_type": "code",
      "metadata": {
        "scrolled": true,
        "id": "lZ73_Pl83UQH",
        "colab_type": "code",
        "outputId": "4d97067d-6916-46a4-e0eb-8cc2c0bdf81f",
        "colab": {
          "base_uri": "https://localhost:8080/",
          "height": 228
        }
      },
      "source": [
        "Final_data['emp_length'].value_counts()"
      ],
      "execution_count": 21,
      "outputs": [
        {
          "output_type": "execute_result",
          "data": {
            "text/plain": [
              "10+ years    428547\n",
              "2 years      117820\n",
              "< 1 year     104550\n",
              "3 years      104200\n",
              "1 year        85677\n",
              "5 years       81623\n",
              "4 years       78029\n",
              "6 years       60933\n",
              "8 years       59125\n",
              "7 years       58145\n",
              "9 years       49504\n",
              "Name: emp_length, dtype: int64"
            ]
          },
          "metadata": {
            "tags": []
          },
          "execution_count": 21
        }
      ]
    },
    {
      "cell_type": "code",
      "metadata": {
        "id": "T2BLSWX33UQL",
        "colab_type": "code",
        "outputId": "29ed7ace-e2ad-4c68-bb10-d57a35486280",
        "colab": {
          "base_uri": "https://localhost:8080/",
          "height": 223
        }
      },
      "source": [
        "Final_data.head()"
      ],
      "execution_count": 22,
      "outputs": [
        {
          "output_type": "execute_result",
          "data": {
            "text/html": [
              "<div>\n",
              "<style scoped>\n",
              "    .dataframe tbody tr th:only-of-type {\n",
              "        vertical-align: middle;\n",
              "    }\n",
              "\n",
              "    .dataframe tbody tr th {\n",
              "        vertical-align: top;\n",
              "    }\n",
              "\n",
              "    .dataframe thead th {\n",
              "        text-align: right;\n",
              "    }\n",
              "</style>\n",
              "<table border=\"1\" class=\"dataframe\">\n",
              "  <thead>\n",
              "    <tr style=\"text-align: right;\">\n",
              "      <th></th>\n",
              "      <th>funded_amnt</th>\n",
              "      <th>emp_length</th>\n",
              "      <th>annual_inc</th>\n",
              "      <th>home_ownership</th>\n",
              "      <th>grade</th>\n",
              "      <th>last_pymnt_amnt</th>\n",
              "      <th>mort_acc</th>\n",
              "      <th>pub_rec</th>\n",
              "      <th>int_rate</th>\n",
              "      <th>open_acc</th>\n",
              "      <th>num_actv_rev_tl</th>\n",
              "      <th>mo_sin_rcnt_rev_tl_op</th>\n",
              "      <th>mo_sin_old_rev_tl_op</th>\n",
              "      <th>bc_util</th>\n",
              "      <th>bc_open_to_buy</th>\n",
              "      <th>avg_cur_bal</th>\n",
              "      <th>acc_open_past_24mths</th>\n",
              "      <th>loan_status</th>\n",
              "    </tr>\n",
              "  </thead>\n",
              "  <tbody>\n",
              "    <tr>\n",
              "      <th>0</th>\n",
              "      <td>30000</td>\n",
              "      <td>5 years</td>\n",
              "      <td>100000.0</td>\n",
              "      <td>MORTGAGE</td>\n",
              "      <td>D</td>\n",
              "      <td>30082.32</td>\n",
              "      <td>1.0</td>\n",
              "      <td>1.0</td>\n",
              "      <td>22.35</td>\n",
              "      <td>11.0</td>\n",
              "      <td>4.0</td>\n",
              "      <td>23.0</td>\n",
              "      <td>73.0</td>\n",
              "      <td>46.9</td>\n",
              "      <td>15181.0</td>\n",
              "      <td>42939.0</td>\n",
              "      <td>4.0</td>\n",
              "      <td>0</td>\n",
              "    </tr>\n",
              "    <tr>\n",
              "      <th>1</th>\n",
              "      <td>40000</td>\n",
              "      <td>&lt; 1 year</td>\n",
              "      <td>45000.0</td>\n",
              "      <td>MORTGAGE</td>\n",
              "      <td>C</td>\n",
              "      <td>40910.48</td>\n",
              "      <td>1.0</td>\n",
              "      <td>0.0</td>\n",
              "      <td>16.14</td>\n",
              "      <td>18.0</td>\n",
              "      <td>9.0</td>\n",
              "      <td>2.0</td>\n",
              "      <td>70.0</td>\n",
              "      <td>67.3</td>\n",
              "      <td>14930.0</td>\n",
              "      <td>15059.0</td>\n",
              "      <td>5.0</td>\n",
              "      <td>0</td>\n",
              "    </tr>\n",
              "    <tr>\n",
              "      <th>2</th>\n",
              "      <td>20000</td>\n",
              "      <td>10+ years</td>\n",
              "      <td>100000.0</td>\n",
              "      <td>MORTGAGE</td>\n",
              "      <td>A</td>\n",
              "      <td>20228.39</td>\n",
              "      <td>5.0</td>\n",
              "      <td>0.0</td>\n",
              "      <td>7.56</td>\n",
              "      <td>9.0</td>\n",
              "      <td>5.0</td>\n",
              "      <td>1.0</td>\n",
              "      <td>238.0</td>\n",
              "      <td>29.9</td>\n",
              "      <td>59684.0</td>\n",
              "      <td>57309.0</td>\n",
              "      <td>5.0</td>\n",
              "      <td>0</td>\n",
              "    </tr>\n",
              "    <tr>\n",
              "      <th>3</th>\n",
              "      <td>4500</td>\n",
              "      <td>10+ years</td>\n",
              "      <td>38500.0</td>\n",
              "      <td>RENT</td>\n",
              "      <td>B</td>\n",
              "      <td>4553.46</td>\n",
              "      <td>0.0</td>\n",
              "      <td>0.0</td>\n",
              "      <td>11.31</td>\n",
              "      <td>12.0</td>\n",
              "      <td>5.0</td>\n",
              "      <td>2.0</td>\n",
              "      <td>69.0</td>\n",
              "      <td>28.9</td>\n",
              "      <td>10735.0</td>\n",
              "      <td>2428.0</td>\n",
              "      <td>8.0</td>\n",
              "      <td>0</td>\n",
              "    </tr>\n",
              "    <tr>\n",
              "      <th>4</th>\n",
              "      <td>8425</td>\n",
              "      <td>3 years</td>\n",
              "      <td>450000.0</td>\n",
              "      <td>MORTGAGE</td>\n",
              "      <td>E</td>\n",
              "      <td>8754.30</td>\n",
              "      <td>4.0</td>\n",
              "      <td>0.0</td>\n",
              "      <td>27.27</td>\n",
              "      <td>21.0</td>\n",
              "      <td>8.0</td>\n",
              "      <td>12.0</td>\n",
              "      <td>89.0</td>\n",
              "      <td>74.6</td>\n",
              "      <td>11632.0</td>\n",
              "      <td>34516.0</td>\n",
              "      <td>10.0</td>\n",
              "      <td>0</td>\n",
              "    </tr>\n",
              "  </tbody>\n",
              "</table>\n",
              "</div>"
            ],
            "text/plain": [
              "   funded_amnt emp_length  annual_inc home_ownership grade  last_pymnt_amnt  \\\n",
              "0        30000    5 years    100000.0       MORTGAGE     D         30082.32   \n",
              "1        40000   < 1 year     45000.0       MORTGAGE     C         40910.48   \n",
              "2        20000  10+ years    100000.0       MORTGAGE     A         20228.39   \n",
              "3         4500  10+ years     38500.0           RENT     B          4553.46   \n",
              "4         8425    3 years    450000.0       MORTGAGE     E          8754.30   \n",
              "\n",
              "   mort_acc  pub_rec  int_rate  open_acc  num_actv_rev_tl  \\\n",
              "0       1.0      1.0     22.35      11.0              4.0   \n",
              "1       1.0      0.0     16.14      18.0              9.0   \n",
              "2       5.0      0.0      7.56       9.0              5.0   \n",
              "3       0.0      0.0     11.31      12.0              5.0   \n",
              "4       4.0      0.0     27.27      21.0              8.0   \n",
              "\n",
              "   mo_sin_rcnt_rev_tl_op  mo_sin_old_rev_tl_op  bc_util  bc_open_to_buy  \\\n",
              "0                   23.0                  73.0     46.9         15181.0   \n",
              "1                    2.0                  70.0     67.3         14930.0   \n",
              "2                    1.0                 238.0     29.9         59684.0   \n",
              "3                    2.0                  69.0     28.9         10735.0   \n",
              "4                   12.0                  89.0     74.6         11632.0   \n",
              "\n",
              "   avg_cur_bal  acc_open_past_24mths  loan_status  \n",
              "0      42939.0                   4.0            0  \n",
              "1      15059.0                   5.0            0  \n",
              "2      57309.0                   5.0            0  \n",
              "3       2428.0                   8.0            0  \n",
              "4      34516.0                  10.0            0  "
            ]
          },
          "metadata": {
            "tags": []
          },
          "execution_count": 22
        }
      ]
    },
    {
      "cell_type": "markdown",
      "metadata": {
        "id": "N4lQFXMI3UQQ",
        "colab_type": "text"
      },
      "source": [
        "### 5. Data Transformation"
      ]
    },
    {
      "cell_type": "markdown",
      "metadata": {
        "id": "PPu4VcH-3UQR",
        "colab_type": "text"
      },
      "source": [
        "We need to transform some categotial values in our dataset to numerical labels so we can use it to work with some models\n",
        "Grade and home_ownership should be encoded to numerical values.\n",
        "Also emp_length is in a format of string i.e. \"5 years\",\"1 year\" which needs to be changed to its numerical values."
      ]
    },
    {
      "cell_type": "code",
      "metadata": {
        "id": "ABSs1-EA3UQS",
        "colab_type": "code",
        "outputId": "b344c3fc-41c2-4d00-8da9-07a5f54da7dc",
        "colab": {
          "base_uri": "https://localhost:8080/",
          "height": 240
        }
      },
      "source": [
        "from sklearn.preprocessing import LabelEncoder\n",
        "\n",
        "lb_make = LabelEncoder()\n",
        "Final_data[\"home_ownership\"] = lb_make.fit_transform(Final_data[\"home_ownership\"])\n",
        "Final_data[\"grade\"] = lb_make.fit_transform(Final_data[\"grade\"])\n",
        "Final_data[\"emp_length\"] = Final_data[\"emp_length\"].replace({'years':'','year':'',' ':'','<':'','\\+':'','n/a':'0'}, regex = True)\n",
        "Final_data.astype({'emp_length':'float'})\n",
        "print(\"Current shape of dataset :\",Final_data.shape)\n",
        "Final_data.head()"
      ],
      "execution_count": 23,
      "outputs": [
        {
          "output_type": "stream",
          "text": [
            "Current shape of dataset : (1303607, 18)\n"
          ],
          "name": "stdout"
        },
        {
          "output_type": "execute_result",
          "data": {
            "text/html": [
              "<div>\n",
              "<style scoped>\n",
              "    .dataframe tbody tr th:only-of-type {\n",
              "        vertical-align: middle;\n",
              "    }\n",
              "\n",
              "    .dataframe tbody tr th {\n",
              "        vertical-align: top;\n",
              "    }\n",
              "\n",
              "    .dataframe thead th {\n",
              "        text-align: right;\n",
              "    }\n",
              "</style>\n",
              "<table border=\"1\" class=\"dataframe\">\n",
              "  <thead>\n",
              "    <tr style=\"text-align: right;\">\n",
              "      <th></th>\n",
              "      <th>funded_amnt</th>\n",
              "      <th>emp_length</th>\n",
              "      <th>annual_inc</th>\n",
              "      <th>home_ownership</th>\n",
              "      <th>grade</th>\n",
              "      <th>last_pymnt_amnt</th>\n",
              "      <th>mort_acc</th>\n",
              "      <th>pub_rec</th>\n",
              "      <th>int_rate</th>\n",
              "      <th>open_acc</th>\n",
              "      <th>num_actv_rev_tl</th>\n",
              "      <th>mo_sin_rcnt_rev_tl_op</th>\n",
              "      <th>mo_sin_old_rev_tl_op</th>\n",
              "      <th>bc_util</th>\n",
              "      <th>bc_open_to_buy</th>\n",
              "      <th>avg_cur_bal</th>\n",
              "      <th>acc_open_past_24mths</th>\n",
              "      <th>loan_status</th>\n",
              "    </tr>\n",
              "  </thead>\n",
              "  <tbody>\n",
              "    <tr>\n",
              "      <th>0</th>\n",
              "      <td>30000</td>\n",
              "      <td>5</td>\n",
              "      <td>100000.0</td>\n",
              "      <td>1</td>\n",
              "      <td>3</td>\n",
              "      <td>30082.32</td>\n",
              "      <td>1.0</td>\n",
              "      <td>1.0</td>\n",
              "      <td>22.35</td>\n",
              "      <td>11.0</td>\n",
              "      <td>4.0</td>\n",
              "      <td>23.0</td>\n",
              "      <td>73.0</td>\n",
              "      <td>46.9</td>\n",
              "      <td>15181.0</td>\n",
              "      <td>42939.0</td>\n",
              "      <td>4.0</td>\n",
              "      <td>0</td>\n",
              "    </tr>\n",
              "    <tr>\n",
              "      <th>1</th>\n",
              "      <td>40000</td>\n",
              "      <td>1</td>\n",
              "      <td>45000.0</td>\n",
              "      <td>1</td>\n",
              "      <td>2</td>\n",
              "      <td>40910.48</td>\n",
              "      <td>1.0</td>\n",
              "      <td>0.0</td>\n",
              "      <td>16.14</td>\n",
              "      <td>18.0</td>\n",
              "      <td>9.0</td>\n",
              "      <td>2.0</td>\n",
              "      <td>70.0</td>\n",
              "      <td>67.3</td>\n",
              "      <td>14930.0</td>\n",
              "      <td>15059.0</td>\n",
              "      <td>5.0</td>\n",
              "      <td>0</td>\n",
              "    </tr>\n",
              "    <tr>\n",
              "      <th>2</th>\n",
              "      <td>20000</td>\n",
              "      <td>10</td>\n",
              "      <td>100000.0</td>\n",
              "      <td>1</td>\n",
              "      <td>0</td>\n",
              "      <td>20228.39</td>\n",
              "      <td>5.0</td>\n",
              "      <td>0.0</td>\n",
              "      <td>7.56</td>\n",
              "      <td>9.0</td>\n",
              "      <td>5.0</td>\n",
              "      <td>1.0</td>\n",
              "      <td>238.0</td>\n",
              "      <td>29.9</td>\n",
              "      <td>59684.0</td>\n",
              "      <td>57309.0</td>\n",
              "      <td>5.0</td>\n",
              "      <td>0</td>\n",
              "    </tr>\n",
              "    <tr>\n",
              "      <th>3</th>\n",
              "      <td>4500</td>\n",
              "      <td>10</td>\n",
              "      <td>38500.0</td>\n",
              "      <td>5</td>\n",
              "      <td>1</td>\n",
              "      <td>4553.46</td>\n",
              "      <td>0.0</td>\n",
              "      <td>0.0</td>\n",
              "      <td>11.31</td>\n",
              "      <td>12.0</td>\n",
              "      <td>5.0</td>\n",
              "      <td>2.0</td>\n",
              "      <td>69.0</td>\n",
              "      <td>28.9</td>\n",
              "      <td>10735.0</td>\n",
              "      <td>2428.0</td>\n",
              "      <td>8.0</td>\n",
              "      <td>0</td>\n",
              "    </tr>\n",
              "    <tr>\n",
              "      <th>4</th>\n",
              "      <td>8425</td>\n",
              "      <td>3</td>\n",
              "      <td>450000.0</td>\n",
              "      <td>1</td>\n",
              "      <td>4</td>\n",
              "      <td>8754.30</td>\n",
              "      <td>4.0</td>\n",
              "      <td>0.0</td>\n",
              "      <td>27.27</td>\n",
              "      <td>21.0</td>\n",
              "      <td>8.0</td>\n",
              "      <td>12.0</td>\n",
              "      <td>89.0</td>\n",
              "      <td>74.6</td>\n",
              "      <td>11632.0</td>\n",
              "      <td>34516.0</td>\n",
              "      <td>10.0</td>\n",
              "      <td>0</td>\n",
              "    </tr>\n",
              "  </tbody>\n",
              "</table>\n",
              "</div>"
            ],
            "text/plain": [
              "   funded_amnt emp_length  annual_inc  home_ownership  grade  last_pymnt_amnt  \\\n",
              "0        30000          5    100000.0               1      3         30082.32   \n",
              "1        40000          1     45000.0               1      2         40910.48   \n",
              "2        20000         10    100000.0               1      0         20228.39   \n",
              "3         4500         10     38500.0               5      1          4553.46   \n",
              "4         8425          3    450000.0               1      4          8754.30   \n",
              "\n",
              "   mort_acc  pub_rec  int_rate  open_acc  num_actv_rev_tl  \\\n",
              "0       1.0      1.0     22.35      11.0              4.0   \n",
              "1       1.0      0.0     16.14      18.0              9.0   \n",
              "2       5.0      0.0      7.56       9.0              5.0   \n",
              "3       0.0      0.0     11.31      12.0              5.0   \n",
              "4       4.0      0.0     27.27      21.0              8.0   \n",
              "\n",
              "   mo_sin_rcnt_rev_tl_op  mo_sin_old_rev_tl_op  bc_util  bc_open_to_buy  \\\n",
              "0                   23.0                  73.0     46.9         15181.0   \n",
              "1                    2.0                  70.0     67.3         14930.0   \n",
              "2                    1.0                 238.0     29.9         59684.0   \n",
              "3                    2.0                  69.0     28.9         10735.0   \n",
              "4                   12.0                  89.0     74.6         11632.0   \n",
              "\n",
              "   avg_cur_bal  acc_open_past_24mths  loan_status  \n",
              "0      42939.0                   4.0            0  \n",
              "1      15059.0                   5.0            0  \n",
              "2      57309.0                   5.0            0  \n",
              "3       2428.0                   8.0            0  \n",
              "4      34516.0                  10.0            0  "
            ]
          },
          "metadata": {
            "tags": []
          },
          "execution_count": 23
        }
      ]
    },
    {
      "cell_type": "code",
      "metadata": {
        "id": "nZwoS6lt3UQX",
        "colab_type": "code",
        "outputId": "ce80f2c7-4bd9-45da-f4a9-c34a7f747fb7",
        "colab": {
          "base_uri": "https://localhost:8080/",
          "height": 351
        }
      },
      "source": [
        "Final_data.isnull().sum()"
      ],
      "execution_count": 24,
      "outputs": [
        {
          "output_type": "execute_result",
          "data": {
            "text/plain": [
              "funded_amnt                  0\n",
              "emp_length               75454\n",
              "annual_inc                   0\n",
              "home_ownership               0\n",
              "grade                        0\n",
              "last_pymnt_amnt              0\n",
              "mort_acc                 47281\n",
              "pub_rec                      0\n",
              "int_rate                     0\n",
              "open_acc                     0\n",
              "num_actv_rev_tl          67527\n",
              "mo_sin_rcnt_rev_tl_op    67528\n",
              "mo_sin_old_rev_tl_op     67528\n",
              "bc_util                  61386\n",
              "bc_open_to_buy           60639\n",
              "avg_cur_bal              67548\n",
              "acc_open_past_24mths     47281\n",
              "loan_status                  0\n",
              "dtype: int64"
            ]
          },
          "metadata": {
            "tags": []
          },
          "execution_count": 24
        }
      ]
    },
    {
      "cell_type": "code",
      "metadata": {
        "id": "3-Npf-Dd3UQa",
        "colab_type": "code",
        "colab": {}
      },
      "source": [
        "Final_data.fillna(Final_data.mean(),inplace=True)"
      ],
      "execution_count": 0,
      "outputs": []
    },
    {
      "cell_type": "code",
      "metadata": {
        "id": "fgtp0mbn3UQf",
        "colab_type": "code",
        "outputId": "e48a8252-269c-4959-e8f1-9767e278690b",
        "colab": {
          "base_uri": "https://localhost:8080/",
          "height": 351
        }
      },
      "source": [
        "Final_data.isnull().sum()"
      ],
      "execution_count": 26,
      "outputs": [
        {
          "output_type": "execute_result",
          "data": {
            "text/plain": [
              "funded_amnt                  0\n",
              "emp_length               75454\n",
              "annual_inc                   0\n",
              "home_ownership               0\n",
              "grade                        0\n",
              "last_pymnt_amnt              0\n",
              "mort_acc                     0\n",
              "pub_rec                      0\n",
              "int_rate                     0\n",
              "open_acc                     0\n",
              "num_actv_rev_tl              0\n",
              "mo_sin_rcnt_rev_tl_op        0\n",
              "mo_sin_old_rev_tl_op         0\n",
              "bc_util                      0\n",
              "bc_open_to_buy               0\n",
              "avg_cur_bal                  0\n",
              "acc_open_past_24mths         0\n",
              "loan_status                  0\n",
              "dtype: int64"
            ]
          },
          "metadata": {
            "tags": []
          },
          "execution_count": 26
        }
      ]
    },
    {
      "cell_type": "code",
      "metadata": {
        "id": "JWGgUAFg3UQj",
        "colab_type": "code",
        "colab": {}
      },
      "source": [
        "scl = preprocessing.StandardScaler()\n",
        "fields = Final_data.columns.values[:-1]\n",
        "data_clean_full = pd.DataFrame(scl.fit_transform(Final_data[fields]), columns = fields)\n",
        "data_clean_full['loan_status'] = Final_data['loan_status']\n",
        "data_clean_full['loan_status'].value_counts()\n",
        "data_clean_full.drop('emp_length',axis=1, inplace=True)\n"
      ],
      "execution_count": 0,
      "outputs": []
    },
    {
      "cell_type": "code",
      "metadata": {
        "id": "K3iISm2LWGZG",
        "colab_type": "code",
        "colab": {
          "base_uri": "https://localhost:8080/",
          "height": 240
        },
        "outputId": "991b21f3-5d3f-414a-d31e-4bb81ae7aed1"
      },
      "source": [
        "loanstatus_0 = data_clean_full[data_clean_full[\"loan_status\"]==0]\n",
        "loanstatus_1 = data_clean_full[data_clean_full[\"loan_status\"]==1]\n",
        "subset_of_loanstatus_0 = loanstatus_0.sample(n=5500)\n",
        "subset_of_loanstatus_1 = loanstatus_1.sample(n=5500)\n",
        "data_clean = pd.concat([subset_of_loanstatus_1, subset_of_loanstatus_0])\n",
        "data_clean = data_clean.sample(frac=1).reset_index(drop=True)\n",
        "print(\"Current shape of dataset :\",data_clean.shape)\n",
        "\n",
        "data_clean.drop('emp_length',axis=1, inplace=True)\n",
        "data_clean.head(5)"
      ],
      "execution_count": 43,
      "outputs": [
        {
          "output_type": "stream",
          "text": [
            "Current shape of dataset : (11000, 18)\n"
          ],
          "name": "stdout"
        },
        {
          "output_type": "execute_result",
          "data": {
            "text/html": [
              "<div>\n",
              "<style scoped>\n",
              "    .dataframe tbody tr th:only-of-type {\n",
              "        vertical-align: middle;\n",
              "    }\n",
              "\n",
              "    .dataframe tbody tr th {\n",
              "        vertical-align: top;\n",
              "    }\n",
              "\n",
              "    .dataframe thead th {\n",
              "        text-align: right;\n",
              "    }\n",
              "</style>\n",
              "<table border=\"1\" class=\"dataframe\">\n",
              "  <thead>\n",
              "    <tr style=\"text-align: right;\">\n",
              "      <th></th>\n",
              "      <th>funded_amnt</th>\n",
              "      <th>annual_inc</th>\n",
              "      <th>home_ownership</th>\n",
              "      <th>grade</th>\n",
              "      <th>last_pymnt_amnt</th>\n",
              "      <th>mort_acc</th>\n",
              "      <th>pub_rec</th>\n",
              "      <th>int_rate</th>\n",
              "      <th>open_acc</th>\n",
              "      <th>num_actv_rev_tl</th>\n",
              "      <th>mo_sin_rcnt_rev_tl_op</th>\n",
              "      <th>mo_sin_old_rev_tl_op</th>\n",
              "      <th>bc_util</th>\n",
              "      <th>bc_open_to_buy</th>\n",
              "      <th>avg_cur_bal</th>\n",
              "      <th>acc_open_past_24mths</th>\n",
              "      <th>loan_status</th>\n",
              "    </tr>\n",
              "  </thead>\n",
              "  <tbody>\n",
              "    <tr>\n",
              "      <th>0</th>\n",
              "      <td>-0.184938</td>\n",
              "      <td>-0.501921</td>\n",
              "      <td>-0.997298</td>\n",
              "      <td>0.962661</td>\n",
              "      <td>1.032932</td>\n",
              "      <td>-0.343878</td>\n",
              "      <td>-0.357498</td>\n",
              "      <td>0.691682</td>\n",
              "      <td>-1.206221</td>\n",
              "      <td>-0.512689</td>\n",
              "      <td>-0.635846</td>\n",
              "      <td>0.408238</td>\n",
              "      <td>1.295149</td>\n",
              "      <td>-0.622616</td>\n",
              "      <td>-0.551529</td>\n",
              "      <td>0.416865</td>\n",
              "      <td>0</td>\n",
              "    </tr>\n",
              "    <tr>\n",
              "      <th>1</th>\n",
              "      <td>0.068068</td>\n",
              "      <td>-0.449957</td>\n",
              "      <td>1.090493</td>\n",
              "      <td>-1.350475</td>\n",
              "      <td>-0.723920</td>\n",
              "      <td>-0.851916</td>\n",
              "      <td>-0.357498</td>\n",
              "      <td>-1.232469</td>\n",
              "      <td>0.989458</td>\n",
              "      <td>0.421691</td>\n",
              "      <td>0.057588</td>\n",
              "      <td>-0.723916</td>\n",
              "      <td>-0.669578</td>\n",
              "      <td>0.439981</td>\n",
              "      <td>-0.749404</td>\n",
              "      <td>-0.222749</td>\n",
              "      <td>1</td>\n",
              "    </tr>\n",
              "    <tr>\n",
              "      <th>2</th>\n",
              "      <td>-0.184938</td>\n",
              "      <td>-0.516197</td>\n",
              "      <td>1.090493</td>\n",
              "      <td>-0.579430</td>\n",
              "      <td>-0.706796</td>\n",
              "      <td>-0.851916</td>\n",
              "      <td>-0.357498</td>\n",
              "      <td>-0.371223</td>\n",
              "      <td>-1.206221</td>\n",
              "      <td>-0.201229</td>\n",
              "      <td>-0.635846</td>\n",
              "      <td>0.234060</td>\n",
              "      <td>-0.919700</td>\n",
              "      <td>-0.245224</td>\n",
              "      <td>-0.657437</td>\n",
              "      <td>0.097058</td>\n",
              "      <td>1</td>\n",
              "    </tr>\n",
              "    <tr>\n",
              "      <th>3</th>\n",
              "      <td>0.643080</td>\n",
              "      <td>-0.279462</td>\n",
              "      <td>-0.997298</td>\n",
              "      <td>1.733707</td>\n",
              "      <td>2.042245</td>\n",
              "      <td>-0.343878</td>\n",
              "      <td>1.301257</td>\n",
              "      <td>2.636838</td>\n",
              "      <td>-0.108382</td>\n",
              "      <td>-0.201229</td>\n",
              "      <td>-0.572807</td>\n",
              "      <td>1.224694</td>\n",
              "      <td>0.015539</td>\n",
              "      <td>-0.578107</td>\n",
              "      <td>-0.378570</td>\n",
              "      <td>1.056479</td>\n",
              "      <td>0</td>\n",
              "    </tr>\n",
              "    <tr>\n",
              "      <th>4</th>\n",
              "      <td>-0.851952</td>\n",
              "      <td>0.254694</td>\n",
              "      <td>1.090493</td>\n",
              "      <td>-0.579430</td>\n",
              "      <td>-0.733775</td>\n",
              "      <td>-0.851916</td>\n",
              "      <td>-0.357498</td>\n",
              "      <td>-0.444744</td>\n",
              "      <td>-0.291355</td>\n",
              "      <td>-0.512689</td>\n",
              "      <td>3.524761</td>\n",
              "      <td>-0.419105</td>\n",
              "      <td>1.327774</td>\n",
              "      <td>-0.675169</td>\n",
              "      <td>-0.556702</td>\n",
              "      <td>-1.501977</td>\n",
              "      <td>0</td>\n",
              "    </tr>\n",
              "  </tbody>\n",
              "</table>\n",
              "</div>"
            ],
            "text/plain": [
              "   funded_amnt  annual_inc  home_ownership     grade  last_pymnt_amnt  \\\n",
              "0    -0.184938   -0.501921       -0.997298  0.962661         1.032932   \n",
              "1     0.068068   -0.449957        1.090493 -1.350475        -0.723920   \n",
              "2    -0.184938   -0.516197        1.090493 -0.579430        -0.706796   \n",
              "3     0.643080   -0.279462       -0.997298  1.733707         2.042245   \n",
              "4    -0.851952    0.254694        1.090493 -0.579430        -0.733775   \n",
              "\n",
              "   mort_acc   pub_rec  int_rate  open_acc  num_actv_rev_tl  \\\n",
              "0 -0.343878 -0.357498  0.691682 -1.206221        -0.512689   \n",
              "1 -0.851916 -0.357498 -1.232469  0.989458         0.421691   \n",
              "2 -0.851916 -0.357498 -0.371223 -1.206221        -0.201229   \n",
              "3 -0.343878  1.301257  2.636838 -0.108382        -0.201229   \n",
              "4 -0.851916 -0.357498 -0.444744 -0.291355        -0.512689   \n",
              "\n",
              "   mo_sin_rcnt_rev_tl_op  mo_sin_old_rev_tl_op   bc_util  bc_open_to_buy  \\\n",
              "0              -0.635846              0.408238  1.295149       -0.622616   \n",
              "1               0.057588             -0.723916 -0.669578        0.439981   \n",
              "2              -0.635846              0.234060 -0.919700       -0.245224   \n",
              "3              -0.572807              1.224694  0.015539       -0.578107   \n",
              "4               3.524761             -0.419105  1.327774       -0.675169   \n",
              "\n",
              "   avg_cur_bal  acc_open_past_24mths  loan_status  \n",
              "0    -0.551529              0.416865            0  \n",
              "1    -0.749404             -0.222749            1  \n",
              "2    -0.657437              0.097058            1  \n",
              "3    -0.378570              1.056479            0  \n",
              "4    -0.556702             -1.501977            0  "
            ]
          },
          "metadata": {
            "tags": []
          },
          "execution_count": 43
        }
      ]
    },
    {
      "cell_type": "code",
      "metadata": {
        "id": "avwIjBBt3UQm",
        "colab_type": "code",
        "outputId": "f6dbeb64-6790-4167-9967-77193c654ad5",
        "colab": {
          "base_uri": "https://localhost:8080/",
          "height": 686
        }
      },
      "source": [
        "dataViz = data_clean\n",
        "sns.set_context(context='notebook')\n",
        "fig, ax = plt.subplots(figsize=(10,10)) \n",
        "corr = dataViz.corr()\n",
        "\n",
        "# Generate a mask for the upper triangle\n",
        "mask = np.zeros_like(corr, dtype=np.bool)\n",
        "mask[np.tril_indices_from(mask)] = True\n",
        "\n",
        "# Generate a custom diverging colormap\n",
        "cmap = sns.diverging_palette(220, 10, as_cmap=True)\n",
        "\n",
        "sns.heatmap(corr, cmap=cmap,linewidths=1, vmin=-1, vmax=1, square=True, cbar=True, center=0, ax=ax, mask=mask)"
      ],
      "execution_count": 44,
      "outputs": [
        {
          "output_type": "stream",
          "text": [
            "findfont: Font family ['Ricty'] not found. Falling back to DejaVu Sans.\n"
          ],
          "name": "stderr"
        },
        {
          "output_type": "execute_result",
          "data": {
            "text/plain": [
              "<matplotlib.axes._subplots.AxesSubplot at 0x7ff5043d6a58>"
            ]
          },
          "metadata": {
            "tags": []
          },
          "execution_count": 44
        },
        {
          "output_type": "display_data",
          "data": {
            "image/png": "[encoded data removed]",
            "text/plain": [
              "<Figure size 720x720 with 2 Axes>"
            ]
          },
          "metadata": {
            "tags": []
          }
        }
      ]
    },
    {
      "cell_type": "markdown",
      "metadata": {
        "id": "zvEYNd_M3UQo",
        "colab_type": "text"
      },
      "source": [
        "### ROC Plot function"
      ]
    },
    {
      "cell_type": "markdown",
      "metadata": {
        "id": "aWZvL4bh3UQp",
        "colab_type": "text"
      },
      "source": [
        "Creating a ROC function to be used for all the models."
      ]
    },
    {
      "cell_type": "code",
      "metadata": {
        "id": "qjd7lVnR3UQq",
        "colab_type": "code",
        "colab": {}
      },
      "source": [
        "sns.set('talk', 'whitegrid', 'dark', font_scale=1, font='Ricty',rc={\"lines.linewidth\": 2, 'grid.linestyle': '--'})\n",
        "def plotAUC(truth, pred, lab):\n",
        "    fpr, tpr, _ = metrics.roc_curve(truth,pred)\n",
        "    roc_auc = metrics.auc(fpr, tpr)\n",
        "    lw = 2\n",
        "    c = (np.random.rand(), np.random.rand(), np.random.rand())\n",
        "    plt.plot(fpr, tpr, color= c,lw=lw, label= lab +'(AUC = %0.2f)' % roc_auc)\n",
        "    plt.plot([0, 1], [0, 1], color='navy', lw=lw, linestyle='--')\n",
        "    plt.xlim([0.0, 1.0])\n",
        "    plt.ylim([0.0, 1.0])\n",
        "    plt.xlabel('False Positive Rate')\n",
        "    plt.ylabel('True Positive Rate')\n",
        "    plt.title('ROC curve') #Receiver Operating Characteristic \n",
        "    plt.legend(loc=\"lower right\")"
      ],
      "execution_count": 0,
      "outputs": []
    },
    {
      "cell_type": "markdown",
      "metadata": {
        "id": "pIhUpha13UQs",
        "colab_type": "text"
      },
      "source": [
        "### Confusion Matrix function"
      ]
    },
    {
      "cell_type": "markdown",
      "metadata": {
        "id": "36MC2h0Q3UQt",
        "colab_type": "text"
      },
      "source": [
        "Creating a Confusion Matrix function to be used for all the models."
      ]
    },
    {
      "cell_type": "code",
      "metadata": {
        "id": "5rIJQALF3UQu",
        "colab_type": "code",
        "colab": {}
      },
      "source": [
        "import itertools\n",
        "from sklearn.metrics import confusion_matrix\n",
        "def plot_confusion_matrix(model, normalize=False): # This function prints and plots the confusion matrix.\n",
        "    cm = confusion_matrix(y_test, model, labels=[0, 1])\n",
        "    classes=[\"Will Pay\", \"Will Default\"]\n",
        "    cmap = plt.cm.Blues\n",
        "    title = \"Confusion Matrix\"\n",
        "    if normalize:\n",
        "        cm = cm.astype('float') / cm.sum(axis=1)[:, np.newaxis]\n",
        "        cm = np.around(cm, decimals=3)\n",
        "    plt.imshow(cm, interpolation='nearest', cmap=cmap)\n",
        "    plt.title(title)\n",
        "    plt.colorbar()\n",
        "    tick_marks = np.arange(len(classes))\n",
        "    plt.xticks(tick_marks, classes, rotation=45)\n",
        "    plt.yticks(tick_marks, classes)\n",
        "    thresh = cm.max() / 2.\n",
        "    for i, j in itertools.product(range(cm.shape[0]), range(cm.shape[1])):\n",
        "        plt.text(j, i, cm[i, j],\n",
        "                 horizontalalignment=\"center\",\n",
        "                 color=\"white\" if cm[i, j] > thresh else \"black\")\n",
        "    plt.tight_layout()\n",
        "    plt.ylabel('True label')\n",
        "    plt.xlabel('Predicted label')"
      ],
      "execution_count": 0,
      "outputs": []
    },
    {
      "cell_type": "code",
      "metadata": {
        "id": "mzjsjehM3UQx",
        "colab_type": "code",
        "colab": {}
      },
      "source": [
        "X_train, X_test, y_train, y_test = train_test_split(data_clean_full.iloc[:,:-1],\n",
        "                                                    data_clean_full.iloc[:,-1], test_size=0.2,\n",
        "                                                    random_state=42)\n",
        "bs_train, bs_test = train_test_split(data_clean_full, test_size = 0.2,\n",
        "                                     random_state=42) #just for bootstrapping"
      ],
      "execution_count": 0,
      "outputs": []
    },
    {
      "cell_type": "code",
      "metadata": {
        "id": "nzXX2ZHu3UQ4",
        "colab_type": "code",
        "outputId": "3ba59ae2-d1b5-4e64-8067-6f9fd36dbd10",
        "colab": {
          "base_uri": "https://localhost:8080/",
          "height": 223
        }
      },
      "source": [
        "X_train.head()"
      ],
      "execution_count": 53,
      "outputs": [
        {
          "output_type": "execute_result",
          "data": {
            "text/html": [
              "<div>\n",
              "<style scoped>\n",
              "    .dataframe tbody tr th:only-of-type {\n",
              "        vertical-align: middle;\n",
              "    }\n",
              "\n",
              "    .dataframe tbody tr th {\n",
              "        vertical-align: top;\n",
              "    }\n",
              "\n",
              "    .dataframe thead th {\n",
              "        text-align: right;\n",
              "    }\n",
              "</style>\n",
              "<table border=\"1\" class=\"dataframe\">\n",
              "  <thead>\n",
              "    <tr style=\"text-align: right;\">\n",
              "      <th></th>\n",
              "      <th>funded_amnt</th>\n",
              "      <th>annual_inc</th>\n",
              "      <th>home_ownership</th>\n",
              "      <th>grade</th>\n",
              "      <th>last_pymnt_amnt</th>\n",
              "      <th>mort_acc</th>\n",
              "      <th>pub_rec</th>\n",
              "      <th>int_rate</th>\n",
              "      <th>open_acc</th>\n",
              "      <th>num_actv_rev_tl</th>\n",
              "      <th>mo_sin_rcnt_rev_tl_op</th>\n",
              "      <th>mo_sin_old_rev_tl_op</th>\n",
              "      <th>bc_util</th>\n",
              "      <th>bc_open_to_buy</th>\n",
              "      <th>avg_cur_bal</th>\n",
              "      <th>acc_open_past_24mths</th>\n",
              "    </tr>\n",
              "  </thead>\n",
              "  <tbody>\n",
              "    <tr>\n",
              "      <th>370638</th>\n",
              "      <td>0.919086</td>\n",
              "      <td>0.625863</td>\n",
              "      <td>-0.997298</td>\n",
              "      <td>0.191616</td>\n",
              "      <td>-0.660810</td>\n",
              "      <td>2.196310</td>\n",
              "      <td>-0.357498</td>\n",
              "      <td>-0.140157</td>\n",
              "      <td>0.623511</td>\n",
              "      <td>-0.201229</td>\n",
              "      <td>-0.068491</td>\n",
              "      <td>1.736341</td>\n",
              "      <td>1.418398</td>\n",
              "      <td>-0.667729</td>\n",
              "      <td>1.117442</td>\n",
              "      <td>0.736672</td>\n",
              "    </tr>\n",
              "    <tr>\n",
              "      <th>834646</th>\n",
              "      <td>1.376220</td>\n",
              "      <td>-0.230682</td>\n",
              "      <td>0.568545</td>\n",
              "      <td>1.733707</td>\n",
              "      <td>2.414324</td>\n",
              "      <td>-0.851916</td>\n",
              "      <td>1.301257</td>\n",
              "      <td>2.130593</td>\n",
              "      <td>0.257565</td>\n",
              "      <td>0.421691</td>\n",
              "      <td>0.498865</td>\n",
              "      <td>-1.246448</td>\n",
              "      <td>1.414773</td>\n",
              "      <td>-0.671751</td>\n",
              "      <td>-0.556260</td>\n",
              "      <td>-0.542556</td>\n",
              "    </tr>\n",
              "    <tr>\n",
              "      <th>128350</th>\n",
              "      <td>-0.705324</td>\n",
              "      <td>-0.758884</td>\n",
              "      <td>-0.997298</td>\n",
              "      <td>0.191616</td>\n",
              "      <td>-0.058527</td>\n",
              "      <td>-0.851916</td>\n",
              "      <td>-0.357498</td>\n",
              "      <td>0.431207</td>\n",
              "      <td>-1.206221</td>\n",
              "      <td>-0.824150</td>\n",
              "      <td>-0.194570</td>\n",
              "      <td>-0.789232</td>\n",
              "      <td>1.215400</td>\n",
              "      <td>-0.676577</td>\n",
              "      <td>-0.668728</td>\n",
              "      <td>0.097058</td>\n",
              "    </tr>\n",
              "    <tr>\n",
              "      <th>1169890</th>\n",
              "      <td>0.022067</td>\n",
              "      <td>-0.329370</td>\n",
              "      <td>-0.997298</td>\n",
              "      <td>0.962661</td>\n",
              "      <td>0.698485</td>\n",
              "      <td>-0.343878</td>\n",
              "      <td>-0.357498</td>\n",
              "      <td>0.905943</td>\n",
              "      <td>-0.474328</td>\n",
              "      <td>0.110231</td>\n",
              "      <td>0.877102</td>\n",
              "      <td>-0.876321</td>\n",
              "      <td>-0.477455</td>\n",
              "      <td>-0.568320</td>\n",
              "      <td>1.486131</td>\n",
              "      <td>-0.862363</td>\n",
              "    </tr>\n",
              "    <tr>\n",
              "      <th>1074160</th>\n",
              "      <td>0.068068</td>\n",
              "      <td>-0.087924</td>\n",
              "      <td>1.090493</td>\n",
              "      <td>-0.579430</td>\n",
              "      <td>0.793341</td>\n",
              "      <td>0.164160</td>\n",
              "      <td>-0.357498</td>\n",
              "      <td>-0.333412</td>\n",
              "      <td>3.917029</td>\n",
              "      <td>3.224834</td>\n",
              "      <td>-0.635846</td>\n",
              "      <td>0.125199</td>\n",
              "      <td>0.102538</td>\n",
              "      <td>0.170913</td>\n",
              "      <td>-0.587673</td>\n",
              "      <td>3.295128</td>\n",
              "    </tr>\n",
              "  </tbody>\n",
              "</table>\n",
              "</div>"
            ],
            "text/plain": [
              "         funded_amnt  annual_inc  home_ownership     grade  last_pymnt_amnt  \\\n",
              "370638      0.919086    0.625863       -0.997298  0.191616        -0.660810   \n",
              "834646      1.376220   -0.230682        0.568545  1.733707         2.414324   \n",
              "128350     -0.705324   -0.758884       -0.997298  0.191616        -0.058527   \n",
              "1169890     0.022067   -0.329370       -0.997298  0.962661         0.698485   \n",
              "1074160     0.068068   -0.087924        1.090493 -0.579430         0.793341   \n",
              "\n",
              "         mort_acc   pub_rec  int_rate  open_acc  num_actv_rev_tl  \\\n",
              "370638   2.196310 -0.357498 -0.140157  0.623511        -0.201229   \n",
              "834646  -0.851916  1.301257  2.130593  0.257565         0.421691   \n",
              "128350  -0.851916 -0.357498  0.431207 -1.206221        -0.824150   \n",
              "1169890 -0.343878 -0.357498  0.905943 -0.474328         0.110231   \n",
              "1074160  0.164160 -0.357498 -0.333412  3.917029         3.224834   \n",
              "\n",
              "         mo_sin_rcnt_rev_tl_op  mo_sin_old_rev_tl_op   bc_util  \\\n",
              "370638               -0.068491              1.736341  1.418398   \n",
              "834646                0.498865             -1.246448  1.414773   \n",
              "128350               -0.194570             -0.789232  1.215400   \n",
              "1169890               0.877102             -0.876321 -0.477455   \n",
              "1074160              -0.635846              0.125199  0.102538   \n",
              "\n",
              "         bc_open_to_buy  avg_cur_bal  acc_open_past_24mths  \n",
              "370638        -0.667729     1.117442              0.736672  \n",
              "834646        -0.671751    -0.556260             -0.542556  \n",
              "128350        -0.676577    -0.668728              0.097058  \n",
              "1169890       -0.568320     1.486131             -0.862363  \n",
              "1074160        0.170913    -0.587673              3.295128  "
            ]
          },
          "metadata": {
            "tags": []
          },
          "execution_count": 53
        }
      ]
    },
    {
      "cell_type": "code",
      "metadata": {
        "id": "0Zhhpdt83UQ8",
        "colab_type": "code",
        "outputId": "4f80f2a6-9a34-4f9b-dd42-e704abdc874a",
        "colab": {
          "base_uri": "https://localhost:8080/",
          "height": 334
        }
      },
      "source": [
        "data_clean.isnull().sum()"
      ],
      "execution_count": 49,
      "outputs": [
        {
          "output_type": "execute_result",
          "data": {
            "text/plain": [
              "funded_amnt              0\n",
              "annual_inc               0\n",
              "home_ownership           0\n",
              "grade                    0\n",
              "last_pymnt_amnt          0\n",
              "mort_acc                 0\n",
              "pub_rec                  0\n",
              "int_rate                 0\n",
              "open_acc                 0\n",
              "num_actv_rev_tl          0\n",
              "mo_sin_rcnt_rev_tl_op    0\n",
              "mo_sin_old_rev_tl_op     0\n",
              "bc_util                  0\n",
              "bc_open_to_buy           0\n",
              "avg_cur_bal              0\n",
              "acc_open_past_24mths     0\n",
              "loan_status              0\n",
              "dtype: int64"
            ]
          },
          "metadata": {
            "tags": []
          },
          "execution_count": 49
        }
      ]
    },
    {
      "cell_type": "markdown",
      "metadata": {
        "id": "7Mft7-_53URE",
        "colab_type": "text"
      },
      "source": [
        "## Models"
      ]
    },
    {
      "cell_type": "markdown",
      "metadata": {
        "id": "yhziImn43URG",
        "colab_type": "text"
      },
      "source": [
        "### Random Forest with randomized search"
      ]
    },
    {
      "cell_type": "code",
      "metadata": {
        "id": "8XUEBmbf3URH",
        "colab_type": "code",
        "colab": {
          "base_uri": "https://localhost:8080/",
          "height": 140
        },
        "outputId": "325217f2-e9b3-433a-b2e1-db9daa082d39"
      },
      "source": [
        "from sklearn.model_selection import RandomizedSearchCV\n",
        "rf = RandomForestClassifier(criterion='gini', random_state=0)\n",
        "maxFeatures = range(1,data_clean.shape[1]-1)\n",
        "param_dist = dict(max_features=maxFeatures)\n",
        "rand = RandomizedSearchCV(rf, param_dist, cv=10, scoring='accuracy', n_iter=len(maxFeatures), random_state=10)\n",
        "X=data_clean.iloc[:,:-1].values\n",
        "y=data_clean.iloc[:,-1].values\n",
        "rand.fit(X,y)\n",
        "# mean_scores = [result.mean_validation_score for result in rand.grid_scores_]\n",
        "#print('Best Accuracy = '+str(rand.best_score_))\n",
        "print(rand.best_estimator_)"
      ],
      "execution_count": 39,
      "outputs": [
        {
          "output_type": "stream",
          "text": [
            "RandomForestClassifier(bootstrap=True, class_weight=None, criterion='gini',\n",
            "                       max_depth=None, max_features=12, max_leaf_nodes=None,\n",
            "                       min_impurity_decrease=0.0, min_impurity_split=None,\n",
            "                       min_samples_leaf=1, min_samples_split=2,\n",
            "                       min_weight_fraction_leaf=0.0, n_estimators=10,\n",
            "                       n_jobs=None, oob_score=False, random_state=0, verbose=0,\n",
            "                       warm_start=False)\n"
          ],
          "name": "stdout"
        }
      ]
    },
    {
      "cell_type": "code",
      "metadata": {
        "id": "XVZTNI_C3URK",
        "colab_type": "code",
        "colab": {
          "base_uri": "https://localhost:8080/",
          "height": 35
        },
        "outputId": "564ffca1-ffe7-4bd6-8acf-a5ad742c1e8b"
      },
      "source": [
        "randomForest = RandomForestClassifier(bootstrap=True,criterion = \"gini\",max_features=rand.best_estimator_.max_features,random_state=0,n_jobs=-1 )\n",
        "randomForest.fit(X_train,y_train)\n",
        "rfPredict = randomForest.predict(X_test)\n",
        "rfPredictproba = randomForest.predict_proba(X_test)[:,1] #for ROC curve\n",
        "rfAccuracy = accuracy_score(y_test,rfPredict)\n",
        "roc_score = metrics.roc_auc_score(y_test,rfPredict)\n",
        "print(rfAccuracy)"
      ],
      "execution_count": 54,
      "outputs": [
        {
          "output_type": "stream",
          "text": [
            "0.899130107931053\n"
          ],
          "name": "stdout"
        }
      ]
    },
    {
      "cell_type": "code",
      "metadata": {
        "id": "zdTDS6Ei3URP",
        "colab_type": "code",
        "colab": {}
      },
      "source": [
        ""
      ],
      "execution_count": 0,
      "outputs": []
    }
  ]
}