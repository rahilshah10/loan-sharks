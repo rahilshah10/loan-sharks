{
  "nbformat": 4,
  "nbformat_minor": 0,
  "metadata": {
    "kernelspec": {
      "name": "python3",
      "display_name": "Python 3"
    },
    "language_info": {
      "codemirror_mode": {
        "name": "ipython",
        "version": 3
      },
      "file_extension": ".py",
      "mimetype": "text/x-python",
      "name": "python",
      "nbconvert_exporter": "python",
      "pygments_lexer": "ipython3",
      "version": "3.7.3"
    },
    "pycharm": {
      "stem_cell": {
        "cell_type": "raw",
        "metadata": {
          "collapsed": false
        },
        "source": []
      }
    },
    "colab": {
      "name": "Copy of Model Evaluation",
      "provenance": [],
      "collapsed_sections": [],
      "include_colab_link": true
    }
  },
  "cells": [
    {
      "cell_type": "markdown",
      "metadata": {
        "id": "view-in-github",
        "colab_type": "text"
      },
      "source": [
        "<a href=\"https://colab.research.google.com/github/rahilshah10/loan-sharks/blob/master/Final_Model_Evaluation.ipynb\" target=\"_parent\"><img src=\"https://colab.research.google.com/assets/colab-badge.svg\" alt=\"Open In Colab\"/></a>"
      ]
    },
    {
      "cell_type": "markdown",
      "metadata": {
        "id": "MSLcAZfC3UO8",
        "colab_type": "text"
      },
      "source": [
        "### 2. Importing the Data"
      ]
    },
    {
      "cell_type": "code",
      "metadata": {
        "id": "x8BBBFpufhUz",
        "colab_type": "code",
        "colab": {
          "base_uri": "https://localhost:8080/",
          "height": 107
        },
        "outputId": "75358a77-5da8-4dae-9d64-42c064dffa9d"
      },
      "source": [
        "!pip install -U scikit-learn"
      ],
      "execution_count": 1,
      "outputs": [
        {
          "output_type": "stream",
          "text": [
            "Requirement already up-to-date: scikit-learn in /usr/local/lib/python3.6/dist-packages (0.22)\n",
            "Requirement already satisfied, skipping upgrade: joblib>=0.11 in /usr/local/lib/python3.6/dist-packages (from scikit-learn) (0.14.0)\n",
            "Requirement already satisfied, skipping upgrade: scipy>=0.17.0 in /usr/local/lib/python3.6/dist-packages (from scikit-learn) (1.3.3)\n",
            "Requirement already satisfied, skipping upgrade: numpy>=1.11.0 in /usr/local/lib/python3.6/dist-packages (from scikit-learn) (1.17.4)\n"
          ],
          "name": "stdout"
        }
      ]
    },
    {
      "cell_type": "code",
      "metadata": {
        "pycharm": {
          "is_executing": false
        },
        "id": "QIUKNWNb3UO_",
        "colab_type": "code",
        "colab": {}
      },
      "source": [
        "# Having all the necessary libaries for \n",
        "import pandas as pd\n",
        "import numpy as np\n",
        "import matplotlib.pyplot as plt\n",
        "import matplotlib as mpl\n",
        "import seaborn as sns\n",
        "sns.set_style('whitegrid')\n",
        "import warnings\n",
        "import gc\n",
        "from sklearn import preprocessing,metrics \n",
        "warnings.simplefilter(action='ignore', category=FutureWarning)\n",
        "warnings.simplefilter(action='ignore', category=DeprecationWarning)\n",
        "from sklearn.model_selection import train_test_split\n",
        "from sklearn.ensemble import RandomForestClassifier\n",
        "from sklearn.neighbors import KNeighborsClassifier\n",
        "from sklearn.metrics import accuracy_score\n",
        "from sklearn import linear_model,svm\n",
        "from sklearn.metrics import average_precision_score\n",
        "from sklearn.metrics import precision_recall_curve\n",
        "from sklearn.metrics import plot_confusion_matrix\n",
        "\n",
        "\n",
        "# Pandas options\n",
        "# pd.set_option('display.max_colwidth', 1000, 'display.max_rows', None, 'display.max_columns', None)\n",
        "\n",
        "# Plotting options\n",
        "%matplotlib inline\n",
        "# mpl.style.use('ggplot')\n",
        "# sns.set(style='whitegrid')"
      ],
      "execution_count": 0,
      "outputs": []
    },
    {
      "cell_type": "markdown",
      "metadata": {
        "id": "g1MT2UG-3UPD",
        "colab_type": "text"
      },
      "source": [
        "Read the data into a pandas dataframe"
      ]
    },
    {
      "cell_type": "code",
      "metadata": {
        "id": "5WHP8kYB4TMu",
        "colab_type": "code",
        "outputId": "fe0749b9-418e-4757-c0a5-7ffbcb144290",
        "colab": {
          "base_uri": "https://localhost:8080/",
          "height": 55
        }
      },
      "source": [
        "from google.colab import drive\n",
        "drive.mount('/content/gdrive')"
      ],
      "execution_count": 3,
      "outputs": [
        {
          "output_type": "stream",
          "text": [
            "Drive already mounted at /content/gdrive; to attempt to forcibly remount, call drive.mount(\"/content/gdrive\", force_remount=True).\n"
          ],
          "name": "stdout"
        }
      ]
    },
    {
      "cell_type": "code",
      "metadata": {
        "id": "SYo86t_R4cWW",
        "colab_type": "code",
        "outputId": "3b252f95-c75b-482f-eede-b9c47847c55e",
        "colab": {
          "base_uri": "https://localhost:8080/",
          "height": 35
        }
      },
      "source": [
        "!ls \"/content/gdrive/My Drive/Colab/loan.csv\""
      ],
      "execution_count": 4,
      "outputs": [
        {
          "output_type": "stream",
          "text": [
            "'/content/gdrive/My Drive/Colab/loan.csv'\n"
          ],
          "name": "stdout"
        }
      ]
    },
    {
      "cell_type": "code",
      "metadata": {
        "pycharm": {
          "is_executing": false
        },
        "id": "LOHyL2q73UPE",
        "colab_type": "code",
        "colab": {}
      },
      "source": [
        "start_df = pd.read_csv('/content/gdrive/My Drive/Colab/loan.csv', low_memory=False)"
      ],
      "execution_count": 0,
      "outputs": []
    },
    {
      "cell_type": "markdown",
      "metadata": {
        "id": "dk04nOKJ3UPH",
        "colab_type": "text"
      },
      "source": [
        "Check the basic dataframe info"
      ]
    },
    {
      "cell_type": "code",
      "metadata": {
        "pycharm": {
          "is_executing": false
        },
        "id": "NGxv51Op3UPH",
        "colab_type": "code",
        "outputId": "c1792f00-9960-4c05-f902-5cf1573ec5fe",
        "colab": {
          "base_uri": "https://localhost:8080/",
          "height": 105
        }
      },
      "source": [
        "df = start_df.copy(deep=True)\n",
        "df.info()"
      ],
      "execution_count": 6,
      "outputs": [
        {
          "output_type": "stream",
          "text": [
            "<class 'pandas.core.frame.DataFrame'>\n",
            "RangeIndex: 2260668 entries, 0 to 2260667\n",
            "Columns: 145 entries, id to settlement_term\n",
            "dtypes: float64(105), int64(4), object(36)\n",
            "memory usage: 2.4+ GB\n"
          ],
          "name": "stdout"
        }
      ]
    },
    {
      "cell_type": "markdown",
      "metadata": {
        "id": "Hgg2f_Ll3UPL",
        "colab_type": "text"
      },
      "source": [
        "There are 2.2 million rows and 145 columns. The data set is about 2.4GB.\n",
        "\n",
        "Let's take a look at the first 5 rows to see what we are getting into."
      ]
    },
    {
      "cell_type": "code",
      "metadata": {
        "scrolled": true,
        "id": "uKB9JH-83UPM",
        "colab_type": "code",
        "outputId": "8cc85759-fd66-46af-c577-54d3800ce037",
        "colab": {
          "base_uri": "https://localhost:8080/",
          "height": 338
        }
      },
      "source": [
        "df.head(5)"
      ],
      "execution_count": 7,
      "outputs": [
        {
          "output_type": "execute_result",
          "data": {
            "text/html": [
              "<div>\n",
              "<style scoped>\n",
              "    .dataframe tbody tr th:only-of-type {\n",
              "        vertical-align: middle;\n",
              "    }\n",
              "\n",
              "    .dataframe tbody tr th {\n",
              "        vertical-align: top;\n",
              "    }\n",
              "\n",
              "    .dataframe thead th {\n",
              "        text-align: right;\n",
              "    }\n",
              "</style>\n",
              "<table border=\"1\" class=\"dataframe\">\n",
              "  <thead>\n",
              "    <tr style=\"text-align: right;\">\n",
              "      <th></th>\n",
              "      <th>id</th>\n",
              "      <th>member_id</th>\n",
              "      <th>loan_amnt</th>\n",
              "      <th>funded_amnt</th>\n",
              "      <th>funded_amnt_inv</th>\n",
              "      <th>term</th>\n",
              "      <th>int_rate</th>\n",
              "      <th>installment</th>\n",
              "      <th>grade</th>\n",
              "      <th>sub_grade</th>\n",
              "      <th>emp_title</th>\n",
              "      <th>emp_length</th>\n",
              "      <th>home_ownership</th>\n",
              "      <th>annual_inc</th>\n",
              "      <th>verification_status</th>\n",
              "      <th>issue_d</th>\n",
              "      <th>loan_status</th>\n",
              "      <th>pymnt_plan</th>\n",
              "      <th>url</th>\n",
              "      <th>desc</th>\n",
              "      <th>purpose</th>\n",
              "      <th>title</th>\n",
              "      <th>zip_code</th>\n",
              "      <th>addr_state</th>\n",
              "      <th>dti</th>\n",
              "      <th>delinq_2yrs</th>\n",
              "      <th>earliest_cr_line</th>\n",
              "      <th>inq_last_6mths</th>\n",
              "      <th>mths_since_last_delinq</th>\n",
              "      <th>mths_since_last_record</th>\n",
              "      <th>open_acc</th>\n",
              "      <th>pub_rec</th>\n",
              "      <th>revol_bal</th>\n",
              "      <th>revol_util</th>\n",
              "      <th>total_acc</th>\n",
              "      <th>initial_list_status</th>\n",
              "      <th>out_prncp</th>\n",
              "      <th>out_prncp_inv</th>\n",
              "      <th>total_pymnt</th>\n",
              "      <th>total_pymnt_inv</th>\n",
              "      <th>...</th>\n",
              "      <th>pub_rec_bankruptcies</th>\n",
              "      <th>tax_liens</th>\n",
              "      <th>tot_hi_cred_lim</th>\n",
              "      <th>total_bal_ex_mort</th>\n",
              "      <th>total_bc_limit</th>\n",
              "      <th>total_il_high_credit_limit</th>\n",
              "      <th>revol_bal_joint</th>\n",
              "      <th>sec_app_earliest_cr_line</th>\n",
              "      <th>sec_app_inq_last_6mths</th>\n",
              "      <th>sec_app_mort_acc</th>\n",
              "      <th>sec_app_open_acc</th>\n",
              "      <th>sec_app_revol_util</th>\n",
              "      <th>sec_app_open_act_il</th>\n",
              "      <th>sec_app_num_rev_accts</th>\n",
              "      <th>sec_app_chargeoff_within_12_mths</th>\n",
              "      <th>sec_app_collections_12_mths_ex_med</th>\n",
              "      <th>sec_app_mths_since_last_major_derog</th>\n",
              "      <th>hardship_flag</th>\n",
              "      <th>hardship_type</th>\n",
              "      <th>hardship_reason</th>\n",
              "      <th>hardship_status</th>\n",
              "      <th>deferral_term</th>\n",
              "      <th>hardship_amount</th>\n",
              "      <th>hardship_start_date</th>\n",
              "      <th>hardship_end_date</th>\n",
              "      <th>payment_plan_start_date</th>\n",
              "      <th>hardship_length</th>\n",
              "      <th>hardship_dpd</th>\n",
              "      <th>hardship_loan_status</th>\n",
              "      <th>orig_projected_additional_accrued_interest</th>\n",
              "      <th>hardship_payoff_balance_amount</th>\n",
              "      <th>hardship_last_payment_amount</th>\n",
              "      <th>disbursement_method</th>\n",
              "      <th>debt_settlement_flag</th>\n",
              "      <th>debt_settlement_flag_date</th>\n",
              "      <th>settlement_status</th>\n",
              "      <th>settlement_date</th>\n",
              "      <th>settlement_amount</th>\n",
              "      <th>settlement_percentage</th>\n",
              "      <th>settlement_term</th>\n",
              "    </tr>\n",
              "  </thead>\n",
              "  <tbody>\n",
              "    <tr>\n",
              "      <th>0</th>\n",
              "      <td>NaN</td>\n",
              "      <td>NaN</td>\n",
              "      <td>2500</td>\n",
              "      <td>2500</td>\n",
              "      <td>2500.0</td>\n",
              "      <td>36 months</td>\n",
              "      <td>13.56</td>\n",
              "      <td>84.92</td>\n",
              "      <td>C</td>\n",
              "      <td>C1</td>\n",
              "      <td>Chef</td>\n",
              "      <td>10+ years</td>\n",
              "      <td>RENT</td>\n",
              "      <td>55000.0</td>\n",
              "      <td>Not Verified</td>\n",
              "      <td>Dec-2018</td>\n",
              "      <td>Current</td>\n",
              "      <td>n</td>\n",
              "      <td>NaN</td>\n",
              "      <td>NaN</td>\n",
              "      <td>debt_consolidation</td>\n",
              "      <td>Debt consolidation</td>\n",
              "      <td>109xx</td>\n",
              "      <td>NY</td>\n",
              "      <td>18.24</td>\n",
              "      <td>0.0</td>\n",
              "      <td>Apr-2001</td>\n",
              "      <td>1.0</td>\n",
              "      <td>NaN</td>\n",
              "      <td>45.0</td>\n",
              "      <td>9.0</td>\n",
              "      <td>1.0</td>\n",
              "      <td>4341</td>\n",
              "      <td>10.3</td>\n",
              "      <td>34.0</td>\n",
              "      <td>w</td>\n",
              "      <td>2386.02</td>\n",
              "      <td>2386.02</td>\n",
              "      <td>167.02</td>\n",
              "      <td>167.02</td>\n",
              "      <td>...</td>\n",
              "      <td>1.0</td>\n",
              "      <td>0.0</td>\n",
              "      <td>60124.0</td>\n",
              "      <td>16901.0</td>\n",
              "      <td>36500.0</td>\n",
              "      <td>18124.0</td>\n",
              "      <td>NaN</td>\n",
              "      <td>NaN</td>\n",
              "      <td>NaN</td>\n",
              "      <td>NaN</td>\n",
              "      <td>NaN</td>\n",
              "      <td>NaN</td>\n",
              "      <td>NaN</td>\n",
              "      <td>NaN</td>\n",
              "      <td>NaN</td>\n",
              "      <td>NaN</td>\n",
              "      <td>NaN</td>\n",
              "      <td>N</td>\n",
              "      <td>NaN</td>\n",
              "      <td>NaN</td>\n",
              "      <td>NaN</td>\n",
              "      <td>NaN</td>\n",
              "      <td>NaN</td>\n",
              "      <td>NaN</td>\n",
              "      <td>NaN</td>\n",
              "      <td>NaN</td>\n",
              "      <td>NaN</td>\n",
              "      <td>NaN</td>\n",
              "      <td>NaN</td>\n",
              "      <td>NaN</td>\n",
              "      <td>NaN</td>\n",
              "      <td>NaN</td>\n",
              "      <td>Cash</td>\n",
              "      <td>N</td>\n",
              "      <td>NaN</td>\n",
              "      <td>NaN</td>\n",
              "      <td>NaN</td>\n",
              "      <td>NaN</td>\n",
              "      <td>NaN</td>\n",
              "      <td>NaN</td>\n",
              "    </tr>\n",
              "    <tr>\n",
              "      <th>1</th>\n",
              "      <td>NaN</td>\n",
              "      <td>NaN</td>\n",
              "      <td>30000</td>\n",
              "      <td>30000</td>\n",
              "      <td>30000.0</td>\n",
              "      <td>60 months</td>\n",
              "      <td>18.94</td>\n",
              "      <td>777.23</td>\n",
              "      <td>D</td>\n",
              "      <td>D2</td>\n",
              "      <td>Postmaster</td>\n",
              "      <td>10+ years</td>\n",
              "      <td>MORTGAGE</td>\n",
              "      <td>90000.0</td>\n",
              "      <td>Source Verified</td>\n",
              "      <td>Dec-2018</td>\n",
              "      <td>Current</td>\n",
              "      <td>n</td>\n",
              "      <td>NaN</td>\n",
              "      <td>NaN</td>\n",
              "      <td>debt_consolidation</td>\n",
              "      <td>Debt consolidation</td>\n",
              "      <td>713xx</td>\n",
              "      <td>LA</td>\n",
              "      <td>26.52</td>\n",
              "      <td>0.0</td>\n",
              "      <td>Jun-1987</td>\n",
              "      <td>0.0</td>\n",
              "      <td>71.0</td>\n",
              "      <td>75.0</td>\n",
              "      <td>13.0</td>\n",
              "      <td>1.0</td>\n",
              "      <td>12315</td>\n",
              "      <td>24.2</td>\n",
              "      <td>44.0</td>\n",
              "      <td>w</td>\n",
              "      <td>29387.75</td>\n",
              "      <td>29387.75</td>\n",
              "      <td>1507.11</td>\n",
              "      <td>1507.11</td>\n",
              "      <td>...</td>\n",
              "      <td>1.0</td>\n",
              "      <td>0.0</td>\n",
              "      <td>372872.0</td>\n",
              "      <td>99468.0</td>\n",
              "      <td>15000.0</td>\n",
              "      <td>94072.0</td>\n",
              "      <td>NaN</td>\n",
              "      <td>NaN</td>\n",
              "      <td>NaN</td>\n",
              "      <td>NaN</td>\n",
              "      <td>NaN</td>\n",
              "      <td>NaN</td>\n",
              "      <td>NaN</td>\n",
              "      <td>NaN</td>\n",
              "      <td>NaN</td>\n",
              "      <td>NaN</td>\n",
              "      <td>NaN</td>\n",
              "      <td>N</td>\n",
              "      <td>NaN</td>\n",
              "      <td>NaN</td>\n",
              "      <td>NaN</td>\n",
              "      <td>NaN</td>\n",
              "      <td>NaN</td>\n",
              "      <td>NaN</td>\n",
              "      <td>NaN</td>\n",
              "      <td>NaN</td>\n",
              "      <td>NaN</td>\n",
              "      <td>NaN</td>\n",
              "      <td>NaN</td>\n",
              "      <td>NaN</td>\n",
              "      <td>NaN</td>\n",
              "      <td>NaN</td>\n",
              "      <td>Cash</td>\n",
              "      <td>N</td>\n",
              "      <td>NaN</td>\n",
              "      <td>NaN</td>\n",
              "      <td>NaN</td>\n",
              "      <td>NaN</td>\n",
              "      <td>NaN</td>\n",
              "      <td>NaN</td>\n",
              "    </tr>\n",
              "    <tr>\n",
              "      <th>2</th>\n",
              "      <td>NaN</td>\n",
              "      <td>NaN</td>\n",
              "      <td>5000</td>\n",
              "      <td>5000</td>\n",
              "      <td>5000.0</td>\n",
              "      <td>36 months</td>\n",
              "      <td>17.97</td>\n",
              "      <td>180.69</td>\n",
              "      <td>D</td>\n",
              "      <td>D1</td>\n",
              "      <td>Administrative</td>\n",
              "      <td>6 years</td>\n",
              "      <td>MORTGAGE</td>\n",
              "      <td>59280.0</td>\n",
              "      <td>Source Verified</td>\n",
              "      <td>Dec-2018</td>\n",
              "      <td>Current</td>\n",
              "      <td>n</td>\n",
              "      <td>NaN</td>\n",
              "      <td>NaN</td>\n",
              "      <td>debt_consolidation</td>\n",
              "      <td>Debt consolidation</td>\n",
              "      <td>490xx</td>\n",
              "      <td>MI</td>\n",
              "      <td>10.51</td>\n",
              "      <td>0.0</td>\n",
              "      <td>Apr-2011</td>\n",
              "      <td>0.0</td>\n",
              "      <td>NaN</td>\n",
              "      <td>NaN</td>\n",
              "      <td>8.0</td>\n",
              "      <td>0.0</td>\n",
              "      <td>4599</td>\n",
              "      <td>19.1</td>\n",
              "      <td>13.0</td>\n",
              "      <td>w</td>\n",
              "      <td>4787.21</td>\n",
              "      <td>4787.21</td>\n",
              "      <td>353.89</td>\n",
              "      <td>353.89</td>\n",
              "      <td>...</td>\n",
              "      <td>0.0</td>\n",
              "      <td>0.0</td>\n",
              "      <td>136927.0</td>\n",
              "      <td>11749.0</td>\n",
              "      <td>13800.0</td>\n",
              "      <td>10000.0</td>\n",
              "      <td>NaN</td>\n",
              "      <td>NaN</td>\n",
              "      <td>NaN</td>\n",
              "      <td>NaN</td>\n",
              "      <td>NaN</td>\n",
              "      <td>NaN</td>\n",
              "      <td>NaN</td>\n",
              "      <td>NaN</td>\n",
              "      <td>NaN</td>\n",
              "      <td>NaN</td>\n",
              "      <td>NaN</td>\n",
              "      <td>N</td>\n",
              "      <td>NaN</td>\n",
              "      <td>NaN</td>\n",
              "      <td>NaN</td>\n",
              "      <td>NaN</td>\n",
              "      <td>NaN</td>\n",
              "      <td>NaN</td>\n",
              "      <td>NaN</td>\n",
              "      <td>NaN</td>\n",
              "      <td>NaN</td>\n",
              "      <td>NaN</td>\n",
              "      <td>NaN</td>\n",
              "      <td>NaN</td>\n",
              "      <td>NaN</td>\n",
              "      <td>NaN</td>\n",
              "      <td>Cash</td>\n",
              "      <td>N</td>\n",
              "      <td>NaN</td>\n",
              "      <td>NaN</td>\n",
              "      <td>NaN</td>\n",
              "      <td>NaN</td>\n",
              "      <td>NaN</td>\n",
              "      <td>NaN</td>\n",
              "    </tr>\n",
              "    <tr>\n",
              "      <th>3</th>\n",
              "      <td>NaN</td>\n",
              "      <td>NaN</td>\n",
              "      <td>4000</td>\n",
              "      <td>4000</td>\n",
              "      <td>4000.0</td>\n",
              "      <td>36 months</td>\n",
              "      <td>18.94</td>\n",
              "      <td>146.51</td>\n",
              "      <td>D</td>\n",
              "      <td>D2</td>\n",
              "      <td>IT Supervisor</td>\n",
              "      <td>10+ years</td>\n",
              "      <td>MORTGAGE</td>\n",
              "      <td>92000.0</td>\n",
              "      <td>Source Verified</td>\n",
              "      <td>Dec-2018</td>\n",
              "      <td>Current</td>\n",
              "      <td>n</td>\n",
              "      <td>NaN</td>\n",
              "      <td>NaN</td>\n",
              "      <td>debt_consolidation</td>\n",
              "      <td>Debt consolidation</td>\n",
              "      <td>985xx</td>\n",
              "      <td>WA</td>\n",
              "      <td>16.74</td>\n",
              "      <td>0.0</td>\n",
              "      <td>Feb-2006</td>\n",
              "      <td>0.0</td>\n",
              "      <td>NaN</td>\n",
              "      <td>NaN</td>\n",
              "      <td>10.0</td>\n",
              "      <td>0.0</td>\n",
              "      <td>5468</td>\n",
              "      <td>78.1</td>\n",
              "      <td>13.0</td>\n",
              "      <td>w</td>\n",
              "      <td>3831.93</td>\n",
              "      <td>3831.93</td>\n",
              "      <td>286.71</td>\n",
              "      <td>286.71</td>\n",
              "      <td>...</td>\n",
              "      <td>0.0</td>\n",
              "      <td>0.0</td>\n",
              "      <td>385183.0</td>\n",
              "      <td>36151.0</td>\n",
              "      <td>5000.0</td>\n",
              "      <td>44984.0</td>\n",
              "      <td>NaN</td>\n",
              "      <td>NaN</td>\n",
              "      <td>NaN</td>\n",
              "      <td>NaN</td>\n",
              "      <td>NaN</td>\n",
              "      <td>NaN</td>\n",
              "      <td>NaN</td>\n",
              "      <td>NaN</td>\n",
              "      <td>NaN</td>\n",
              "      <td>NaN</td>\n",
              "      <td>NaN</td>\n",
              "      <td>N</td>\n",
              "      <td>NaN</td>\n",
              "      <td>NaN</td>\n",
              "      <td>NaN</td>\n",
              "      <td>NaN</td>\n",
              "      <td>NaN</td>\n",
              "      <td>NaN</td>\n",
              "      <td>NaN</td>\n",
              "      <td>NaN</td>\n",
              "      <td>NaN</td>\n",
              "      <td>NaN</td>\n",
              "      <td>NaN</td>\n",
              "      <td>NaN</td>\n",
              "      <td>NaN</td>\n",
              "      <td>NaN</td>\n",
              "      <td>Cash</td>\n",
              "      <td>N</td>\n",
              "      <td>NaN</td>\n",
              "      <td>NaN</td>\n",
              "      <td>NaN</td>\n",
              "      <td>NaN</td>\n",
              "      <td>NaN</td>\n",
              "      <td>NaN</td>\n",
              "    </tr>\n",
              "    <tr>\n",
              "      <th>4</th>\n",
              "      <td>NaN</td>\n",
              "      <td>NaN</td>\n",
              "      <td>30000</td>\n",
              "      <td>30000</td>\n",
              "      <td>30000.0</td>\n",
              "      <td>60 months</td>\n",
              "      <td>16.14</td>\n",
              "      <td>731.78</td>\n",
              "      <td>C</td>\n",
              "      <td>C4</td>\n",
              "      <td>Mechanic</td>\n",
              "      <td>10+ years</td>\n",
              "      <td>MORTGAGE</td>\n",
              "      <td>57250.0</td>\n",
              "      <td>Not Verified</td>\n",
              "      <td>Dec-2018</td>\n",
              "      <td>Current</td>\n",
              "      <td>n</td>\n",
              "      <td>NaN</td>\n",
              "      <td>NaN</td>\n",
              "      <td>debt_consolidation</td>\n",
              "      <td>Debt consolidation</td>\n",
              "      <td>212xx</td>\n",
              "      <td>MD</td>\n",
              "      <td>26.35</td>\n",
              "      <td>0.0</td>\n",
              "      <td>Dec-2000</td>\n",
              "      <td>0.0</td>\n",
              "      <td>NaN</td>\n",
              "      <td>NaN</td>\n",
              "      <td>12.0</td>\n",
              "      <td>0.0</td>\n",
              "      <td>829</td>\n",
              "      <td>3.6</td>\n",
              "      <td>26.0</td>\n",
              "      <td>w</td>\n",
              "      <td>29339.02</td>\n",
              "      <td>29339.02</td>\n",
              "      <td>1423.21</td>\n",
              "      <td>1423.21</td>\n",
              "      <td>...</td>\n",
              "      <td>0.0</td>\n",
              "      <td>0.0</td>\n",
              "      <td>157548.0</td>\n",
              "      <td>29674.0</td>\n",
              "      <td>9300.0</td>\n",
              "      <td>32332.0</td>\n",
              "      <td>NaN</td>\n",
              "      <td>NaN</td>\n",
              "      <td>NaN</td>\n",
              "      <td>NaN</td>\n",
              "      <td>NaN</td>\n",
              "      <td>NaN</td>\n",
              "      <td>NaN</td>\n",
              "      <td>NaN</td>\n",
              "      <td>NaN</td>\n",
              "      <td>NaN</td>\n",
              "      <td>NaN</td>\n",
              "      <td>N</td>\n",
              "      <td>NaN</td>\n",
              "      <td>NaN</td>\n",
              "      <td>NaN</td>\n",
              "      <td>NaN</td>\n",
              "      <td>NaN</td>\n",
              "      <td>NaN</td>\n",
              "      <td>NaN</td>\n",
              "      <td>NaN</td>\n",
              "      <td>NaN</td>\n",
              "      <td>NaN</td>\n",
              "      <td>NaN</td>\n",
              "      <td>NaN</td>\n",
              "      <td>NaN</td>\n",
              "      <td>NaN</td>\n",
              "      <td>Cash</td>\n",
              "      <td>N</td>\n",
              "      <td>NaN</td>\n",
              "      <td>NaN</td>\n",
              "      <td>NaN</td>\n",
              "      <td>NaN</td>\n",
              "      <td>NaN</td>\n",
              "      <td>NaN</td>\n",
              "    </tr>\n",
              "  </tbody>\n",
              "</table>\n",
              "<p>5 rows × 145 columns</p>\n",
              "</div>"
            ],
            "text/plain": [
              "   id  member_id  ...  settlement_percentage  settlement_term\n",
              "0 NaN        NaN  ...                    NaN              NaN\n",
              "1 NaN        NaN  ...                    NaN              NaN\n",
              "2 NaN        NaN  ...                    NaN              NaN\n",
              "3 NaN        NaN  ...                    NaN              NaN\n",
              "4 NaN        NaN  ...                    NaN              NaN\n",
              "\n",
              "[5 rows x 145 columns]"
            ]
          },
          "metadata": {
            "tags": []
          },
          "execution_count": 7
        }
      ]
    },
    {
      "cell_type": "markdown",
      "metadata": {
        "id": "ERilNr6f3UPO",
        "colab_type": "text"
      },
      "source": [
        "We also want to understand the columns we have with the data dictionary provided."
      ]
    },
    {
      "cell_type": "markdown",
      "metadata": {
        "id": "8ky0azFh3UPS",
        "colab_type": "text"
      },
      "source": [
        "### 3. Target Variable"
      ]
    },
    {
      "cell_type": "markdown",
      "metadata": {
        "id": "2x8MGngU3UPT",
        "colab_type": "text"
      },
      "source": [
        "We are going to predict the variable loan_status. What are the value counts?"
      ]
    },
    {
      "cell_type": "code",
      "metadata": {
        "id": "t_36kU1A3UPT",
        "colab_type": "code",
        "outputId": "f53f2d39-c8c6-4c7d-8874-ade1b97d32f0",
        "colab": {
          "base_uri": "https://localhost:8080/",
          "height": 193
        }
      },
      "source": [
        "df['loan_status'].value_counts(dropna=False)"
      ],
      "execution_count": 8,
      "outputs": [
        {
          "output_type": "execute_result",
          "data": {
            "text/plain": [
              "Fully Paid                                             1041952\n",
              "Current                                                 919695\n",
              "Charged Off                                             261655\n",
              "Late (31-120 days)                                       21897\n",
              "In Grace Period                                           8952\n",
              "Late (16-30 days)                                         3737\n",
              "Does not meet the credit policy. Status:Fully Paid        1988\n",
              "Does not meet the credit policy. Status:Charged Off        761\n",
              "Default                                                     31\n",
              "Name: loan_status, dtype: int64"
            ]
          },
          "metadata": {
            "tags": []
          },
          "execution_count": 8
        }
      ]
    },
    {
      "cell_type": "markdown",
      "metadata": {
        "id": "a1ry1QS93UPW",
        "colab_type": "text"
      },
      "source": [
        "We are going to only considers the Charged Off and Fully Paid values."
      ]
    },
    {
      "cell_type": "code",
      "metadata": {
        "id": "UrMX-3Bx3UPX",
        "colab_type": "code",
        "colab": {}
      },
      "source": [
        "df = df.loc[df['loan_status'].isin(['Fully Paid','Charged Off'])]"
      ],
      "execution_count": 0,
      "outputs": []
    },
    {
      "cell_type": "code",
      "metadata": {
        "id": "4jWMFqmU3UPZ",
        "colab_type": "code",
        "outputId": "237c2f15-6021-4405-dd76-21373c449cb0",
        "colab": {
          "base_uri": "https://localhost:8080/",
          "height": 35
        }
      },
      "source": [
        "df.shape"
      ],
      "execution_count": 10,
      "outputs": [
        {
          "output_type": "execute_result",
          "data": {
            "text/plain": [
              "(1303607, 145)"
            ]
          },
          "metadata": {
            "tags": []
          },
          "execution_count": 10
        }
      ]
    },
    {
      "cell_type": "markdown",
      "metadata": {
        "id": "TF1hKTy_3UPc",
        "colab_type": "text"
      },
      "source": [
        "There are still 1303607 loans remaining. Lets recheck their status."
      ]
    },
    {
      "cell_type": "code",
      "metadata": {
        "id": "7YxUsBlB3UPd",
        "colab_type": "code",
        "colab": {}
      },
      "source": [
        "di = {\"Fully Paid\":0, \"Charged Off\":1}   #converting target variable to boolean\n",
        "df= df.replace({\"loan_status\": di})"
      ],
      "execution_count": 0,
      "outputs": []
    },
    {
      "cell_type": "code",
      "metadata": {
        "id": "LkSq7hzi3UPf",
        "colab_type": "code",
        "outputId": "60a71483-5d3e-4598-8328-c348a3bef0db",
        "colab": {
          "base_uri": "https://localhost:8080/",
          "height": 70
        }
      },
      "source": [
        "df['loan_status'].value_counts(normalize=True)"
      ],
      "execution_count": 12,
      "outputs": [
        {
          "output_type": "execute_result",
          "data": {
            "text/plain": [
              "0    0.799284\n",
              "1    0.200716\n",
              "Name: loan_status, dtype: float64"
            ]
          },
          "metadata": {
            "tags": []
          },
          "execution_count": 12
        }
      ]
    },
    {
      "cell_type": "markdown",
      "metadata": {
        "id": "Ow5Z-_Sx3UPh",
        "colab_type": "text"
      },
      "source": [
        "About 80% of the loans are fully paid and the rest 20% percent are charged off, so we can see a somewhat imbalance in our target variable"
      ]
    },
    {
      "cell_type": "markdown",
      "metadata": {
        "id": "ZfIaAA053UPi",
        "colab_type": "text"
      },
      "source": [
        "### 4. Feature space limiting"
      ]
    },
    {
      "cell_type": "markdown",
      "metadata": {
        "id": "TlbG980o3UPj",
        "colab_type": "text"
      },
      "source": [
        "The dataset consists of 145 features for each loan. We will divide our feature selection in two steps:\n",
        "\n",
        "- Drop the features with more than 30% missing data.\n",
        "-  Of the remaining features, we chose only those that would be the best ones."
      ]
    },
    {
      "cell_type": "markdown",
      "metadata": {
        "id": "m7oVT1z53UPk",
        "colab_type": "text"
      },
      "source": [
        "### 4.1 Drop features with missing data"
      ]
    },
    {
      "cell_type": "markdown",
      "metadata": {
        "id": "COVyPVXq3UPk",
        "colab_type": "text"
      },
      "source": [
        "First calculate the percentage of missing data for each feature:"
      ]
    },
    {
      "cell_type": "code",
      "metadata": {
        "pycharm": {
          "is_executing": false
        },
        "id": "jKBnJvs-3UPl",
        "colab_type": "code",
        "colab": {}
      },
      "source": [
        "def missing_values_table(df):\n",
        "        mis_val = df.isnull().sum()\n",
        "        mis_val_percent = 100 * df.isnull().sum() / len(df)\n",
        "        mis_val_table = pd.concat([mis_val, mis_val_percent], axis=1)\n",
        "        mis_val_table_ren_columns = mis_val_table.rename(\n",
        "        columns = {0 : 'Missing Values', 1 : '% of Total Values'})\n",
        "        mis_val_table_ren_columns = mis_val_table_ren_columns[\n",
        "            mis_val_table_ren_columns.iloc[:,1] != 0].sort_values(\n",
        "        '% of Total Values', ascending=False).round(1)\n",
        "        print (\"Your selected dataframe has \" + str(df.shape[1]) + \" columns.\\n\"      \n",
        "            \"There are \" + str(mis_val_table_ren_columns.shape[0]) +\n",
        "              \" columns that have missing values.\")\n",
        "        return mis_val_table_ren_columns"
      ],
      "execution_count": 0,
      "outputs": []
    },
    {
      "cell_type": "code",
      "metadata": {
        "pycharm": {
          "is_executing": false
        },
        "id": "n8wTlnhU3UPn",
        "colab_type": "code",
        "outputId": "e2d91753-9034-45fd-84f7-fb3d8d92428d",
        "colab": {
          "base_uri": "https://localhost:8080/",
          "height": 392
        }
      },
      "source": [
        "# Missing values statistics\n",
        "miss_values = missing_values_table(df)\n",
        "miss_values.head(10)"
      ],
      "execution_count": 14,
      "outputs": [
        {
          "output_type": "stream",
          "text": [
            "Your selected dataframe has 145 columns.\n",
            "There are 105 columns that have missing values.\n"
          ],
          "name": "stdout"
        },
        {
          "output_type": "execute_result",
          "data": {
            "text/html": [
              "<div>\n",
              "<style scoped>\n",
              "    .dataframe tbody tr th:only-of-type {\n",
              "        vertical-align: middle;\n",
              "    }\n",
              "\n",
              "    .dataframe tbody tr th {\n",
              "        vertical-align: top;\n",
              "    }\n",
              "\n",
              "    .dataframe thead th {\n",
              "        text-align: right;\n",
              "    }\n",
              "</style>\n",
              "<table border=\"1\" class=\"dataframe\">\n",
              "  <thead>\n",
              "    <tr style=\"text-align: right;\">\n",
              "      <th></th>\n",
              "      <th>Missing Values</th>\n",
              "      <th>% of Total Values</th>\n",
              "    </tr>\n",
              "  </thead>\n",
              "  <tbody>\n",
              "    <tr>\n",
              "      <th>id</th>\n",
              "      <td>1303607</td>\n",
              "      <td>100.0</td>\n",
              "    </tr>\n",
              "    <tr>\n",
              "      <th>url</th>\n",
              "      <td>1303607</td>\n",
              "      <td>100.0</td>\n",
              "    </tr>\n",
              "    <tr>\n",
              "      <th>member_id</th>\n",
              "      <td>1303607</td>\n",
              "      <td>100.0</td>\n",
              "    </tr>\n",
              "    <tr>\n",
              "      <th>next_pymnt_d</th>\n",
              "      <td>1303607</td>\n",
              "      <td>100.0</td>\n",
              "    </tr>\n",
              "    <tr>\n",
              "      <th>orig_projected_additional_accrued_interest</th>\n",
              "      <td>1300174</td>\n",
              "      <td>99.7</td>\n",
              "    </tr>\n",
              "    <tr>\n",
              "      <th>hardship_type</th>\n",
              "      <td>1298272</td>\n",
              "      <td>99.6</td>\n",
              "    </tr>\n",
              "    <tr>\n",
              "      <th>hardship_reason</th>\n",
              "      <td>1298272</td>\n",
              "      <td>99.6</td>\n",
              "    </tr>\n",
              "    <tr>\n",
              "      <th>hardship_status</th>\n",
              "      <td>1298272</td>\n",
              "      <td>99.6</td>\n",
              "    </tr>\n",
              "    <tr>\n",
              "      <th>hardship_last_payment_amount</th>\n",
              "      <td>1298272</td>\n",
              "      <td>99.6</td>\n",
              "    </tr>\n",
              "    <tr>\n",
              "      <th>hardship_payoff_balance_amount</th>\n",
              "      <td>1298272</td>\n",
              "      <td>99.6</td>\n",
              "    </tr>\n",
              "  </tbody>\n",
              "</table>\n",
              "</div>"
            ],
            "text/plain": [
              "                                            Missing Values  % of Total Values\n",
              "id                                                 1303607              100.0\n",
              "url                                                1303607              100.0\n",
              "member_id                                          1303607              100.0\n",
              "next_pymnt_d                                       1303607              100.0\n",
              "orig_projected_additional_accrued_interest         1300174               99.7\n",
              "hardship_type                                      1298272               99.6\n",
              "hardship_reason                                    1298272               99.6\n",
              "hardship_status                                    1298272               99.6\n",
              "hardship_last_payment_amount                       1298272               99.6\n",
              "hardship_payoff_balance_amount                     1298272               99.6"
            ]
          },
          "metadata": {
            "tags": []
          },
          "execution_count": 14
        }
      ]
    },
    {
      "cell_type": "code",
      "metadata": {
        "id": "RccB3MLR3UPq",
        "colab_type": "code",
        "colab": {}
      },
      "source": [
        "missing_fractions = df.isnull().mean().sort_values(ascending=False)"
      ],
      "execution_count": 0,
      "outputs": []
    },
    {
      "cell_type": "markdown",
      "metadata": {
        "id": "Tft5iiBD3UPs",
        "colab_type": "text"
      },
      "source": [
        "Let's visualize the distribution of missing data"
      ]
    },
    {
      "cell_type": "code",
      "metadata": {
        "scrolled": true,
        "id": "Y6Y4Tv1g3UPt",
        "colab_type": "code",
        "outputId": "f6b12588-3de1-4b08-a319-fbff9338cfb1",
        "colab": {
          "base_uri": "https://localhost:8080/",
          "height": 347
        }
      },
      "source": [
        "plt.figure(figsize=(6,3),dpi=100)\n",
        "missing_fractions.plot.hist(bins=20)\n",
        "plt.title('Histogram of Feature Incompleteness')\n",
        "plt.xlabel('Fraction of data missing')\n",
        "plt.ylabel('Feature count')"
      ],
      "execution_count": 16,
      "outputs": [
        {
          "output_type": "execute_result",
          "data": {
            "text/plain": [
              "Text(0, 0.5, 'Feature count')"
            ]
          },
          "metadata": {
            "tags": []
          },
          "execution_count": 16
        },
        {
          "output_type": "display_data",
          "data": {
            "image/png": "[encoded data removed]",
            "text/plain": [
              "<Figure size 600x300 with 1 Axes>"
            ]
          },
          "metadata": {
            "tags": []
          }
        }
      ]
    },
    {
      "cell_type": "markdown",
      "metadata": {
        "id": "kokuKYk83UPw",
        "colab_type": "text"
      },
      "source": [
        "We can see that there a huge gap between the features missing some data(<20%) and those who are missing a lot of data(>40%). Since its very difficult to impute the remaining data accurately for the columns with more than 30% missing values, we drop those columns.\n",
        "\n",
        "First storing all columns missing more than 30% data into a list:"
      ]
    },
    {
      "cell_type": "code",
      "metadata": {
        "id": "wL57EhJX3UPw",
        "colab_type": "code",
        "outputId": "9a732082-8f02-4f81-f446-5d4b909b4d2a",
        "colab": {
          "base_uri": "https://localhost:8080/",
          "height": 55
        }
      },
      "source": [
        "drop_list = list(missing_fractions[missing_fractions>0.3].index)\n",
        "print(drop_list)"
      ],
      "execution_count": 17,
      "outputs": [
        {
          "output_type": "stream",
          "text": [
            "['id', 'member_id', 'url', 'next_pymnt_d', 'orig_projected_additional_accrued_interest', 'hardship_length', 'hardship_type', 'hardship_reason', 'hardship_status', 'deferral_term', 'hardship_amount', 'hardship_end_date', 'payment_plan_start_date', 'hardship_start_date', 'hardship_dpd', 'hardship_last_payment_amount', 'hardship_loan_status', 'hardship_payoff_balance_amount', 'sec_app_mths_since_last_major_derog', 'sec_app_revol_util', 'revol_bal_joint', 'sec_app_collections_12_mths_ex_med', 'sec_app_chargeoff_within_12_mths', 'sec_app_num_rev_accts', 'sec_app_open_act_il', 'sec_app_open_acc', 'sec_app_mort_acc', 'sec_app_inq_last_6mths', 'sec_app_earliest_cr_line', 'verification_status_joint', 'dti_joint', 'annual_inc_joint', 'settlement_percentage', 'settlement_term', 'settlement_status', 'settlement_amount', 'settlement_date', 'debt_settlement_flag_date', 'desc', 'mths_since_last_record', 'mths_since_recent_bc_dlq', 'mths_since_last_major_derog', 'il_util', 'mths_since_recent_revol_delinq', 'mths_since_rcnt_il', 'all_util', 'open_acc_6m', 'inq_last_12m', 'total_cu_tl', 'open_il_24m', 'open_rv_12m', 'open_rv_24m', 'total_bal_il', 'max_bal_bc', 'open_act_il', 'open_il_12m', 'inq_fi', 'mths_since_last_delinq']\n"
          ],
          "name": "stdout"
        }
      ]
    },
    {
      "cell_type": "markdown",
      "metadata": {
        "id": "Un8cKYJ23UPz",
        "colab_type": "text"
      },
      "source": [
        "No of features being dropped"
      ]
    },
    {
      "cell_type": "code",
      "metadata": {
        "id": "pqgAfj_B3UP0",
        "colab_type": "code",
        "outputId": "eeb4c32b-3502-4ea4-ed2c-bd5382f4e5e9",
        "colab": {
          "base_uri": "https://localhost:8080/",
          "height": 35
        }
      },
      "source": [
        "len(drop_list)"
      ],
      "execution_count": 18,
      "outputs": [
        {
          "output_type": "execute_result",
          "data": {
            "text/plain": [
              "58"
            ]
          },
          "metadata": {
            "tags": []
          },
          "execution_count": 18
        }
      ]
    },
    {
      "cell_type": "markdown",
      "metadata": {
        "id": "9VDGQCnX3UP5",
        "colab_type": "text"
      },
      "source": [
        "Dropping these features:"
      ]
    },
    {
      "cell_type": "code",
      "metadata": {
        "id": "XX0F9w7j3UP8",
        "colab_type": "code",
        "colab": {}
      },
      "source": [
        "df.drop(labels=drop_list, axis=1, inplace=True)"
      ],
      "execution_count": 0,
      "outputs": []
    },
    {
      "cell_type": "code",
      "metadata": {
        "id": "elzAWcy_3UP-",
        "colab_type": "code",
        "outputId": "f89dc333-fb6e-4c52-b040-cce9d3986bb8",
        "colab": {
          "base_uri": "https://localhost:8080/",
          "height": 35
        }
      },
      "source": [
        "df.shape"
      ],
      "execution_count": 20,
      "outputs": [
        {
          "output_type": "execute_result",
          "data": {
            "text/plain": [
              "(1303607, 87)"
            ]
          },
          "metadata": {
            "tags": []
          },
          "execution_count": 20
        }
      ]
    },
    {
      "cell_type": "markdown",
      "metadata": {
        "id": "CpEMhls13UQB",
        "colab_type": "text"
      },
      "source": [
        "### 4.2 Keeping useful features"
      ]
    },
    {
      "cell_type": "markdown",
      "metadata": {
        "id": "uyVLJIG_3UQB",
        "colab_type": "text"
      },
      "source": [
        "After researching through the data dictionary we decide to keep only the use full features from all the remaining features we have."
      ]
    },
    {
      "cell_type": "code",
      "metadata": {
        "id": "UdEc1Deg3UQC",
        "colab_type": "code",
        "outputId": "dad2cf91-3c54-4f01-ee2a-8ce27bcddef2",
        "colab": {
          "base_uri": "https://localhost:8080/",
          "height": 35
        }
      },
      "source": [
        "features = ['annual_inc', 'grade', 'emp_length', 'funded_amnt', \n",
        "                'avg_cur_bal', 'last_pymnt_amnt', 'open_acc', 'bc_util', 'mort_acc', 'pub_rec', \n",
        "                'debt_settlement_flag', 'term', 'installment', 'int_rate', 'delinq_2yrs', 'home_ownership', \n",
        "                'acc_now_delinq', 'loan_amnt', 'total_pymnt', 'loan_status'] \n",
        "Final_data = df[features]\n",
        "Final_data = Final_data.reset_index(drop=True)\n",
        "Final_data.shape"
      ],
      "execution_count": 21,
      "outputs": [
        {
          "output_type": "execute_result",
          "data": {
            "text/plain": [
              "(1303607, 20)"
            ]
          },
          "metadata": {
            "tags": []
          },
          "execution_count": 21
        }
      ]
    },
    {
      "cell_type": "code",
      "metadata": {
        "scrolled": true,
        "id": "lZ73_Pl83UQH",
        "colab_type": "code",
        "outputId": "c4f4b8b6-bd19-4f66-ebe8-20b9d7314a88",
        "colab": {
          "base_uri": "https://localhost:8080/",
          "height": 228
        }
      },
      "source": [
        "Final_data['emp_length'].value_counts()"
      ],
      "execution_count": 22,
      "outputs": [
        {
          "output_type": "execute_result",
          "data": {
            "text/plain": [
              "10+ years    428547\n",
              "2 years      117820\n",
              "< 1 year     104550\n",
              "3 years      104200\n",
              "1 year        85677\n",
              "5 years       81623\n",
              "4 years       78029\n",
              "6 years       60933\n",
              "8 years       59125\n",
              "7 years       58145\n",
              "9 years       49504\n",
              "Name: emp_length, dtype: int64"
            ]
          },
          "metadata": {
            "tags": []
          },
          "execution_count": 22
        }
      ]
    },
    {
      "cell_type": "code",
      "metadata": {
        "id": "T2BLSWX33UQL",
        "colab_type": "code",
        "outputId": "30b9f1f7-5f2a-4f96-8137-2f1dcd8e58e3",
        "colab": {
          "base_uri": "https://localhost:8080/",
          "height": 309
        }
      },
      "source": [
        "Final_data.head()"
      ],
      "execution_count": 23,
      "outputs": [
        {
          "output_type": "execute_result",
          "data": {
            "text/html": [
              "<div>\n",
              "<style scoped>\n",
              "    .dataframe tbody tr th:only-of-type {\n",
              "        vertical-align: middle;\n",
              "    }\n",
              "\n",
              "    .dataframe tbody tr th {\n",
              "        vertical-align: top;\n",
              "    }\n",
              "\n",
              "    .dataframe thead th {\n",
              "        text-align: right;\n",
              "    }\n",
              "</style>\n",
              "<table border=\"1\" class=\"dataframe\">\n",
              "  <thead>\n",
              "    <tr style=\"text-align: right;\">\n",
              "      <th></th>\n",
              "      <th>annual_inc</th>\n",
              "      <th>grade</th>\n",
              "      <th>emp_length</th>\n",
              "      <th>funded_amnt</th>\n",
              "      <th>avg_cur_bal</th>\n",
              "      <th>last_pymnt_amnt</th>\n",
              "      <th>open_acc</th>\n",
              "      <th>bc_util</th>\n",
              "      <th>mort_acc</th>\n",
              "      <th>pub_rec</th>\n",
              "      <th>debt_settlement_flag</th>\n",
              "      <th>term</th>\n",
              "      <th>installment</th>\n",
              "      <th>int_rate</th>\n",
              "      <th>delinq_2yrs</th>\n",
              "      <th>home_ownership</th>\n",
              "      <th>acc_now_delinq</th>\n",
              "      <th>loan_amnt</th>\n",
              "      <th>total_pymnt</th>\n",
              "      <th>loan_status</th>\n",
              "    </tr>\n",
              "  </thead>\n",
              "  <tbody>\n",
              "    <tr>\n",
              "      <th>0</th>\n",
              "      <td>100000.0</td>\n",
              "      <td>D</td>\n",
              "      <td>5 years</td>\n",
              "      <td>30000</td>\n",
              "      <td>42939.0</td>\n",
              "      <td>30082.32</td>\n",
              "      <td>11.0</td>\n",
              "      <td>46.9</td>\n",
              "      <td>1.0</td>\n",
              "      <td>1.0</td>\n",
              "      <td>N</td>\n",
              "      <td>36 months</td>\n",
              "      <td>1151.16</td>\n",
              "      <td>22.35</td>\n",
              "      <td>0.0</td>\n",
              "      <td>MORTGAGE</td>\n",
              "      <td>0.0</td>\n",
              "      <td>30000</td>\n",
              "      <td>30026.442500</td>\n",
              "      <td>0</td>\n",
              "    </tr>\n",
              "    <tr>\n",
              "      <th>1</th>\n",
              "      <td>45000.0</td>\n",
              "      <td>C</td>\n",
              "      <td>&lt; 1 year</td>\n",
              "      <td>40000</td>\n",
              "      <td>15059.0</td>\n",
              "      <td>40910.48</td>\n",
              "      <td>18.0</td>\n",
              "      <td>67.3</td>\n",
              "      <td>1.0</td>\n",
              "      <td>0.0</td>\n",
              "      <td>N</td>\n",
              "      <td>60 months</td>\n",
              "      <td>975.71</td>\n",
              "      <td>16.14</td>\n",
              "      <td>0.0</td>\n",
              "      <td>MORTGAGE</td>\n",
              "      <td>0.0</td>\n",
              "      <td>40000</td>\n",
              "      <td>40856.678960</td>\n",
              "      <td>0</td>\n",
              "    </tr>\n",
              "    <tr>\n",
              "      <th>2</th>\n",
              "      <td>100000.0</td>\n",
              "      <td>A</td>\n",
              "      <td>10+ years</td>\n",
              "      <td>20000</td>\n",
              "      <td>57309.0</td>\n",
              "      <td>20228.39</td>\n",
              "      <td>9.0</td>\n",
              "      <td>29.9</td>\n",
              "      <td>5.0</td>\n",
              "      <td>0.0</td>\n",
              "      <td>N</td>\n",
              "      <td>36 months</td>\n",
              "      <td>622.68</td>\n",
              "      <td>7.56</td>\n",
              "      <td>0.0</td>\n",
              "      <td>MORTGAGE</td>\n",
              "      <td>0.0</td>\n",
              "      <td>20000</td>\n",
              "      <td>20215.792430</td>\n",
              "      <td>0</td>\n",
              "    </tr>\n",
              "    <tr>\n",
              "      <th>3</th>\n",
              "      <td>38500.0</td>\n",
              "      <td>B</td>\n",
              "      <td>10+ years</td>\n",
              "      <td>4500</td>\n",
              "      <td>2428.0</td>\n",
              "      <td>4553.46</td>\n",
              "      <td>12.0</td>\n",
              "      <td>28.9</td>\n",
              "      <td>0.0</td>\n",
              "      <td>0.0</td>\n",
              "      <td>N</td>\n",
              "      <td>36 months</td>\n",
              "      <td>147.99</td>\n",
              "      <td>11.31</td>\n",
              "      <td>0.0</td>\n",
              "      <td>RENT</td>\n",
              "      <td>0.0</td>\n",
              "      <td>4500</td>\n",
              "      <td>4549.217149</td>\n",
              "      <td>0</td>\n",
              "    </tr>\n",
              "    <tr>\n",
              "      <th>4</th>\n",
              "      <td>450000.0</td>\n",
              "      <td>E</td>\n",
              "      <td>3 years</td>\n",
              "      <td>8425</td>\n",
              "      <td>34516.0</td>\n",
              "      <td>8754.30</td>\n",
              "      <td>21.0</td>\n",
              "      <td>74.6</td>\n",
              "      <td>4.0</td>\n",
              "      <td>0.0</td>\n",
              "      <td>N</td>\n",
              "      <td>36 months</td>\n",
              "      <td>345.18</td>\n",
              "      <td>27.27</td>\n",
              "      <td>0.0</td>\n",
              "      <td>MORTGAGE</td>\n",
              "      <td>0.0</td>\n",
              "      <td>8425</td>\n",
              "      <td>8735.148975</td>\n",
              "      <td>0</td>\n",
              "    </tr>\n",
              "  </tbody>\n",
              "</table>\n",
              "</div>"
            ],
            "text/plain": [
              "   annual_inc grade emp_length  ...  loan_amnt   total_pymnt  loan_status\n",
              "0    100000.0     D    5 years  ...      30000  30026.442500            0\n",
              "1     45000.0     C   < 1 year  ...      40000  40856.678960            0\n",
              "2    100000.0     A  10+ years  ...      20000  20215.792430            0\n",
              "3     38500.0     B  10+ years  ...       4500   4549.217149            0\n",
              "4    450000.0     E    3 years  ...       8425   8735.148975            0\n",
              "\n",
              "[5 rows x 20 columns]"
            ]
          },
          "metadata": {
            "tags": []
          },
          "execution_count": 23
        }
      ]
    },
    {
      "cell_type": "markdown",
      "metadata": {
        "id": "N4lQFXMI3UQQ",
        "colab_type": "text"
      },
      "source": [
        "### 5. Data Transformation"
      ]
    },
    {
      "cell_type": "markdown",
      "metadata": {
        "id": "PPu4VcH-3UQR",
        "colab_type": "text"
      },
      "source": [
        "We need to transform some categotial values in our dataset to numerical labels so we can use it to work with some models\n",
        "Grade and home_ownership should be encoded to numerical values.\n",
        "Also emp_length is in a format of string i.e. \"5 years\",\"1 year\" which needs to be changed to its numerical values."
      ]
    },
    {
      "cell_type": "code",
      "metadata": {
        "id": "xXqYj-sYcJVW",
        "colab_type": "code",
        "outputId": "a66c9403-ecb4-455a-a1b5-44e8e69db3bf",
        "colab": {
          "base_uri": "https://localhost:8080/",
          "height": 457
        }
      },
      "source": [
        "Final_data.info()"
      ],
      "execution_count": 24,
      "outputs": [
        {
          "output_type": "stream",
          "text": [
            "<class 'pandas.core.frame.DataFrame'>\n",
            "RangeIndex: 1303607 entries, 0 to 1303606\n",
            "Data columns (total 20 columns):\n",
            "annual_inc              1303607 non-null float64\n",
            "grade                   1303607 non-null object\n",
            "emp_length              1228153 non-null object\n",
            "funded_amnt             1303607 non-null int64\n",
            "avg_cur_bal             1236059 non-null float64\n",
            "last_pymnt_amnt         1303607 non-null float64\n",
            "open_acc                1303607 non-null float64\n",
            "bc_util                 1242221 non-null float64\n",
            "mort_acc                1256326 non-null float64\n",
            "pub_rec                 1303607 non-null float64\n",
            "debt_settlement_flag    1303607 non-null object\n",
            "term                    1303607 non-null object\n",
            "installment             1303607 non-null float64\n",
            "int_rate                1303607 non-null float64\n",
            "delinq_2yrs             1303607 non-null float64\n",
            "home_ownership          1303607 non-null object\n",
            "acc_now_delinq          1303607 non-null float64\n",
            "loan_amnt               1303607 non-null int64\n",
            "total_pymnt             1303607 non-null float64\n",
            "loan_status             1303607 non-null int64\n",
            "dtypes: float64(12), int64(3), object(5)\n",
            "memory usage: 198.9+ MB\n"
          ],
          "name": "stdout"
        }
      ]
    },
    {
      "cell_type": "code",
      "metadata": {
        "id": "ABSs1-EA3UQS",
        "colab_type": "code",
        "outputId": "283e15a8-7909-4342-f557-29d4badab166",
        "colab": {
          "base_uri": "https://localhost:8080/",
          "height": 240
        }
      },
      "source": [
        "from sklearn.preprocessing import LabelEncoder\n",
        "\n",
        "lb_make = LabelEncoder()\n",
        "Final_data[\"home_ownership\"] = lb_make.fit_transform(Final_data[\"home_ownership\"])\n",
        "Final_data[\"grade\"] = lb_make.fit_transform(Final_data[\"grade\"])\n",
        "Final_data[\"debt_settlement_flag\"] = lb_make.fit_transform(Final_data[\"debt_settlement_flag\"])\n",
        "Final_data[\"term\"] = lb_make.fit_transform(Final_data[\"term\"])\n",
        "Final_data.drop('emp_length',axis=1, inplace=True)\n",
        "print(\"Current shape of dataset :\",Final_data.shape)\n",
        "Final_data.head()"
      ],
      "execution_count": 25,
      "outputs": [
        {
          "output_type": "stream",
          "text": [
            "Current shape of dataset : (1303607, 19)\n"
          ],
          "name": "stdout"
        },
        {
          "output_type": "execute_result",
          "data": {
            "text/html": [
              "<div>\n",
              "<style scoped>\n",
              "    .dataframe tbody tr th:only-of-type {\n",
              "        vertical-align: middle;\n",
              "    }\n",
              "\n",
              "    .dataframe tbody tr th {\n",
              "        vertical-align: top;\n",
              "    }\n",
              "\n",
              "    .dataframe thead th {\n",
              "        text-align: right;\n",
              "    }\n",
              "</style>\n",
              "<table border=\"1\" class=\"dataframe\">\n",
              "  <thead>\n",
              "    <tr style=\"text-align: right;\">\n",
              "      <th></th>\n",
              "      <th>annual_inc</th>\n",
              "      <th>grade</th>\n",
              "      <th>funded_amnt</th>\n",
              "      <th>avg_cur_bal</th>\n",
              "      <th>last_pymnt_amnt</th>\n",
              "      <th>open_acc</th>\n",
              "      <th>bc_util</th>\n",
              "      <th>mort_acc</th>\n",
              "      <th>pub_rec</th>\n",
              "      <th>debt_settlement_flag</th>\n",
              "      <th>term</th>\n",
              "      <th>installment</th>\n",
              "      <th>int_rate</th>\n",
              "      <th>delinq_2yrs</th>\n",
              "      <th>home_ownership</th>\n",
              "      <th>acc_now_delinq</th>\n",
              "      <th>loan_amnt</th>\n",
              "      <th>total_pymnt</th>\n",
              "      <th>loan_status</th>\n",
              "    </tr>\n",
              "  </thead>\n",
              "  <tbody>\n",
              "    <tr>\n",
              "      <th>0</th>\n",
              "      <td>100000.0</td>\n",
              "      <td>3</td>\n",
              "      <td>30000</td>\n",
              "      <td>42939.0</td>\n",
              "      <td>30082.32</td>\n",
              "      <td>11.0</td>\n",
              "      <td>46.9</td>\n",
              "      <td>1.0</td>\n",
              "      <td>1.0</td>\n",
              "      <td>0</td>\n",
              "      <td>0</td>\n",
              "      <td>1151.16</td>\n",
              "      <td>22.35</td>\n",
              "      <td>0.0</td>\n",
              "      <td>1</td>\n",
              "      <td>0.0</td>\n",
              "      <td>30000</td>\n",
              "      <td>30026.442500</td>\n",
              "      <td>0</td>\n",
              "    </tr>\n",
              "    <tr>\n",
              "      <th>1</th>\n",
              "      <td>45000.0</td>\n",
              "      <td>2</td>\n",
              "      <td>40000</td>\n",
              "      <td>15059.0</td>\n",
              "      <td>40910.48</td>\n",
              "      <td>18.0</td>\n",
              "      <td>67.3</td>\n",
              "      <td>1.0</td>\n",
              "      <td>0.0</td>\n",
              "      <td>0</td>\n",
              "      <td>1</td>\n",
              "      <td>975.71</td>\n",
              "      <td>16.14</td>\n",
              "      <td>0.0</td>\n",
              "      <td>1</td>\n",
              "      <td>0.0</td>\n",
              "      <td>40000</td>\n",
              "      <td>40856.678960</td>\n",
              "      <td>0</td>\n",
              "    </tr>\n",
              "    <tr>\n",
              "      <th>2</th>\n",
              "      <td>100000.0</td>\n",
              "      <td>0</td>\n",
              "      <td>20000</td>\n",
              "      <td>57309.0</td>\n",
              "      <td>20228.39</td>\n",
              "      <td>9.0</td>\n",
              "      <td>29.9</td>\n",
              "      <td>5.0</td>\n",
              "      <td>0.0</td>\n",
              "      <td>0</td>\n",
              "      <td>0</td>\n",
              "      <td>622.68</td>\n",
              "      <td>7.56</td>\n",
              "      <td>0.0</td>\n",
              "      <td>1</td>\n",
              "      <td>0.0</td>\n",
              "      <td>20000</td>\n",
              "      <td>20215.792430</td>\n",
              "      <td>0</td>\n",
              "    </tr>\n",
              "    <tr>\n",
              "      <th>3</th>\n",
              "      <td>38500.0</td>\n",
              "      <td>1</td>\n",
              "      <td>4500</td>\n",
              "      <td>2428.0</td>\n",
              "      <td>4553.46</td>\n",
              "      <td>12.0</td>\n",
              "      <td>28.9</td>\n",
              "      <td>0.0</td>\n",
              "      <td>0.0</td>\n",
              "      <td>0</td>\n",
              "      <td>0</td>\n",
              "      <td>147.99</td>\n",
              "      <td>11.31</td>\n",
              "      <td>0.0</td>\n",
              "      <td>5</td>\n",
              "      <td>0.0</td>\n",
              "      <td>4500</td>\n",
              "      <td>4549.217149</td>\n",
              "      <td>0</td>\n",
              "    </tr>\n",
              "    <tr>\n",
              "      <th>4</th>\n",
              "      <td>450000.0</td>\n",
              "      <td>4</td>\n",
              "      <td>8425</td>\n",
              "      <td>34516.0</td>\n",
              "      <td>8754.30</td>\n",
              "      <td>21.0</td>\n",
              "      <td>74.6</td>\n",
              "      <td>4.0</td>\n",
              "      <td>0.0</td>\n",
              "      <td>0</td>\n",
              "      <td>0</td>\n",
              "      <td>345.18</td>\n",
              "      <td>27.27</td>\n",
              "      <td>0.0</td>\n",
              "      <td>1</td>\n",
              "      <td>0.0</td>\n",
              "      <td>8425</td>\n",
              "      <td>8735.148975</td>\n",
              "      <td>0</td>\n",
              "    </tr>\n",
              "  </tbody>\n",
              "</table>\n",
              "</div>"
            ],
            "text/plain": [
              "   annual_inc  grade  funded_amnt  ...  loan_amnt   total_pymnt  loan_status\n",
              "0    100000.0      3        30000  ...      30000  30026.442500            0\n",
              "1     45000.0      2        40000  ...      40000  40856.678960            0\n",
              "2    100000.0      0        20000  ...      20000  20215.792430            0\n",
              "3     38500.0      1         4500  ...       4500   4549.217149            0\n",
              "4    450000.0      4         8425  ...       8425   8735.148975            0\n",
              "\n",
              "[5 rows x 19 columns]"
            ]
          },
          "metadata": {
            "tags": []
          },
          "execution_count": 25
        }
      ]
    },
    {
      "cell_type": "code",
      "metadata": {
        "id": "nZwoS6lt3UQX",
        "colab_type": "code",
        "outputId": "f1d5e4f6-fda2-4179-90be-66fa76f0bcc7",
        "colab": {
          "base_uri": "https://localhost:8080/",
          "height": 369
        }
      },
      "source": [
        "Final_data.isnull().sum()"
      ],
      "execution_count": 26,
      "outputs": [
        {
          "output_type": "execute_result",
          "data": {
            "text/plain": [
              "annual_inc                  0\n",
              "grade                       0\n",
              "funded_amnt                 0\n",
              "avg_cur_bal             67548\n",
              "last_pymnt_amnt             0\n",
              "open_acc                    0\n",
              "bc_util                 61386\n",
              "mort_acc                47281\n",
              "pub_rec                     0\n",
              "debt_settlement_flag        0\n",
              "term                        0\n",
              "installment                 0\n",
              "int_rate                    0\n",
              "delinq_2yrs                 0\n",
              "home_ownership              0\n",
              "acc_now_delinq              0\n",
              "loan_amnt                   0\n",
              "total_pymnt                 0\n",
              "loan_status                 0\n",
              "dtype: int64"
            ]
          },
          "metadata": {
            "tags": []
          },
          "execution_count": 26
        }
      ]
    },
    {
      "cell_type": "code",
      "metadata": {
        "id": "3-Npf-Dd3UQa",
        "colab_type": "code",
        "colab": {}
      },
      "source": [
        "Final_data.fillna(Final_data.mean(),inplace=True)"
      ],
      "execution_count": 0,
      "outputs": []
    },
    {
      "cell_type": "code",
      "metadata": {
        "id": "fgtp0mbn3UQf",
        "colab_type": "code",
        "outputId": "0a1a3f37-760c-41ea-da4f-d9b3443c0dc5",
        "colab": {
          "base_uri": "https://localhost:8080/",
          "height": 369
        }
      },
      "source": [
        "Final_data.isnull().sum()"
      ],
      "execution_count": 28,
      "outputs": [
        {
          "output_type": "execute_result",
          "data": {
            "text/plain": [
              "annual_inc              0\n",
              "grade                   0\n",
              "funded_amnt             0\n",
              "avg_cur_bal             0\n",
              "last_pymnt_amnt         0\n",
              "open_acc                0\n",
              "bc_util                 0\n",
              "mort_acc                0\n",
              "pub_rec                 0\n",
              "debt_settlement_flag    0\n",
              "term                    0\n",
              "installment             0\n",
              "int_rate                0\n",
              "delinq_2yrs             0\n",
              "home_ownership          0\n",
              "acc_now_delinq          0\n",
              "loan_amnt               0\n",
              "total_pymnt             0\n",
              "loan_status             0\n",
              "dtype: int64"
            ]
          },
          "metadata": {
            "tags": []
          },
          "execution_count": 28
        }
      ]
    },
    {
      "cell_type": "code",
      "metadata": {
        "id": "JWGgUAFg3UQj",
        "colab_type": "code",
        "outputId": "10b57740-d34b-4f2c-8fca-ee6837ebe914",
        "colab": {
          "base_uri": "https://localhost:8080/",
          "height": 70
        }
      },
      "source": [
        "scl = preprocessing.StandardScaler()\n",
        "fields = Final_data.columns.values[:-1]\n",
        "data_clean_full = pd.DataFrame(scl.fit_transform(Final_data[fields]), columns = fields)\n",
        "data_clean_full['loan_status'] = Final_data['loan_status']\n",
        "data_clean_full['loan_status'].value_counts()\n"
      ],
      "execution_count": 29,
      "outputs": [
        {
          "output_type": "execute_result",
          "data": {
            "text/plain": [
              "0    1041952\n",
              "1     261655\n",
              "Name: loan_status, dtype: int64"
            ]
          },
          "metadata": {
            "tags": []
          },
          "execution_count": 29
        }
      ]
    },
    {
      "cell_type": "code",
      "metadata": {
        "id": "K3iISm2LWGZG",
        "colab_type": "code",
        "outputId": "716b457e-d38a-45f2-e16f-0cd366f9ec38",
        "colab": {
          "base_uri": "https://localhost:8080/",
          "height": 240
        }
      },
      "source": [
        "loanstatus_0 = data_clean_full[data_clean_full[\"loan_status\"]==0]\n",
        "loanstatus_1 = data_clean_full[data_clean_full[\"loan_status\"]==1]\n",
        "subset_of_loanstatus_0 = loanstatus_0.sample(n=25000)\n",
        "subset_of_loanstatus_1 = loanstatus_1.sample(n=25000)\n",
        "data_clean = pd.concat([subset_of_loanstatus_1, subset_of_loanstatus_0])\n",
        "data_clean = data_clean.sample(frac=1).reset_index(drop=True)\n",
        "print(\"Current shape of dataset :\",data_clean.shape)\n",
        "\n",
        "# data_clean.drop('emp_length',axis=1, inplace=True)\n",
        "data_clean.head(5)"
      ],
      "execution_count": 30,
      "outputs": [
        {
          "output_type": "stream",
          "text": [
            "Current shape of dataset : (50000, 19)\n"
          ],
          "name": "stdout"
        },
        {
          "output_type": "execute_result",
          "data": {
            "text/html": [
              "<div>\n",
              "<style scoped>\n",
              "    .dataframe tbody tr th:only-of-type {\n",
              "        vertical-align: middle;\n",
              "    }\n",
              "\n",
              "    .dataframe tbody tr th {\n",
              "        vertical-align: top;\n",
              "    }\n",
              "\n",
              "    .dataframe thead th {\n",
              "        text-align: right;\n",
              "    }\n",
              "</style>\n",
              "<table border=\"1\" class=\"dataframe\">\n",
              "  <thead>\n",
              "    <tr style=\"text-align: right;\">\n",
              "      <th></th>\n",
              "      <th>annual_inc</th>\n",
              "      <th>grade</th>\n",
              "      <th>funded_amnt</th>\n",
              "      <th>avg_cur_bal</th>\n",
              "      <th>last_pymnt_amnt</th>\n",
              "      <th>open_acc</th>\n",
              "      <th>bc_util</th>\n",
              "      <th>mort_acc</th>\n",
              "      <th>pub_rec</th>\n",
              "      <th>debt_settlement_flag</th>\n",
              "      <th>term</th>\n",
              "      <th>installment</th>\n",
              "      <th>int_rate</th>\n",
              "      <th>delinq_2yrs</th>\n",
              "      <th>home_ownership</th>\n",
              "      <th>acc_now_delinq</th>\n",
              "      <th>loan_amnt</th>\n",
              "      <th>total_pymnt</th>\n",
              "      <th>loan_status</th>\n",
              "    </tr>\n",
              "  </thead>\n",
              "  <tbody>\n",
              "    <tr>\n",
              "      <th>0</th>\n",
              "      <td>-0.444818</td>\n",
              "      <td>1.733707</td>\n",
              "      <td>0.413075</td>\n",
              "      <td>-0.713071</td>\n",
              "      <td>-0.697716</td>\n",
              "      <td>2.087297</td>\n",
              "      <td>-0.883451</td>\n",
              "      <td>-0.851916</td>\n",
              "      <td>1.301257</td>\n",
              "      <td>6.304897</td>\n",
              "      <td>1.772108</td>\n",
              "      <td>0.186832</td>\n",
              "      <td>1.624348</td>\n",
              "      <td>-0.362051</td>\n",
              "      <td>0.568545</td>\n",
              "      <td>-0.065476</td>\n",
              "      <td>0.411883</td>\n",
              "      <td>-0.235765</td>\n",
              "      <td>1</td>\n",
              "    </tr>\n",
              "    <tr>\n",
              "      <th>1</th>\n",
              "      <td>-0.159303</td>\n",
              "      <td>0.191616</td>\n",
              "      <td>-0.823201</td>\n",
              "      <td>0.747933</td>\n",
              "      <td>-0.730962</td>\n",
              "      <td>0.806484</td>\n",
              "      <td>-0.992200</td>\n",
              "      <td>1.180235</td>\n",
              "      <td>-0.357498</td>\n",
              "      <td>-0.158607</td>\n",
              "      <td>-0.564300</td>\n",
              "      <td>-0.722297</td>\n",
              "      <td>0.258958</td>\n",
              "      <td>0.777864</td>\n",
              "      <td>0.568545</td>\n",
              "      <td>-0.065476</td>\n",
              "      <td>-0.823814</td>\n",
              "      <td>-0.918577</td>\n",
              "      <td>1</td>\n",
              "    </tr>\n",
              "    <tr>\n",
              "      <th>2</th>\n",
              "      <td>1.767923</td>\n",
              "      <td>-0.579430</td>\n",
              "      <td>2.943128</td>\n",
              "      <td>-0.629241</td>\n",
              "      <td>-0.651659</td>\n",
              "      <td>-1.206221</td>\n",
              "      <td>0.831154</td>\n",
              "      <td>-0.343878</td>\n",
              "      <td>-0.357498</td>\n",
              "      <td>-0.158607</td>\n",
              "      <td>1.772108</td>\n",
              "      <td>1.446298</td>\n",
              "      <td>-1.053918</td>\n",
              "      <td>0.777864</td>\n",
              "      <td>1.090493</td>\n",
              "      <td>-0.065476</td>\n",
              "      <td>2.940753</td>\n",
              "      <td>0.145573</td>\n",
              "      <td>1</td>\n",
              "    </tr>\n",
              "    <tr>\n",
              "      <th>3</th>\n",
              "      <td>-0.197619</td>\n",
              "      <td>1.733707</td>\n",
              "      <td>-0.161937</td>\n",
              "      <td>-0.647849</td>\n",
              "      <td>0.870424</td>\n",
              "      <td>1.172431</td>\n",
              "      <td>0.845654</td>\n",
              "      <td>0.164160</td>\n",
              "      <td>1.301257</td>\n",
              "      <td>-0.158607</td>\n",
              "      <td>1.772108</td>\n",
              "      <td>-0.178290</td>\n",
              "      <td>2.739768</td>\n",
              "      <td>1.917778</td>\n",
              "      <td>-0.997298</td>\n",
              "      <td>-0.065476</td>\n",
              "      <td>-0.162860</td>\n",
              "      <td>0.227816</td>\n",
              "      <td>0</td>\n",
              "    </tr>\n",
              "    <tr>\n",
              "      <th>4</th>\n",
              "      <td>-0.599024</td>\n",
              "      <td>-0.579430</td>\n",
              "      <td>-0.506945</td>\n",
              "      <td>-0.617383</td>\n",
              "      <td>-0.719609</td>\n",
              "      <td>-0.840275</td>\n",
              "      <td>1.273399</td>\n",
              "      <td>0.164160</td>\n",
              "      <td>6.277523</td>\n",
              "      <td>-0.158607</td>\n",
              "      <td>-0.564300</td>\n",
              "      <td>-0.411835</td>\n",
              "      <td>-0.333412</td>\n",
              "      <td>-0.362051</td>\n",
              "      <td>1.090493</td>\n",
              "      <td>-0.065476</td>\n",
              "      <td>-0.507706</td>\n",
              "      <td>-1.239224</td>\n",
              "      <td>1</td>\n",
              "    </tr>\n",
              "  </tbody>\n",
              "</table>\n",
              "</div>"
            ],
            "text/plain": [
              "   annual_inc     grade  funded_amnt  ...  loan_amnt  total_pymnt  loan_status\n",
              "0   -0.444818  1.733707     0.413075  ...   0.411883    -0.235765            1\n",
              "1   -0.159303  0.191616    -0.823201  ...  -0.823814    -0.918577            1\n",
              "2    1.767923 -0.579430     2.943128  ...   2.940753     0.145573            1\n",
              "3   -0.197619  1.733707    -0.161937  ...  -0.162860     0.227816            0\n",
              "4   -0.599024 -0.579430    -0.506945  ...  -0.507706    -1.239224            1\n",
              "\n",
              "[5 rows x 19 columns]"
            ]
          },
          "metadata": {
            "tags": []
          },
          "execution_count": 30
        }
      ]
    },
    {
      "cell_type": "code",
      "metadata": {
        "id": "avwIjBBt3UQm",
        "colab_type": "code",
        "outputId": "b9be7edb-9186-4eac-c033-9c6bfafb4aa3",
        "colab": {
          "base_uri": "https://localhost:8080/",
          "height": 671
        }
      },
      "source": [
        "dataViz = data_clean\n",
        "sns.set_context(context='notebook')\n",
        "fig, ax = plt.subplots(figsize=(10,10)) \n",
        "corr = dataViz.corr()\n",
        "\n",
        "# Generate a mask for the upper triangle\n",
        "mask = np.zeros_like(corr, dtype=np.bool)\n",
        "mask[np.tril_indices_from(mask)] = True\n",
        "\n",
        "# Generate a custom diverging colormap\n",
        "cmap = sns.diverging_palette(220, 10, as_cmap=True)\n",
        "\n",
        "sns.heatmap(corr, cmap=cmap,linewidths=1, vmin=-1, vmax=1, square=True, cbar=True, center=0, ax=ax, mask=mask)"
      ],
      "execution_count": 31,
      "outputs": [
        {
          "output_type": "execute_result",
          "data": {
            "text/plain": [
              "<matplotlib.axes._subplots.AxesSubplot at 0x7faac1b77438>"
            ]
          },
          "metadata": {
            "tags": []
          },
          "execution_count": 31
        },
        {
          "output_type": "display_data",
          "data": {
            "image/png": "[encoded data removed]",
            "text/plain": [
              "<Figure size 720x720 with 2 Axes>"
            ]
          },
          "metadata": {
            "tags": []
          }
        }
      ]
    },
    {
      "cell_type": "markdown",
      "metadata": {
        "id": "zvEYNd_M3UQo",
        "colab_type": "text"
      },
      "source": [
        "### ROC Plot function"
      ]
    },
    {
      "cell_type": "markdown",
      "metadata": {
        "id": "aWZvL4bh3UQp",
        "colab_type": "text"
      },
      "source": [
        "Creating a ROC function to be used for all the models."
      ]
    },
    {
      "cell_type": "code",
      "metadata": {
        "id": "qjd7lVnR3UQq",
        "colab_type": "code",
        "colab": {}
      },
      "source": [
        "sns.set('talk', 'whitegrid', 'dark', font_scale=1, font='Ricty',rc={\"lines.linewidth\": 2, 'grid.linestyle': '--'})\n",
        "def plotAUC(truth, pred, lab):\n",
        "    fpr, tpr, _ = metrics.roc_curve(truth,pred)\n",
        "    roc_auc = metrics.auc(fpr, tpr)\n",
        "    lw = 2\n",
        "    c = (np.random.rand(), np.random.rand(), np.random.rand())\n",
        "    plt.plot(fpr, tpr, color= c,lw=lw, label= lab +'(AUC = %0.2f)' % roc_auc)\n",
        "    plt.plot([0, 1], [0, 1], color='navy', lw=lw, linestyle='--')\n",
        "    plt.xlim([0.0, 1.0])\n",
        "    plt.ylim([0.0, 1.0])\n",
        "    plt.xlabel('False Positive Rate')\n",
        "    plt.ylabel('True Positive Rate')\n",
        "    plt.title('ROC curve') #Receiver Operating Characteristic \n",
        "    plt.legend(loc=\"lower right\")"
      ],
      "execution_count": 0,
      "outputs": []
    },
    {
      "cell_type": "markdown",
      "metadata": {
        "id": "pIhUpha13UQs",
        "colab_type": "text"
      },
      "source": [
        "### Confusion Matrix function"
      ]
    },
    {
      "cell_type": "markdown",
      "metadata": {
        "id": "36MC2h0Q3UQt",
        "colab_type": "text"
      },
      "source": [
        "Creating a Confusion Matrix function to be used for all the models."
      ]
    },
    {
      "cell_type": "code",
      "metadata": {
        "id": "mzjsjehM3UQx",
        "colab_type": "code",
        "colab": {}
      },
      "source": [
        "X_train, X_test, y_train, y_test = train_test_split(data_clean_full.iloc[:,:-1],\n",
        "                                                    data_clean_full.iloc[:,-1], test_size=0.2,\n",
        "                                                    random_state=42)\n",
        "bs_train, bs_test = train_test_split(data_clean_full, test_size = 0.2,\n",
        "                                     random_state=42) #just for bootstrapping"
      ],
      "execution_count": 0,
      "outputs": []
    },
    {
      "cell_type": "code",
      "metadata": {
        "id": "nzXX2ZHu3UQ4",
        "colab_type": "code",
        "outputId": "642734df-6391-450a-e0b9-7c06cb6174fe",
        "colab": {
          "base_uri": "https://localhost:8080/",
          "height": 223
        }
      },
      "source": [
        "X_train.head()"
      ],
      "execution_count": 34,
      "outputs": [
        {
          "output_type": "execute_result",
          "data": {
            "text/html": [
              "<div>\n",
              "<style scoped>\n",
              "    .dataframe tbody tr th:only-of-type {\n",
              "        vertical-align: middle;\n",
              "    }\n",
              "\n",
              "    .dataframe tbody tr th {\n",
              "        vertical-align: top;\n",
              "    }\n",
              "\n",
              "    .dataframe thead th {\n",
              "        text-align: right;\n",
              "    }\n",
              "</style>\n",
              "<table border=\"1\" class=\"dataframe\">\n",
              "  <thead>\n",
              "    <tr style=\"text-align: right;\">\n",
              "      <th></th>\n",
              "      <th>annual_inc</th>\n",
              "      <th>grade</th>\n",
              "      <th>funded_amnt</th>\n",
              "      <th>avg_cur_bal</th>\n",
              "      <th>last_pymnt_amnt</th>\n",
              "      <th>open_acc</th>\n",
              "      <th>bc_util</th>\n",
              "      <th>mort_acc</th>\n",
              "      <th>pub_rec</th>\n",
              "      <th>debt_settlement_flag</th>\n",
              "      <th>term</th>\n",
              "      <th>installment</th>\n",
              "      <th>int_rate</th>\n",
              "      <th>delinq_2yrs</th>\n",
              "      <th>home_ownership</th>\n",
              "      <th>acc_now_delinq</th>\n",
              "      <th>loan_amnt</th>\n",
              "      <th>total_pymnt</th>\n",
              "    </tr>\n",
              "  </thead>\n",
              "  <tbody>\n",
              "    <tr>\n",
              "      <th>370638</th>\n",
              "      <td>0.625863</td>\n",
              "      <td>0.191616</td>\n",
              "      <td>0.919086</td>\n",
              "      <td>1.117442</td>\n",
              "      <td>-0.660810</td>\n",
              "      <td>0.623511</td>\n",
              "      <td>1.418398</td>\n",
              "      <td>2.196310</td>\n",
              "      <td>-0.357498</td>\n",
              "      <td>-0.158607</td>\n",
              "      <td>-0.564300</td>\n",
              "      <td>1.196052</td>\n",
              "      <td>-0.140157</td>\n",
              "      <td>0.777864</td>\n",
              "      <td>-0.997298</td>\n",
              "      <td>-0.065476</td>\n",
              "      <td>0.917657</td>\n",
              "      <td>-0.592436</td>\n",
              "    </tr>\n",
              "    <tr>\n",
              "      <th>834646</th>\n",
              "      <td>-0.230682</td>\n",
              "      <td>1.733707</td>\n",
              "      <td>1.376220</td>\n",
              "      <td>-0.556260</td>\n",
              "      <td>2.414324</td>\n",
              "      <td>0.257565</td>\n",
              "      <td>1.414773</td>\n",
              "      <td>-0.851916</td>\n",
              "      <td>1.301257</td>\n",
              "      <td>-0.158607</td>\n",
              "      <td>1.772108</td>\n",
              "      <td>1.193256</td>\n",
              "      <td>2.130593</td>\n",
              "      <td>-0.362051</td>\n",
              "      <td>0.568545</td>\n",
              "      <td>-0.065476</td>\n",
              "      <td>1.374578</td>\n",
              "      <td>1.927309</td>\n",
              "    </tr>\n",
              "    <tr>\n",
              "      <th>128350</th>\n",
              "      <td>-0.758884</td>\n",
              "      <td>0.191616</td>\n",
              "      <td>-0.705324</td>\n",
              "      <td>-0.668728</td>\n",
              "      <td>-0.058527</td>\n",
              "      <td>-1.206221</td>\n",
              "      <td>1.215400</td>\n",
              "      <td>-0.851916</td>\n",
              "      <td>-0.357498</td>\n",
              "      <td>-0.158607</td>\n",
              "      <td>-0.564300</td>\n",
              "      <td>-0.574440</td>\n",
              "      <td>0.431207</td>\n",
              "      <td>-0.362051</td>\n",
              "      <td>-0.997298</td>\n",
              "      <td>-0.065476</td>\n",
              "      <td>-0.705992</td>\n",
              "      <td>-0.500133</td>\n",
              "    </tr>\n",
              "    <tr>\n",
              "      <th>1169890</th>\n",
              "      <td>-0.329370</td>\n",
              "      <td>0.962661</td>\n",
              "      <td>0.022067</td>\n",
              "      <td>1.486131</td>\n",
              "      <td>0.698485</td>\n",
              "      <td>-0.474328</td>\n",
              "      <td>-0.477455</td>\n",
              "      <td>-0.343878</td>\n",
              "      <td>-0.357498</td>\n",
              "      <td>-0.158607</td>\n",
              "      <td>1.772108</td>\n",
              "      <td>-0.270988</td>\n",
              "      <td>0.905943</td>\n",
              "      <td>-0.362051</td>\n",
              "      <td>-0.997298</td>\n",
              "      <td>-0.065476</td>\n",
              "      <td>0.021058</td>\n",
              "      <td>0.433674</td>\n",
              "    </tr>\n",
              "    <tr>\n",
              "      <th>1074160</th>\n",
              "      <td>-0.087924</td>\n",
              "      <td>-0.579430</td>\n",
              "      <td>0.068068</td>\n",
              "      <td>-0.587673</td>\n",
              "      <td>0.793341</td>\n",
              "      <td>3.917029</td>\n",
              "      <td>0.102538</td>\n",
              "      <td>0.164160</td>\n",
              "      <td>-0.357498</td>\n",
              "      <td>-0.158607</td>\n",
              "      <td>-0.564300</td>\n",
              "      <td>0.221307</td>\n",
              "      <td>-0.333412</td>\n",
              "      <td>-0.362051</td>\n",
              "      <td>1.090493</td>\n",
              "      <td>-0.065476</td>\n",
              "      <td>0.067037</td>\n",
              "      <td>0.173751</td>\n",
              "    </tr>\n",
              "  </tbody>\n",
              "</table>\n",
              "</div>"
            ],
            "text/plain": [
              "         annual_inc     grade  ...  loan_amnt  total_pymnt\n",
              "370638     0.625863  0.191616  ...   0.917657    -0.592436\n",
              "834646    -0.230682  1.733707  ...   1.374578     1.927309\n",
              "128350    -0.758884  0.191616  ...  -0.705992    -0.500133\n",
              "1169890   -0.329370  0.962661  ...   0.021058     0.433674\n",
              "1074160   -0.087924 -0.579430  ...   0.067037     0.173751\n",
              "\n",
              "[5 rows x 18 columns]"
            ]
          },
          "metadata": {
            "tags": []
          },
          "execution_count": 34
        }
      ]
    },
    {
      "cell_type": "code",
      "metadata": {
        "id": "0Zhhpdt83UQ8",
        "colab_type": "code",
        "outputId": "6d747cca-43b4-4cce-98ea-f6aff8baed2c",
        "colab": {
          "base_uri": "https://localhost:8080/",
          "height": 369
        }
      },
      "source": [
        "data_clean.isnull().sum()"
      ],
      "execution_count": 35,
      "outputs": [
        {
          "output_type": "execute_result",
          "data": {
            "text/plain": [
              "annual_inc              0\n",
              "grade                   0\n",
              "funded_amnt             0\n",
              "avg_cur_bal             0\n",
              "last_pymnt_amnt         0\n",
              "open_acc                0\n",
              "bc_util                 0\n",
              "mort_acc                0\n",
              "pub_rec                 0\n",
              "debt_settlement_flag    0\n",
              "term                    0\n",
              "installment             0\n",
              "int_rate                0\n",
              "delinq_2yrs             0\n",
              "home_ownership          0\n",
              "acc_now_delinq          0\n",
              "loan_amnt               0\n",
              "total_pymnt             0\n",
              "loan_status             0\n",
              "dtype: int64"
            ]
          },
          "metadata": {
            "tags": []
          },
          "execution_count": 35
        }
      ]
    },
    {
      "cell_type": "markdown",
      "metadata": {
        "id": "7Mft7-_53URE",
        "colab_type": "text"
      },
      "source": [
        "## Models"
      ]
    },
    {
      "cell_type": "markdown",
      "metadata": {
        "id": "yhziImn43URG",
        "colab_type": "text"
      },
      "source": [
        "### Random Forest with randomized search"
      ]
    },
    {
      "cell_type": "code",
      "metadata": {
        "id": "8XUEBmbf3URH",
        "colab_type": "code",
        "outputId": "bf755c49-6fe0-4332-a8b6-0fe82797ae3f",
        "colab": {
          "base_uri": "https://localhost:8080/",
          "height": 158
        }
      },
      "source": [
        "from sklearn.model_selection import RandomizedSearchCV\n",
        "rf = RandomForestClassifier(criterion='gini', random_state=0)\n",
        "maxFeatures = range(1,data_clean.shape[1]-1)\n",
        "param_dist = dict(max_features=maxFeatures)\n",
        "rand = RandomizedSearchCV(rf, param_dist, cv=10, scoring='accuracy', n_iter=len(maxFeatures), random_state=10)\n",
        "X=data_clean.iloc[:,:-1].values\n",
        "y=data_clean.iloc[:,-1].values\n",
        "rand.fit(X,y)\n",
        "# mean_scores = [result.mean_validation_score for result in rand.grid_scores_]\n",
        "#print('Best Accuracy = '+str(rand.best_score_))\n",
        "print(rand.best_estimator_)"
      ],
      "execution_count": 36,
      "outputs": [
        {
          "output_type": "stream",
          "text": [
            "RandomForestClassifier(bootstrap=True, ccp_alpha=0.0, class_weight=None,\n",
            "                       criterion='gini', max_depth=None, max_features=10,\n",
            "                       max_leaf_nodes=None, max_samples=None,\n",
            "                       min_impurity_decrease=0.0, min_impurity_split=None,\n",
            "                       min_samples_leaf=1, min_samples_split=2,\n",
            "                       min_weight_fraction_leaf=0.0, n_estimators=100,\n",
            "                       n_jobs=None, oob_score=False, random_state=0, verbose=0,\n",
            "                       warm_start=False)\n"
          ],
          "name": "stdout"
        }
      ]
    },
    {
      "cell_type": "code",
      "metadata": {
        "id": "XVZTNI_C3URK",
        "colab_type": "code",
        "outputId": "8c58a459-9f73-47db-8bb0-e1a5aa32d383",
        "colab": {
          "base_uri": "https://localhost:8080/",
          "height": 35
        }
      },
      "source": [
        "randomForest = RandomForestClassifier(bootstrap=True,criterion = \"gini\",max_features=rand.best_estimator_.max_features,random_state=0,n_jobs=-1 )\n",
        "rfModel = randomForest.fit(X_train,y_train)\n",
        "rfPredict = randomForest.predict(X_test)\n",
        "rfPredictproba = randomForest.predict_proba(X_test)[:,1] #for ROC curve\n",
        "rfAccuracy = accuracy_score(y_test,rfPredict)\n",
        "roc_score = metrics.roc_auc_score(y_test,rfPredict)\n",
        "print(rfAccuracy)"
      ],
      "execution_count": 37,
      "outputs": [
        {
          "output_type": "stream",
          "text": [
            "0.9953935609576484\n"
          ],
          "name": "stdout"
        }
      ]
    },
    {
      "cell_type": "markdown",
      "metadata": {
        "id": "2yu46x9PuQ8u",
        "colab_type": "text"
      },
      "source": [
        "### Feature Evaluation"
      ]
    },
    {
      "cell_type": "code",
      "metadata": {
        "id": "zQ3NpDP_uXKY",
        "colab_type": "code",
        "outputId": "a36f8d2c-082a-40ae-dd3f-660a2e62b4d5",
        "colab": {
          "base_uri": "https://localhost:8080/",
          "height": 511
        }
      },
      "source": [
        "fig, ax = plt.subplots()\n",
        "width=0.35\n",
        "ax.bar(np.arange(len(features)-2), randomForest.feature_importances_, width, color='r')\n",
        "ax.set_xticks(np.arange(len(randomForest.feature_importances_)))\n",
        "ax.set_xticklabels(X_train.columns.values,rotation=90)\n",
        "plt.title('Feature Importance from DT')\n",
        "ax.set_ylabel('Normalized Gini Importance')"
      ],
      "execution_count": 38,
      "outputs": [
        {
          "output_type": "execute_result",
          "data": {
            "text/plain": [
              "Text(0, 0.5, 'Normalized Gini Importance')"
            ]
          },
          "metadata": {
            "tags": []
          },
          "execution_count": 38
        },
        {
          "output_type": "stream",
          "text": [
            "findfont: Font family ['Ricty'] not found. Falling back to DejaVu Sans.\n",
            "findfont: Font family ['Ricty'] not found. Falling back to DejaVu Sans.\n"
          ],
          "name": "stderr"
        },
        {
          "output_type": "display_data",
          "data": {
            "image/png": "[encoded data removed]",
            "text/plain": [
              "<Figure size 432x288 with 1 Axes>"
            ]
          },
          "metadata": {
            "tags": []
          }
        }
      ]
    },
    {
      "cell_type": "code",
      "metadata": {
        "id": "mMtuEFRNuacN",
        "colab_type": "code",
        "outputId": "7cc0f67c-7e06-4919-806a-076d46fed3f7",
        "colab": {
          "base_uri": "https://localhost:8080/",
          "height": 356
        }
      },
      "source": [
        "plotAUC(y_test,rfPredictproba, 'Random Forest')\n",
        "plt.show()\n",
        "plt.figure(figsize=(6,6))"
      ],
      "execution_count": 39,
      "outputs": [
        {
          "output_type": "display_data",
          "data": {
            "image/png": "[encoded data removed]",
            "text/plain": [
              "<Figure size 432x288 with 1 Axes>"
            ]
          },
          "metadata": {
            "tags": []
          }
        },
        {
          "output_type": "execute_result",
          "data": {
            "text/plain": [
              "<Figure size 432x432 with 0 Axes>"
            ]
          },
          "metadata": {
            "tags": []
          },
          "execution_count": 39
        },
        {
          "output_type": "display_data",
          "data": {
            "text/plain": [
              "<Figure size 432x432 with 0 Axes>"
            ]
          },
          "metadata": {
            "tags": []
          }
        }
      ]
    },
    {
      "cell_type": "code",
      "metadata": {
        "id": "R5MhPhAAvU3N",
        "colab_type": "code",
        "outputId": "aebc5743-d1a8-4ca0-8866-3aae6b5f79f8",
        "colab": {
          "base_uri": "https://localhost:8080/",
          "height": 731
        }
      },
      "source": [
        "titles_options = [(\"Confusion matrix, without normalization\", None),\n",
        "                  (\"Normalized confusion matrix\", 'true')]\n",
        "class_names =[\"Will Pay\", \"Will Default\"]\n",
        "for title, normalize in titles_options:\n",
        "    disp = plot_confusion_matrix(rfModel, X_test, y_test,\n",
        "                                  display_labels=class_names,\n",
        "                                 cmap=plt.cm.Blues,\n",
        "                                 normalize=normalize)\n",
        "    disp.ax_.set_title(title)\n",
        "\n",
        "    print(title)\n",
        "    print(disp.confusion_matrix)\n",
        "\n",
        "plt.show()"
      ],
      "execution_count": 40,
      "outputs": [
        {
          "output_type": "stream",
          "text": [
            "Confusion matrix, without normalization\n",
            "[[207808    293]\n",
            " [   908  51713]]\n",
            "Normalized confusion matrix\n",
            "[[0.99859203 0.00140797]\n",
            " [0.01725547 0.98274453]]\n"
          ],
          "name": "stdout"
        },
        {
          "output_type": "display_data",
          "data": {
            "image/png": "[encoded data removed]",
            "text/plain": [
              "<Figure size 432x288 with 2 Axes>"
            ]
          },
          "metadata": {
            "tags": []
          }
        },
        {
          "output_type": "display_data",
          "data": {
            "image/png": "[encoded data removed]",
            "text/plain": [
              "<Figure size 432x288 with 2 Axes>"
            ]
          },
          "metadata": {
            "tags": []
          }
        }
      ]
    },
    {
      "cell_type": "code",
      "metadata": {
        "id": "uXTaIR7n4VXQ",
        "colab_type": "code",
        "colab": {}
      },
      "source": [
        ""
      ],
      "execution_count": 0,
      "outputs": []
    }
  ]
}